{
 "cells": [
  {
   "cell_type": "code",
   "execution_count": 1,
   "id": "8681fc2e",
   "metadata": {},
   "outputs": [
    {
     "name": "stderr",
     "output_type": "stream",
     "text": [
      "/ext3/miniconda3/envs/eqenv/lib/python3.9/site-packages/scipy/__init__.py:146: UserWarning: A NumPy version >=1.16.5 and <1.23.0 is required for this version of SciPy (detected version 1.23.1\n",
      "  warnings.warn(f\"A NumPy version >={np_minversion} and <{np_maxversion}\"\n"
     ]
    }
   ],
   "source": [
    "import matplotlib\n",
    "from matplotlib import pylab\n",
    "%config InlineBackend.figure_format = 'retina'\n",
    "matplotlib.rcParams['figure.dpi'] = 80\n",
    "params = {'legend.fontsize': 'xx-large',\n",
    "          'figure.figsize': (6, 4),\n",
    "         'axes.labelsize': 'xx-large',\n",
    "         'axes.titlesize': 'xx-large',\n",
    "         'xtick.labelsize': 'x-large',\n",
    "         'ytick.labelsize': 'x-large',\n",
    "         'figure.facecolor': 'w'}\n",
    "pylab.rcParams.update(params)\n",
    "from matplotlib import pyplot as plt\n",
    "import matplotlib.gridspec as gridspec\n",
    "\n",
    "import h5py\n",
    "import numpy as np\n",
    "import os\n",
    "import sys\n",
    "import yaml\n",
    "from scipy.optimize import curve_fit\n",
    "\n",
    "%load_ext autoreload\n",
    "%autoreload 2\n",
    "sys.path.insert(1, '../code')\n",
    "from geometric_features import GeometricFeaturizer, geo_name\n",
    "from scalar_features import ScalarFeaturizer, scalar_name\n",
    "from read_halos import SimulationReader\n",
    "from fit import LinearFitter\n",
    "#from neural_net import NeuralNet, NNFitter\n",
    "import plotter\n",
    "import utils\n",
    "import feature_importance"
   ]
  },
  {
   "cell_type": "code",
   "execution_count": 2,
   "id": "3779e908",
   "metadata": {},
   "outputs": [],
   "source": [
    "sim_name = 'TNG100-1'\n",
    "sim_name_dark = f'{sim_name}-Dark'\n",
    "\n",
    "halo_tag = ''"
   ]
  },
  {
   "cell_type": "code",
   "execution_count": 3,
   "id": "0f7fcfc7",
   "metadata": {},
   "outputs": [],
   "source": [
    "fn_halo_config = f'../configs/halos_{sim_name}{halo_tag}.yaml'\n",
    "\n",
    "with open(fn_halo_config, 'r') as file:\n",
    "    halo_params = yaml.safe_load(file)\n",
    "\n",
    "fn_dark_halo_arr = halo_params['halo']['fn_dark_halo_arr']"
   ]
  },
  {
   "cell_type": "code",
   "execution_count": 4,
   "id": "ab793e88",
   "metadata": {},
   "outputs": [],
   "source": [
    "sim_reader = SimulationReader(halo_params['sim']['base_dir'], sim_name, sim_name_dark, \n",
    "                              halo_params['sim']['snap_num_str'])\n",
    "sim_reader.load_dark_halo_arr(fn_dark_halo_arr)\n",
    "sim_reader.read_simulations()"
   ]
  },
  {
   "cell_type": "code",
   "execution_count": 16,
   "id": "bad7a08f",
   "metadata": {},
   "outputs": [
    {
     "name": "stdout",
     "output_type": "stream",
     "text": [
      "0 20299\n",
      "[    74    155    249 ... 431820 431898 432030]\n",
      "HalopropIndex_Snapshot\n",
      "HalopropIndex_Snapshot 0 1346898\n",
      "HalopropIndex\n",
      "HalopropIndex 2 2306617\n",
      "HalopropRootHaloID\n",
      "HalopropRootHaloID 1122934794 1132041752\n",
      "HalopropRedshift\n",
      "HalopropRedshift 0.0 0.0\n",
      "HalopropFoFIndex_DM\n",
      "HalopropFoFIndex_DM -1 4226617\n",
      "19810\n",
      "count: 0\n",
      "0 1124718617\n",
      "[0 1 1]\n",
      "HalopropOffsets\n",
      "[1621748, 1863626]\n",
      "<HDF5 group \"/Offsets\" (2 members)>\n",
      "<HDF5 dataset \"HalopropOffsets\": shape (2306618,), type \"<u4\">\n",
      "count: 1\n",
      "1 1125365056\n",
      "[1 3 3]\n",
      "HalopropOffsets\n",
      "[207769, 609375]\n",
      "<HDF5 group \"/Offsets\" (2 members)>\n",
      "<HDF5 dataset \"HalopropOffsets\": shape (2207258,), type \"<u4\">\n",
      "count: 2\n",
      "2 1125074886\n",
      "[1 2 2]\n",
      "HalopropOffsets\n",
      "[495034, 623711]\n",
      "<HDF5 group \"/Offsets\" (2 members)>\n",
      "<HDF5 dataset \"HalopropOffsets\": shape (1925532,), type \"<u4\">\n",
      "count: 3\n",
      "3 1126604720\n",
      "[0 3 3]\n",
      "HalopropOffsets\n",
      "[350158, 543868]\n",
      "<HDF5 group \"/Offsets\" (2 members)>\n",
      "<HDF5 dataset \"HalopropOffsets\": shape (1789829,), type \"<u4\">\n",
      "count: 4\n",
      "4 1131650284\n",
      "[4 3 3]\n",
      "HalopropOffsets\n",
      "[882720, 991453]\n",
      "<HDF5 group \"/Offsets\" (2 members)>\n",
      "<HDF5 dataset \"HalopropOffsets\": shape (1856886,), type \"<u4\">\n",
      "count: 5\n",
      "5 1125911218\n",
      "[1 4 0]\n",
      "HalopropOffsets\n",
      "[164622, 258115]\n",
      "<HDF5 group \"/Offsets\" (2 members)>\n",
      "<HDF5 dataset \"HalopropOffsets\": shape (1216264,), type \"<u4\">\n",
      "count: 6\n",
      "6 1127609312\n",
      "[4 1 1]\n",
      "HalopropOffsets\n",
      "[32789, 129642]\n",
      "<HDF5 group \"/Offsets\" (2 members)>\n",
      "<HDF5 dataset \"HalopropOffsets\": shape (2178726,), type \"<u4\">\n",
      "count: 7\n",
      "7 1130330247\n",
      "[2 2 4]\n",
      "HalopropOffsets\n",
      "[655069, 789232]\n",
      "<HDF5 group \"/Offsets\" (2 members)>\n",
      "<HDF5 dataset \"HalopropOffsets\": shape (1383613,), type \"<u4\">\n",
      "count: 8\n",
      "8 1128685442\n",
      "[2 0 4]\n",
      "HalopropOffsets\n",
      "[424852, 471787]\n",
      "<HDF5 group \"/Offsets\" (2 members)>\n",
      "<HDF5 dataset \"HalopropOffsets\": shape (1338402,), type \"<u4\">\n",
      "count: 9\n",
      "9 1131247361\n",
      "[2 4 2]\n",
      "HalopropOffsets\n",
      "[1034936, 1171598]\n",
      "<HDF5 group \"/Offsets\" (2 members)>\n",
      "<HDF5 dataset \"HalopropOffsets\": shape (1873636,), type \"<u4\">\n",
      "count: 10\n",
      "10 1128034628\n",
      "[3 0 2]\n",
      "HalopropOffsets\n",
      "[402285, 495862]\n",
      "<HDF5 group \"/Offsets\" (2 members)>\n",
      "<HDF5 dataset \"HalopropOffsets\": shape (1650580,), type \"<u4\">\n",
      "count: 11\n"
     ]
    },
    {
     "ename": "KeyError",
     "evalue": "11",
     "output_type": "error",
     "traceback": [
      "\u001b[0;31m---------------------------------------------------------------------------\u001b[0m",
      "\u001b[0;31mKeyError\u001b[0m                                  Traceback (most recent call last)",
      "Input \u001b[0;32mIn [16]\u001b[0m, in \u001b[0;36m<cell line: 1>\u001b[0;34m()\u001b[0m\n\u001b[0;32m----> 1\u001b[0m \u001b[43msim_reader\u001b[49m\u001b[38;5;241;43m.\u001b[39;49m\u001b[43madd_MAH_to_halos\u001b[49m\u001b[43m(\u001b[49m\u001b[43m)\u001b[49m\n",
      "File \u001b[0;32m~/equivariant-cosmology/notebooks/../code/read_halos.py:342\u001b[0m, in \u001b[0;36mSimulationReader.add_MAH_to_halos\u001b[0;34m(self)\u001b[0m\n\u001b[1;32m    340\u001b[0m \u001b[38;5;28mprint\u001b[39m(\u001b[38;5;124m\"\u001b[39m\u001b[38;5;124mcount:\u001b[39m\u001b[38;5;124m\"\u001b[39m, count)\n\u001b[1;32m    341\u001b[0m \u001b[38;5;66;03m# should be haloprop or galprop??\u001b[39;00m\n\u001b[0;32m--> 342\u001b[0m root_idx \u001b[38;5;241m=\u001b[39m \u001b[43mhalo_idx_to_root_idx_dict\u001b[49m\u001b[43m[\u001b[49m\u001b[43mhalo\u001b[49m\u001b[38;5;241;43m.\u001b[39;49m\u001b[43midx_halo_dark\u001b[49m\u001b[43m]\u001b[49m\n\u001b[1;32m    343\u001b[0m \u001b[38;5;28mprint\u001b[39m(halo\u001b[38;5;241m.\u001b[39midx_halo_dark, root_idx)\n\u001b[1;32m    345\u001b[0m tree_dict \u001b[38;5;241m=\u001b[39m {}\n",
      "\u001b[0;31mKeyError\u001b[0m: 11"
     ]
    }
   ],
   "source": [
    "sim_reader.add_MAH_to_halos()"
   ]
  },
  {
   "cell_type": "code",
   "execution_count": null,
   "id": "6d046615",
   "metadata": {},
   "outputs": [],
   "source": [
    "halo = sim_reader.dark_halo_arr[0]\n",
    "a_mah, m_mah = halo.catalog_properties['MAH']"
   ]
  },
  {
   "cell_type": "code",
   "execution_count": null,
   "id": "acca54f8",
   "metadata": {},
   "outputs": [],
   "source": [
    "plt.plot(a_mah, m_mah, marker)"
   ]
  }
 ],
 "metadata": {
  "kernelspec": {
   "display_name": "Python [conda env:eqenv]",
   "language": "python",
   "name": "conda-env-eqenv-py"
  },
  "language_info": {
   "codemirror_mode": {
    "name": "ipython",
    "version": 3
   },
   "file_extension": ".py",
   "mimetype": "text/x-python",
   "name": "python",
   "nbconvert_exporter": "python",
   "pygments_lexer": "ipython3",
   "version": "3.9.12"
  }
 },
 "nbformat": 4,
 "nbformat_minor": 5
}
