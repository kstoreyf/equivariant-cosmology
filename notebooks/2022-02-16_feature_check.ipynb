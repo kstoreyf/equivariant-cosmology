{
 "cells": [
  {
   "cell_type": "code",
   "execution_count": null,
   "id": "7213eec5",
   "metadata": {},
   "outputs": [],
   "source": [
    "import matplotlib\n",
    "from matplotlib import pylab\n",
    "%config InlineBackend.figure_format = 'retina'\n",
    "matplotlib.rcParams['figure.dpi'] = 80\n",
    "params = {'legend.fontsize': 'xx-large',\n",
    "          'figure.figsize': (6, 4),\n",
    "         'axes.labelsize': 'xx-large',\n",
    "         'axes.titlesize': 'xx-large',\n",
    "         'xtick.labelsize': 'x-large',\n",
    "         'ytick.labelsize': 'x-large',\n",
    "         'figure.facecolor': 'w'}\n",
    "pylab.rcParams.update(params)\n",
    "from matplotlib import pyplot as plt\n",
    "import matplotlib.gridspec as gridspec\n",
    "\n",
    "import h5py\n",
    "import numpy as np\n",
    "import sys\n",
    "\n",
    "sys.path.insert(1, '../code')\n",
    "from featurize_and_fit import Featurizer, Fitter\n",
    "import plotter\n",
    "import scalars\n",
    "\n",
    "%load_ext autoreload\n",
    "%autoreload 2"
   ]
  },
  {
   "cell_type": "code",
   "execution_count": null,
   "id": "3d76ef3c",
   "metadata": {},
   "outputs": [],
   "source": [
    "save_plots = True\n",
    "show_intermediate_plots = False\n",
    "check_cond = False\n",
    "plot_dir = '../plots/plots_2022-02-24-objectify-vel'\n",
    "if save_plots:\n",
    "    !mkdir -p $plot_dir\n",
    "\n",
    "#tag = '_unc0.1Mfloor2e8'\n",
    "#tag = '_logxlogy'\n",
    "#tag = '_rmsfalse'\n",
    "#tag = '_velocities'\n",
    "tag = ''\n",
    "\n",
    "# r_edges (TNG50-4: L=35 Mpc/h, N_part=270^3, mean interparticle spacing = 35/270 = 0.13 Mpc/h = 130 kpc/h)\n",
    "# for scalars, only 0 or 2 x orders \n",
    "n_rbins = 1\n",
    "m_order_max = 1\n",
    "x_order_max = 2\n",
    "v_order_max = 0\n",
    "\n",
    "include_eigenvalues = True\n",
    "include_eigenvectors = True\n",
    "\n",
    "#y_scalar_feature_name = 'mass_hydro_halo_star'\n",
    "y_scalar_feature_name='mass_hydro_subhalo_star'\n",
    "\n",
    "r_units = 'r200'\n",
    "rms_x = True\n",
    "log_x = False\n",
    "log_y = False\n",
    "\n",
    "l_arr, p_arr = scalars.get_needed_vec_orders_scalars(m_order_max, x_order_max, v_order_max)"
   ]
  },
  {
   "cell_type": "code",
   "execution_count": null,
   "id": "36d89042",
   "metadata": {},
   "outputs": [],
   "source": [
    "mass_multiplier = 1e10"
   ]
  },
  {
   "cell_type": "code",
   "execution_count": null,
   "id": "c8fe273b",
   "metadata": {},
   "outputs": [],
   "source": [
    "featurizer = Featurizer()\n",
    "featurizer.read_simulations()\n",
    "featurizer.match_twins()\n",
    "featurizer.select_halos()\n",
    "featurizer.add_info_to_halo_dicts()\n",
    "featurizer.set_y_labels(y_scalar_feature_name=y_scalar_feature_name)"
   ]
  },
  {
   "cell_type": "code",
   "execution_count": null,
   "id": "72e49671",
   "metadata": {},
   "outputs": [],
   "source": [
    "# Inputs to SHMR broken power law:\n",
    "# N: the normalization of the SHM ratio \n",
    "# M1: a characteristic mass \n",
    "# β and γ: indicate the behavior of m/M at the low and high-mass ends\n",
    "def broken_power_law_feature(M200, N=0.01, M1=1e12/mass_multiplier, beta=1.5, gamma=0.4):\n",
    "    return M200*2*N/((M200/M1)**(-beta) + (M200/M1)**gamma)"
   ]
  },
  {
   "cell_type": "code",
   "execution_count": null,
   "id": "b9b489b0",
   "metadata": {},
   "outputs": [],
   "source": [
    "m200_halo = np.array([h['mass_mean200_dark_halo_dm'] for h in featurizer.halo_dicts])\n",
    "y_val_current = broken_power_law_feature(m200_halo)"
   ]
  },
  {
   "cell_type": "code",
   "execution_count": null,
   "id": "d4f590c0",
   "metadata": {},
   "outputs": [],
   "source": [
    "uncertainty_floor = 2e8/mass_multiplier\n",
    "uncertainties = np.sqrt((0.1*featurizer.y_scalar)**2 + uncertainty_floor**2) # uncertainties are 0.1*M_stellar (M_stellar is our label)"
   ]
  },
  {
   "cell_type": "code",
   "execution_count": null,
   "id": "4764d5d1",
   "metadata": {},
   "outputs": [],
   "source": [
    "print(featurizer.N_halos)"
   ]
  },
  {
   "cell_type": "code",
   "execution_count": null,
   "id": "71401b7c",
   "metadata": {},
   "outputs": [],
   "source": [
    "if show_intermediate_plots:\n",
    "    nrows_outer, ncols_outer = 2, 3\n",
    "    n_plots = nrows_outer * ncols_outer\n",
    "\n",
    "    # random sample\n",
    "    np.random.seed(42)\n",
    "    idxs_rand = sorted(np.random.choice(featurizer.N_halos, size=n_plots, replace=False))\n",
    "\n",
    "    halo_dicts_rand = featurizer.halo_dicts[idxs_rand]\n",
    "    titles = idxs_rand[:n_plots]\n",
    "    plotter.plot_halos_dark_and_hydro(halo_dicts_rand, nrows_outer, ncols_outer, titles)"
   ]
  },
  {
   "cell_type": "code",
   "execution_count": null,
   "id": "93e5db29",
   "metadata": {},
   "outputs": [],
   "source": [
    "def plot_pred_vs_true(y_true, y_pred, y_train, y_train_pred, \n",
    "                      fitter, msfe_test, chi2_train, save_fn=None):\n",
    "    fig = plt.figure(figsize=(6,6))\n",
    "    ax = plt.gca()\n",
    "\n",
    "    # main scatter plotting\n",
    "    plt.scatter(y_train, y_train_pred, s=12, alpha=0.3, c='m', label='training')\n",
    "    plt.scatter(y_true, y_pred, s=12, alpha=0.6, c='k', label='testing')\n",
    "\n",
    "\n",
    "    # get limits, plot true line\n",
    "    m_minmin = min(min(y_true[np.where(y_true > 0)]), \n",
    "                   min(y_pred[np.where(y_pred > 0)]))\n",
    "    m_maxmax = max(max(y_true[np.where(y_true > 0)]), \n",
    "                   max(y_pred[np.where(y_pred > 0)]))\n",
    "    true_line = np.linspace(0.5*m_minmin, 2*m_maxmax)\n",
    "    plt.plot(true_line, true_line, color='grey', zorder=0)\n",
    "\n",
    "    # labels & adjustments\n",
    "    plt.xlabel(r'$m_\\mathrm{true}$')\n",
    "    plt.ylabel(r'$m_\\mathrm{pred}$')\n",
    "    plt.xscale('log')\n",
    "    plt.yscale('log')\n",
    "    ax.set_aspect('equal')\n",
    "    plt.xlim(0.5*m_minmin, 2*m_maxmax)\n",
    "    plt.ylim(0.5*m_minmin, 2*m_maxmax)\n",
    "\n",
    "    n_neg = len(np.where(fitter.y_scalar_pred*mass_multiplier < 0)[0])\n",
    "    plt.text(0.1, 0.9, fr'$n_\\mathrm{{features}}$: {fitter.n_A_features}, rank: {fitter.res_scalar[2]}' '\\n'\n",
    "                       fr'MSFE: {msfe_test:.3e}, $n_\\mathrm{{test}}$: {fitter.n_test}' '\\n'\n",
    "                       fr'$\\chi^2$: {chi2_train:.3e}, $n_\\mathrm{{train}}$: {fitter.n_train}' '\\n'\n",
    "                       fr'# m_pred < 0: {n_neg}', \n",
    "             transform=ax.transAxes, verticalalignment='top', fontsize=12)\n",
    "    plt.title(save_tag)\n",
    "    plt.legend(loc='lower right', fontsize=12)\n",
    "\n",
    "    # save\n",
    "    if save_fn is not None and save_plots:\n",
    "          plt.savefig(f\"{plot_dir}/{save_fn}\", bbox_inches='tight')"
   ]
  },
  {
   "cell_type": "code",
   "execution_count": null,
   "id": "73c2a88b",
   "metadata": {},
   "outputs": [],
   "source": [
    "def plot_pred_vs_mass(mass, y_true, y_pred, mass_train, y_train, y_train_pred, \n",
    "                      fitter, msfe_test, chi2_train, save_fn=None):\n",
    "    fig = plt.figure(figsize=(8,6))\n",
    "    ax = plt.gca()\n",
    "    \n",
    "    # main scatter plotting\n",
    "    #plt.scatter(mass_train, y_train_pred, s=12, alpha=0.3, c='m', label='training')\n",
    "    plt.scatter(mass, y_true, s=12, alpha=0.3, c='c', label='true (test)')\n",
    "    plt.scatter(mass, y_pred, s=12, alpha=0.2, c='k', label='predicted (test)')\n",
    "\n",
    "    # get limits, plot true line\n",
    "    mass_minmin = min(min(mass[np.where(mass > 0)]), \n",
    "                   min(mass_train[np.where(mass_train > 0)]))\n",
    "    mass_maxmax = max(max(mass[np.where(mass > 0)]), \n",
    "                   max(mass_train[np.where(mass_train > 0)]))\n",
    "    y_minmin = min(min(y_pred[np.where(y_pred > 0)]), \n",
    "                   min(y_train_pred[np.where(y_train_pred > 0)]))\n",
    "    y_maxmax = max(max(y_pred[np.where(y_pred > 0)]), \n",
    "                   max(y_train_pred[np.where(y_train_pred > 0)]))\n",
    "\n",
    "    # overplot power law\n",
    "    masses = np.logspace(np.log10(mass_minmin), np.log10(mass_maxmax), 100)\n",
    "    y_powerlaw = broken_power_law_feature(masses/mass_multiplier)*mass_multiplier\n",
    "    plt.plot(masses, y_powerlaw, color='forestgreen', label='input broken power law')\n",
    "    \n",
    "    # labels & adjustments\n",
    "    plt.xlabel(r'$M_\\mathrm{halo,DM}$')\n",
    "    plt.ylabel(r'$m_\\mathrm{stellar,pred}$')\n",
    "    plt.xscale('log')\n",
    "    plt.yscale('log')\n",
    "    plt.xlim(0.5*mass_minmin, 2*mass_maxmax)\n",
    "    plt.ylim(0.5*y_minmin, 2*y_maxmax)\n",
    "\n",
    "    n_neg = len(np.where(fitter.y_scalar_pred*mass_multiplier < 0)[0])\n",
    "    plt.text(0.1, 0.9, fr'$n_\\mathrm{{features}}$: {fitter.n_A_features}, rank: {fitter.res_scalar[2]}' '\\n'\n",
    "                       fr'MSFE: {msfe_test:.3e}, $n_\\mathrm{{test}}$: {fitter.n_test}' '\\n'\n",
    "                       fr'$\\chi^2$: {chi2_train:.3e}, $n_\\mathrm{{train}}$: {fitter.n_train}' '\\n'\n",
    "                       fr'# m_pred < 0: {n_neg}', \n",
    "             transform=ax.transAxes, verticalalignment='top', fontsize=12)\n",
    "    plt.title(save_tag)\n",
    "    plt.legend(loc='lower right', fontsize=12)\n",
    "\n",
    "    \n",
    "    # save\n",
    "    if save_fn is not None and save_plots:\n",
    "          plt.savefig(f\"{plot_dir}/{save_fn}\", bbox_inches='tight')"
   ]
  },
  {
   "cell_type": "code",
   "execution_count": null,
   "id": "3316cac2",
   "metadata": {},
   "outputs": [],
   "source": [
    "def plot_feature_vs_label(featurizer, i_feat=0, feat_label='feature 0 (mass in first bin)'):\n",
    "    fig = plt.figure(figsize=(6,4))\n",
    "    x_feat = featurizer.x_scalar_features[:,i_feat] * mass_multiplier\n",
    "    y_feat = featurizer.y_scalar*mass_multiplier\n",
    "    plt.scatter(x_feat, y_feat, color='k', s=6, alpha=0.2)\n",
    "    plt.xscale('log')\n",
    "    plt.yscale('log')\n",
    "    xlim = min(x_feat), max(x_feat)\n",
    "    plt.xlim(xlim)\n",
    "    ylim = min(y_feat), max(y_feat)\n",
    "    plt.ylim(ylim)\n",
    "    \n",
    "    plt.xlabel(feat_label)\n",
    "    plt.ylabel(r'$M_\\mathrm{stellar}$')"
   ]
  },
  {
   "cell_type": "code",
   "execution_count": null,
   "id": "8fd9f3b9",
   "metadata": {},
   "outputs": [],
   "source": [
    "def plot_feature_vs_mass(masses, featurizer, i_feat=0, feat_label='feature 0 (mass in first bin)'):\n",
    "    fig = plt.figure(figsize=(6,4))\n",
    "    x_feat = featurizer.x_scalar_features[:,i_feat] * mass_multiplier\n",
    "    plt.scatter(masses, x_feat, color='k', s=6, alpha=0.2)\n",
    "    plt.xscale('log')\n",
    "    plt.yscale('log')\n",
    "    xlim = min(masses), max(masses)\n",
    "    plt.xlim(xlim)\n",
    "    ylim = min(x_feat), max(x_feat)\n",
    "    plt.ylim(ylim)\n",
    "    \n",
    "    plt.xlabel(r'$M_\\mathrm{200}$ (catalog)')\n",
    "    plt.ylabel(feat_label)"
   ]
  },
  {
   "cell_type": "code",
   "execution_count": null,
   "id": "3fcc5c4d",
   "metadata": {},
   "outputs": [],
   "source": [
    "r_edges = np.linspace(0, 1, n_rbins+1)\n",
    "featurizer.compute_geometric_features(r_edges, l_arr, p_arr, r_units=r_units)"
   ]
  },
  {
   "cell_type": "code",
   "execution_count": null,
   "id": "23448ce5",
   "metadata": {},
   "outputs": [],
   "source": [
    "# Featurize to desired order\n",
    "featurizer.compute_scalar_features(m_order_max, x_order_max, v_order_max,\n",
    "                                   include_eigenvalues=include_eigenvalues, include_eigenvectors=include_eigenvectors)"
   ]
  },
  {
   "cell_type": "code",
   "execution_count": null,
   "id": "d5456fd0",
   "metadata": {},
   "outputs": [],
   "source": [
    "if show_intermediate_plots and n_rbins==1:\n",
    "    plot_feature_vs_label(featurizer)"
   ]
  },
  {
   "cell_type": "code",
   "execution_count": null,
   "id": "026001de",
   "metadata": {},
   "outputs": [],
   "source": [
    "# Fit to those features\n",
    "\n",
    "fitter = Fitter(featurizer.x_scalar_features, featurizer.y_scalar, \n",
    "                featurizer.x_scalar_arrs, y_val_current, uncertainties=uncertainties)\n",
    "fitter.split_train_test()\n",
    "fitter.scale_and_fit(rms_x=rms_x, log_x=log_x, log_y=log_y, check_cond=check_cond)\n",
    "fitter.predict_test()"
   ]
  },
  {
   "cell_type": "code",
   "execution_count": null,
   "id": "0c714d73",
   "metadata": {},
   "outputs": [],
   "source": [
    "# Extract arrays and plot\n",
    "y_true = fitter.y_scalar_test*mass_multiplier\n",
    "y_pred = fitter.y_scalar_pred*mass_multiplier\n",
    "msfe_test = np.mean(((y_pred - y_true)/y_true)**2)\n",
    "\n",
    "y_train_pred = fitter.predict(fitter.x_scalar_train, fitter.y_val_current_train)*mass_multiplier\n",
    "y_train_true = fitter.y_scalar_train*mass_multiplier\n",
    "\n",
    "chi2_train = fitter.chi2"
   ]
  },
  {
   "cell_type": "code",
   "execution_count": null,
   "id": "aa2194fd",
   "metadata": {},
   "outputs": [],
   "source": [
    "save_tag = f'_xordmax{x_order_max}_vordmax{v_order_max}_mordmax{m_order_max}_rbins{n_rbins}{tag}'\n",
    "save_fn = f'mass_recovery{save_tag}.png'\n",
    "plot_pred_vs_true(y_true, y_pred, y_train_true, y_train_pred, \n",
    "                  fitter, msfe_test, chi2_train, save_fn=save_fn)"
   ]
  },
  {
   "cell_type": "code",
   "execution_count": null,
   "id": "c3d7e87a",
   "metadata": {},
   "outputs": [],
   "source": [
    "masses_all = np.array([h['mass_mean200_dark_halo_dm'] for h in featurizer.halo_dicts])*mass_multiplier\n",
    "mass = masses_all[fitter.idx_test]\n",
    "mass_train = masses_all[fitter.idx_train]"
   ]
  },
  {
   "cell_type": "code",
   "execution_count": null,
   "id": "68d617c2",
   "metadata": {},
   "outputs": [],
   "source": [
    "if show_intermediate_plots and n_rbins==1:\n",
    "    plot_feature_vs_mass(masses_all, featurizer)"
   ]
  },
  {
   "cell_type": "code",
   "execution_count": null,
   "id": "c7a7c7a5",
   "metadata": {},
   "outputs": [],
   "source": [
    "save_fn = f'mass_vs_pred{save_tag}.png'\n",
    "plot_pred_vs_mass(mass, y_true, y_pred, mass_train, y_train_true, y_train_pred, \n",
    "              fitter, msfe_test, chi2_train, save_fn=save_fn)"
   ]
  },
  {
   "cell_type": "code",
   "execution_count": null,
   "id": "a30bf923",
   "metadata": {},
   "outputs": [],
   "source": [
    "plt.plot(fitter.res_scalar[3])\n",
    "plt.xlabel('index')\n",
    "plt.ylabel('singular value')\n",
    "plt.yscale('log')"
   ]
  },
  {
   "cell_type": "code",
   "execution_count": null,
   "id": "10cf5f13",
   "metadata": {},
   "outputs": [],
   "source": []
  }
 ],
 "metadata": {
  "kernelspec": {
   "display_name": "Python 3",
   "language": "python",
   "name": "python3"
  },
  "language_info": {
   "codemirror_mode": {
    "name": "ipython",
    "version": 3
   },
   "file_extension": ".py",
   "mimetype": "text/x-python",
   "name": "python",
   "nbconvert_exporter": "python",
   "pygments_lexer": "ipython3",
   "version": "3.8.5"
  }
 },
 "nbformat": 4,
 "nbformat_minor": 5
}
