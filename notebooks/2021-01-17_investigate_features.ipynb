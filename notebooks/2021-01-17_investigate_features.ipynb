{
 "cells": [
  {
   "cell_type": "code",
   "execution_count": 1,
   "id": "7213eec5",
   "metadata": {},
   "outputs": [],
   "source": [
    "import matplotlib\n",
    "from matplotlib import pylab\n",
    "%config InlineBackend.figure_format = 'retina'\n",
    "matplotlib.rcParams['figure.dpi'] = 80\n",
    "params = {'legend.fontsize': 'xx-large',\n",
    "          'figure.figsize': (6, 4),\n",
    "         'axes.labelsize': 'xx-large',\n",
    "         'axes.titlesize': 'xx-large',\n",
    "         'xtick.labelsize': 'x-large',\n",
    "         'ytick.labelsize': 'x-large',\n",
    "         'figure.facecolor': 'w'}\n",
    "pylab.rcParams.update(params)\n",
    "from matplotlib import pyplot as plt\n",
    "import matplotlib.gridspec as gridspec\n",
    "\n",
    "import h5py\n",
    "import numpy as np\n",
    "import sys\n",
    "\n",
    "sys.path.insert(1, '../code')\n",
    "from featurize_and_fit import Featurizer, Fitter\n",
    "\n",
    "%load_ext autoreload\n",
    "%autoreload 2"
   ]
  },
  {
   "cell_type": "code",
   "execution_count": 2,
   "id": "3d76ef3c",
   "metadata": {},
   "outputs": [
    {
     "name": "stdout",
     "output_type": "stream",
     "text": [
      "[   1.            3.98107171   15.84893192   63.09573445  251.18864315\n",
      " 1000.        ]\n"
     ]
    }
   ],
   "source": [
    "save_plots = True\n",
    "plot_dir = '../plots/plots_2021-01-17'\n",
    "\n",
    "# r_edges (TNG50-4: L=35 Mpc/h, N_part=270^3, mean interparticle spacing = 35/270 = 0.13 Mpc/h = 130 kpc/h)\n",
    "r_edges = np.logspace(np.log10(1), np.log10(1000), 6) \n",
    "#r_edges = np.array([0, 1000])\n",
    "print(r_edges)\n",
    "\n",
    "l_arr = np.array([0, 1, 2, 3])\n",
    "#l_arr = np.array([0])\n",
    "\n",
    "x_order_max = 2 # for scalars, only 0 or 2 x orders\n",
    "m_order_max = 3\n",
    "\n",
    "logy = True\n",
    "\n",
    "logytag = ''\n",
    "if logy:\n",
    "    logytag = '_logy'\n",
    "save_tag = f'_xordmax{x_order_max}_mordmax{m_order_max}_rbins{len(r_edges)-1}{logytag}'"
   ]
  },
  {
   "cell_type": "code",
   "execution_count": 3,
   "id": "36d89042",
   "metadata": {},
   "outputs": [],
   "source": [
    "mass_multiplier = 1e10"
   ]
  },
  {
   "cell_type": "code",
   "execution_count": 4,
   "id": "c8fe273b",
   "metadata": {},
   "outputs": [],
   "source": [
    "featurizer = Featurizer(r_edges, l_arr)\n",
    "featurizer.read_simulations()\n",
    "featurizer.match_twins()\n",
    "featurizer.select_halos()\n",
    "featurizer.add_info_to_halo_dicts()"
   ]
  },
  {
   "cell_type": "code",
   "execution_count": 5,
   "id": "4764d5d1",
   "metadata": {},
   "outputs": [
    {
     "name": "stdout",
     "output_type": "stream",
     "text": [
      "2344\n"
     ]
    }
   ],
   "source": [
    "print(featurizer.N_halos)"
   ]
  },
  {
   "cell_type": "code",
   "execution_count": 6,
   "id": "2faac8b0",
   "metadata": {},
   "outputs": [],
   "source": [
    "featurizer.compute_geometric_features()"
   ]
  },
  {
   "cell_type": "code",
   "execution_count": 7,
   "id": "3b33c247",
   "metadata": {},
   "outputs": [],
   "source": [
    "featurizer.compute_scalar_features(x_order_max=x_order_max, m_order_max=m_order_max)\n",
    "featurizer.set_y_labels()"
   ]
  },
  {
   "cell_type": "code",
   "execution_count": 8,
   "id": "a2f3d989",
   "metadata": {},
   "outputs": [
    {
     "name": "stdout",
     "output_type": "stream",
     "text": [
      "461\n"
     ]
    }
   ],
   "source": [
    "print(featurizer.n_features)"
   ]
  },
  {
   "cell_type": "code",
   "execution_count": 9,
   "id": "e19ce56d",
   "metadata": {},
   "outputs": [
    {
     "name": "stdout",
     "output_type": "stream",
     "text": [
      "n_train: 1876, n_test: 468\n",
      "n_parameters: 461\n",
      "rank: 251\n",
      "n_feat: 461\n"
     ]
    }
   ],
   "source": [
    "fitter = Fitter(featurizer.x_scalar_features, featurizer.y_scalar, \n",
    "                featurizer.x_scalar_dicts)\n",
    "fitter.split_train_test()\n",
    "fitter.scale_and_fit(logy=logy)"
   ]
  },
  {
   "cell_type": "code",
   "execution_count": 10,
   "id": "b3d9dd9d",
   "metadata": {},
   "outputs": [
    {
     "name": "stderr",
     "output_type": "stream",
     "text": [
      "../code/featurize_and_fit.py:264: RuntimeWarning: overflow encountered in power\n",
      "  self.y_scalar_pred = 10**self.y_scalar_pred\n"
     ]
    }
   ],
   "source": [
    "fitter.predict()"
   ]
  },
  {
   "cell_type": "code",
   "execution_count": 11,
   "id": "c90d7cdd",
   "metadata": {},
   "outputs": [
    {
     "name": "stdout",
     "output_type": "stream",
     "text": [
      "Mean squared error: inf\n"
     ]
    }
   ],
   "source": [
    "y_true = fitter.y_scalar_test*mass_multiplier\n",
    "y_pred = fitter.y_scalar_pred*mass_multiplier\n",
    "mse = np.mean((y_pred - y_true)**2)\n",
    "print(f\"Mean squared error: {mse:.3e}\")"
   ]
  },
  {
   "cell_type": "code",
   "execution_count": 12,
   "id": "1c9f5fc4",
   "metadata": {},
   "outputs": [
    {
     "name": "stdout",
     "output_type": "stream",
     "text": [
      "In training set:\n",
      "Total number of halos: 1876\n",
      "Number of zero-stellar-mass halos: 0\n",
      "Min/max stellar mass: 4.349e+06 / 1.387e+12\n",
      "Minimum nonzero mass: 4.349e+06\n"
     ]
    }
   ],
   "source": [
    "print(\"In training set:\")\n",
    "print(f\"Total number of halos: {fitter.n_train}\")\n",
    "print(f\"Number of zero-stellar-mass halos: {fitter.n_train - np.count_nonzero(fitter.y_scalar_train)}\")\n",
    "print(f\"Min/max stellar mass: {min(fitter.y_scalar_train)*mass_multiplier:.3e} / {max(fitter.y_scalar_train)*mass_multiplier:.3e}\")\n",
    "print(f\"Minimum nonzero mass: {min(fitter.y_scalar_train[np.nonzero(fitter.y_scalar_train)[0]])*mass_multiplier:.3e}\")"
   ]
  },
  {
   "cell_type": "code",
   "execution_count": 13,
   "id": "4211d978",
   "metadata": {},
   "outputs": [
    {
     "name": "stdout",
     "output_type": "stream",
     "text": [
      "In test set:\n",
      "Total number of halos: 468\n",
      "Number of zero-stellar-mass halos: 0\n",
      "Min/max stellar mass: 6.473e+06 / 1.043e+11\n",
      "Minimum nonzero mass: 6.473e+06\n",
      "\n",
      "Minimum nonzero predicted mass: 3.580e-108\n",
      "Minimum positive predicted mass: 3.580e-108\n",
      "Number mass predictions with m<0: 0\n",
      "Number mass predictions with |m|<1e5: 5\n"
     ]
    }
   ],
   "source": [
    "print(\"In test set:\")\n",
    "print(f\"Total number of halos: {fitter.n_test}\")\n",
    "print(f\"Number of zero-stellar-mass halos: {fitter.n_test - np.count_nonzero(fitter.y_scalar_test)}\")\n",
    "print(f\"Min/max stellar mass: {min(fitter.y_scalar_test)*mass_multiplier:.3e} / {max(fitter.y_scalar_test)*mass_multiplier:.3e}\")\n",
    "print(f\"Minimum nonzero mass: {min(fitter.y_scalar_test[np.nonzero(fitter.y_scalar_test)[0]])*mass_multiplier:.3e}\")\n",
    "print()\n",
    "print(f\"Minimum nonzero predicted mass: {min(fitter.y_scalar_pred[np.nonzero(fitter.y_scalar_pred)[0]])*mass_multiplier:.3e}\")\n",
    "print(f\"Minimum positive predicted mass: {min(fitter.y_scalar_pred[np.where(fitter.y_scalar_pred > 0)[0]])*mass_multiplier:.3e}\")\n",
    "print(f\"Number mass predictions with m<0:\", len(np.where(fitter.y_scalar_pred*mass_multiplier < 0)[0]))\n",
    "print(f\"Number mass predictions with |m|<1e5:\", len(np.where(abs(fitter.y_scalar_pred*mass_multiplier) < 1e5)[0]))"
   ]
  },
  {
   "cell_type": "code",
   "execution_count": 14,
   "id": "b68db245",
   "metadata": {},
   "outputs": [
    {
     "name": "stderr",
     "output_type": "stream",
     "text": [
      "/ext3/miniconda3/lib/python3.8/site-packages/numpy/core/function_base.py:144: RuntimeWarning: invalid value encountered in multiply\n",
      "  y *= step\n"
     ]
    },
    {
     "ename": "ValueError",
     "evalue": "Axis limits cannot be NaN or Inf",
     "output_type": "error",
     "traceback": [
      "\u001b[0;31m---------------------------------------------------------------------------\u001b[0m",
      "\u001b[0;31mValueError\u001b[0m                                Traceback (most recent call last)",
      "\u001b[0;32m<ipython-input-14-97b37081358b>\u001b[0m in \u001b[0;36m<module>\u001b[0;34m\u001b[0m\n\u001b[1;32m     19\u001b[0m \u001b[0mplt\u001b[0m\u001b[0;34m.\u001b[0m\u001b[0myscale\u001b[0m\u001b[0;34m(\u001b[0m\u001b[0;34m'log'\u001b[0m\u001b[0;34m)\u001b[0m\u001b[0;34m\u001b[0m\u001b[0;34m\u001b[0m\u001b[0m\n\u001b[1;32m     20\u001b[0m \u001b[0max\u001b[0m\u001b[0;34m.\u001b[0m\u001b[0mset_aspect\u001b[0m\u001b[0;34m(\u001b[0m\u001b[0;34m'equal'\u001b[0m\u001b[0;34m)\u001b[0m\u001b[0;34m\u001b[0m\u001b[0;34m\u001b[0m\u001b[0m\n\u001b[0;32m---> 21\u001b[0;31m \u001b[0mplt\u001b[0m\u001b[0;34m.\u001b[0m\u001b[0mxlim\u001b[0m\u001b[0;34m(\u001b[0m\u001b[0;36m0.5\u001b[0m\u001b[0;34m*\u001b[0m\u001b[0mm_minmin\u001b[0m\u001b[0;34m,\u001b[0m \u001b[0;36m2\u001b[0m\u001b[0;34m*\u001b[0m\u001b[0mm_maxmax\u001b[0m\u001b[0;34m)\u001b[0m\u001b[0;34m\u001b[0m\u001b[0;34m\u001b[0m\u001b[0m\n\u001b[0m\u001b[1;32m     22\u001b[0m \u001b[0mplt\u001b[0m\u001b[0;34m.\u001b[0m\u001b[0mylim\u001b[0m\u001b[0;34m(\u001b[0m\u001b[0;36m0.5\u001b[0m\u001b[0;34m*\u001b[0m\u001b[0mm_minmin\u001b[0m\u001b[0;34m,\u001b[0m \u001b[0;36m2\u001b[0m\u001b[0;34m*\u001b[0m\u001b[0mm_maxmax\u001b[0m\u001b[0;34m)\u001b[0m\u001b[0;34m\u001b[0m\u001b[0;34m\u001b[0m\u001b[0m\n\u001b[1;32m     23\u001b[0m \u001b[0;34m\u001b[0m\u001b[0m\n",
      "\u001b[0;32m/ext3/miniconda3/lib/python3.8/site-packages/matplotlib/pyplot.py\u001b[0m in \u001b[0;36mxlim\u001b[0;34m(*args, **kwargs)\u001b[0m\n\u001b[1;32m   1563\u001b[0m     \u001b[0;32mif\u001b[0m \u001b[0;32mnot\u001b[0m \u001b[0margs\u001b[0m \u001b[0;32mand\u001b[0m \u001b[0;32mnot\u001b[0m \u001b[0mkwargs\u001b[0m\u001b[0;34m:\u001b[0m\u001b[0;34m\u001b[0m\u001b[0;34m\u001b[0m\u001b[0m\n\u001b[1;32m   1564\u001b[0m         \u001b[0;32mreturn\u001b[0m \u001b[0max\u001b[0m\u001b[0;34m.\u001b[0m\u001b[0mget_xlim\u001b[0m\u001b[0;34m(\u001b[0m\u001b[0;34m)\u001b[0m\u001b[0;34m\u001b[0m\u001b[0;34m\u001b[0m\u001b[0m\n\u001b[0;32m-> 1565\u001b[0;31m     \u001b[0mret\u001b[0m \u001b[0;34m=\u001b[0m \u001b[0max\u001b[0m\u001b[0;34m.\u001b[0m\u001b[0mset_xlim\u001b[0m\u001b[0;34m(\u001b[0m\u001b[0;34m*\u001b[0m\u001b[0margs\u001b[0m\u001b[0;34m,\u001b[0m \u001b[0;34m**\u001b[0m\u001b[0mkwargs\u001b[0m\u001b[0;34m)\u001b[0m\u001b[0;34m\u001b[0m\u001b[0;34m\u001b[0m\u001b[0m\n\u001b[0m\u001b[1;32m   1566\u001b[0m     \u001b[0;32mreturn\u001b[0m \u001b[0mret\u001b[0m\u001b[0;34m\u001b[0m\u001b[0;34m\u001b[0m\u001b[0m\n\u001b[1;32m   1567\u001b[0m \u001b[0;34m\u001b[0m\u001b[0m\n",
      "\u001b[0;32m/ext3/miniconda3/lib/python3.8/site-packages/matplotlib/axes/_base.py\u001b[0m in \u001b[0;36mset_xlim\u001b[0;34m(self, left, right, emit, auto, xmin, xmax)\u001b[0m\n\u001b[1;32m   3293\u001b[0m         \u001b[0mself\u001b[0m\u001b[0;34m.\u001b[0m\u001b[0m_process_unit_info\u001b[0m\u001b[0;34m(\u001b[0m\u001b[0mxdata\u001b[0m\u001b[0;34m=\u001b[0m\u001b[0;34m(\u001b[0m\u001b[0mleft\u001b[0m\u001b[0;34m,\u001b[0m \u001b[0mright\u001b[0m\u001b[0;34m)\u001b[0m\u001b[0;34m)\u001b[0m\u001b[0;34m\u001b[0m\u001b[0;34m\u001b[0m\u001b[0m\n\u001b[1;32m   3294\u001b[0m         \u001b[0mleft\u001b[0m \u001b[0;34m=\u001b[0m \u001b[0mself\u001b[0m\u001b[0;34m.\u001b[0m\u001b[0m_validate_converted_limits\u001b[0m\u001b[0;34m(\u001b[0m\u001b[0mleft\u001b[0m\u001b[0;34m,\u001b[0m \u001b[0mself\u001b[0m\u001b[0;34m.\u001b[0m\u001b[0mconvert_xunits\u001b[0m\u001b[0;34m)\u001b[0m\u001b[0;34m\u001b[0m\u001b[0;34m\u001b[0m\u001b[0m\n\u001b[0;32m-> 3295\u001b[0;31m         \u001b[0mright\u001b[0m \u001b[0;34m=\u001b[0m \u001b[0mself\u001b[0m\u001b[0;34m.\u001b[0m\u001b[0m_validate_converted_limits\u001b[0m\u001b[0;34m(\u001b[0m\u001b[0mright\u001b[0m\u001b[0;34m,\u001b[0m \u001b[0mself\u001b[0m\u001b[0;34m.\u001b[0m\u001b[0mconvert_xunits\u001b[0m\u001b[0;34m)\u001b[0m\u001b[0;34m\u001b[0m\u001b[0;34m\u001b[0m\u001b[0m\n\u001b[0m\u001b[1;32m   3296\u001b[0m \u001b[0;34m\u001b[0m\u001b[0m\n\u001b[1;32m   3297\u001b[0m         \u001b[0;32mif\u001b[0m \u001b[0mleft\u001b[0m \u001b[0;32mis\u001b[0m \u001b[0;32mNone\u001b[0m \u001b[0;32mor\u001b[0m \u001b[0mright\u001b[0m \u001b[0;32mis\u001b[0m \u001b[0;32mNone\u001b[0m\u001b[0;34m:\u001b[0m\u001b[0;34m\u001b[0m\u001b[0;34m\u001b[0m\u001b[0m\n",
      "\u001b[0;32m/ext3/miniconda3/lib/python3.8/site-packages/matplotlib/axes/_base.py\u001b[0m in \u001b[0;36m_validate_converted_limits\u001b[0;34m(self, limit, convert)\u001b[0m\n\u001b[1;32m   3209\u001b[0m             if (isinstance(converted_limit, Real)\n\u001b[1;32m   3210\u001b[0m                     and not np.isfinite(converted_limit)):\n\u001b[0;32m-> 3211\u001b[0;31m                 \u001b[0;32mraise\u001b[0m \u001b[0mValueError\u001b[0m\u001b[0;34m(\u001b[0m\u001b[0;34m\"Axis limits cannot be NaN or Inf\"\u001b[0m\u001b[0;34m)\u001b[0m\u001b[0;34m\u001b[0m\u001b[0;34m\u001b[0m\u001b[0m\n\u001b[0m\u001b[1;32m   3212\u001b[0m             \u001b[0;32mreturn\u001b[0m \u001b[0mconverted_limit\u001b[0m\u001b[0;34m\u001b[0m\u001b[0;34m\u001b[0m\u001b[0m\n\u001b[1;32m   3213\u001b[0m \u001b[0;34m\u001b[0m\u001b[0m\n",
      "\u001b[0;31mValueError\u001b[0m: Axis limits cannot be NaN or Inf"
     ]
    },
    {
     "data": {
      "image/png": "[encoded data removed]",
      "text/plain": [
       "<Figure size 480x480 with 1 Axes>"
      ]
     },
     "metadata": {
      "image/png": {
       "height": 426,
       "width": 120
      }
     },
     "output_type": "display_data"
    }
   ],
   "source": [
    "fig = plt.figure(figsize=(6,6))\n",
    "ax = plt.gca()\n",
    "  \n",
    "# main scatter plotting\n",
    "plt.scatter(y_true, y_pred, s=12, alpha=0.6, c='k')\n",
    "\n",
    "# get limits, plot true line\n",
    "m_minmin = min(min(y_true[np.where(y_true > 0)]), \n",
    "               min(y_pred[np.where(y_pred > 0)]))\n",
    "m_maxmax = max(max(y_true[np.where(y_true > 0)]), \n",
    "               max(y_pred[np.where(y_true > 0)]))\n",
    "true_line = np.linspace(0.5*m_minmin, 2*m_maxmax)\n",
    "plt.plot(true_line, true_line, color='grey', zorder=0)\n",
    "\n",
    "# labels & adjustments\n",
    "plt.xlabel(r'$m_\\mathrm{true}$')\n",
    "plt.ylabel(r'$m_\\mathrm{pred}$')\n",
    "plt.xscale('log')\n",
    "plt.yscale('log')\n",
    "ax.set_aspect('equal')\n",
    "plt.xlim(0.5*m_minmin, 2*m_maxmax)\n",
    "plt.ylim(0.5*m_minmin, 2*m_maxmax)\n",
    "\n",
    "n_neg = len(np.where(fitter.y_scalar_pred*mass_multiplier < 0)[0])\n",
    "plt.text(0.1, 0.9, f'n_train/n_test: {fitter.n_train}/{fitter.n_test} \\nMSE: {mse:.3e} \\n# m_pred < 0: {n_neg}', \n",
    "         transform=ax.transAxes, verticalalignment='top', fontsize=12)\n",
    "plt.title(save_tag)\n",
    "\n",
    "# save\n",
    "save_fn = f'mass_recovery{save_tag}.pdf'\n",
    "if save_plots:\n",
    "      plt.savefig(f\"{plot_dir}/{save_fn}\", bbox_inches='tight')"
   ]
  },
  {
   "cell_type": "code",
   "execution_count": null,
   "id": "6089906e",
   "metadata": {},
   "outputs": [],
   "source": [
    "plt.hist((y_pred - y_true)/y_true, histtype='step', color='k')"
   ]
  },
  {
   "cell_type": "code",
   "execution_count": null,
   "id": "66a3d1da",
   "metadata": {},
   "outputs": [],
   "source": [
    "bins = np.linspace(-100, 100, 20)\n",
    "plt.hist((y_pred - y_true)/y_true, bins=bins, histtype='step', color='k')"
   ]
  },
  {
   "cell_type": "code",
   "execution_count": null,
   "id": "c9ac724b",
   "metadata": {},
   "outputs": [],
   "source": [
    "plt.hist((y_pred - y_true), histtype='step', color='k')"
   ]
  },
  {
   "cell_type": "code",
   "execution_count": null,
   "id": "cacc839c",
   "metadata": {},
   "outputs": [],
   "source": []
  },
  {
   "cell_type": "code",
   "execution_count": null,
   "id": "5e929ac7",
   "metadata": {},
   "outputs": [],
   "source": []
  }
 ],
 "metadata": {
  "kernelspec": {
   "display_name": "Python 3",
   "language": "python",
   "name": "python3"
  },
  "language_info": {
   "codemirror_mode": {
    "name": "ipython",
    "version": 3
   },
   "file_extension": ".py",
   "mimetype": "text/x-python",
   "name": "python",
   "nbconvert_exporter": "python",
   "pygments_lexer": "ipython3",
   "version": "3.8.5"
  }
 },
 "nbformat": 4,
 "nbformat_minor": 5
}
