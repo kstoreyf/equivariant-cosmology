{
 "cells": [
  {
   "cell_type": "code",
   "execution_count": 1,
   "id": "c2de5449",
   "metadata": {},
   "outputs": [],
   "source": [
    "import matplotlib\n",
    "from matplotlib import pylab\n",
    "%config InlineBackend.figure_format = 'retina'\n",
    "matplotlib.rcParams['figure.dpi'] = 80\n",
    "params = {'legend.fontsize': 'xx-large',\n",
    "          'figure.figsize': (6, 4),\n",
    "         'axes.labelsize': 'xx-large',\n",
    "         'axes.titlesize': 'xx-large',\n",
    "         'xtick.labelsize': 'x-large',\n",
    "         'ytick.labelsize': 'x-large',\n",
    "         'figure.facecolor': 'w'}\n",
    "pylab.rcParams.update(params)\n",
    "from matplotlib import pyplot as plt\n",
    "import matplotlib.gridspec as gridspec\n",
    "\n",
    "import h5py\n",
    "import numpy as np\n",
    "import sys\n",
    "\n",
    "sys.path.insert(1, '../code')\n",
    "from featurize_and_fit import Featurizer, Fitter\n",
    "import plotter\n",
    "import scalars\n",
    "\n",
    "%load_ext autoreload\n",
    "%autoreload 2"
   ]
  },
  {
   "cell_type": "code",
   "execution_count": 2,
   "id": "8068f532",
   "metadata": {},
   "outputs": [],
   "source": [
    "save_plots = False\n",
    "show_intermediate_plots = False\n",
    "check_cond = False\n",
    "plot_dir = '../plots/plots_2022-03-03_catalog'\n",
    "if save_plots:\n",
    "    !mkdir -p $plot_dir\n",
    "\n",
    "# r_edges (TNG50-4: L=35 Mpc/h, N_part=270^3, mean interparticle spacing = 35/270 = 0.13 Mpc/h = 130 kpc/h)\n",
    "# for scalars, only 0 or 2 x orders \n",
    "n_rbins = 1\n",
    "m_order_max = 3\n",
    "x_order_max = 2\n",
    "v_order_max = 0\n",
    "include_eigenvalues = False\n",
    "include_eigenvectors = False\n",
    "\n",
    "catalog_feature_names = ['Group_M_Crit200'\n",
    "                        ]\n",
    "\n",
    "#y_scalar_feature_name = 'mass_hydro_halo_star'\n",
    "y_scalar_feature_name='mass_hydro_subhalo_star'\n",
    "\n",
    "r_units = 'r200'\n",
    "rms_x = True\n",
    "log_x = False\n",
    "log_y = False\n",
    "\n",
    "#tag = '_unc0.1Mfloor2e8'\n",
    "#tag = '_logxlogy'\n",
    "#tag = '_rmsfalse'\n",
    "#tag = '_velocities'\n",
    "tag = ''\n",
    "if include_eigenvalues:\n",
    "    tag += '_eigvals'\n",
    "\n",
    "l_arr, p_arr = scalars.get_needed_vec_orders_scalars(x_order_max, v_order_max)"
   ]
  },
  {
   "cell_type": "code",
   "execution_count": 3,
   "id": "51afb5b9",
   "metadata": {},
   "outputs": [],
   "source": [
    "mass_multiplier = 1e10"
   ]
  },
  {
   "cell_type": "code",
   "execution_count": 4,
   "id": "22616b5b",
   "metadata": {},
   "outputs": [],
   "source": [
    "base_dir = '/scratch/ksf293/equivariant-cosmology/data'\n",
    "sim_name = 'TNG100-1'\n",
    "snap_num_str = '099' # z = 0"
   ]
  },
  {
   "cell_type": "code",
   "execution_count": 5,
   "id": "6289955a",
   "metadata": {},
   "outputs": [],
   "source": [
    "featurizer = Featurizer()\n",
    "featurizer.read_simulations(base_dir, sim_name, snap_num_str)\n",
    "featurizer.match_twins()\n",
    "featurizer.select_halos()\n",
    "featurizer.add_info_to_halo_dicts()\n",
    "featurizer.set_y_labels(y_scalar_feature_name=y_scalar_feature_name)"
   ]
  },
  {
   "cell_type": "code",
   "execution_count": 6,
   "id": "bb93d3a8",
   "metadata": {},
   "outputs": [
    {
     "ename": "NameError",
     "evalue": "name 'snap_num_str' is not defined",
     "output_type": "error",
     "traceback": [
      "\u001b[0;31m---------------------------------------------------------------------------\u001b[0m",
      "\u001b[0;31mNameError\u001b[0m                                 Traceback (most recent call last)",
      "\u001b[0;32m<ipython-input-6-7e546ab27e84>\u001b[0m in \u001b[0;36m<module>\u001b[0;34m\u001b[0m\n\u001b[0;32m----> 1\u001b[0;31m \u001b[0mfeaturizer\u001b[0m\u001b[0;34m.\u001b[0m\u001b[0mget_catalog_features\u001b[0m\u001b[0;34m(\u001b[0m\u001b[0mcatalog_feature_names\u001b[0m\u001b[0;34m)\u001b[0m\u001b[0;34m\u001b[0m\u001b[0;34m\u001b[0m\u001b[0m\n\u001b[0m",
      "\u001b[0;32m~/equivariant-cosmology/code/featurize_and_fit.py\u001b[0m in \u001b[0;36mget_catalog_features\u001b[0;34m(self, catalog_feature_names)\u001b[0m\n\u001b[1;32m    169\u001b[0m         \u001b[0;31m#     for i_f, feature_name in enumerate(catalog_feature_names):\u001b[0m\u001b[0;34m\u001b[0m\u001b[0;34m\u001b[0m\u001b[0;34m\u001b[0m\u001b[0m\n\u001b[1;32m    170\u001b[0m         \u001b[0;31m#         self.x_catalog_features[i_hd, i_f] = self.halos_dark[feature_name][idx_halo_dark]\u001b[0m\u001b[0;34m\u001b[0m\u001b[0;34m\u001b[0m\u001b[0;34m\u001b[0m\u001b[0m\n\u001b[0;32m--> 171\u001b[0;31m         \u001b[0;32mwith\u001b[0m \u001b[0mh5py\u001b[0m\u001b[0;34m.\u001b[0m\u001b[0mFile\u001b[0m\u001b[0;34m(\u001b[0m\u001b[0;34mf'{self.tng_path_dark}/postprocessing/halo_structure_{snap_num_str}.hdf5'\u001b[0m\u001b[0;34m,\u001b[0m\u001b[0;34m'r'\u001b[0m\u001b[0;34m)\u001b[0m \u001b[0;32mas\u001b[0m \u001b[0mf\u001b[0m\u001b[0;34m:\u001b[0m\u001b[0;34m\u001b[0m\u001b[0;34m\u001b[0m\u001b[0m\n\u001b[0m\u001b[1;32m    172\u001b[0m             \u001b[0mprint\u001b[0m\u001b[0;34m(\u001b[0m\u001b[0;34m)\u001b[0m\u001b[0;34m\u001b[0m\u001b[0;34m\u001b[0m\u001b[0m\n\u001b[1;32m    173\u001b[0m \u001b[0;34m\u001b[0m\u001b[0m\n",
      "\u001b[0;31mNameError\u001b[0m: name 'snap_num_str' is not defined"
     ]
    }
   ],
   "source": [
    "featurizer.get_catalog_features(catalog_feature_names)"
   ]
  },
  {
   "cell_type": "code",
   "execution_count": null,
   "id": "f9e9abcd",
   "metadata": {},
   "outputs": [],
   "source": [
    "print(featurizer.x_catalog_features)"
   ]
  },
  {
   "cell_type": "code",
   "execution_count": 9,
   "id": "c95cc689",
   "metadata": {},
   "outputs": [
    {
     "data": {
      "text/plain": [
       "'/scratch/ksf293/equivariant-cosmology/dataTNG100-1-Dark'"
      ]
     },
     "execution_count": 9,
     "metadata": {},
     "output_type": "execute_result"
    }
   ],
   "source": [
    "featurizer.tng_path_dark"
   ]
  },
  {
   "cell_type": "code",
   "execution_count": 11,
   "id": "d134ee74",
   "metadata": {},
   "outputs": [],
   "source": [
    "f = h5py.File(f'/scratch/ksf293/equivariant-cosmology/data/TNG100-1-Dark/postprocessing/halo_structure_{snap_num_str}.hdf5', 'r')"
   ]
  },
  {
   "cell_type": "code",
   "execution_count": 12,
   "id": "9567c91d",
   "metadata": {},
   "outputs": [
    {
     "name": "stdout",
     "output_type": "stream",
     "text": [
      "<HDF5 file \"halo_structure_099.hdf5\" (mode r+)>\n",
      "<KeysViewHDF5 ['E_s', 'GroupFlag', 'Header', 'M200c', 'M_acc_dyn', 'Mean_vel', 'R0p9', 'a_form', 'c200c', 'f_mass_Cen', 'q', 'q_vel', 's', 's_vel', 'sigma_1D', 'sigma_3D']>\n"
     ]
    }
   ],
   "source": [
    "print(f)\n",
    "print(f.keys())"
   ]
  },
  {
   "cell_type": "code",
   "execution_count": 27,
   "id": "3e0852cf",
   "metadata": {},
   "outputs": [],
   "source": [
    "idxs_halos_dark = np.array([halo_dict['idx_halo_dark'] for halo_dict in featurizer.halo_dicts])"
   ]
  },
  {
   "cell_type": "code",
   "execution_count": 28,
   "id": "f9dd0154",
   "metadata": {},
   "outputs": [],
   "source": [
    "catalog_feature_names = ['M200c', 'c200c', 'a_form']\n",
    "x_catalog_features = []\n",
    "for c_feat in catalog_feature_names:\n",
    "    x_catalog_features.append( f[c_feat][idxs_halos_dark] )"
   ]
  },
  {
   "cell_type": "code",
   "execution_count": 18,
   "id": "81860b60",
   "metadata": {},
   "outputs": [],
   "source": [
    "x_catalog_features = np.array(x_catalog_features)"
   ]
  },
  {
   "cell_type": "code",
   "execution_count": 19,
   "id": "b4ba479f",
   "metadata": {},
   "outputs": [
    {
     "data": {
      "text/plain": [
       "(3, 4231400)"
      ]
     },
     "execution_count": 19,
     "metadata": {},
     "output_type": "execute_result"
    }
   ],
   "source": [
    "x_catalog_features.shape"
   ]
  },
  {
   "cell_type": "code",
   "execution_count": 20,
   "id": "21a8bcf7",
   "metadata": {},
   "outputs": [
    {
     "data": {
      "text/plain": [
       "170458"
      ]
     },
     "execution_count": 20,
     "metadata": {},
     "output_type": "execute_result"
    }
   ],
   "source": [
    "featurizer.N_halos"
   ]
  },
  {
   "cell_type": "code",
   "execution_count": null,
   "id": "19ea092e",
   "metadata": {},
   "outputs": [],
   "source": []
  }
 ],
 "metadata": {
  "kernelspec": {
   "display_name": "Python 3",
   "language": "python",
   "name": "python3"
  },
  "language_info": {
   "codemirror_mode": {
    "name": "ipython",
    "version": 3
   },
   "file_extension": ".py",
   "mimetype": "text/x-python",
   "name": "python",
   "nbconvert_exporter": "python",
   "pygments_lexer": "ipython3",
   "version": "3.8.5"
  }
 },
 "nbformat": 4,
 "nbformat_minor": 5
}
