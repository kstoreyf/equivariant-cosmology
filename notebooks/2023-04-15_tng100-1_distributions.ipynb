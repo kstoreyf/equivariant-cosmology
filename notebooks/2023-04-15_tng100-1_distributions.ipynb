{
 "cells": [
  {
   "cell_type": "code",
   "execution_count": 1,
   "id": "83ea3308",
   "metadata": {},
   "outputs": [
    {
     "name": "stderr",
     "output_type": "stream",
     "text": [
      "/ext3/miniconda3/envs/eqenv/lib/python3.9/site-packages/tqdm/auto.py:22: TqdmWarning: IProgress not found. Please update jupyter and ipywidgets. See https://ipywidgets.readthedocs.io/en/stable/user_install.html\n",
      "  from .autonotebook import tqdm as notebook_tqdm\n"
     ]
    }
   ],
   "source": [
    "import matplotlib\n",
    "from matplotlib import pylab\n",
    "%config InlineBackend.figure_format = 'retina'\n",
    "matplotlib.rcParams['figure.dpi'] = 80\n",
    "params = {'legend.fontsize': 'xx-large',\n",
    "          'figure.figsize': (6, 4),\n",
    "         'axes.labelsize': 'xx-large',\n",
    "         'axes.titlesize': 'xx-large',\n",
    "         'xtick.labelsize': 'x-large',\n",
    "         'ytick.labelsize': 'x-large',\n",
    "         'figure.facecolor': 'w'}\n",
    "pylab.rcParams.update(params)\n",
    "from matplotlib import pyplot as plt\n",
    "import matplotlib.gridspec as gridspec\n",
    "\n",
    "import h5py\n",
    "import numpy as np\n",
    "import os\n",
    "import sys\n",
    "import torch\n",
    "import yaml\n",
    "from scipy.optimize import curve_fit\n",
    "\n",
    "%load_ext autoreload\n",
    "%autoreload 2\n",
    "sys.path.insert(1, '../code')\n",
    "from geometric_features import GeometricFeaturizer, geo_name\n",
    "from scalar_features import ScalarFeaturizer, scalar_name\n",
    "from read_halos import SimulationReader\n",
    "from fit import LinearFitter\n",
    "from neural_net import NeuralNet, NNFitter\n",
    "import plotter\n",
    "import utils\n",
    "import feature_importance"
   ]
  },
  {
   "cell_type": "code",
   "execution_count": 2,
   "id": "599ea04e",
   "metadata": {},
   "outputs": [],
   "source": [
    "base_dir = '/scratch/ksf293/equivariant-cosmology/data'\n",
    "snap_num_str = '099'\n",
    "sim_name = 'TNG100-1'\n",
    "sim_name_dark = 'TNG100-1-Dark'"
   ]
  },
  {
   "cell_type": "code",
   "execution_count": 3,
   "id": "7e1b709f",
   "metadata": {},
   "outputs": [],
   "source": [
    "sim_reader = SimulationReader(base_dir, sim_name, \n",
    "                              sim_name_dark, snap_num_str)\n",
    "sim_reader.read_simulations()\n",
    "sim_reader.match_twins()"
   ]
  },
  {
   "cell_type": "code",
   "execution_count": 4,
   "id": "f529a3b1",
   "metadata": {},
   "outputs": [],
   "source": [
    "# sim_reader.halos_dark['GroupFirstSub'] = sim_reader.halos_dark['GroupFirstSub'].astype('int32')\n",
    "# mask_has_subhalos = np.where(sim_reader.halos_dark['GroupFirstSub'] >= 0) # filter out halos with no subhalos\n",
    "# idxs_halos_dark_withsubhalos = sim_reader.idxs_halos_dark_all[mask_has_subhalos]\n",
    "# idxs_largestsubs_dark_all = sim_reader.halos_dark['GroupFirstSub'][mask_has_subhalos]"
   ]
  },
  {
   "cell_type": "code",
   "execution_count": 5,
   "id": "6e4cf3f9",
   "metadata": {},
   "outputs": [],
   "source": [
    "#idxs_largestsubs_dark_all.shape"
   ]
  },
  {
   "cell_type": "code",
   "execution_count": 6,
   "id": "2331ddf1",
   "metadata": {},
   "outputs": [
    {
     "name": "stdout",
     "output_type": "stream",
     "text": [
      "105143\n"
     ]
    }
   ],
   "source": [
    "halo_logmass_min = 10\n",
    "halo_mass_min = 10**halo_logmass_min\n",
    "halo_mass_min /= sim_reader.mass_multiplier # because masses in catalog have units of 10^10 M_sun/h\n",
    "# TO MSUN\n",
    "#halo_mass_min *= 0.67\n",
    "i_above_min = sim_reader.halos_dark['GroupMass'] > halo_mass_min\n",
    "print(np.sum(i_above_min))"
   ]
  },
  {
   "cell_type": "code",
   "execution_count": 7,
   "id": "c796544f",
   "metadata": {},
   "outputs": [
    {
     "name": "stdout",
     "output_type": "stream",
     "text": [
      "Number total: 4231400\n",
      "Number with subhalos: 3732158\n",
      "\n",
      "Number above mass min: 105143\n",
      "Number above min mass with subhalos: 105141\n"
     ]
    }
   ],
   "source": [
    "print(\"Number total:\", len(sim_reader.halos_dark['GroupFirstSub']))\n",
    "i_withsubs_all = sim_reader.halos_dark['GroupFirstSub'] >= 0\n",
    "print('Number with subhalos:', np.sum(i_withsubs_all))\n",
    "\n",
    "print()\n",
    "print(\"Number above mass min:\", np.sum(i_above_min))\n",
    "i_withsubs_all_abovemin = sim_reader.halos_dark['GroupFirstSub'][i_above_min] >= 0\n",
    "print('Number above min mass with subhalos:', np.sum(i_withsubs_all_abovemin))"
   ]
  },
  {
   "cell_type": "code",
   "execution_count": 8,
   "id": "290fe829",
   "metadata": {},
   "outputs": [
    {
     "name": "stdout",
     "output_type": "stream",
     "text": [
      "Number with matched subhalo: 104895\n"
     ]
    }
   ],
   "source": [
    "idxs_largestsubs_dark = sim_reader.halos_dark['GroupFirstSub'][i_above_min & i_withsubs_all]\n",
    "i_matched = np.isin(idxs_largestsubs_dark, list(sim_reader.subhalo_dark_to_full_dict.keys()))\n",
    "print('Number with matched subhalo:', np.sum(i_matched))"
   ]
  },
  {
   "cell_type": "code",
   "execution_count": 29,
   "id": "6796412c",
   "metadata": {},
   "outputs": [],
   "source": [
    "idxs_subhalo_hydro = [sim_reader.subhalo_dark_to_full_dict[idx] for idx in idxs_largestsubs_dark[i_matched]]"
   ]
  },
  {
   "cell_type": "code",
   "execution_count": 30,
   "id": "609f8781",
   "metadata": {},
   "outputs": [
    {
     "name": "stdout",
     "output_type": "stream",
     "text": [
      "Number with minimum num star particles: 32411\n"
     ]
    }
   ],
   "source": [
    "num_star_particles_min = 50\n",
    "i_starmin = sim_reader.subhalos_hydro['SubhaloLenType'][:,sim_reader.ipart_star][idxs_subhalo_hydro] > num_star_particles_min\n",
    "print('Number with minimum num star particles:', np.sum(i_starmin))"
   ]
  },
  {
   "cell_type": "markdown",
   "id": "d44d4834",
   "metadata": {},
   "source": [
    "Mostly the star particle limit that cuts down the numbers so much!"
   ]
  },
  {
   "cell_type": "code",
   "execution_count": 31,
   "id": "fedb2afe",
   "metadata": {},
   "outputs": [
    {
     "name": "stdout",
     "output_type": "stream",
     "text": [
      "32411\n"
     ]
    }
   ],
   "source": [
    "idxs_halos_dark = sim_reader.idxs_halos_dark_all[i_above_min & i_withsubs_all][i_matched][i_starmin]\n",
    "print(len(idxs_halos_dark))"
   ]
  },
  {
   "cell_type": "code",
   "execution_count": 32,
   "id": "74630ec7",
   "metadata": {},
   "outputs": [
    {
     "data": {
      "text/plain": [
       "4371211"
      ]
     },
     "execution_count": 32,
     "metadata": {},
     "output_type": "execute_result"
    }
   ],
   "source": [
    "len(sim_reader.subhalos_hydro['SubhaloGrNr'])"
   ]
  },
  {
   "cell_type": "code",
   "execution_count": 33,
   "id": "0a332300",
   "metadata": {},
   "outputs": [
    {
     "name": "stdout",
     "output_type": "stream",
     "text": [
      "32411\n"
     ]
    }
   ],
   "source": [
    "idxs_halos_hydro = sim_reader.subhalos_hydro['SubhaloGrNr'][idxs_subhalo_hydro][i_starmin]\n",
    "print(len(idxs_halos_hydro))"
   ]
  },
  {
   "cell_type": "code",
   "execution_count": 34,
   "id": "3dec4462",
   "metadata": {},
   "outputs": [
    {
     "name": "stdout",
     "output_type": "stream",
     "text": [
      "Number with dark and hydro masses too different (bad match): 31838\n"
     ]
    }
   ],
   "source": [
    "halo_mass_difference_factor = 3\n",
    "i_nottoodiff = sim_reader.halos_hydro['GroupMass'][idxs_halos_hydro] <= \\\n",
    "            halo_mass_difference_factor*sim_reader.halos_dark['GroupMass'][idxs_halos_dark]\n",
    "print(\"Number with dark and hydro masses too different (bad match):\", np.sum(i_nottoodiff))"
   ]
  },
  {
   "cell_type": "code",
   "execution_count": 35,
   "id": "66cd1ffc",
   "metadata": {},
   "outputs": [
    {
     "name": "stdout",
     "output_type": "stream",
     "text": [
      "Keeping 32262/32411 halos with SAM matches\n"
     ]
    }
   ],
   "source": [
    "#idxs_halo_dark = [halo.idx_halo_dark for halo in dark_halo_arr]\n",
    "i_with_SAM_match = sim_reader.get_halos_with_SAM_match(idxs_halos_dark)"
   ]
  },
  {
   "cell_type": "code",
   "execution_count": 36,
   "id": "3b7bac9b",
   "metadata": {},
   "outputs": [
    {
     "name": "stdout",
     "output_type": "stream",
     "text": [
      "Number with SAM match: 32262\n"
     ]
    }
   ],
   "source": [
    "print('Number with SAM match:', np.sum(i_with_SAM_match))"
   ]
  },
  {
   "cell_type": "code",
   "execution_count": 37,
   "id": "69c7bc6e",
   "metadata": {},
   "outputs": [
    {
     "name": "stdout",
     "output_type": "stream",
     "text": [
      "Keeping 32048/32411 halos with halo structure info\n",
      "Number with structure info: 32048\n"
     ]
    }
   ],
   "source": [
    "i_with_halo_structure_info = sim_reader.has_halo_structure_info(idxs_halos_dark)\n",
    "print('Number with structure info:', np.sum(i_with_halo_structure_info))"
   ]
  },
  {
   "cell_type": "markdown",
   "id": "895e42ba",
   "metadata": {},
   "source": [
    "Ahaa! Why so few here?/"
   ]
  },
  {
   "cell_type": "code",
   "execution_count": 38,
   "id": "84fce92e",
   "metadata": {},
   "outputs": [],
   "source": [
    "n_part_dm = sim_reader.halos_dark['GroupLen'][i_above_min & i_withsubs_all]"
   ]
  },
  {
   "cell_type": "code",
   "execution_count": 39,
   "id": "1ccb9cda",
   "metadata": {},
   "outputs": [
    {
     "data": {
      "text/plain": [
       "(1667, 68478588)"
      ]
     },
     "execution_count": 39,
     "metadata": {},
     "output_type": "execute_result"
    }
   ],
   "source": [
    "np.min(n_part_dm), np.max(n_part_dm)"
   ]
  },
  {
   "cell_type": "code",
   "execution_count": 40,
   "id": "35bf11b2",
   "metadata": {},
   "outputs": [
    {
     "data": {
      "image/png": "[encoded data removed]",
      "text/plain": [
       "<Figure size 640x480 with 1 Axes>"
      ]
     },
     "metadata": {
      "image/png": {
       "height": 426,
       "width": 555
      }
     },
     "output_type": "display_data"
    }
   ],
   "source": [
    "plt.figure(figsize=(8,6))\n",
    "bins = np.logspace(np.log10(np.min(n_part_dm)), np.log10(np.max(n_part_dm)), 30)\n",
    "plt.hist(n_part_dm, bins=bins)\n",
    "plt.xlabel('n particles')\n",
    "plt.xscale('log')\n",
    "plt.yscale('log')"
   ]
  },
  {
   "cell_type": "code",
   "execution_count": 41,
   "id": "38872935",
   "metadata": {},
   "outputs": [
    {
     "name": "stdout",
     "output_type": "stream",
     "text": [
      "16016\n",
      "105141\n"
     ]
    }
   ],
   "source": [
    "i_under2000 = n_part_dm < 2000\n",
    "print(np.sum(i_under2000))\n",
    "print(len(n_part_dm))"
   ]
  },
  {
   "cell_type": "code",
   "execution_count": null,
   "id": "3d8f1835",
   "metadata": {},
   "outputs": [],
   "source": []
  }
 ],
 "metadata": {
  "kernelspec": {
   "display_name": "Python [conda env:eqenv]",
   "language": "python",
   "name": "conda-env-eqenv-py"
  },
  "language_info": {
   "codemirror_mode": {
    "name": "ipython",
    "version": 3
   },
   "file_extension": ".py",
   "mimetype": "text/x-python",
   "name": "python",
   "nbconvert_exporter": "python",
   "pygments_lexer": "ipython3",
   "version": "3.9.12"
  }
 },
 "nbformat": 4,
 "nbformat_minor": 5
}
