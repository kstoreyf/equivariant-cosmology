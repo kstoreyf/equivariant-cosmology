{
 "cells": [
  {
   "cell_type": "code",
   "execution_count": 1,
   "id": "d8a98739",
   "metadata": {},
   "outputs": [],
   "source": [
    "import numpy as np\n",
    "import matplotlib\n",
    "from matplotlib import pylab\n",
    "%config InlineBackend.figure_format = 'retina'\n",
    "matplotlib.rcParams['figure.dpi'] = 80\n",
    "params = {'legend.fontsize': 'xx-large',\n",
    "          'figure.figsize': (6, 4),\n",
    "         'axes.labelsize': 'xx-large',\n",
    "         'axes.titlesize': 'xx-large',\n",
    "         'xtick.labelsize': 'x-large',\n",
    "         'ytick.labelsize': 'x-large',\n",
    "         'figure.facecolor': 'w'}\n",
    "pylab.rcParams.update(params)\n",
    "from matplotlib import pyplot as plt\n",
    "import sys\n",
    "from sklearn.model_selection import train_test_split\n",
    "import h5py\n",
    "import matplotlib.gridspec as gridspec\n",
    "\n",
    "# shouldn't need this if have illustris_python properly in python path! todo: check if fixed upon reload\n",
    "sys.path.insert(1, '/home/ksf293/external')\n",
    "import illustris_python as il\n",
    "\n",
    "sys.path.insert(1, '../code')\n",
    "import utils\n",
    "import scalars\n",
    "\n",
    "%load_ext autoreload\n",
    "%autoreload 2"
   ]
  },
  {
   "cell_type": "code",
   "execution_count": 2,
   "id": "5f5632ed",
   "metadata": {},
   "outputs": [],
   "source": [
    "save_tag = ''\n",
    "save_plots = False"
   ]
  },
  {
   "cell_type": "code",
   "execution_count": 3,
   "id": "1ce60902",
   "metadata": {},
   "outputs": [],
   "source": [
    "tng_path_hydro = '/scratch/ksf293/gnn-cosmology/data/TNG50-4'\n",
    "tng_path_dark = '/scratch/ksf293/gnn-cosmology/data/TNG50-4-Dark'\n",
    "base_path_hydro = '/scratch/ksf293/gnn-cosmology/data/TNG50-4/output'\n",
    "base_path_dark = '/scratch/ksf293/gnn-cosmology/data/TNG50-4-Dark/output'\n",
    "snap_num_str = '099'\n",
    "snap_num = int(snap_num_str)"
   ]
  },
  {
   "cell_type": "code",
   "execution_count": 4,
   "id": "27eb2293",
   "metadata": {},
   "outputs": [],
   "source": [
    "ipart_dm = il.snapshot.partTypeNum('dm') # 0\n",
    "ipart_star = il.snapshot.partTypeNum('stars') # 4\n",
    "mass_multiplier = 1e10"
   ]
  },
  {
   "cell_type": "code",
   "execution_count": 5,
   "id": "b02f0f0a",
   "metadata": {},
   "outputs": [
    {
     "name": "stdout",
     "output_type": "stream",
     "text": [
      "Mass of dark matter particles: 1.5737e+08 Msun/h\n"
     ]
    }
   ],
   "source": [
    "with h5py.File(f'{base_path_hydro}/snapdir_{snap_num_str}/snap_{snap_num_str}.0.hdf5','r') as f:\n",
    "    header = dict( f['Header'].attrs.items() )\n",
    "\n",
    "m_dmpart = header['MassTable'][1] # this times 10^10 msun/h\n",
    "print(f\"Mass of dark matter particles: {m_dmpart*1e10:.4e} Msun/h\")"
   ]
  },
  {
   "cell_type": "markdown",
   "id": "8c7ec793",
   "metadata": {},
   "source": [
    "Load in dark and full sims\n"
   ]
  },
  {
   "cell_type": "code",
   "execution_count": 6,
   "id": "f39f5bd2",
   "metadata": {},
   "outputs": [],
   "source": [
    "fields = ['SubhaloMass','SubhaloPos','SubhaloMassType', 'SubhaloLenType', 'SubhaloHalfmassRad', 'SubhaloGrNr']\n",
    "\n",
    "subhalos_hydro = il.groupcat.loadSubhalos(base_path_hydro,snap_num,fields=fields)\n",
    "halos_hydro = il.groupcat.loadHalos(base_path_hydro,snap_num)\n",
    "\n",
    "subhalos_dark = il.groupcat.loadSubhalos(base_path_dark,snap_num,fields=fields)\n",
    "halos_dark = il.groupcat.loadHalos(base_path_dark,snap_num)"
   ]
  },
  {
   "cell_type": "markdown",
   "id": "84a4d88a",
   "metadata": {},
   "source": [
    "Create corresponding array of halo IDS"
   ]
  },
  {
   "cell_type": "code",
   "execution_count": 7,
   "id": "09df156f",
   "metadata": {},
   "outputs": [],
   "source": [
    "# I think the halo IDs are just the place in the original list; make this explicit\n",
    "idxs_halos_hydro_all = np.array(list(range(halos_hydro['count'])))\n",
    "idxs_halos_dark_all = np.array(list(range(halos_dark['count'])))"
   ]
  },
  {
   "cell_type": "markdown",
   "id": "6d2eaba2",
   "metadata": {},
   "source": [
    "Load twin-matching file"
   ]
  },
  {
   "cell_type": "code",
   "execution_count": 8,
   "id": "f2f14bb0",
   "metadata": {},
   "outputs": [],
   "source": [
    "f = h5py.File(f'{tng_path_hydro}/postprocessing/subhalo_matching_to_dark.hdf5','r')\n",
    "# two different matching algorithms: 'SubhaloIndexDark_LHaloTree' & 'SubhaloIndexDark_SubLink'. choosing first for now\n",
    "subhalo_full_to_dark_inds = f[f'Snapshot_{snap_num}']['SubhaloIndexDark_LHaloTree']"
   ]
  },
  {
   "cell_type": "markdown",
   "id": "5b827bdb",
   "metadata": {},
   "source": [
    "Build dicts to match subhalos both ways. If a full subhalo has no dark subhalo twin, exclude it."
   ]
  },
  {
   "cell_type": "code",
   "execution_count": 9,
   "id": "a168525d",
   "metadata": {},
   "outputs": [],
   "source": [
    "subhalo_full_to_dark_dict = {}\n",
    "subhalo_dark_to_full_dict = {}\n",
    "for i in range(len(subhalo_full_to_dark_inds)):\n",
    "    idx_full = i\n",
    "    idx_dark = subhalo_full_to_dark_inds[idx_full]\n",
    "    if idx_dark == -1:\n",
    "        continue\n",
    "    subhalo_dark_to_full_dict[idx_dark] = idx_full\n",
    "    subhalo_full_to_dark_dict[idx_full] = idx_dark"
   ]
  },
  {
   "cell_type": "markdown",
   "id": "404f1ae4",
   "metadata": {},
   "source": [
    "Get most massive subhalo in each dark halo; then find that subhalo's twin in the full sim. If it doesn't have a twin (aka not in dict), exclude. Also, if there are no star particles in the matched subhalo in the full sim, exclude.\n",
    "\n",
    "_GroupFirstSub: Index into the Subhalo table of the first/primary/most massive Subfind group within this FoF group. Note: This value is signed (or should be interpreted as signed)! In this case, a value of -1 indicates that this FoF group has no subhalos._"
   ]
  },
  {
   "cell_type": "code",
   "execution_count": 10,
   "id": "48894d94",
   "metadata": {},
   "outputs": [],
   "source": [
    "halos_dark['GroupFirstSub'] = halos_dark['GroupFirstSub'].astype('int32')\n",
    "mask_has_subhalos = np.where(halos_dark['GroupFirstSub'] >= 0) # filter out halos with no subhalos\n",
    "epsilon = 1e-6\n",
    "\n",
    "idxs_halos_dark_withsubhalos = idxs_halos_dark_all[mask_has_subhalos]\n",
    "idxs_largestsubs_dark_all = halos_dark['GroupFirstSub'][mask_has_subhalos]\n",
    "\n",
    "halo_dicts = []\n",
    "for i, idx_halo_dark in enumerate(idxs_halos_dark_withsubhalos):\n",
    "    \n",
    "    idx_largestsub_dark = idxs_largestsubs_dark_all[i]\n",
    "    if idx_largestsub_dark in subhalo_dark_to_full_dict:\n",
    "        \n",
    "        halo_dict = {}\n",
    "        \n",
    "        # This is the index of the hydro subhalo that is the twin of the largest subhalo in the dark halo\n",
    "        idx_subtwin_hydro = subhalo_dark_to_full_dict[idx_largestsub_dark]\n",
    "        # This is that hydro subhalo's parent halo in the hydro sim\n",
    "        idx_halo_hydro = subhalos_hydro['SubhaloGrNr'][idx_subtwin_hydro]\n",
    "        # This is the largest hydro subhalo of that hydro halo\n",
    "        idx_subhalo_hydro = halos_hydro['GroupFirstSub'][idx_halo_hydro]\n",
    "\n",
    "        halo_dict['idx_halo_dark'] = idx_halo_dark\n",
    "        halo_dict['idx_subhalo_hydro'] = idx_subhalo_hydro\n",
    "        halo_dict['idx_subhalo_dark'] = idx_largestsub_dark\n",
    "        halo_dict['idx_halo_hydro'] = idx_halo_hydro\n",
    "        \n",
    "        halo_dicts.append(halo_dict)\n",
    "        \n",
    "halo_dicts = np.array(halo_dicts)"
   ]
  },
  {
   "cell_type": "code",
   "execution_count": 11,
   "id": "703a893b",
   "metadata": {},
   "outputs": [
    {
     "name": "stdout",
     "output_type": "stream",
     "text": [
      "18824\n",
      "17738\n",
      "18392\n",
      "15519\n"
     ]
    }
   ],
   "source": [
    "print(len(idxs_halos_dark_all))\n",
    "print(len(idxs_halos_dark_withsubhalos))\n",
    "print(len(subhalo_dark_to_full_dict))\n",
    "print(len(halo_dicts))\n",
    "N_halos = len(halo_dicts)\n",
    "idx_halos_in_halodict = np.arange(N_halos)"
   ]
  },
  {
   "cell_type": "code",
   "execution_count": 12,
   "id": "19a0d73e",
   "metadata": {},
   "outputs": [],
   "source": [
    "y_scalar = np.empty(N_halos) # 1 mass dimension\n",
    "\n",
    "for i_hd, halo_dict in enumerate(halo_dicts):\n",
    "    \n",
    "    idx_halo_dark = halo_dict['idx_halo_dark']\n",
    "    halo_dict['mass_dark_halo_dm'] = halos_dark['GroupMassType'][:,ipart_dm][idx_halo_dark]\n",
    "\n",
    "    idx_halo_hydro = halo_dict['idx_halo_hydro']\n",
    "    halo_dict['mass_hydro_halo_dm'] = halos_hydro['GroupMassType'][:,ipart_dm][idx_halo_hydro]\n",
    "    halo_dict['mass_hydro_halo_star'] = halos_hydro['GroupMassType'][:,ipart_star][idx_halo_hydro]\n",
    "    \n",
    "    idx_subhalo_hydro = halo_dict['idx_subhalo_hydro']\n",
    "    halo_dict['mass_hydro_subhalo_star'] = subhalos_hydro['SubhaloMassType'][:,ipart_star][idx_subhalo_hydro]\n",
    "    \n",
    "    y_scalar[i_hd] = halo_dict['mass_hydro_halo_star']\n",
    "    #y_scalar[i_hd] = halo_dict['mass_dark_halo_dm']"
   ]
  },
  {
   "cell_type": "markdown",
   "id": "67f3e414",
   "metadata": {},
   "source": [
    "## Compute scalar features"
   ]
  },
  {
   "cell_type": "code",
   "execution_count": 13,
   "id": "67158b1f",
   "metadata": {},
   "outputs": [
    {
     "name": "stdout",
     "output_type": "stream",
     "text": [
      "15519\n"
     ]
    }
   ],
   "source": [
    "N_halos_subset = 5000\n",
    "print(N_halos)\n",
    "\n",
    "idx_subset = np.random.choice(idx_halos_in_halodict, size=N_halos_subset)\n",
    "halo_dicts_subset = halo_dicts[idx_subset]\n",
    "y_scalar_subset = y_scalar[idx_subset]"
   ]
  },
  {
   "cell_type": "code",
   "execution_count": 14,
   "id": "db936ec4",
   "metadata": {},
   "outputs": [
    {
     "name": "stdout",
     "output_type": "stream",
     "text": [
      "[   0 1000]\n"
     ]
    }
   ],
   "source": [
    "r_edges = np.array([0,1000]) #in ckpc/h. Typical halo sizes 50-200 ckpc/h. boxsize 51.7 Mpc\n",
    "n_rbins = len(r_edges) - 1\n",
    "print(r_edges)\n",
    "\n",
    "l_arr = np.array([0, 1, 2, 3])\n",
    "n_arr = np.arange(n_rbins)"
   ]
  },
  {
   "cell_type": "code",
   "execution_count": 15,
   "id": "e84ba230",
   "metadata": {},
   "outputs": [],
   "source": [
    "g_arrs_halos = []\n",
    "g_normed_arrs_halos = []\n",
    "\n",
    "for i_hd, halo_dict in enumerate(halo_dicts_subset):\n",
    "    idx_halo_dark = halo_dict['idx_halo_dark']\n",
    "    halo_dark_dm = il.snapshot.loadHalo(base_path_dark,snap_num,idx_halo_dark,'dm')\n",
    "    x_halo_dark_dm = halo_dark_dm['Coordinates']\n",
    "    x_halo_dark_dm_com = np.mean(x_halo_dark_dm, axis=0)\n",
    "    \n",
    "    # Subtract off center of mass for each halo\n",
    "    x_data_halo = x_halo_dark_dm - x_halo_dark_dm_com\n",
    "    #print(min(x_data_halo[:,0]), max(x_data_halo[:,0]))\n",
    "    g_arrs, g_normed_arrs = scalars.get_geometric_features(x_data_halo, r_edges, l_arr, n_arr, m_dmpart)\n",
    "    g_arrs_halos.append(g_arrs)\n",
    "    g_normed_arrs_halos.append(g_normed_arrs)"
   ]
  },
  {
   "cell_type": "code",
   "execution_count": 16,
   "id": "9337dabf",
   "metadata": {},
   "outputs": [
    {
     "name": "stdout",
     "output_type": "stream",
     "text": [
      "[(1,), (1, 3), (1, 3, 3), (1, 3, 3, 3)]\n",
      "[(1,), (1, 3), (1, 3, 3), (1, 3, 3, 3)]\n"
     ]
    }
   ],
   "source": [
    "print([g.shape for g in g_arrs_halos[0]])\n",
    "print([g.shape for g in g_normed_arrs_halos[0]])"
   ]
  },
  {
   "cell_type": "markdown",
   "id": "2e612941",
   "metadata": {},
   "source": [
    "### Plotting features"
   ]
  },
  {
   "cell_type": "code",
   "execution_count": 17,
   "id": "92950dec",
   "metadata": {},
   "outputs": [],
   "source": [
    "color_mass = np.linspace(min(y_scalar), max(y_scalar), len(y_scalar))\n",
    "color_mass_norm = matplotlib.colors.Normalize(vmin=min(y_scalar), vmax=max(y_scalar))\n",
    "\n",
    "cmap = matplotlib.cm.get_cmap('plasma')"
   ]
  },
  {
   "cell_type": "code",
   "execution_count": 18,
   "id": "3d0d3cdd",
   "metadata": {},
   "outputs": [],
   "source": [
    "show_intermediate_plots = True"
   ]
  },
  {
   "cell_type": "code",
   "execution_count": 27,
   "id": "29978344",
   "metadata": {},
   "outputs": [
    {
     "name": "stdout",
     "output_type": "stream",
     "text": [
      "(5000,) (5000,)\n"
     ]
    },
    {
     "data": {
      "image/png": "[encoded data removed]",
      "text/plain": [
       "<Figure size 320x240 with 1 Axes>"
      ]
     },
     "metadata": {
      "image/png": {
       "height": 245,
       "width": 329
      }
     },
     "output_type": "display_data"
    }
   ],
   "source": [
    "if show_intermediate_plots:\n",
    "    plt.figure(figsize=(4,3))\n",
    "\n",
    "    l = 0\n",
    "    #print(np.array(g_arrs_halos[:][l]).shape)\n",
    "    #print(y_scalar.shape)\n",
    "    s1_features = np.zeros(N_halos_subset)\n",
    "    for i_hd in range(N_halos_subset):\n",
    "        #print(g_arrs_halos[i_hd][l])\n",
    "        s1_features[i_hd] = g_arrs_halos[i_hd][l][0]\n",
    "    print(s1_features.shape, y_scalar_subset.shape)\n",
    "    plt.scatter(s1_features*mass_multiplier, y_scalar_subset*mass_multiplier, ls='-', marker='.', alpha=0.5)\n",
    "\n",
    "    plt.xscale('log')\n",
    "    plt.yscale('log')\n",
    "\n",
    "    plt.xlabel(r'$s_1$')\n",
    "    plt.ylabel(r'$M$')\n",
    "    \n",
    "    plt.xlim([min(s1_features[np.nonzero(s1_features)])*mass_multiplier, \n",
    "              max(s1_features)*mass_multiplier])\n",
    "    plt.ylim([min(y_scalar_subset[np.nonzero(y_scalar_subset)])*mass_multiplier, \n",
    "              max(y_scalar_subset)*mass_multiplier])"
   ]
  },
  {
   "cell_type": "code",
   "execution_count": 20,
   "id": "f3326478",
   "metadata": {},
   "outputs": [],
   "source": [
    "x_scalar_features = []\n",
    "for i_hd in range(N_halos_subset):\n",
    "    x_scalar_features.append(scalars.featurize_scalars(g_arrs_halos[i_hd], n_arr))\n",
    "x_scalar_features = np.array(x_scalar_features)"
   ]
  },
  {
   "cell_type": "code",
   "execution_count": 21,
   "id": "b381ad4e",
   "metadata": {},
   "outputs": [],
   "source": [
    "x_scalar = x_scalar_features"
   ]
  },
  {
   "cell_type": "code",
   "execution_count": 22,
   "id": "af41ec08",
   "metadata": {},
   "outputs": [
    {
     "name": "stdout",
     "output_type": "stream",
     "text": [
      "4000 1000\n"
     ]
    }
   ],
   "source": [
    "frac_test = 0.2\n",
    "x_scalar_train, x_scalar_test, y_scalar_train, y_scalar_test = train_test_split(x_scalar, y_scalar_subset, test_size=frac_test, random_state=42)\n",
    "n_train = len(x_scalar_train)\n",
    "n_test = len(x_scalar_test)\n",
    "print(n_train, n_test)"
   ]
  },
  {
   "cell_type": "code",
   "execution_count": 23,
   "id": "4cd6d582",
   "metadata": {
    "colab": {
     "base_uri": "https://localhost:8080/"
    },
    "id": "nZAG_apUb9SQ",
    "outputId": "7964ac42-ff2d-4cda-dc3f-5623b9a3db4d"
   },
   "outputs": [],
   "source": [
    "# solves b = ax (or, y = A theta); inputs are a, b (or, A, y)\n",
    "# A, design matrix, is x here (features)\n",
    "res_scalar = np.linalg.lstsq(x_scalar_train, y_scalar_train, rcond=None)\n",
    "theta_scalar = res_scalar[0]"
   ]
  },
  {
   "cell_type": "code",
   "execution_count": 24,
   "id": "a701d028",
   "metadata": {
    "colab": {
     "base_uri": "https://localhost:8080/"
    },
    "id": "vuCWYX46H_vD",
    "outputId": "a3d5bcaf-42f5-41a2-f10a-237fe3ceedbe"
   },
   "outputs": [
    {
     "name": "stdout",
     "output_type": "stream",
     "text": [
      "rank: 7\n",
      "n_feat: 9\n"
     ]
    }
   ],
   "source": [
    "rank = res_scalar[2] \n",
    "print(\"rank:\", rank)\n",
    "print(\"n_feat:\", x_scalar_features.shape[1])\n",
    "assert theta_scalar.shape[0] == x_scalar_features.shape[1], 'Number of coefficients from theta vector should equal number of features!'"
   ]
  },
  {
   "cell_type": "code",
   "execution_count": 25,
   "id": "3eb0cd59",
   "metadata": {
    "id": "zne2G4n6dqFF"
   },
   "outputs": [],
   "source": [
    "y_scalar_pred = x_scalar_test @ theta_scalar"
   ]
  },
  {
   "cell_type": "code",
   "execution_count": 35,
   "id": "65472b23",
   "metadata": {},
   "outputs": [
    {
     "name": "stdout",
     "output_type": "stream",
     "text": [
      "0.0011475069914013147 138.6913299560547\n",
      "-1.935370990565536e-11 4.7038665041861645\n"
     ]
    }
   ],
   "source": [
    "print(min(y_scalar_test[np.nonzero(y_scalar_test)]), max(y_scalar_test))\n",
    "print(min(y_scalar_pred[np.nonzero(y_scalar_pred)]), max(y_scalar_pred))"
   ]
  },
  {
   "cell_type": "code",
   "execution_count": 38,
   "id": "3b92ec36",
   "metadata": {},
   "outputs": [
    {
     "data": {
      "image/png": "[encoded data removed]",
      "text/plain": [
       "<Figure size 320x320 with 1 Axes>"
      ]
     },
     "metadata": {
      "image/png": {
       "height": 306,
       "width": 324
      }
     },
     "output_type": "display_data"
    }
   ],
   "source": [
    "fig = plt.figure(figsize=(4,4))\n",
    "ax = plt.gca()\n",
    "plt.scatter(y_scalar_test*mass_multiplier, y_scalar_pred*mass_multiplier, color='k', s=6, alpha=0.6)\n",
    "ax.set_aspect('equal')\n",
    "    \n",
    "m_minmin = min(min(y_scalar_test[np.nonzero(y_scalar_test)]), \n",
    "               min(y_scalar_pred[np.where(y_scalar_pred > 1)]))*mass_multiplier\n",
    "m_maxmax = max(max(y_scalar_test[np.nonzero(y_scalar_test)]), \n",
    "               max(y_scalar_pred[np.nonzero(y_scalar_pred)]))*mass_multiplier\n",
    "m_spread = m_maxmax - m_minmin\n",
    "\n",
    "true_line = np.linspace(m_minmin-0.2*m_spread, m_maxmax+0.2*m_spread)\n",
    "plt.plot(true_line, true_line, color='grey', zorder=0)\n",
    "plt.xlabel(r'$m_\\mathrm{true}$')\n",
    "plt.ylabel(r'$m_\\mathrm{pred}$')\n",
    "plt.xscale('log')\n",
    "plt.yscale('log')\n",
    "save_fn = f'mass_recovery{save_tag}.pdf'\n",
    "if save_plots:\n",
    "      plt.savefig(f\"{plot_dir}/{save_fn}\", bbox_inches='tight')"
   ]
  },
  {
   "cell_type": "code",
   "execution_count": null,
   "id": "43978314",
   "metadata": {},
   "outputs": [],
   "source": []
  }
 ],
 "metadata": {
  "kernelspec": {
   "display_name": "Python 3",
   "language": "python",
   "name": "python3"
  },
  "language_info": {
   "codemirror_mode": {
    "name": "ipython",
    "version": 3
   },
   "file_extension": ".py",
   "mimetype": "text/x-python",
   "name": "python",
   "nbconvert_exporter": "python",
   "pygments_lexer": "ipython3",
   "version": "3.8.5"
  }
 },
 "nbformat": 4,
 "nbformat_minor": 5
}
