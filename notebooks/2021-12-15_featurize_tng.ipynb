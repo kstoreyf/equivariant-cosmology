{
 "cells": [
  {
   "cell_type": "code",
   "execution_count": 21,
   "id": "d8a98739",
   "metadata": {},
   "outputs": [],
   "source": [
    "import numpy as np\n",
    "import matplotlib\n",
    "from matplotlib import pylab\n",
    "%config InlineBackend.figure_format = 'retina'\n",
    "matplotlib.rcParams['figure.dpi'] = 80\n",
    "params = {'legend.fontsize': 'xx-large',\n",
    "          'figure.figsize': (6, 4),\n",
    "         'axes.labelsize': 'xx-large',\n",
    "         'axes.titlesize': 'xx-large',\n",
    "         'xtick.labelsize': 'x-large',\n",
    "         'ytick.labelsize': 'x-large',\n",
    "         'figure.facecolor': 'w'}\n",
    "pylab.rcParams.update(params)\n",
    "from matplotlib import pyplot as plt\n",
    "import sys\n",
    "import h5py\n",
    "import matplotlib.gridspec as gridspec\n",
    "\n",
    "# shouldn't need this if have illustris_python properly in python path! todo: check if fixed upon reload\n",
    "sys.path.insert(1, '/home/ksf293/external')\n",
    "import illustris_python as il\n",
    "\n",
    "sys.path.insert(1, '../code')\n",
    "import utils\n",
    "import scalars"
   ]
  },
  {
   "cell_type": "code",
   "execution_count": 34,
   "id": "1ce60902",
   "metadata": {},
   "outputs": [],
   "source": [
    "tng_path_hydro = '/scratch/ksf293/gnn-cosmology/data/TNG50-4'\n",
    "tng_path_dark = '/scratch/ksf293/gnn-cosmology/data/TNG50-4-Dark'\n",
    "base_path_hydro = '/scratch/ksf293/gnn-cosmology/data/TNG50-4/output'\n",
    "base_path_dark = '/scratch/ksf293/gnn-cosmology/data/TNG50-4-Dark/output'\n",
    "snap_num_str = '099'\n",
    "snap_num = float(snap_num_str)"
   ]
  },
  {
   "cell_type": "code",
   "execution_count": 35,
   "id": "27eb2293",
   "metadata": {},
   "outputs": [],
   "source": [
    "ipart_dm = il.snapshot.partTypeNum('dm') # 0\n",
    "ipart_star = il.snapshot.partTypeNum('stars') # 4"
   ]
  },
  {
   "cell_type": "code",
   "execution_count": 45,
   "id": "b02f0f0a",
   "metadata": {},
   "outputs": [
    {
     "name": "stdout",
     "output_type": "stream",
     "text": [
      "Mass of dark matter particles: 1.5737e+08 Msun/h\n"
     ]
    }
   ],
   "source": [
    "with h5py.File(f'{base_path_hydro}/snapdir_{snap_num_str}/snap_{snap_num_str}.0.hdf5','r') as f:\n",
    "    header = dict( f['Header'].attrs.items() )\n",
    "\n",
    "m_dmpart = header['MassTable'][1] # this times 10^10 msun/h\n",
    "print(f\"Mass of dark matter particles: {m_dmpart*1e10:.4e} Msun/h\")"
   ]
  },
  {
   "cell_type": "markdown",
   "id": "8c7ec793",
   "metadata": {},
   "source": [
    "Load in dark and full sims\n"
   ]
  },
  {
   "cell_type": "code",
   "execution_count": 39,
   "id": "f39f5bd2",
   "metadata": {},
   "outputs": [],
   "source": [
    "fields = ['SubhaloMass','SubhaloPos','SubhaloMassType', 'SubhaloLenType', 'SubhaloHalfmassRad', 'SubhaloGrNr']\n",
    "\n",
    "subhalos_hydro = il.groupcat.loadSubhalos(base_path_hydro,snap_num,fields=fields)\n",
    "halos_hydro = il.groupcat.loadHalos(base_path_hydro,snap_num)\n",
    "\n",
    "subhalos_dark = il.groupcat.loadSubhalos(base_path_dark,snap_num,fields=fields)\n",
    "halos_dark = il.groupcat.loadHalos(base_path_dark,snap_num)"
   ]
  },
  {
   "cell_type": "markdown",
   "id": "84a4d88a",
   "metadata": {},
   "source": [
    "Create corresponding array of halo IDS"
   ]
  },
  {
   "cell_type": "code",
   "execution_count": 10,
   "id": "09df156f",
   "metadata": {},
   "outputs": [],
   "source": [
    "# I think the halo IDs are just the place in the original list; make this explicit\n",
    "idxs_halos_hydro_all = np.array(list(range(halos_hydro['count'])))\n",
    "idxs_halos_dark_all = np.array(list(range(halos_dark['count'])))"
   ]
  },
  {
   "cell_type": "markdown",
   "id": "6d2eaba2",
   "metadata": {},
   "source": [
    "Load twin-matching file"
   ]
  },
  {
   "cell_type": "code",
   "execution_count": 11,
   "id": "f2f14bb0",
   "metadata": {},
   "outputs": [],
   "source": [
    "f = h5py.File(f'{tng_path_hydro}/postprocessing/subhalo_matching_to_dark.hdf5','r')\n",
    "# two different matching algorithms: 'SubhaloIndexDark_LHaloTree' & 'SubhaloIndexDark_SubLink'. choosing first for now\n",
    "subhalo_full_to_dark_inds = f[f'Snapshot_{snap_num}']['SubhaloIndexDark_LHaloTree']"
   ]
  },
  {
   "cell_type": "code",
   "execution_count": 28,
   "id": "f5a936f6",
   "metadata": {},
   "outputs": [
    {
     "data": {
      "text/plain": [
       "<KeysViewHDF5 []>"
      ]
     },
     "execution_count": 28,
     "metadata": {},
     "output_type": "execute_result"
    }
   ],
   "source": [
    "f['Header'].keys()"
   ]
  },
  {
   "cell_type": "markdown",
   "id": "5b827bdb",
   "metadata": {},
   "source": [
    "Build dicts to match subhalos both ways. If a full subhalo has no dark subhalo twin, exclude it."
   ]
  },
  {
   "cell_type": "code",
   "execution_count": 12,
   "id": "a168525d",
   "metadata": {},
   "outputs": [],
   "source": [
    "subhalo_full_to_dark_dict = {}\n",
    "subhalo_dark_to_full_dict = {}\n",
    "for i in range(len(subhalo_full_to_dark_inds)):\n",
    "    idx_full = i\n",
    "    idx_dark = subhalo_full_to_dark_inds[idx_full]\n",
    "    if idx_dark == -1:\n",
    "        continue\n",
    "    subhalo_dark_to_full_dict[idx_dark] = idx_full\n",
    "    subhalo_full_to_dark_dict[idx_full] = idx_dark"
   ]
  },
  {
   "cell_type": "markdown",
   "id": "404f1ae4",
   "metadata": {},
   "source": [
    "Get most massive subhalo in each dark halo; then find that subhalo's twin in the full sim. If it doesn't have a twin (aka not in dict), exclude. Also, if there are no star particles in the matched subhalo in the full sim, exclude.\n",
    "\n",
    "_GroupFirstSub: Index into the Subhalo table of the first/primary/most massive Subfind group within this FoF group. Note: This value is signed (or should be interpreted as signed)! In this case, a value of -1 indicates that this FoF group has no subhalos._"
   ]
  },
  {
   "cell_type": "code",
   "execution_count": 13,
   "id": "48894d94",
   "metadata": {},
   "outputs": [],
   "source": [
    "halos_dark['GroupFirstSub'] = halos_dark['GroupFirstSub'].astype('int32')\n",
    "mask_has_subhalos = np.where(halos_dark['GroupFirstSub'] >= 0) # filter out halos with no subhalos\n",
    "epsilon = 1e-6\n",
    "\n",
    "idxs_halos_dark_withsubhalos = idxs_halos_dark_all[mask_has_subhalos]\n",
    "idxs_largestsubs_dark_all = halos_dark['GroupFirstSub'][mask_has_subhalos]\n",
    "\n",
    "halo_dicts = []\n",
    "for i, idx_halo_dark in enumerate(idxs_halos_dark_withsubhalos):\n",
    "    \n",
    "    idx_largestsub_dark = idxs_largestsubs_dark_all[i]\n",
    "    if idx_largestsub_dark in subhalo_dark_to_full_dict:\n",
    "        \n",
    "        halo_dict = {}\n",
    "        \n",
    "        # This is the index of the hydro subhalo that is the twin of the largest subhalo in the dark halo\n",
    "        idx_subtwin_hydro = subhalo_dark_to_full_dict[idx_largestsub_dark]\n",
    "        # This is that hydro subhalo's parent halo in the hydro sim\n",
    "        idx_halo_hydro = subhalos_hydro['SubhaloGrNr'][idx_subtwin_hydro]\n",
    "        # This is the largest hydro subhalo of that hydro halo\n",
    "        idx_subhalo_hydro = halos_hydro['GroupFirstSub'][idx_halo_hydro]\n",
    "\n",
    "        halo_dict['idx_halo_dark'] = idx_halo_dark\n",
    "        halo_dict['idx_subhalo_hydro'] = idx_subhalo_hydro\n",
    "        halo_dict['idx_subhalo_dark'] = idx_largestsub_dark\n",
    "        halo_dict['idx_halo_hydro'] = idx_halo_hydro\n",
    "        \n",
    "        halo_dicts.append(halo_dict)\n",
    "        \n",
    "halo_dicts = np.array(halo_dicts)"
   ]
  },
  {
   "cell_type": "code",
   "execution_count": 14,
   "id": "703a893b",
   "metadata": {},
   "outputs": [
    {
     "name": "stdout",
     "output_type": "stream",
     "text": [
      "18824\n",
      "17738\n",
      "18392\n",
      "15519\n"
     ]
    }
   ],
   "source": [
    "print(len(idxs_halos_dark_all))\n",
    "print(len(idxs_halos_dark_withsubhalos))\n",
    "print(len(subhalo_dark_to_full_dict))\n",
    "print(len(halo_dicts))\n",
    "N_halos = len(halo_dicts)"
   ]
  },
  {
   "cell_type": "markdown",
   "id": "67f3e414",
   "metadata": {},
   "source": [
    "## Compute scalar features"
   ]
  },
  {
   "cell_type": "code",
   "execution_count": 17,
   "id": "67158b1f",
   "metadata": {},
   "outputs": [
    {
     "data": {
      "text/plain": [
       "array([{'idx_halo_dark': 9866, 'idx_subhalo_hydro': 16170, 'idx_subhalo_dark': 14925, 'idx_halo_hydro': 12985},\n",
       "       {'idx_halo_dark': 1500, 'idx_subhalo_hydro': 5297, 'idx_subhalo_dark': 6125, 'idx_halo_hydro': 1317},\n",
       "       {'idx_halo_dark': 17633, 'idx_subhalo_hydro': 19069, 'idx_subhalo_dark': 21965, 'idx_halo_hydro': 17386}],\n",
       "      dtype=object)"
      ]
     },
     "execution_count": 17,
     "metadata": {},
     "output_type": "execute_result"
    }
   ],
   "source": [
    "halo_dicts_subset = np.random.choice(halo_dicts, size=3)\n",
    "halo_dicts_subset"
   ]
  },
  {
   "cell_type": "code",
   "execution_count": 22,
   "id": "e84ba230",
   "metadata": {},
   "outputs": [
    {
     "name": "stdout",
     "output_type": "stream",
     "text": [
      "[26541.78737848  6494.95817491  4264.10664811]\n"
     ]
    },
    {
     "ename": "NameError",
     "evalue": "name 'm_dm' is not defined",
     "output_type": "error",
     "traceback": [
      "\u001b[0;31m---------------------------------------------------------------------------\u001b[0m",
      "\u001b[0;31mNameError\u001b[0m                                 Traceback (most recent call last)",
      "\u001b[0;32m<ipython-input-22-ed658681f1e2>\u001b[0m in \u001b[0;36m<module>\u001b[0;34m\u001b[0m\n\u001b[1;32m     12\u001b[0m     \u001b[0mx_data_halo\u001b[0m \u001b[0;34m=\u001b[0m \u001b[0mx_halo_dark_dm\u001b[0m \u001b[0;34m-\u001b[0m \u001b[0mx_halo_dark_dm_com\u001b[0m\u001b[0;34m\u001b[0m\u001b[0;34m\u001b[0m\u001b[0m\n\u001b[1;32m     13\u001b[0m \u001b[0;34m\u001b[0m\u001b[0m\n\u001b[0;32m---> 14\u001b[0;31m     \u001b[0mg_arrs\u001b[0m\u001b[0;34m,\u001b[0m \u001b[0mg_normed_arrs\u001b[0m \u001b[0;34m=\u001b[0m \u001b[0mscalars\u001b[0m\u001b[0;34m.\u001b[0m\u001b[0mget_geometric_features\u001b[0m\u001b[0;34m(\u001b[0m\u001b[0mx_data_halo\u001b[0m\u001b[0;34m)\u001b[0m\u001b[0;34m\u001b[0m\u001b[0;34m\u001b[0m\u001b[0m\n\u001b[0m\u001b[1;32m     15\u001b[0m     \u001b[0mg_arrs_halos\u001b[0m\u001b[0;34m.\u001b[0m\u001b[0mappend\u001b[0m\u001b[0;34m(\u001b[0m\u001b[0mg_arrs\u001b[0m\u001b[0;34m)\u001b[0m\u001b[0;34m\u001b[0m\u001b[0;34m\u001b[0m\u001b[0m\n\u001b[1;32m     16\u001b[0m     \u001b[0mg_normed_arrs_halos\u001b[0m\u001b[0;34m.\u001b[0m\u001b[0mappend\u001b[0m\u001b[0;34m(\u001b[0m\u001b[0mg_normed_arrs\u001b[0m\u001b[0;34m)\u001b[0m\u001b[0;34m\u001b[0m\u001b[0;34m\u001b[0m\u001b[0m\n",
      "\u001b[0;32m~/equivariant-cosmology/code/scalars.py\u001b[0m in \u001b[0;36mget_geometric_features\u001b[0;34m(delta_x_data_halo)\u001b[0m\n\u001b[1;32m     26\u001b[0m \u001b[0;32mdef\u001b[0m \u001b[0mget_geometric_features\u001b[0m\u001b[0;34m(\u001b[0m\u001b[0mdelta_x_data_halo\u001b[0m\u001b[0;34m)\u001b[0m\u001b[0;34m:\u001b[0m\u001b[0;34m\u001b[0m\u001b[0;34m\u001b[0m\u001b[0m\n\u001b[1;32m     27\u001b[0m     \u001b[0mN\u001b[0m\u001b[0;34m,\u001b[0m \u001b[0mn_dim_from_data\u001b[0m \u001b[0;34m=\u001b[0m \u001b[0mdelta_x_data_halo\u001b[0m\u001b[0;34m.\u001b[0m\u001b[0mshape\u001b[0m\u001b[0;34m\u001b[0m\u001b[0;34m\u001b[0m\u001b[0m\n\u001b[0;32m---> 28\u001b[0;31m     \u001b[0mm_total\u001b[0m \u001b[0;34m=\u001b[0m \u001b[0mN\u001b[0m\u001b[0;34m*\u001b[0m\u001b[0mm_dm\u001b[0m\u001b[0;34m\u001b[0m\u001b[0;34m\u001b[0m\u001b[0m\n\u001b[0m\u001b[1;32m     29\u001b[0m     \u001b[0;32massert\u001b[0m \u001b[0mn_dim_from_data\u001b[0m \u001b[0;34m==\u001b[0m \u001b[0mn_dim\u001b[0m\u001b[0;34m,\u001b[0m \u001b[0;34mf\"Number of dimensions in data {n_dim_from_data} does not equal global n_dim, {n_dim}!\"\u001b[0m\u001b[0;34m\u001b[0m\u001b[0;34m\u001b[0m\u001b[0m\n\u001b[1;32m     30\u001b[0m     \u001b[0mg_arrs\u001b[0m \u001b[0;34m=\u001b[0m \u001b[0;34m[\u001b[0m\u001b[0;34m]\u001b[0m\u001b[0;34m\u001b[0m\u001b[0;34m\u001b[0m\u001b[0m\n",
      "\u001b[0;31mNameError\u001b[0m: name 'm_dm' is not defined"
     ]
    }
   ],
   "source": [
    "g_arrs_halos = []\n",
    "g_normed_arrs_halos = []\n",
    "\n",
    "for i_hd, halo_dict in enumerate(halo_dicts_subset):\n",
    "    idx_halo_dark = halo_dict['idx_halo_dark']\n",
    "    halo_dark_dm = il.snapshot.loadHalo(base_path_dark,snap_num,idx_halo_dark,'dm')\n",
    "    x_halo_dark_dm = halo_dark_dm['Coordinates']\n",
    "    x_halo_dark_dm_com = np.mean(x_halo_dark_dm, axis=0)\n",
    "    print(x_halo_dark_dm_com)\n",
    "    \n",
    "    # Subtract off center of mass for each halo\n",
    "    x_data_halo = x_halo_dark_dm - x_halo_dark_dm_com\n",
    "    \n",
    "    g_arrs, g_normed_arrs = scalars.get_geometric_features(x_data_halo)\n",
    "    g_arrs_halos.append(g_arrs)\n",
    "    g_normed_arrs_halos.append(g_normed_arrs)"
   ]
  },
  {
   "cell_type": "code",
   "execution_count": null,
   "id": "9337dabf",
   "metadata": {},
   "outputs": [],
   "source": []
  }
 ],
 "metadata": {
  "kernelspec": {
   "display_name": "Python 3",
   "language": "python",
   "name": "python3"
  },
  "language_info": {
   "codemirror_mode": {
    "name": "ipython",
    "version": 3
   },
   "file_extension": ".py",
   "mimetype": "text/x-python",
   "name": "python",
   "nbconvert_exporter": "python",
   "pygments_lexer": "ipython3",
   "version": "3.8.5"
  }
 },
 "nbformat": 4,
 "nbformat_minor": 5
}
