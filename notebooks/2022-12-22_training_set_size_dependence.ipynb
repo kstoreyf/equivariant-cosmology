{
 "cells": [
  {
   "cell_type": "code",
   "execution_count": 110,
   "id": "55aaf66e",
   "metadata": {},
   "outputs": [
    {
     "name": "stdout",
     "output_type": "stream",
     "text": [
      "The autoreload extension is already loaded. To reload it, use:\n",
      "  %reload_ext autoreload\n"
     ]
    }
   ],
   "source": [
    "import matplotlib\n",
    "from matplotlib import pylab\n",
    "%config InlineBackend.figure_format = 'retina'\n",
    "matplotlib.rcParams['figure.dpi'] = 80\n",
    "params = {'legend.fontsize': 'xx-large',\n",
    "          'figure.figsize': (6, 4),\n",
    "         'axes.labelsize': 'xx-large',\n",
    "         'axes.titlesize': 'xx-large',\n",
    "         'xtick.labelsize': 'x-large',\n",
    "         'ytick.labelsize': 'x-large',\n",
    "         'figure.facecolor': 'w'}\n",
    "pylab.rcParams.update(params)\n",
    "from matplotlib import pyplot as plt\n",
    "import matplotlib.gridspec as gridspec\n",
    "\n",
    "import h5py\n",
    "import numpy as np\n",
    "import os\n",
    "import sys\n",
    "import torch\n",
    "import yaml\n",
    "from scipy.optimize import curve_fit\n",
    "from IPython.display import display, Markdown, Latex\n",
    "\n",
    "%load_ext autoreload\n",
    "%autoreload 2\n",
    "sys.path.insert(1, '../code')\n",
    "from geometric_features import GeometricFeaturizer, geo_name\n",
    "from scalar_features import ScalarFeaturizer, scalar_name\n",
    "from read_halos import SimulationReader\n",
    "from fit import LinearFitter\n",
    "from neural_net import NeuralNet, NNFitter\n",
    "import plotter\n",
    "import utils\n",
    "import feature_importance"
   ]
  },
  {
   "cell_type": "code",
   "execution_count": 2,
   "id": "6e1a6464",
   "metadata": {},
   "outputs": [],
   "source": [
    "sim_name = 'TNG100-1'\n",
    "#sim_name = 'TNG50-4'\n",
    "sim_name_dark = f'{sim_name}-Dark'\n",
    "\n",
    "halo_tag = ''\n",
    "geo_tag = ''\n",
    "scalar_tag = ''\n",
    "mass_multiplier = 1e10\n",
    "log_mass_shift = 10"
   ]
  },
  {
   "cell_type": "markdown",
   "id": "2cfc4224",
   "metadata": {},
   "source": [
    "## Load features"
   ]
  },
  {
   "cell_type": "code",
   "execution_count": 3,
   "id": "8d465d4a",
   "metadata": {},
   "outputs": [
    {
     "name": "stdout",
     "output_type": "stream",
     "text": [
      "../configs/halos_TNG100-1.yaml\n",
      "../configs/geo_TNG100-1.yaml\n",
      "../configs/scalar_TNG100-1.yaml\n"
     ]
    }
   ],
   "source": [
    "fn_halo_config = f'../configs/halos_{sim_name}{halo_tag}.yaml'\n",
    "print(fn_halo_config)\n",
    "fn_geo_config = f'../configs/geo_{sim_name}{halo_tag}{geo_tag}.yaml'\n",
    "print(fn_geo_config)\n",
    "fn_scalar_config = f'../configs/scalar_{sim_name}{halo_tag}{geo_tag}{scalar_tag}.yaml'\n",
    "print(fn_scalar_config)"
   ]
  },
  {
   "cell_type": "code",
   "execution_count": 4,
   "id": "bb2b00b7",
   "metadata": {},
   "outputs": [],
   "source": [
    "with open(fn_scalar_config, 'r') as file:\n",
    "    scalar_params = yaml.safe_load(file)\n",
    "scp = scalar_params['scalar']\n",
    "\n",
    "fn_geo_config = scalar_params['geo']['fn_geo_config']\n",
    "with open(fn_geo_config, 'r') as file:\n",
    "    geo_params = yaml.safe_load(file)\n",
    "gp = geo_params['geo']\n",
    "\n",
    "with open(fn_halo_config, 'r') as file:\n",
    "    halo_params = yaml.safe_load(file)\n",
    "\n",
    "fn_dark_halo_arr = halo_params['halo']['fn_dark_halo_arr']"
   ]
  },
  {
   "cell_type": "code",
   "execution_count": 5,
   "id": "c7f6fe96",
   "metadata": {},
   "outputs": [],
   "source": [
    "geo_featurizer = GeometricFeaturizer()\n",
    "geo_featurizer.load_features(gp['fn_geo_features'])"
   ]
  },
  {
   "cell_type": "code",
   "execution_count": 6,
   "id": "40fcf3ba",
   "metadata": {},
   "outputs": [],
   "source": [
    "sim_reader = SimulationReader(halo_params['sim']['base_dir'], sim_name, sim_name_dark, \n",
    "                              halo_params['sim']['snap_num_str'])\n",
    "sim_reader.load_dark_halo_arr(fn_dark_halo_arr)\n",
    "sim_reader.read_simulations()"
   ]
  },
  {
   "cell_type": "code",
   "execution_count": 7,
   "id": "30c6fbdc",
   "metadata": {},
   "outputs": [
    {
     "name": "stdout",
     "output_type": "stream",
     "text": [
      "Rebinning geometric features\n",
      "Transforming pseudotensors\n",
      "Rescaling geometric features\n"
     ]
    }
   ],
   "source": [
    "mrv_for_rescaling = utils.get_mrv_for_rescaling(sim_reader, scp['mrv_names_for_rescaling'])\n",
    "scalar_featurizer = ScalarFeaturizer(geo_featurizer.geo_feature_arr,\n",
    "                        n_groups_rebin=scp['n_groups_rebin'], \n",
    "                        transform_pseudotensors=scp['transform_pseudotensors'], \n",
    "                        mrv_for_rescaling=mrv_for_rescaling)"
   ]
  },
  {
   "cell_type": "code",
   "execution_count": 8,
   "id": "dcbc9e0c",
   "metadata": {},
   "outputs": [],
   "source": [
    "x_features_extra = np.log10(mrv_for_rescaling).T"
   ]
  },
  {
   "cell_type": "code",
   "execution_count": 9,
   "id": "0a63925d",
   "metadata": {},
   "outputs": [
    {
     "name": "stdout",
     "output_type": "stream",
     "text": [
      "loading\n",
      "loaded\n"
     ]
    }
   ],
   "source": [
    "print('loading')\n",
    "scalar_featurizer.load_features(scp['fn_scalar_features'])\n",
    "print('loaded')"
   ]
  },
  {
   "cell_type": "markdown",
   "id": "b898a125",
   "metadata": {},
   "source": [
    "## Other features"
   ]
  },
  {
   "cell_type": "code",
   "execution_count": 10,
   "id": "c43cd06d",
   "metadata": {},
   "outputs": [],
   "source": [
    "x_dict = {}\n",
    "x_extra_dict = {}"
   ]
  },
  {
   "cell_type": "code",
   "execution_count": 11,
   "id": "0d1e3038",
   "metadata": {},
   "outputs": [],
   "source": [
    "x_dict['scalars'] = scalar_featurizer.scalar_features\n",
    "x_extra_dict['scalars'] = x_features_extra\n",
    "\n",
    "x_dict['geos'] = utils.geo_feature_arr_to_values(scalar_featurizer.geo_feature_arr)\n",
    "x_extra_dict['geos'] = x_features_extra\n",
    "\n",
    "x_dict['mrv'] = x_features_extra\n",
    "x_extra_dict['mrv'] = None\n",
    "\n",
    "catalog_feature_names = ['M200c', 'c200c', 'a_form']\n",
    "sim_reader.get_structure_catalog_features(catalog_feature_names)\n",
    "x_dict['catalog'] = sim_reader.x_catalog_features\n",
    "x_extra_dict['catalog'] = None"
   ]
  },
  {
   "cell_type": "markdown",
   "id": "91631bfc",
   "metadata": {},
   "source": [
    "## Gather properties"
   ]
  },
  {
   "cell_type": "code",
   "execution_count": 12,
   "id": "b66181ef",
   "metadata": {},
   "outputs": [],
   "source": [
    "sim_reader.add_catalog_property_to_halos('m200m')\n",
    "m_200m = np.array([dark_halo.catalog_properties['m200m'] for dark_halo in sim_reader.dark_halo_arr])\n",
    "log_m_200m = np.log10(m_200m)"
   ]
  },
  {
   "cell_type": "markdown",
   "id": "fc5c17db",
   "metadata": {},
   "source": [
    "## Split train-val-test"
   ]
  },
  {
   "cell_type": "code",
   "execution_count": 13,
   "id": "bef5f71c",
   "metadata": {},
   "outputs": [],
   "source": [
    "frac_train = 0.70\n",
    "frac_val = 0.15\n",
    "frac_test = 0.15\n",
    "\n",
    "random_ints = np.array([dark_halo.random_int for dark_halo in sim_reader.dark_halo_arr])\n",
    "idx_train, idx_val, idx_test = utils.split_train_val_test(random_ints, frac_train=frac_train, \n",
    "                                                      frac_val=frac_val, frac_test=frac_test)"
   ]
  },
  {
   "cell_type": "code",
   "execution_count": 14,
   "id": "99f9009d",
   "metadata": {},
   "outputs": [],
   "source": [
    "x_test = scalar_featurizer.scalar_features[idx_test]\n",
    "y_test_current = None\n",
    "x_test_extra = x_features_extra[idx_test]"
   ]
  },
  {
   "cell_type": "markdown",
   "id": "fdf54f20",
   "metadata": {},
   "source": [
    "## Mstellar"
   ]
  },
  {
   "cell_type": "code",
   "execution_count": 50,
   "id": "799c12d2",
   "metadata": {},
   "outputs": [],
   "source": [
    "y_label_name = 'm_stellar'"
   ]
  },
  {
   "cell_type": "code",
   "execution_count": 64,
   "id": "8380f98c",
   "metadata": {},
   "outputs": [],
   "source": [
    "fit_tag = f'_{y_label_name}_nn_scalars_epochs500_lr5e-05_hs128_f0.01'\n",
    "\n",
    "fn_model = f'../models/models_{sim_name}/model_{sim_name}{halo_tag}{geo_tag}{scalar_tag}{fit_tag}.pt'"
   ]
  },
  {
   "cell_type": "code",
   "execution_count": 65,
   "id": "b01e36cd",
   "metadata": {},
   "outputs": [],
   "source": [
    "y = utils.get_y_vals(y_label_name, sim_reader)\n",
    "y_test = y[idx_test]"
   ]
  },
  {
   "cell_type": "code",
   "execution_count": 66,
   "id": "ac838163",
   "metadata": {},
   "outputs": [],
   "source": [
    "nnfitter = NNFitter()\n",
    "nnfitter.load_model(fn_model)"
   ]
  },
  {
   "cell_type": "code",
   "execution_count": 67,
   "id": "bc941589",
   "metadata": {},
   "outputs": [],
   "source": [
    "import torch\n",
    "model_checkpoint = torch.load(fn_model)"
   ]
  },
  {
   "cell_type": "code",
   "execution_count": 68,
   "id": "d5988af1",
   "metadata": {},
   "outputs": [
    {
     "name": "stdout",
     "output_type": "stream",
     "text": [
      "266 10.528742119867816\n"
     ]
    },
    {
     "data": {
      "image/png": "[encoded data removed]",
      "text/plain": [
       "<Figure size 480x320 with 1 Axes>"
      ]
     },
     "metadata": {
      "image/png": {
       "height": 304,
       "width": 439
      }
     },
     "output_type": "display_data"
    }
   ],
   "source": [
    "plt.plot(nnfitter.loss_valid, color='darkorchid', label='Validation')\n",
    "plt.plot(nnfitter.loss_train, color='blue', label='Training')\n",
    "plt.xlabel('epoch')\n",
    "plt.ylabel('loss')\n",
    "#plt.ylim(0,300)\n",
    "plt.ylim(-1, nnfitter.loss_train[2])\n",
    "print(np.argmin(nnfitter.loss_valid), np.min(nnfitter.loss_valid))"
   ]
  },
  {
   "cell_type": "code",
   "execution_count": 69,
   "id": "4a460900",
   "metadata": {},
   "outputs": [],
   "source": [
    "# plt.plot(nnfitter.loss, color='darkorchid')\n",
    "# plt.xlabel('epoch')\n",
    "# plt.ylabel('loss')"
   ]
  },
  {
   "cell_type": "code",
   "execution_count": 70,
   "id": "7094b428",
   "metadata": {},
   "outputs": [],
   "source": [
    "y_pred = nnfitter.predict(x_test, y_current=y_test_current, x_extra=x_test_extra)"
   ]
  },
  {
   "cell_type": "code",
   "execution_count": 71,
   "id": "4b364577",
   "metadata": {},
   "outputs": [
    {
     "name": "stderr",
     "output_type": "stream",
     "text": [
      "/home/ksf293/equivariant-cosmology/notebooks/../code/utils.py:327: UserWarning: Trying to register the cmap 'shiftedcmap' which already exists.\n",
      "  plt.register_cmap(cmap=newcmap)\n"
     ]
    },
    {
     "data": {
      "image/png": "[encoded data removed]",
      "text/plain": [
       "<Figure size 640x640 with 2 Axes>"
      ]
     },
     "metadata": {
      "image/png": {
       "height": 507,
       "width": 569
      }
     },
     "output_type": "display_data"
    }
   ],
   "source": [
    "y_test_mult = y_test + log_mass_shift\n",
    "y_pred_mult = y_pred + log_mass_shift\n",
    "error_nn, _ = utils.compute_error(y_test_mult, y_pred_mult, test_error_type='percentile')\n",
    "error_str = fr\"$\\sigma_{{68}}$: {error_nn:.3f} dex\"\n",
    "plotter.plot_pred_vs_true_hist(y_label_name, y_test_mult, y_pred_mult, text_results=error_str,\n",
    "                               x_lim=(7,12),  y_lim=(7,12))"
   ]
  },
  {
   "cell_type": "code",
   "execution_count": 27,
   "id": "77f0da0e",
   "metadata": {},
   "outputs": [],
   "source": [
    "def plot_error_fig(y_true, y_pred):\n",
    "    plt.figure()\n",
    "    bins = np.linspace(np.min(y_true), np.max(y_true), 14)\n",
    "    delta_y = y_pred - y_true\n",
    "    delta_y_binned = np.empty(len(bins)-1)\n",
    "    for i in range(len(bins)-1):\n",
    "        idx_inbin = (y_true >= bins[i]) & (y_true < bins[i+1])\n",
    "        delta_y_binned[i] = np.median(delta_y[idx_inbin])\n",
    "    bins_avg = 0.5*(bins[1:] + bins[:-1])\n",
    "    plt.plot(bins_avg, delta_y_binned)"
   ]
  },
  {
   "cell_type": "markdown",
   "id": "8641e293",
   "metadata": {},
   "source": [
    "# training set size dep"
   ]
  },
  {
   "cell_type": "code",
   "execution_count": 129,
   "id": "a0bd64cb",
   "metadata": {},
   "outputs": [],
   "source": [
    "y_label_name = 'm_stellar'"
   ]
  },
  {
   "cell_type": "code",
   "execution_count": 130,
   "id": "e5709aa3",
   "metadata": {},
   "outputs": [],
   "source": [
    "y = utils.get_y_vals(y_label_name, sim_reader)\n",
    "y_test = y[idx_test]"
   ]
  },
  {
   "cell_type": "code",
   "execution_count": 131,
   "id": "20e933e5",
   "metadata": {},
   "outputs": [],
   "source": [
    "sfeat = scalar_featurizer.scalar_features"
   ]
  },
  {
   "cell_type": "code",
   "execution_count": 132,
   "id": "f81e3257",
   "metadata": {},
   "outputs": [],
   "source": [
    "feature_names = ['geos', 'scalars']\n",
    "fracs_subset = [0.005, 0.01, 0.05, 0.1, 0.5, 1]\n",
    "errors = []\n",
    "for ff, feature_name in enumerate(feature_names):\n",
    "    errors_feature = []\n",
    "    x = x_dict[feature_name]\n",
    "    x_extra = x_extra_dict[feature_name]\n",
    "    if x is not None:\n",
    "        x_test = x[idx_test]\n",
    "    else:\n",
    "        x_test = None\n",
    "    if x_extra is not None:\n",
    "        x_test_extra = x_extra[idx_test]\n",
    "    else:\n",
    "        x_test_extra = None\n",
    "        \n",
    "    for i, frac_subset in enumerate(fracs_subset):\n",
    "        # this is just cuz i kept doing diff ones, eventually standardize max_epochs and f tag\n",
    "        if frac_subset == 1.0:\n",
    "            frac_tag = ''\n",
    "            max_epochs = 1000\n",
    "        elif frac_subset<=0.05:\n",
    "            frac_tag = f'_f{frac_subset}'\n",
    "            max_epochs = 500            \n",
    "        else:\n",
    "            frac_tag = f'_f{frac_subset}'\n",
    "            max_epochs = 2000\n",
    "            \n",
    "        fit_tag = f'_{y_label_name}_nn_{feature_name}_epochs{max_epochs}_lr5e-05_hs128{frac_tag}'\n",
    "        fn_model = f'../models/models_{sim_name}/model_{sim_name}{halo_tag}{geo_tag}{scalar_tag}{fit_tag}.pt'\n",
    "        nnfitter = NNFitter()\n",
    "        nnfitter.load_model(fn_model)\n",
    "        y_pred = nnfitter.predict(x_test, y_current=y_test_current, x_extra=x_test_extra)\n",
    "        y_test_mult = y_test + log_mass_shift\n",
    "        y_pred_mult = y_pred + log_mass_shift\n",
    "        error, _ = utils.compute_error(y_test_mult, y_pred_mult, test_error_type='percentile')\n",
    "        errors_feature.append(error)\n",
    "    \n",
    "    errors.append(errors_feature)"
   ]
  },
  {
   "cell_type": "code",
   "execution_count": 133,
   "id": "fd4561a3",
   "metadata": {},
   "outputs": [],
   "source": [
    "ns_train = np.array(fracs_subset) * len(idx_train)"
   ]
  },
  {
   "cell_type": "code",
   "execution_count": 134,
   "id": "e3924794",
   "metadata": {},
   "outputs": [
    {
     "data": {
      "image/png": "[encoded data removed]",
      "text/plain": [
       "<Figure size 480x320 with 1 Axes>"
      ]
     },
     "metadata": {
      "image/png": {
       "height": 306,
       "width": 465
      }
     },
     "output_type": "display_data"
    }
   ],
   "source": [
    "for ff, feature_name in enumerate(feature_names):\n",
    "    plt.plot(ns_train, errors[ff], label=feature_name)\n",
    "\n",
    "plt.legend()\n",
    "plt.xlabel('number of training set objects')\n",
    "plt.ylabel(r'$\\sigma_{68}$')\n",
    "plt.xscale('log')\n",
    "#plt.yscale('log')"
   ]
  },
  {
   "cell_type": "markdown",
   "id": "bf1dfd00",
   "metadata": {},
   "source": [
    "# dependence on top n features (spearman)"
   ]
  },
  {
   "cell_type": "code",
   "execution_count": 84,
   "id": "96739dac",
   "metadata": {},
   "outputs": [],
   "source": [
    "y_label_name = 'm_stellar'"
   ]
  },
  {
   "cell_type": "code",
   "execution_count": 85,
   "id": "158a5615",
   "metadata": {},
   "outputs": [],
   "source": [
    "y = utils.get_y_vals(y_label_name, sim_reader)\n",
    "y_test = y[idx_test]"
   ]
  },
  {
   "cell_type": "code",
   "execution_count": 86,
   "id": "6fdc292a",
   "metadata": {},
   "outputs": [],
   "source": [
    "sfeat = scalar_featurizer.scalar_features"
   ]
  },
  {
   "cell_type": "code",
   "execution_count": 121,
   "id": "039e7f28",
   "metadata": {},
   "outputs": [
    {
     "name": "stdout",
     "output_type": "stream",
     "text": [
      "1\n",
      "(2951, 567)\n",
      "_m_stellar_nn_scalars_epochs500_lr5e-05_hs128_spearman1\n",
      "0.24247090800318638\n",
      "5\n",
      "(2951, 567)\n",
      "_m_stellar_nn_scalars_epochs500_lr5e-05_hs128_spearman5\n",
      "0.25045364275981274\n",
      "10\n",
      "(2951, 567)\n",
      "_m_stellar_nn_scalars_epochs500_lr5e-05_hs128_spearman10\n",
      "0.211528550058647\n",
      "50\n",
      "(2951, 567)\n",
      "_m_stellar_nn_scalars_epochs500_lr5e-05_hs128_spearman50\n",
      "0.20661543014984574\n",
      "100\n",
      "(2951, 567)\n",
      "_m_stellar_nn_scalars_epochs500_lr5e-05_hs128_spearman100\n",
      "0.15483582121986839\n",
      "567\n",
      "(2951, 567)\n",
      "_m_stellar_nn_scalars_epochs500_lr5e-05_hs128_spearman567\n",
      "0.1506263499393219\n"
     ]
    }
   ],
   "source": [
    "feature_name = 'scalars'\n",
    "info_metric = 'spearman'\n",
    "ns_top_features = [1, 5, 10, 50, 100, 567]\n",
    "frac_subset = 1.0\n",
    "errors = []\n",
    "\n",
    "x = x_dict[feature_name]\n",
    "x_extra = x_extra_dict[feature_name]\n",
    "if x is not None:\n",
    "    x_test = x[idx_test]\n",
    "else:\n",
    "    x_test = None\n",
    "if x_extra is not None:\n",
    "    x_test_extra = x_extra[idx_test]\n",
    "else:\n",
    "    x_test_extra = None\n",
    "\n",
    "feature_info_dir = f'../data/feature_info/feature_info_{sim_name}'\n",
    "fn_feature_info = f'{feature_info_dir}/feature_info_{sim_name}{halo_tag}{geo_tag}{scalar_tag}_{info_metric}_{y_label_name}.npy'\n",
    "values = np.load(fn_feature_info, allow_pickle=True)\n",
    "i_info_ordered = np.argsort(values)[::-1]\n",
    "    \n",
    "for i, n_top_features in enumerate(ns_top_features):\n",
    "    # this is just cuz i kept doing diff ones, eventually standardize max_epochs and f tag\n",
    "    i_info = i_info_ordered[:n_top_features]\n",
    "    print(len(i_info))\n",
    "    print(x_test.shape)\n",
    "    x_test_top = x_test[:,i_info]\n",
    "\n",
    "    info_tag = f'_{info_metric}{n_top_features}'\n",
    "    max_epochs = 500\n",
    "    frac_tag = ''\n",
    "    if frac_subset != 1.0:\n",
    "        frac_tag = f'_f{frac_subset}'\n",
    "    fit_tag = f'_{y_label_name}_nn_{feature_name}_epochs{max_epochs}_lr5e-05_hs128{frac_tag}{info_tag}'\n",
    "    print(fit_tag)\n",
    "    fn_model = f'../models/models_{sim_name}/model_{sim_name}{halo_tag}{geo_tag}{scalar_tag}{fit_tag}.pt'\n",
    "    nnfitter = NNFitter()\n",
    "    nnfitter.load_model(fn_model)\n",
    "    y_pred = nnfitter.predict(x_test_top, y_current=y_test_current, x_extra=x_test_extra)\n",
    "    y_test_mult = y_test + log_mass_shift\n",
    "    y_pred_mult = y_pred + log_mass_shift\n",
    "    error, _ = utils.compute_error(y_test_mult, y_pred_mult, test_error_type='percentile')\n",
    "    print(error)\n",
    "    errors.append(error)"
   ]
  },
  {
   "cell_type": "code",
   "execution_count": 122,
   "id": "fceca615",
   "metadata": {},
   "outputs": [],
   "source": [
    "s_arr_0 = scalar_featurizer.scalar_feature_arr[0]"
   ]
  },
  {
   "cell_type": "code",
   "execution_count": 127,
   "id": "6905fe31",
   "metadata": {},
   "outputs": [
    {
     "data": {
      "text/markdown": [
       "$\\lambda_3\\left(\\frac{1}{2} (C^{xv}_0 + C^{vx}_0)\\right) \\, \\lambda_3\\left(C^{xx}_2\\right)$"
      ],
      "text/plain": [
       "<IPython.core.display.Markdown object>"
      ]
     },
     "metadata": {},
     "output_type": "display_data"
    },
    {
     "name": "stdout",
     "output_type": "stream",
     "text": [
      "0 None\n"
     ]
    },
    {
     "data": {
      "text/markdown": [
       "$\\lambda_3\\left(\\frac{1}{2} (C^{xv}_0 + C^{vx}_0)\\right) \\, \\lambda_1\\left(C^{vv}_1\\right)$"
      ],
      "text/plain": [
       "<IPython.core.display.Markdown object>"
      ]
     },
     "metadata": {},
     "output_type": "display_data"
    },
    {
     "name": "stdout",
     "output_type": "stream",
     "text": [
      "1 None\n"
     ]
    },
    {
     "data": {
      "text/markdown": [
       "$\\lambda_3\\left(\\frac{1}{2} (C^{xv}_0 + C^{vx}_0)\\right) \\, \\lambda_2\\left(C^{vv}_2\\right)$"
      ],
      "text/plain": [
       "<IPython.core.display.Markdown object>"
      ]
     },
     "metadata": {},
     "output_type": "display_data"
    },
    {
     "name": "stdout",
     "output_type": "stream",
     "text": [
      "2 None\n"
     ]
    },
    {
     "data": {
      "text/markdown": [
       "$\\lambda_3\\left(\\frac{1}{2} (C^{xv}_1 + C^{vx}_1)\\right) \\, \\lambda_3\\left(C^{xx}_2\\right)$"
      ],
      "text/plain": [
       "<IPython.core.display.Markdown object>"
      ]
     },
     "metadata": {},
     "output_type": "display_data"
    },
    {
     "name": "stdout",
     "output_type": "stream",
     "text": [
      "3 None\n"
     ]
    },
    {
     "data": {
      "text/markdown": [
       "$\\lambda_3\\left(\\frac{1}{2} (C^{xv}_0 + C^{vx}_0)\\right) \\, \\lambda_2\\left(C^{xx}_2\\right)$"
      ],
      "text/plain": [
       "<IPython.core.display.Markdown object>"
      ]
     },
     "metadata": {},
     "output_type": "display_data"
    },
    {
     "name": "stdout",
     "output_type": "stream",
     "text": [
      "4 None\n"
     ]
    },
    {
     "data": {
      "text/markdown": [
       "$\\lambda_1\\left(\\frac{1}{2} (C^{xv}_0 + C^{vx}_0)\\right) \\, \\lambda_3\\left(\\frac{1}{2} (C^{xv}_2 + C^{vx}_2)\\right)$"
      ],
      "text/plain": [
       "<IPython.core.display.Markdown object>"
      ]
     },
     "metadata": {},
     "output_type": "display_data"
    },
    {
     "name": "stdout",
     "output_type": "stream",
     "text": [
      "5 None\n"
     ]
    },
    {
     "data": {
      "text/markdown": [
       "$\\lambda_3\\left(\\frac{1}{2} (C^{xv}_0 + C^{vx}_0)\\right) \\, \\lambda_1\\left(\\frac{1}{2} (C^{xv}_0 + C^{vx}_0)\\right)$"
      ],
      "text/plain": [
       "<IPython.core.display.Markdown object>"
      ]
     },
     "metadata": {},
     "output_type": "display_data"
    },
    {
     "name": "stdout",
     "output_type": "stream",
     "text": [
      "6 None\n"
     ]
    },
    {
     "data": {
      "text/markdown": [
       "$\\lambda_1\\left(\\frac{1}{2} (C^{xv}_0 + C^{vx}_0)\\right) \\, \\lambda_3\\left(\\frac{1}{2} (C^{xv}_1 + C^{vx}_1)\\right)$"
      ],
      "text/plain": [
       "<IPython.core.display.Markdown object>"
      ]
     },
     "metadata": {},
     "output_type": "display_data"
    },
    {
     "name": "stdout",
     "output_type": "stream",
     "text": [
      "7 None\n"
     ]
    },
    {
     "data": {
      "text/markdown": [
       "$\\lambda_3\\left(\\frac{1}{2} (C^{xv}_0 + C^{vx}_0)\\right) \\, \\lambda_1\\left(C^{xx}_1\\right)$"
      ],
      "text/plain": [
       "<IPython.core.display.Markdown object>"
      ]
     },
     "metadata": {},
     "output_type": "display_data"
    },
    {
     "name": "stdout",
     "output_type": "stream",
     "text": [
      "8 None\n"
     ]
    },
    {
     "data": {
      "text/markdown": [
       "$\\lambda_3\\left(\\frac{1}{2} (C^{xv}_0 + C^{vx}_0)\\right) \\, \\lambda_3\\left(C^{xx}_1\\right)$"
      ],
      "text/plain": [
       "<IPython.core.display.Markdown object>"
      ]
     },
     "metadata": {},
     "output_type": "display_data"
    },
    {
     "name": "stdout",
     "output_type": "stream",
     "text": [
      "9 None\n"
     ]
    },
    {
     "data": {
      "text/markdown": [
       "$\\lambda_3\\left(\\frac{1}{2} (C^{xv}_1 + C^{vx}_1)\\right) \\, \\lambda_2\\left(C^{xx}_2\\right)$"
      ],
      "text/plain": [
       "<IPython.core.display.Markdown object>"
      ]
     },
     "metadata": {},
     "output_type": "display_data"
    },
    {
     "name": "stdout",
     "output_type": "stream",
     "text": [
      "10 None\n"
     ]
    },
    {
     "data": {
      "text/markdown": [
       "$\\lambda_3\\left(\\frac{1}{2} (C^{xv}_0 + C^{vx}_0)\\right) \\, \\lambda_3\\left(C^{vv}_2\\right)$"
      ],
      "text/plain": [
       "<IPython.core.display.Markdown object>"
      ]
     },
     "metadata": {},
     "output_type": "display_data"
    },
    {
     "name": "stdout",
     "output_type": "stream",
     "text": [
      "11 None\n"
     ]
    },
    {
     "data": {
      "text/markdown": [
       "$\\lambda_3\\left(\\frac{1}{2} (C^{xv}_0 + C^{vx}_0)\\right) \\, \\lambda_2\\left(C^{xx}_1\\right)$"
      ],
      "text/plain": [
       "<IPython.core.display.Markdown object>"
      ]
     },
     "metadata": {},
     "output_type": "display_data"
    },
    {
     "name": "stdout",
     "output_type": "stream",
     "text": [
      "12 None\n"
     ]
    },
    {
     "data": {
      "text/markdown": [
       "$\\lambda_3\\left(\\frac{1}{2} (C^{xv}_1 + C^{vx}_1)\\right) \\, \\lambda_2\\left(C^{vv}_2\\right)$"
      ],
      "text/plain": [
       "<IPython.core.display.Markdown object>"
      ]
     },
     "metadata": {},
     "output_type": "display_data"
    },
    {
     "name": "stdout",
     "output_type": "stream",
     "text": [
      "13 None\n"
     ]
    },
    {
     "data": {
      "text/markdown": [
       "$\\lambda_3\\left(\\frac{1}{2} (C^{xv}_0 + C^{vx}_0)\\right) \\, \\lambda_2\\left(C^{vv}_1\\right)$"
      ],
      "text/plain": [
       "<IPython.core.display.Markdown object>"
      ]
     },
     "metadata": {},
     "output_type": "display_data"
    },
    {
     "name": "stdout",
     "output_type": "stream",
     "text": [
      "14 None\n"
     ]
    },
    {
     "data": {
      "text/markdown": [
       "$\\lambda_3\\left(\\frac{1}{2} (C^{xv}_0 + C^{vx}_0)\\right) \\, \\lambda_3\\left(C^{vv}_1\\right)$"
      ],
      "text/plain": [
       "<IPython.core.display.Markdown object>"
      ]
     },
     "metadata": {},
     "output_type": "display_data"
    },
    {
     "name": "stdout",
     "output_type": "stream",
     "text": [
      "15 None\n"
     ]
    },
    {
     "data": {
      "text/markdown": [
       "$\\lambda_3\\left(\\frac{1}{2} (C^{xv}_2 + C^{vx}_2)\\right) \\, \\lambda_3\\left(C^{xx}_2\\right)$"
      ],
      "text/plain": [
       "<IPython.core.display.Markdown object>"
      ]
     },
     "metadata": {},
     "output_type": "display_data"
    },
    {
     "name": "stdout",
     "output_type": "stream",
     "text": [
      "16 None\n"
     ]
    },
    {
     "data": {
      "text/markdown": [
       "$\\lambda_3\\left(\\frac{1}{2} (C^{xv}_1 + C^{vx}_1)\\right) \\, \\lambda_3\\left(C^{xx}_1\\right)$"
      ],
      "text/plain": [
       "<IPython.core.display.Markdown object>"
      ]
     },
     "metadata": {},
     "output_type": "display_data"
    },
    {
     "name": "stdout",
     "output_type": "stream",
     "text": [
      "17 None\n"
     ]
    },
    {
     "data": {
      "text/markdown": [
       "$\\lambda_3\\left(\\frac{1}{2} (C^{xv}_0 + C^{vx}_0)\\right) \\, \\lambda_1\\left(C^{vv}_2\\right)$"
      ],
      "text/plain": [
       "<IPython.core.display.Markdown object>"
      ]
     },
     "metadata": {},
     "output_type": "display_data"
    },
    {
     "name": "stdout",
     "output_type": "stream",
     "text": [
      "18 None\n"
     ]
    },
    {
     "data": {
      "text/markdown": [
       "$\\lambda_3\\left(\\frac{1}{2} (C^{xv}_1 + C^{vx}_1)\\right) \\, \\lambda_2\\left(C^{xx}_1\\right)$"
      ],
      "text/plain": [
       "<IPython.core.display.Markdown object>"
      ]
     },
     "metadata": {},
     "output_type": "display_data"
    },
    {
     "name": "stdout",
     "output_type": "stream",
     "text": [
      "19 None\n"
     ]
    },
    {
     "data": {
      "text/markdown": [
       "$\\lambda_1\\left(C^{vv}_1\\right) \\, \\lambda_3\\left(\\frac{1}{2} (C^{xv}_2 + C^{vx}_2)\\right)$"
      ],
      "text/plain": [
       "<IPython.core.display.Markdown object>"
      ]
     },
     "metadata": {},
     "output_type": "display_data"
    },
    {
     "name": "stdout",
     "output_type": "stream",
     "text": [
      "20 None\n"
     ]
    },
    {
     "data": {
      "text/markdown": [
       "$\\lambda_1\\left(C^{vv}_1\\right) \\, \\lambda_3\\left(\\frac{1}{2} (C^{xv}_1 + C^{vx}_1)\\right)$"
      ],
      "text/plain": [
       "<IPython.core.display.Markdown object>"
      ]
     },
     "metadata": {},
     "output_type": "display_data"
    },
    {
     "name": "stdout",
     "output_type": "stream",
     "text": [
      "21 None\n"
     ]
    },
    {
     "data": {
      "text/markdown": [
       "$\\lambda_3\\left(\\frac{1}{2} (C^{xv}_0 + C^{vx}_0)\\right) \\, m_2$"
      ],
      "text/plain": [
       "<IPython.core.display.Markdown object>"
      ]
     },
     "metadata": {},
     "output_type": "display_data"
    },
    {
     "name": "stdout",
     "output_type": "stream",
     "text": [
      "22 None\n"
     ]
    },
    {
     "data": {
      "text/markdown": [
       "$\\lambda_3\\left(\\frac{1}{2} (C^{xv}_1 + C^{vx}_1)\\right) \\, \\lambda_3\\left(C^{vv}_2\\right)$"
      ],
      "text/plain": [
       "<IPython.core.display.Markdown object>"
      ]
     },
     "metadata": {},
     "output_type": "display_data"
    },
    {
     "name": "stdout",
     "output_type": "stream",
     "text": [
      "23 None\n"
     ]
    },
    {
     "data": {
      "text/markdown": [
       "$\\lambda_3\\left(\\frac{1}{2} (C^{xv}_2 + C^{vx}_2)\\right) \\, \\lambda_2\\left(C^{xx}_2\\right)$"
      ],
      "text/plain": [
       "<IPython.core.display.Markdown object>"
      ]
     },
     "metadata": {},
     "output_type": "display_data"
    },
    {
     "name": "stdout",
     "output_type": "stream",
     "text": [
      "24 None\n"
     ]
    },
    {
     "data": {
      "text/markdown": [
       "$\\lambda_2\\left(C^{vv}_2\\right) \\, \\lambda_3\\left(\\frac{1}{2} (C^{xv}_2 + C^{vx}_2)\\right)$"
      ],
      "text/plain": [
       "<IPython.core.display.Markdown object>"
      ]
     },
     "metadata": {},
     "output_type": "display_data"
    },
    {
     "name": "stdout",
     "output_type": "stream",
     "text": [
      "25 None\n"
     ]
    },
    {
     "data": {
      "text/markdown": [
       "$\\lambda_3\\left(\\frac{1}{2} (C^{xv}_0 + C^{vx}_0)\\right) \\, m_1$"
      ],
      "text/plain": [
       "<IPython.core.display.Markdown object>"
      ]
     },
     "metadata": {},
     "output_type": "display_data"
    },
    {
     "name": "stdout",
     "output_type": "stream",
     "text": [
      "26 None\n"
     ]
    },
    {
     "data": {
      "text/markdown": [
       "$\\lambda_2\\left(C^{vv}_1\\right) \\, \\lambda_3\\left(\\frac{1}{2} (C^{xv}_2 + C^{vx}_2)\\right)$"
      ],
      "text/plain": [
       "<IPython.core.display.Markdown object>"
      ]
     },
     "metadata": {},
     "output_type": "display_data"
    },
    {
     "name": "stdout",
     "output_type": "stream",
     "text": [
      "27 None\n"
     ]
    },
    {
     "data": {
      "text/markdown": [
       "$\\lambda_1\\left(C^{xx}_1\\right) \\, \\lambda_3\\left(\\frac{1}{2} (C^{xv}_2 + C^{vx}_2)\\right)$"
      ],
      "text/plain": [
       "<IPython.core.display.Markdown object>"
      ]
     },
     "metadata": {},
     "output_type": "display_data"
    },
    {
     "name": "stdout",
     "output_type": "stream",
     "text": [
      "28 None\n"
     ]
    },
    {
     "data": {
      "text/markdown": [
       "$\\lambda_3\\left(C^{xx}_1\\right) \\, \\lambda_3\\left(\\frac{1}{2} (C^{xv}_2 + C^{vx}_2)\\right)$"
      ],
      "text/plain": [
       "<IPython.core.display.Markdown object>"
      ]
     },
     "metadata": {},
     "output_type": "display_data"
    },
    {
     "name": "stdout",
     "output_type": "stream",
     "text": [
      "29 None\n"
     ]
    },
    {
     "data": {
      "text/markdown": [
       "$\\lambda_2\\left(C^{xx}_1\\right) \\, \\lambda_3\\left(\\frac{1}{2} (C^{xv}_2 + C^{vx}_2)\\right)$"
      ],
      "text/plain": [
       "<IPython.core.display.Markdown object>"
      ]
     },
     "metadata": {},
     "output_type": "display_data"
    },
    {
     "name": "stdout",
     "output_type": "stream",
     "text": [
      "30 None\n"
     ]
    },
    {
     "data": {
      "text/markdown": [
       "$\\lambda_3\\left(\\frac{1}{2} (C^{xv}_1 + C^{vx}_1)\\right) \\, \\lambda_1\\left(C^{vv}_2\\right)$"
      ],
      "text/plain": [
       "<IPython.core.display.Markdown object>"
      ]
     },
     "metadata": {},
     "output_type": "display_data"
    },
    {
     "name": "stdout",
     "output_type": "stream",
     "text": [
      "31 None\n"
     ]
    },
    {
     "data": {
      "text/markdown": [
       "$\\lambda_3\\left(C^{vv}_1\\right) \\, \\lambda_3\\left(\\frac{1}{2} (C^{xv}_2 + C^{vx}_2)\\right)$"
      ],
      "text/plain": [
       "<IPython.core.display.Markdown object>"
      ]
     },
     "metadata": {},
     "output_type": "display_data"
    },
    {
     "name": "stdout",
     "output_type": "stream",
     "text": [
      "32 None\n"
     ]
    },
    {
     "data": {
      "text/markdown": [
       "$\\lambda_3\\left(\\frac{1}{2} (C^{xv}_1 + C^{vx}_1)\\right) \\, m_2$"
      ],
      "text/plain": [
       "<IPython.core.display.Markdown object>"
      ]
     },
     "metadata": {},
     "output_type": "display_data"
    },
    {
     "name": "stdout",
     "output_type": "stream",
     "text": [
      "33 None\n"
     ]
    },
    {
     "data": {
      "text/markdown": [
       "$\\lambda_2\\left(C^{vv}_1\\right) \\, \\lambda_3\\left(\\frac{1}{2} (C^{xv}_1 + C^{vx}_1)\\right)$"
      ],
      "text/plain": [
       "<IPython.core.display.Markdown object>"
      ]
     },
     "metadata": {},
     "output_type": "display_data"
    },
    {
     "name": "stdout",
     "output_type": "stream",
     "text": [
      "34 None\n"
     ]
    },
    {
     "data": {
      "text/markdown": [
       "$\\lambda_3\\left(C^{vv}_2\\right) \\, \\lambda_3\\left(\\frac{1}{2} (C^{xv}_2 + C^{vx}_2)\\right)$"
      ],
      "text/plain": [
       "<IPython.core.display.Markdown object>"
      ]
     },
     "metadata": {},
     "output_type": "display_data"
    },
    {
     "name": "stdout",
     "output_type": "stream",
     "text": [
      "35 None\n"
     ]
    },
    {
     "data": {
      "text/markdown": [
       "$\\lambda_3\\left(C^{vv}_1\\right) \\, \\lambda_3\\left(\\frac{1}{2} (C^{xv}_1 + C^{vx}_1)\\right)$"
      ],
      "text/plain": [
       "<IPython.core.display.Markdown object>"
      ]
     },
     "metadata": {},
     "output_type": "display_data"
    },
    {
     "name": "stdout",
     "output_type": "stream",
     "text": [
      "36 None\n"
     ]
    },
    {
     "data": {
      "text/markdown": [
       "$\\lambda_3\\left(\\frac{1}{2} (C^{xv}_0 + C^{vx}_0)\\right) \\, \\lambda_1\\left(C^{xx}_2\\right)$"
      ],
      "text/plain": [
       "<IPython.core.display.Markdown object>"
      ]
     },
     "metadata": {},
     "output_type": "display_data"
    },
    {
     "name": "stdout",
     "output_type": "stream",
     "text": [
      "37 None\n"
     ]
    },
    {
     "data": {
      "text/markdown": [
       "$\\lambda_1\\left(C^{vv}_2\\right) \\, \\lambda_3\\left(\\frac{1}{2} (C^{xv}_2 + C^{vx}_2)\\right)$"
      ],
      "text/plain": [
       "<IPython.core.display.Markdown object>"
      ]
     },
     "metadata": {},
     "output_type": "display_data"
    },
    {
     "name": "stdout",
     "output_type": "stream",
     "text": [
      "38 None\n"
     ]
    },
    {
     "data": {
      "text/markdown": [
       "$m_1 \\, \\lambda_3\\left(\\frac{1}{2} (C^{xv}_2 + C^{vx}_2)\\right)$"
      ],
      "text/plain": [
       "<IPython.core.display.Markdown object>"
      ]
     },
     "metadata": {},
     "output_type": "display_data"
    },
    {
     "name": "stdout",
     "output_type": "stream",
     "text": [
      "39 None\n"
     ]
    },
    {
     "data": {
      "text/markdown": [
       "$\\lambda_3\\left(C^{xx}_0\\right) \\, \\lambda_2\\left(C^{xx}_0\\right)$"
      ],
      "text/plain": [
       "<IPython.core.display.Markdown object>"
      ]
     },
     "metadata": {},
     "output_type": "display_data"
    },
    {
     "name": "stdout",
     "output_type": "stream",
     "text": [
      "40 None\n"
     ]
    },
    {
     "data": {
      "text/markdown": [
       "$\\lambda_3\\left(\\frac{1}{2} (C^{xv}_1 + C^{vx}_1)\\right) \\, \\lambda_1\\left(C^{xx}_1\\right)$"
      ],
      "text/plain": [
       "<IPython.core.display.Markdown object>"
      ]
     },
     "metadata": {},
     "output_type": "display_data"
    },
    {
     "name": "stdout",
     "output_type": "stream",
     "text": [
      "41 None\n"
     ]
    },
    {
     "data": {
      "text/markdown": [
       "$\\lambda_1\\left(C^{vv}_0\\right) \\, \\lambda_3\\left(\\frac{1}{2} (C^{xv}_2 + C^{vx}_2)\\right)$"
      ],
      "text/plain": [
       "<IPython.core.display.Markdown object>"
      ]
     },
     "metadata": {},
     "output_type": "display_data"
    },
    {
     "name": "stdout",
     "output_type": "stream",
     "text": [
      "42 None\n"
     ]
    },
    {
     "data": {
      "text/markdown": [
       "$m_2 \\, \\lambda_3\\left(\\frac{1}{2} (C^{xv}_2 + C^{vx}_2)\\right)$"
      ],
      "text/plain": [
       "<IPython.core.display.Markdown object>"
      ]
     },
     "metadata": {},
     "output_type": "display_data"
    },
    {
     "name": "stdout",
     "output_type": "stream",
     "text": [
      "43 None\n"
     ]
    },
    {
     "data": {
      "text/markdown": [
       "$\\lambda_1\\left(C^{vv}_0\\right) \\, \\lambda_3\\left(\\frac{1}{2} (C^{xv}_1 + C^{vx}_1)\\right)$"
      ],
      "text/plain": [
       "<IPython.core.display.Markdown object>"
      ]
     },
     "metadata": {},
     "output_type": "display_data"
    },
    {
     "name": "stdout",
     "output_type": "stream",
     "text": [
      "44 None\n"
     ]
    },
    {
     "data": {
      "text/markdown": [
       "$\\lambda_3\\left(\\frac{1}{2} (C^{xv}_1 + C^{vx}_1)\\right) \\, \\lambda_1\\left(C^{xx}_2\\right)$"
      ],
      "text/plain": [
       "<IPython.core.display.Markdown object>"
      ]
     },
     "metadata": {},
     "output_type": "display_data"
    },
    {
     "name": "stdout",
     "output_type": "stream",
     "text": [
      "45 None\n"
     ]
    },
    {
     "data": {
      "text/markdown": [
       "$\\lambda_2\\left(C^{vv}_0\\right) \\, \\lambda_3\\left(\\frac{1}{2} (C^{xv}_2 + C^{vx}_2)\\right)$"
      ],
      "text/plain": [
       "<IPython.core.display.Markdown object>"
      ]
     },
     "metadata": {},
     "output_type": "display_data"
    },
    {
     "name": "stdout",
     "output_type": "stream",
     "text": [
      "46 None\n"
     ]
    },
    {
     "data": {
      "text/markdown": [
       "$\\lambda_3\\left(C^{vv}_0\\right) \\, \\lambda_3\\left(\\frac{1}{2} (C^{xv}_2 + C^{vx}_2)\\right)$"
      ],
      "text/plain": [
       "<IPython.core.display.Markdown object>"
      ]
     },
     "metadata": {},
     "output_type": "display_data"
    },
    {
     "name": "stdout",
     "output_type": "stream",
     "text": [
      "47 None\n"
     ]
    },
    {
     "data": {
      "text/markdown": [
       "$m_1 \\, \\lambda_3\\left(\\frac{1}{2} (C^{xv}_1 + C^{vx}_1)\\right)$"
      ],
      "text/plain": [
       "<IPython.core.display.Markdown object>"
      ]
     },
     "metadata": {},
     "output_type": "display_data"
    },
    {
     "name": "stdout",
     "output_type": "stream",
     "text": [
      "48 None\n"
     ]
    },
    {
     "data": {
      "text/markdown": [
       "$\\lambda_3\\left(\\frac{1}{2} (C^{xv}_2 + C^{vx}_2)\\right)$"
      ],
      "text/plain": [
       "<IPython.core.display.Markdown object>"
      ]
     },
     "metadata": {},
     "output_type": "display_data"
    },
    {
     "name": "stdout",
     "output_type": "stream",
     "text": [
      "49 None\n"
     ]
    },
    {
     "data": {
      "text/markdown": [
       "$\\lambda_3\\left(\\frac{1}{2} (C^{xv}_2 + C^{vx}_2)\\right) \\, \\lambda_1\\left(C^{xx}_2\\right)$"
      ],
      "text/plain": [
       "<IPython.core.display.Markdown object>"
      ]
     },
     "metadata": {},
     "output_type": "display_data"
    },
    {
     "name": "stdout",
     "output_type": "stream",
     "text": [
      "50 None\n"
     ]
    },
    {
     "data": {
      "text/markdown": [
       "$m_0 \\, \\lambda_3\\left(\\frac{1}{2} (C^{xv}_2 + C^{vx}_2)\\right)$"
      ],
      "text/plain": [
       "<IPython.core.display.Markdown object>"
      ]
     },
     "metadata": {},
     "output_type": "display_data"
    },
    {
     "name": "stdout",
     "output_type": "stream",
     "text": [
      "51 None\n"
     ]
    },
    {
     "data": {
      "text/markdown": [
       "$\\lambda_1\\left(C^{xx}_0\\right) \\, \\lambda_3\\left(\\frac{1}{2} (C^{xv}_2 + C^{vx}_2)\\right)$"
      ],
      "text/plain": [
       "<IPython.core.display.Markdown object>"
      ]
     },
     "metadata": {},
     "output_type": "display_data"
    },
    {
     "name": "stdout",
     "output_type": "stream",
     "text": [
      "52 None\n"
     ]
    },
    {
     "data": {
      "text/markdown": [
       "$[v_0]_{j} \\, [v_2]_{j}$"
      ],
      "text/plain": [
       "<IPython.core.display.Markdown object>"
      ]
     },
     "metadata": {},
     "output_type": "display_data"
    },
    {
     "name": "stdout",
     "output_type": "stream",
     "text": [
      "53 None\n"
     ]
    },
    {
     "data": {
      "text/markdown": [
       "$\\lambda_2\\left(C^{xx}_0\\right) \\, \\lambda_3\\left(\\frac{1}{2} (C^{xv}_2 + C^{vx}_2)\\right)$"
      ],
      "text/plain": [
       "<IPython.core.display.Markdown object>"
      ]
     },
     "metadata": {},
     "output_type": "display_data"
    },
    {
     "name": "stdout",
     "output_type": "stream",
     "text": [
      "54 None\n"
     ]
    },
    {
     "data": {
      "text/markdown": [
       "$\\lambda_2\\left(C^{vv}_0\\right) \\, \\lambda_3\\left(\\frac{1}{2} (C^{xv}_1 + C^{vx}_1)\\right)$"
      ],
      "text/plain": [
       "<IPython.core.display.Markdown object>"
      ]
     },
     "metadata": {},
     "output_type": "display_data"
    },
    {
     "name": "stdout",
     "output_type": "stream",
     "text": [
      "55 None\n"
     ]
    },
    {
     "data": {
      "text/markdown": [
       "$\\lambda_3\\left(C^{xx}_0\\right) \\, \\lambda_3\\left(\\frac{1}{2} (C^{xv}_2 + C^{vx}_2)\\right)$"
      ],
      "text/plain": [
       "<IPython.core.display.Markdown object>"
      ]
     },
     "metadata": {},
     "output_type": "display_data"
    },
    {
     "name": "stdout",
     "output_type": "stream",
     "text": [
      "56 None\n"
     ]
    },
    {
     "data": {
      "text/markdown": [
       "$\\lambda_2\\left(C^{xx}_0\\right)$"
      ],
      "text/plain": [
       "<IPython.core.display.Markdown object>"
      ]
     },
     "metadata": {},
     "output_type": "display_data"
    },
    {
     "name": "stdout",
     "output_type": "stream",
     "text": [
      "57 None\n"
     ]
    },
    {
     "data": {
      "text/markdown": [
       "$\\lambda_2\\left(C^{xx}_0\\right) \\, \\lambda_2\\left(C^{xx}_0\\right)$"
      ],
      "text/plain": [
       "<IPython.core.display.Markdown object>"
      ]
     },
     "metadata": {},
     "output_type": "display_data"
    },
    {
     "name": "stdout",
     "output_type": "stream",
     "text": [
      "58 None\n"
     ]
    },
    {
     "data": {
      "text/markdown": [
       "$\\lambda_3\\left(C^{xx}_0\\right) \\, \\lambda_1\\left(C^{xx}_0\\right)$"
      ],
      "text/plain": [
       "<IPython.core.display.Markdown object>"
      ]
     },
     "metadata": {},
     "output_type": "display_data"
    },
    {
     "name": "stdout",
     "output_type": "stream",
     "text": [
      "59 None\n"
     ]
    },
    {
     "data": {
      "text/markdown": [
       "$\\lambda_3\\left(\\frac{1}{2} (C^{xv}_0 + C^{vx}_0)\\right) \\, \\lambda_1\\left(\\frac{1}{2} (C^{xv}_2 + C^{vx}_2)\\right)$"
      ],
      "text/plain": [
       "<IPython.core.display.Markdown object>"
      ]
     },
     "metadata": {},
     "output_type": "display_data"
    },
    {
     "name": "stdout",
     "output_type": "stream",
     "text": [
      "60 None\n"
     ]
    },
    {
     "data": {
      "text/markdown": [
       "$\\lambda_3\\left(C^{vv}_0\\right) \\, \\lambda_3\\left(\\frac{1}{2} (C^{xv}_1 + C^{vx}_1)\\right)$"
      ],
      "text/plain": [
       "<IPython.core.display.Markdown object>"
      ]
     },
     "metadata": {},
     "output_type": "display_data"
    },
    {
     "name": "stdout",
     "output_type": "stream",
     "text": [
      "61 None\n"
     ]
    },
    {
     "data": {
      "text/markdown": [
       "$\\lambda_3\\left(C^{xx}_0\\right)$"
      ],
      "text/plain": [
       "<IPython.core.display.Markdown object>"
      ]
     },
     "metadata": {},
     "output_type": "display_data"
    },
    {
     "name": "stdout",
     "output_type": "stream",
     "text": [
      "62 None\n"
     ]
    },
    {
     "data": {
      "text/markdown": [
       "$\\lambda_3\\left(C^{xx}_0\\right) \\, \\lambda_3\\left(C^{xx}_0\\right)$"
      ],
      "text/plain": [
       "<IPython.core.display.Markdown object>"
      ]
     },
     "metadata": {},
     "output_type": "display_data"
    },
    {
     "name": "stdout",
     "output_type": "stream",
     "text": [
      "63 None\n"
     ]
    },
    {
     "data": {
      "text/markdown": [
       "$[C^{xx}_0]_{jk} \\, [C^{xx}_0]_{jk}$"
      ],
      "text/plain": [
       "<IPython.core.display.Markdown object>"
      ]
     },
     "metadata": {},
     "output_type": "display_data"
    },
    {
     "name": "stdout",
     "output_type": "stream",
     "text": [
      "64 None\n"
     ]
    },
    {
     "data": {
      "text/markdown": [
       "$\\lambda_3\\left(\\frac{1}{2} (C^{xv}_2 + C^{vx}_2)\\right) \\, \\lambda_1\\left(\\frac{1}{2} (C^{xv}_2 + C^{vx}_2)\\right)$"
      ],
      "text/plain": [
       "<IPython.core.display.Markdown object>"
      ]
     },
     "metadata": {},
     "output_type": "display_data"
    },
    {
     "name": "stdout",
     "output_type": "stream",
     "text": [
      "65 None\n"
     ]
    },
    {
     "data": {
      "text/markdown": [
       "$\\lambda_3\\left(\\frac{1}{2} (C^{xv}_1 + C^{vx}_1)\\right) \\, \\lambda_1\\left(\\frac{1}{2} (C^{xv}_2 + C^{vx}_2)\\right)$"
      ],
      "text/plain": [
       "<IPython.core.display.Markdown object>"
      ]
     },
     "metadata": {},
     "output_type": "display_data"
    },
    {
     "name": "stdout",
     "output_type": "stream",
     "text": [
      "66 None\n"
     ]
    },
    {
     "data": {
      "text/markdown": [
       "$\\lambda_2\\left(C^{xx}_0\\right) \\, \\lambda_1\\left(C^{xx}_0\\right)$"
      ],
      "text/plain": [
       "<IPython.core.display.Markdown object>"
      ]
     },
     "metadata": {},
     "output_type": "display_data"
    },
    {
     "name": "stdout",
     "output_type": "stream",
     "text": [
      "67 None\n"
     ]
    },
    {
     "data": {
      "text/markdown": [
       "$m_0 \\, \\lambda_3\\left(\\frac{1}{2} (C^{xv}_1 + C^{vx}_1)\\right)$"
      ],
      "text/plain": [
       "<IPython.core.display.Markdown object>"
      ]
     },
     "metadata": {},
     "output_type": "display_data"
    },
    {
     "name": "stdout",
     "output_type": "stream",
     "text": [
      "68 None\n"
     ]
    },
    {
     "data": {
      "text/markdown": [
       "$\\lambda_1\\left(C^{vv}_0\\right) \\, \\lambda_3\\left(\\frac{1}{2} (C^{xv}_0 + C^{vx}_0)\\right)$"
      ],
      "text/plain": [
       "<IPython.core.display.Markdown object>"
      ]
     },
     "metadata": {},
     "output_type": "display_data"
    },
    {
     "name": "stdout",
     "output_type": "stream",
     "text": [
      "69 None\n"
     ]
    },
    {
     "data": {
      "text/markdown": [
       "$\\lambda_1\\left(\\frac{1}{2} (C^{xv}_1 + C^{vx}_1)\\right) \\, \\lambda_3\\left(\\frac{1}{2} (C^{xv}_2 + C^{vx}_2)\\right)$"
      ],
      "text/plain": [
       "<IPython.core.display.Markdown object>"
      ]
     },
     "metadata": {},
     "output_type": "display_data"
    },
    {
     "name": "stdout",
     "output_type": "stream",
     "text": [
      "70 None\n"
     ]
    },
    {
     "data": {
      "text/markdown": [
       "$\\lambda_3\\left(\\frac{1}{2} (C^{xv}_1 + C^{vx}_1)\\right)$"
      ],
      "text/plain": [
       "<IPython.core.display.Markdown object>"
      ]
     },
     "metadata": {},
     "output_type": "display_data"
    },
    {
     "name": "stdout",
     "output_type": "stream",
     "text": [
      "71 None\n"
     ]
    },
    {
     "data": {
      "text/markdown": [
       "$\\lambda_1\\left(C^{xx}_0\\right)$"
      ],
      "text/plain": [
       "<IPython.core.display.Markdown object>"
      ]
     },
     "metadata": {},
     "output_type": "display_data"
    },
    {
     "name": "stdout",
     "output_type": "stream",
     "text": [
      "72 None\n"
     ]
    },
    {
     "data": {
      "text/markdown": [
       "$\\lambda_1\\left(C^{xx}_0\\right) \\, \\lambda_1\\left(C^{xx}_0\\right)$"
      ],
      "text/plain": [
       "<IPython.core.display.Markdown object>"
      ]
     },
     "metadata": {},
     "output_type": "display_data"
    },
    {
     "name": "stdout",
     "output_type": "stream",
     "text": [
      "73 None\n"
     ]
    },
    {
     "data": {
      "text/markdown": [
       "$\\lambda_2\\left(\\frac{1}{2} (C^{xv}_0 + C^{vx}_0)\\right) \\, \\lambda_1\\left(\\frac{1}{2} (C^{xv}_0 + C^{vx}_0)\\right)$"
      ],
      "text/plain": [
       "<IPython.core.display.Markdown object>"
      ]
     },
     "metadata": {},
     "output_type": "display_data"
    },
    {
     "name": "stdout",
     "output_type": "stream",
     "text": [
      "74 None\n"
     ]
    },
    {
     "data": {
      "text/markdown": [
       "$\\lambda_2\\left(\\frac{1}{2} (C^{xv}_0 + C^{vx}_0)\\right) \\, \\lambda_3\\left(C^{xx}_2\\right)$"
      ],
      "text/plain": [
       "<IPython.core.display.Markdown object>"
      ]
     },
     "metadata": {},
     "output_type": "display_data"
    },
    {
     "name": "stdout",
     "output_type": "stream",
     "text": [
      "75 None\n"
     ]
    },
    {
     "data": {
      "text/markdown": [
       "$\\lambda_1\\left(C^{xx}_0\\right) \\, \\lambda_3\\left(\\frac{1}{2} (C^{xv}_1 + C^{vx}_1)\\right)$"
      ],
      "text/plain": [
       "<IPython.core.display.Markdown object>"
      ]
     },
     "metadata": {},
     "output_type": "display_data"
    },
    {
     "name": "stdout",
     "output_type": "stream",
     "text": [
      "76 None\n"
     ]
    },
    {
     "data": {
      "text/markdown": [
       "$\\lambda_2\\left(C^{xx}_0\\right) \\, \\lambda_3\\left(\\frac{1}{2} (C^{xv}_1 + C^{vx}_1)\\right)$"
      ],
      "text/plain": [
       "<IPython.core.display.Markdown object>"
      ]
     },
     "metadata": {},
     "output_type": "display_data"
    },
    {
     "name": "stdout",
     "output_type": "stream",
     "text": [
      "77 None\n"
     ]
    },
    {
     "data": {
      "text/markdown": [
       "$\\lambda_3\\left(\\frac{1}{2} (C^{xv}_0 + C^{vx}_0)\\right) \\, \\lambda_1\\left(\\frac{1}{2} (C^{xv}_1 + C^{vx}_1)\\right)$"
      ],
      "text/plain": [
       "<IPython.core.display.Markdown object>"
      ]
     },
     "metadata": {},
     "output_type": "display_data"
    },
    {
     "name": "stdout",
     "output_type": "stream",
     "text": [
      "78 None\n"
     ]
    },
    {
     "data": {
      "text/markdown": [
       "$m_0 \\, \\lambda_3\\left(C^{xx}_0\\right)$"
      ],
      "text/plain": [
       "<IPython.core.display.Markdown object>"
      ]
     },
     "metadata": {},
     "output_type": "display_data"
    },
    {
     "name": "stdout",
     "output_type": "stream",
     "text": [
      "79 None\n"
     ]
    },
    {
     "data": {
      "text/markdown": [
       "$\\lambda_3\\left(\\frac{1}{2} (C^{xv}_0 + C^{vx}_0)\\right)$"
      ],
      "text/plain": [
       "<IPython.core.display.Markdown object>"
      ]
     },
     "metadata": {},
     "output_type": "display_data"
    },
    {
     "name": "stdout",
     "output_type": "stream",
     "text": [
      "80 None\n"
     ]
    },
    {
     "data": {
      "text/markdown": [
       "$\\lambda_3\\left(C^{xx}_0\\right) \\, \\lambda_3\\left(\\frac{1}{2} (C^{xv}_1 + C^{vx}_1)\\right)$"
      ],
      "text/plain": [
       "<IPython.core.display.Markdown object>"
      ]
     },
     "metadata": {},
     "output_type": "display_data"
    },
    {
     "name": "stdout",
     "output_type": "stream",
     "text": [
      "81 None\n"
     ]
    },
    {
     "data": {
      "text/markdown": [
       "$\\lambda_2\\left(\\frac{1}{2} (C^{xv}_0 + C^{vx}_0)\\right) \\, \\lambda_2\\left(C^{xx}_2\\right)$"
      ],
      "text/plain": [
       "<IPython.core.display.Markdown object>"
      ]
     },
     "metadata": {},
     "output_type": "display_data"
    },
    {
     "name": "stdout",
     "output_type": "stream",
     "text": [
      "82 None\n"
     ]
    },
    {
     "data": {
      "text/markdown": [
       "$\\lambda_2\\left(\\frac{1}{2} (C^{xv}_0 + C^{vx}_0)\\right) \\, \\lambda_2\\left(C^{vv}_2\\right)$"
      ],
      "text/plain": [
       "<IPython.core.display.Markdown object>"
      ]
     },
     "metadata": {},
     "output_type": "display_data"
    },
    {
     "name": "stdout",
     "output_type": "stream",
     "text": [
      "83 None\n"
     ]
    },
    {
     "data": {
      "text/markdown": [
       "$\\lambda_1\\left(\\frac{1}{2} (C^{xv}_0 + C^{vx}_0)\\right) \\, \\lambda_2\\left(\\frac{1}{2} (C^{xv}_1 + C^{vx}_1)\\right)$"
      ],
      "text/plain": [
       "<IPython.core.display.Markdown object>"
      ]
     },
     "metadata": {},
     "output_type": "display_data"
    },
    {
     "name": "stdout",
     "output_type": "stream",
     "text": [
      "84 None\n"
     ]
    },
    {
     "data": {
      "text/markdown": [
       "$\\lambda_2\\left(C^{vv}_0\\right) \\, \\lambda_3\\left(\\frac{1}{2} (C^{xv}_0 + C^{vx}_0)\\right)$"
      ],
      "text/plain": [
       "<IPython.core.display.Markdown object>"
      ]
     },
     "metadata": {},
     "output_type": "display_data"
    },
    {
     "name": "stdout",
     "output_type": "stream",
     "text": [
      "85 None\n"
     ]
    },
    {
     "data": {
      "text/markdown": [
       "$m_0 \\, \\lambda_2\\left(C^{xx}_0\\right)$"
      ],
      "text/plain": [
       "<IPython.core.display.Markdown object>"
      ]
     },
     "metadata": {},
     "output_type": "display_data"
    },
    {
     "name": "stdout",
     "output_type": "stream",
     "text": [
      "86 None\n"
     ]
    },
    {
     "data": {
      "text/markdown": [
       "$\\lambda_3\\left(\\frac{1}{2} (C^{xv}_1 + C^{vx}_1)\\right) \\, \\lambda_1\\left(\\frac{1}{2} (C^{xv}_1 + C^{vx}_1)\\right)$"
      ],
      "text/plain": [
       "<IPython.core.display.Markdown object>"
      ]
     },
     "metadata": {},
     "output_type": "display_data"
    },
    {
     "name": "stdout",
     "output_type": "stream",
     "text": [
      "87 None\n"
     ]
    },
    {
     "data": {
      "text/markdown": [
       "$\\lambda_2\\left(\\frac{1}{2} (C^{xv}_1 + C^{vx}_1)\\right) \\, \\lambda_3\\left(C^{xx}_2\\right)$"
      ],
      "text/plain": [
       "<IPython.core.display.Markdown object>"
      ]
     },
     "metadata": {},
     "output_type": "display_data"
    },
    {
     "name": "stdout",
     "output_type": "stream",
     "text": [
      "88 None\n"
     ]
    },
    {
     "data": {
      "text/markdown": [
       "$\\lambda_3\\left(C^{vv}_0\\right) \\, \\lambda_3\\left(\\frac{1}{2} (C^{xv}_0 + C^{vx}_0)\\right)$"
      ],
      "text/plain": [
       "<IPython.core.display.Markdown object>"
      ]
     },
     "metadata": {},
     "output_type": "display_data"
    },
    {
     "name": "stdout",
     "output_type": "stream",
     "text": [
      "89 None\n"
     ]
    },
    {
     "data": {
      "text/markdown": [
       "$\\lambda_2\\left(\\frac{1}{2} (C^{xv}_0 + C^{vx}_0)\\right) \\, \\lambda_3\\left(C^{vv}_2\\right)$"
      ],
      "text/plain": [
       "<IPython.core.display.Markdown object>"
      ]
     },
     "metadata": {},
     "output_type": "display_data"
    },
    {
     "name": "stdout",
     "output_type": "stream",
     "text": [
      "90 None\n"
     ]
    },
    {
     "data": {
      "text/markdown": [
       "$m_0 \\, \\lambda_3\\left(\\frac{1}{2} (C^{xv}_0 + C^{vx}_0)\\right)$"
      ],
      "text/plain": [
       "<IPython.core.display.Markdown object>"
      ]
     },
     "metadata": {},
     "output_type": "display_data"
    },
    {
     "name": "stdout",
     "output_type": "stream",
     "text": [
      "91 None\n"
     ]
    },
    {
     "data": {
      "text/markdown": [
       "$\\lambda_2\\left(\\frac{1}{2} (C^{xv}_1 + C^{vx}_1)\\right) \\, \\lambda_2\\left(C^{xx}_2\\right)$"
      ],
      "text/plain": [
       "<IPython.core.display.Markdown object>"
      ]
     },
     "metadata": {},
     "output_type": "display_data"
    },
    {
     "name": "stdout",
     "output_type": "stream",
     "text": [
      "92 None\n"
     ]
    },
    {
     "data": {
      "text/markdown": [
       "$\\lambda_2\\left(\\frac{1}{2} (C^{xv}_1 + C^{vx}_1)\\right) \\, \\lambda_2\\left(C^{vv}_2\\right)$"
      ],
      "text/plain": [
       "<IPython.core.display.Markdown object>"
      ]
     },
     "metadata": {},
     "output_type": "display_data"
    },
    {
     "name": "stdout",
     "output_type": "stream",
     "text": [
      "93 None\n"
     ]
    },
    {
     "data": {
      "text/markdown": [
       "$m_0 \\, \\lambda_1\\left(C^{xx}_0\\right)$"
      ],
      "text/plain": [
       "<IPython.core.display.Markdown object>"
      ]
     },
     "metadata": {},
     "output_type": "display_data"
    },
    {
     "name": "stdout",
     "output_type": "stream",
     "text": [
      "94 None\n"
     ]
    },
    {
     "data": {
      "text/markdown": [
       "$\\lambda_2\\left(\\frac{1}{2} (C^{xv}_0 + C^{vx}_0)\\right) \\, \\lambda_1\\left(C^{vv}_2\\right)$"
      ],
      "text/plain": [
       "<IPython.core.display.Markdown object>"
      ]
     },
     "metadata": {},
     "output_type": "display_data"
    },
    {
     "name": "stdout",
     "output_type": "stream",
     "text": [
      "95 None\n"
     ]
    },
    {
     "data": {
      "text/markdown": [
       "$[v_0]_{j} \\, [v_1]_{j}$"
      ],
      "text/plain": [
       "<IPython.core.display.Markdown object>"
      ]
     },
     "metadata": {},
     "output_type": "display_data"
    },
    {
     "name": "stdout",
     "output_type": "stream",
     "text": [
      "96 None\n"
     ]
    },
    {
     "data": {
      "text/markdown": [
       "$\\lambda_1\\left(C^{vv}_1\\right) \\, \\lambda_2\\left(\\frac{1}{2} (C^{xv}_1 + C^{vx}_1)\\right)$"
      ],
      "text/plain": [
       "<IPython.core.display.Markdown object>"
      ]
     },
     "metadata": {},
     "output_type": "display_data"
    },
    {
     "name": "stdout",
     "output_type": "stream",
     "text": [
      "97 None\n"
     ]
    },
    {
     "data": {
      "text/markdown": [
       "$\\lambda_1\\left(C^{vv}_1\\right) \\, \\lambda_2\\left(\\frac{1}{2} (C^{xv}_2 + C^{vx}_2)\\right)$"
      ],
      "text/plain": [
       "<IPython.core.display.Markdown object>"
      ]
     },
     "metadata": {},
     "output_type": "display_data"
    },
    {
     "name": "stdout",
     "output_type": "stream",
     "text": [
      "98 None\n"
     ]
    },
    {
     "data": {
      "text/markdown": [
       "$\\lambda_1\\left(C^{vv}_0\\right) \\, \\lambda_2\\left(\\frac{1}{2} (C^{xv}_2 + C^{vx}_2)\\right)$"
      ],
      "text/plain": [
       "<IPython.core.display.Markdown object>"
      ]
     },
     "metadata": {},
     "output_type": "display_data"
    },
    {
     "name": "stdout",
     "output_type": "stream",
     "text": [
      "99 None\n"
     ]
    },
    {
     "data": {
      "text/markdown": [
       "$\\lambda_3\\left(C^{vv}_1\\right) \\, \\lambda_2\\left(\\frac{1}{2} (C^{xv}_2 + C^{vx}_2)\\right)$"
      ],
      "text/plain": [
       "<IPython.core.display.Markdown object>"
      ]
     },
     "metadata": {},
     "output_type": "display_data"
    },
    {
     "name": "stdout",
     "output_type": "stream",
     "text": [
      "100 None\n"
     ]
    },
    {
     "data": {
      "text/markdown": [
       "$\\lambda_2\\left(C^{vv}_1\\right) \\, \\lambda_2\\left(\\frac{1}{2} (C^{xv}_2 + C^{vx}_2)\\right)$"
      ],
      "text/plain": [
       "<IPython.core.display.Markdown object>"
      ]
     },
     "metadata": {},
     "output_type": "display_data"
    },
    {
     "name": "stdout",
     "output_type": "stream",
     "text": [
      "101 None\n"
     ]
    },
    {
     "data": {
      "text/markdown": [
       "$\\lambda_1\\left(C^{xx}_1\\right) \\, \\lambda_2\\left(\\frac{1}{2} (C^{xv}_2 + C^{vx}_2)\\right)$"
      ],
      "text/plain": [
       "<IPython.core.display.Markdown object>"
      ]
     },
     "metadata": {},
     "output_type": "display_data"
    },
    {
     "name": "stdout",
     "output_type": "stream",
     "text": [
      "102 None\n"
     ]
    },
    {
     "data": {
      "text/markdown": [
       "$\\lambda_2\\left(C^{vv}_0\\right) \\, \\lambda_2\\left(\\frac{1}{2} (C^{xv}_2 + C^{vx}_2)\\right)$"
      ],
      "text/plain": [
       "<IPython.core.display.Markdown object>"
      ]
     },
     "metadata": {},
     "output_type": "display_data"
    },
    {
     "name": "stdout",
     "output_type": "stream",
     "text": [
      "103 None\n"
     ]
    },
    {
     "data": {
      "text/markdown": [
       "$\\lambda_3\\left(C^{xx}_1\\right) \\, \\lambda_2\\left(\\frac{1}{2} (C^{xv}_2 + C^{vx}_2)\\right)$"
      ],
      "text/plain": [
       "<IPython.core.display.Markdown object>"
      ]
     },
     "metadata": {},
     "output_type": "display_data"
    },
    {
     "name": "stdout",
     "output_type": "stream",
     "text": [
      "104 None\n"
     ]
    },
    {
     "data": {
      "text/markdown": [
       "$m_1 \\, \\lambda_2\\left(\\frac{1}{2} (C^{xv}_2 + C^{vx}_2)\\right)$"
      ],
      "text/plain": [
       "<IPython.core.display.Markdown object>"
      ]
     },
     "metadata": {},
     "output_type": "display_data"
    },
    {
     "name": "stdout",
     "output_type": "stream",
     "text": [
      "105 None\n"
     ]
    },
    {
     "data": {
      "text/markdown": [
       "$\\lambda_3\\left(C^{vv}_0\\right) \\, \\lambda_2\\left(\\frac{1}{2} (C^{xv}_2 + C^{vx}_2)\\right)$"
      ],
      "text/plain": [
       "<IPython.core.display.Markdown object>"
      ]
     },
     "metadata": {},
     "output_type": "display_data"
    },
    {
     "name": "stdout",
     "output_type": "stream",
     "text": [
      "106 None\n"
     ]
    },
    {
     "data": {
      "text/markdown": [
       "$\\lambda_2\\left(\\frac{1}{2} (C^{xv}_0 + C^{vx}_0)\\right) \\, m_2$"
      ],
      "text/plain": [
       "<IPython.core.display.Markdown object>"
      ]
     },
     "metadata": {},
     "output_type": "display_data"
    },
    {
     "name": "stdout",
     "output_type": "stream",
     "text": [
      "107 None\n"
     ]
    },
    {
     "data": {
      "text/markdown": [
       "$\\lambda_2\\left(\\frac{1}{2} (C^{xv}_2 + C^{vx}_2)\\right) \\, \\lambda_3\\left(C^{xx}_2\\right)$"
      ],
      "text/plain": [
       "<IPython.core.display.Markdown object>"
      ]
     },
     "metadata": {},
     "output_type": "display_data"
    },
    {
     "name": "stdout",
     "output_type": "stream",
     "text": [
      "108 None\n"
     ]
    },
    {
     "data": {
      "text/markdown": [
       "$\\lambda_2\\left(\\frac{1}{2} (C^{xv}_2 + C^{vx}_2)\\right) \\, \\lambda_2\\left(C^{xx}_2\\right)$"
      ],
      "text/plain": [
       "<IPython.core.display.Markdown object>"
      ]
     },
     "metadata": {},
     "output_type": "display_data"
    },
    {
     "name": "stdout",
     "output_type": "stream",
     "text": [
      "109 None\n"
     ]
    },
    {
     "data": {
      "text/markdown": [
       "$m_0 \\, \\lambda_2\\left(\\frac{1}{2} (C^{xv}_2 + C^{vx}_2)\\right)$"
      ],
      "text/plain": [
       "<IPython.core.display.Markdown object>"
      ]
     },
     "metadata": {},
     "output_type": "display_data"
    },
    {
     "name": "stdout",
     "output_type": "stream",
     "text": [
      "110 None\n"
     ]
    },
    {
     "data": {
      "text/markdown": [
       "$\\lambda_2\\left(\\frac{1}{2} (C^{xv}_2 + C^{vx}_2)\\right)$"
      ],
      "text/plain": [
       "<IPython.core.display.Markdown object>"
      ]
     },
     "metadata": {},
     "output_type": "display_data"
    },
    {
     "name": "stdout",
     "output_type": "stream",
     "text": [
      "111 None\n"
     ]
    },
    {
     "data": {
      "text/markdown": [
       "$\\lambda_2\\left(C^{xx}_1\\right) \\, \\lambda_2\\left(\\frac{1}{2} (C^{xv}_2 + C^{vx}_2)\\right)$"
      ],
      "text/plain": [
       "<IPython.core.display.Markdown object>"
      ]
     },
     "metadata": {},
     "output_type": "display_data"
    },
    {
     "name": "stdout",
     "output_type": "stream",
     "text": [
      "112 None\n"
     ]
    },
    {
     "data": {
      "text/markdown": [
       "$\\lambda_2\\left(C^{xx}_0\\right) \\, \\lambda_2\\left(\\frac{1}{2} (C^{xv}_2 + C^{vx}_2)\\right)$"
      ],
      "text/plain": [
       "<IPython.core.display.Markdown object>"
      ]
     },
     "metadata": {},
     "output_type": "display_data"
    },
    {
     "name": "stdout",
     "output_type": "stream",
     "text": [
      "113 None\n"
     ]
    },
    {
     "data": {
      "text/markdown": [
       "$\\lambda_3\\left(C^{xx}_0\\right) \\, \\lambda_2\\left(\\frac{1}{2} (C^{xv}_2 + C^{vx}_2)\\right)$"
      ],
      "text/plain": [
       "<IPython.core.display.Markdown object>"
      ]
     },
     "metadata": {},
     "output_type": "display_data"
    },
    {
     "name": "stdout",
     "output_type": "stream",
     "text": [
      "114 None\n"
     ]
    },
    {
     "data": {
      "text/markdown": [
       "$\\lambda_2\\left(C^{vv}_2\\right) \\, \\lambda_2\\left(\\frac{1}{2} (C^{xv}_2 + C^{vx}_2)\\right)$"
      ],
      "text/plain": [
       "<IPython.core.display.Markdown object>"
      ]
     },
     "metadata": {},
     "output_type": "display_data"
    },
    {
     "name": "stdout",
     "output_type": "stream",
     "text": [
      "115 None\n"
     ]
    },
    {
     "data": {
      "text/markdown": [
       "$\\lambda_1\\left(C^{xx}_0\\right) \\, \\lambda_2\\left(\\frac{1}{2} (C^{xv}_2 + C^{vx}_2)\\right)$"
      ],
      "text/plain": [
       "<IPython.core.display.Markdown object>"
      ]
     },
     "metadata": {},
     "output_type": "display_data"
    },
    {
     "name": "stdout",
     "output_type": "stream",
     "text": [
      "116 None\n"
     ]
    },
    {
     "data": {
      "text/markdown": [
       "$\\lambda_2\\left(\\frac{1}{2} (C^{xv}_1 + C^{vx}_1)\\right) \\, \\lambda_3\\left(C^{vv}_2\\right)$"
      ],
      "text/plain": [
       "<IPython.core.display.Markdown object>"
      ]
     },
     "metadata": {},
     "output_type": "display_data"
    },
    {
     "name": "stdout",
     "output_type": "stream",
     "text": [
      "117 None\n"
     ]
    },
    {
     "data": {
      "text/markdown": [
       "$[C^{vv}_1]_{jk} \\, [\\frac{1}{2} (C^{xv}_2 + C^{vx}_2)]_{jk}$"
      ],
      "text/plain": [
       "<IPython.core.display.Markdown object>"
      ]
     },
     "metadata": {},
     "output_type": "display_data"
    },
    {
     "name": "stdout",
     "output_type": "stream",
     "text": [
      "118 None\n"
     ]
    },
    {
     "data": {
      "text/markdown": [
       "$\\lambda_3\\left(C^{vv}_2\\right) \\, \\lambda_2\\left(\\frac{1}{2} (C^{xv}_2 + C^{vx}_2)\\right)$"
      ],
      "text/plain": [
       "<IPython.core.display.Markdown object>"
      ]
     },
     "metadata": {},
     "output_type": "display_data"
    },
    {
     "name": "stdout",
     "output_type": "stream",
     "text": [
      "119 None\n"
     ]
    },
    {
     "data": {
      "text/markdown": [
       "$\\lambda_3\\left(\\frac{1}{2} (C^{xv}_0 + C^{vx}_0)\\right) \\, \\lambda_2\\left(C^{xx}_0\\right)$"
      ],
      "text/plain": [
       "<IPython.core.display.Markdown object>"
      ]
     },
     "metadata": {},
     "output_type": "display_data"
    },
    {
     "name": "stdout",
     "output_type": "stream",
     "text": [
      "120 None\n"
     ]
    },
    {
     "data": {
      "text/markdown": [
       "$[C^{xx}_0]_{jk} \\, [\\frac{1}{2} (C^{xv}_2 + C^{vx}_2)]_{jk}$"
      ],
      "text/plain": [
       "<IPython.core.display.Markdown object>"
      ]
     },
     "metadata": {},
     "output_type": "display_data"
    },
    {
     "name": "stdout",
     "output_type": "stream",
     "text": [
      "121 None\n"
     ]
    },
    {
     "data": {
      "text/markdown": [
       "$m_2 \\, \\lambda_2\\left(\\frac{1}{2} (C^{xv}_2 + C^{vx}_2)\\right)$"
      ],
      "text/plain": [
       "<IPython.core.display.Markdown object>"
      ]
     },
     "metadata": {},
     "output_type": "display_data"
    },
    {
     "name": "stdout",
     "output_type": "stream",
     "text": [
      "122 None\n"
     ]
    },
    {
     "data": {
      "text/markdown": [
       "$\\lambda_2\\left(\\frac{1}{2} (C^{xv}_2 + C^{vx}_2)\\right) \\, \\lambda_1\\left(C^{xx}_2\\right)$"
      ],
      "text/plain": [
       "<IPython.core.display.Markdown object>"
      ]
     },
     "metadata": {},
     "output_type": "display_data"
    },
    {
     "name": "stdout",
     "output_type": "stream",
     "text": [
      "123 None\n"
     ]
    },
    {
     "data": {
      "text/markdown": [
       "$\\lambda_1\\left(C^{vv}_2\\right) \\, \\lambda_2\\left(\\frac{1}{2} (C^{xv}_2 + C^{vx}_2)\\right)$"
      ],
      "text/plain": [
       "<IPython.core.display.Markdown object>"
      ]
     },
     "metadata": {},
     "output_type": "display_data"
    },
    {
     "name": "stdout",
     "output_type": "stream",
     "text": [
      "124 None\n"
     ]
    },
    {
     "data": {
      "text/markdown": [
       "$\\lambda_2\\left(\\frac{1}{2} (C^{xv}_1 + C^{vx}_1)\\right) \\, \\lambda_1\\left(C^{vv}_2\\right)$"
      ],
      "text/plain": [
       "<IPython.core.display.Markdown object>"
      ]
     },
     "metadata": {},
     "output_type": "display_data"
    },
    {
     "name": "stdout",
     "output_type": "stream",
     "text": [
      "125 None\n"
     ]
    },
    {
     "data": {
      "text/markdown": [
       "$[\\frac{1}{2} (C^{xv}_0 + C^{vx}_0)]_{jk} \\, [C^{xx}_2]_{jk}$"
      ],
      "text/plain": [
       "<IPython.core.display.Markdown object>"
      ]
     },
     "metadata": {},
     "output_type": "display_data"
    },
    {
     "name": "stdout",
     "output_type": "stream",
     "text": [
      "126 None\n"
     ]
    },
    {
     "data": {
      "text/markdown": [
       "$\\lambda_3\\left(\\frac{1}{2} (C^{xv}_0 + C^{vx}_0)\\right) \\, \\lambda_3\\left(C^{xx}_0\\right)$"
      ],
      "text/plain": [
       "<IPython.core.display.Markdown object>"
      ]
     },
     "metadata": {},
     "output_type": "display_data"
    },
    {
     "name": "stdout",
     "output_type": "stream",
     "text": [
      "127 None\n"
     ]
    },
    {
     "data": {
      "text/markdown": [
       "$[C^{vv}_0]_{jk} \\, [\\frac{1}{2} (C^{xv}_2 + C^{vx}_2)]_{jk}$"
      ],
      "text/plain": [
       "<IPython.core.display.Markdown object>"
      ]
     },
     "metadata": {},
     "output_type": "display_data"
    },
    {
     "name": "stdout",
     "output_type": "stream",
     "text": [
      "128 None\n"
     ]
    },
    {
     "data": {
      "text/markdown": [
       "$\\lambda_2\\left(\\frac{1}{2} (C^{xv}_0 + C^{vx}_0)\\right) \\, \\lambda_1\\left(C^{xx}_2\\right)$"
      ],
      "text/plain": [
       "<IPython.core.display.Markdown object>"
      ]
     },
     "metadata": {},
     "output_type": "display_data"
    },
    {
     "name": "stdout",
     "output_type": "stream",
     "text": [
      "129 None\n"
     ]
    },
    {
     "data": {
      "text/markdown": [
       "$[C^{vv}_2]_{jk} \\, [\\frac{1}{2} (C^{xv}_2 + C^{vx}_2)]_{jk}$"
      ],
      "text/plain": [
       "<IPython.core.display.Markdown object>"
      ]
     },
     "metadata": {},
     "output_type": "display_data"
    },
    {
     "name": "stdout",
     "output_type": "stream",
     "text": [
      "130 None\n"
     ]
    },
    {
     "data": {
      "text/markdown": [
       "$\\lambda_3\\left(\\frac{1}{2} (C^{xv}_0 + C^{vx}_0)\\right) \\, \\lambda_1\\left(C^{xx}_0\\right)$"
      ],
      "text/plain": [
       "<IPython.core.display.Markdown object>"
      ]
     },
     "metadata": {},
     "output_type": "display_data"
    },
    {
     "name": "stdout",
     "output_type": "stream",
     "text": [
      "131 None\n"
     ]
    },
    {
     "data": {
      "text/markdown": [
       "$[\\frac{1}{2} (C^{xv}_1 + C^{vx}_1)]_{jk} \\, [C^{xx}_2]_{jk}$"
      ],
      "text/plain": [
       "<IPython.core.display.Markdown object>"
      ]
     },
     "metadata": {},
     "output_type": "display_data"
    },
    {
     "name": "stdout",
     "output_type": "stream",
     "text": [
      "132 None\n"
     ]
    },
    {
     "data": {
      "text/markdown": [
       "$\\lambda_2\\left(\\frac{1}{2} (C^{xv}_1 + C^{vx}_1)\\right) \\, m_2$"
      ],
      "text/plain": [
       "<IPython.core.display.Markdown object>"
      ]
     },
     "metadata": {},
     "output_type": "display_data"
    },
    {
     "name": "stdout",
     "output_type": "stream",
     "text": [
      "133 None\n"
     ]
    },
    {
     "data": {
      "text/markdown": [
       "$\\lambda_2\\left(\\frac{1}{2} (C^{xv}_0 + C^{vx}_0)\\right) \\, \\lambda_1\\left(C^{vv}_1\\right)$"
      ],
      "text/plain": [
       "<IPython.core.display.Markdown object>"
      ]
     },
     "metadata": {},
     "output_type": "display_data"
    },
    {
     "name": "stdout",
     "output_type": "stream",
     "text": [
      "134 None\n"
     ]
    },
    {
     "data": {
      "text/markdown": [
       "$[C^{xx}_1]_{jk} \\, [\\frac{1}{2} (C^{xv}_2 + C^{vx}_2)]_{jk}$"
      ],
      "text/plain": [
       "<IPython.core.display.Markdown object>"
      ]
     },
     "metadata": {},
     "output_type": "display_data"
    },
    {
     "name": "stdout",
     "output_type": "stream",
     "text": [
      "135 None\n"
     ]
    },
    {
     "data": {
      "text/markdown": [
       "$[\\frac{1}{2} (C^{xv}_0 + C^{vx}_0)]_{jk} \\, [C^{vv}_2]_{jk}$"
      ],
      "text/plain": [
       "<IPython.core.display.Markdown object>"
      ]
     },
     "metadata": {},
     "output_type": "display_data"
    },
    {
     "name": "stdout",
     "output_type": "stream",
     "text": [
      "136 None\n"
     ]
    },
    {
     "data": {
      "text/markdown": [
       "$[C^{vv}_1]_{jk} \\, [\\frac{1}{2} (C^{xv}_1 + C^{vx}_1)]_{jk}$"
      ],
      "text/plain": [
       "<IPython.core.display.Markdown object>"
      ]
     },
     "metadata": {},
     "output_type": "display_data"
    },
    {
     "name": "stdout",
     "output_type": "stream",
     "text": [
      "137 None\n"
     ]
    },
    {
     "data": {
      "text/markdown": [
       "$\\lambda_3\\left(C^{vv}_0\\right) \\, \\lambda_3\\left(C^{xx}_0\\right)$"
      ],
      "text/plain": [
       "<IPython.core.display.Markdown object>"
      ]
     },
     "metadata": {},
     "output_type": "display_data"
    },
    {
     "name": "stdout",
     "output_type": "stream",
     "text": [
      "138 None\n"
     ]
    },
    {
     "data": {
      "text/markdown": [
       "$\\lambda_2\\left(\\frac{1}{2} (C^{xv}_1 + C^{vx}_1)\\right) \\, \\lambda_1\\left(C^{xx}_2\\right)$"
      ],
      "text/plain": [
       "<IPython.core.display.Markdown object>"
      ]
     },
     "metadata": {},
     "output_type": "display_data"
    },
    {
     "name": "stdout",
     "output_type": "stream",
     "text": [
      "139 None\n"
     ]
    },
    {
     "data": {
      "text/markdown": [
       "$\\lambda_2\\left(C^{vv}_1\\right) \\, \\lambda_2\\left(\\frac{1}{2} (C^{xv}_1 + C^{vx}_1)\\right)$"
      ],
      "text/plain": [
       "<IPython.core.display.Markdown object>"
      ]
     },
     "metadata": {},
     "output_type": "display_data"
    },
    {
     "name": "stdout",
     "output_type": "stream",
     "text": [
      "140 None\n"
     ]
    },
    {
     "data": {
      "text/markdown": [
       "$[\\frac{1}{2} (C^{xv}_2 + C^{vx}_2)]_{jk} \\, [C^{xx}_2]_{jk}$"
      ],
      "text/plain": [
       "<IPython.core.display.Markdown object>"
      ]
     },
     "metadata": {},
     "output_type": "display_data"
    },
    {
     "name": "stdout",
     "output_type": "stream",
     "text": [
      "141 None\n"
     ]
    },
    {
     "data": {
      "text/markdown": [
       "$\\lambda_2\\left(\\frac{1}{2} (C^{xv}_2 + C^{vx}_2)\\right) \\, \\lambda_1\\left(\\frac{1}{2} (C^{xv}_2 + C^{vx}_2)\\right)$"
      ],
      "text/plain": [
       "<IPython.core.display.Markdown object>"
      ]
     },
     "metadata": {},
     "output_type": "display_data"
    },
    {
     "name": "stdout",
     "output_type": "stream",
     "text": [
      "142 None\n"
     ]
    },
    {
     "data": {
      "text/markdown": [
       "$\\lambda_2\\left(\\frac{1}{2} (C^{xv}_1 + C^{vx}_1)\\right) \\, \\lambda_1\\left(C^{xx}_1\\right)$"
      ],
      "text/plain": [
       "<IPython.core.display.Markdown object>"
      ]
     },
     "metadata": {},
     "output_type": "display_data"
    },
    {
     "name": "stdout",
     "output_type": "stream",
     "text": [
      "143 None\n"
     ]
    },
    {
     "data": {
      "text/markdown": [
       "$[\\frac{1}{2} (C^{xv}_1 + C^{vx}_1)]_{jk} \\, [C^{vv}_2]_{jk}$"
      ],
      "text/plain": [
       "<IPython.core.display.Markdown object>"
      ]
     },
     "metadata": {},
     "output_type": "display_data"
    },
    {
     "name": "stdout",
     "output_type": "stream",
     "text": [
      "144 None\n"
     ]
    },
    {
     "data": {
      "text/markdown": [
       "$\\lambda_2\\left(\\frac{1}{2} (C^{xv}_1 + C^{vx}_1)\\right) \\, \\lambda_2\\left(C^{xx}_1\\right)$"
      ],
      "text/plain": [
       "<IPython.core.display.Markdown object>"
      ]
     },
     "metadata": {},
     "output_type": "display_data"
    },
    {
     "name": "stdout",
     "output_type": "stream",
     "text": [
      "145 None\n"
     ]
    },
    {
     "data": {
      "text/markdown": [
       "$\\lambda_3\\left(C^{vv}_0\\right) \\, \\lambda_2\\left(C^{xx}_0\\right)$"
      ],
      "text/plain": [
       "<IPython.core.display.Markdown object>"
      ]
     },
     "metadata": {},
     "output_type": "display_data"
    },
    {
     "name": "stdout",
     "output_type": "stream",
     "text": [
      "146 None\n"
     ]
    },
    {
     "data": {
      "text/markdown": [
       "$\\lambda_2\\left(\\frac{1}{2} (C^{xv}_0 + C^{vx}_0)\\right) \\, \\lambda_1\\left(\\frac{1}{2} (C^{xv}_2 + C^{vx}_2)\\right)$"
      ],
      "text/plain": [
       "<IPython.core.display.Markdown object>"
      ]
     },
     "metadata": {},
     "output_type": "display_data"
    },
    {
     "name": "stdout",
     "output_type": "stream",
     "text": [
      "147 None\n"
     ]
    },
    {
     "data": {
      "text/markdown": [
       "$[\\frac{1}{2} (C^{xv}_1 + C^{vx}_1)]_{jk} \\, [C^{xx}_1]_{jk}$"
      ],
      "text/plain": [
       "<IPython.core.display.Markdown object>"
      ]
     },
     "metadata": {},
     "output_type": "display_data"
    },
    {
     "name": "stdout",
     "output_type": "stream",
     "text": [
      "148 None\n"
     ]
    },
    {
     "data": {
      "text/markdown": [
       "$\\lambda_2\\left(\\frac{1}{2} (C^{xv}_1 + C^{vx}_1)\\right) \\, \\lambda_3\\left(C^{xx}_1\\right)$"
      ],
      "text/plain": [
       "<IPython.core.display.Markdown object>"
      ]
     },
     "metadata": {},
     "output_type": "display_data"
    },
    {
     "name": "stdout",
     "output_type": "stream",
     "text": [
      "149 None\n"
     ]
    },
    {
     "data": {
      "text/markdown": [
       "$\\lambda_3\\left(C^{vv}_1\\right) \\, \\lambda_2\\left(\\frac{1}{2} (C^{xv}_1 + C^{vx}_1)\\right)$"
      ],
      "text/plain": [
       "<IPython.core.display.Markdown object>"
      ]
     },
     "metadata": {},
     "output_type": "display_data"
    },
    {
     "name": "stdout",
     "output_type": "stream",
     "text": [
      "150 None\n"
     ]
    },
    {
     "data": {
      "text/markdown": [
       "$\\lambda_2\\left(C^{vv}_0\\right) \\, \\lambda_3\\left(C^{xx}_0\\right)$"
      ],
      "text/plain": [
       "<IPython.core.display.Markdown object>"
      ]
     },
     "metadata": {},
     "output_type": "display_data"
    },
    {
     "name": "stdout",
     "output_type": "stream",
     "text": [
      "151 None\n"
     ]
    },
    {
     "data": {
      "text/markdown": [
       "$[v_2]_{j} \\, [x_2]_{j}$"
      ],
      "text/plain": [
       "<IPython.core.display.Markdown object>"
      ]
     },
     "metadata": {},
     "output_type": "display_data"
    },
    {
     "name": "stdout",
     "output_type": "stream",
     "text": [
      "152 None\n"
     ]
    },
    {
     "data": {
      "text/markdown": [
       "$[C^{vv}_0]_{jk} \\, [\\frac{1}{2} (C^{xv}_1 + C^{vx}_1)]_{jk}$"
      ],
      "text/plain": [
       "<IPython.core.display.Markdown object>"
      ]
     },
     "metadata": {},
     "output_type": "display_data"
    },
    {
     "name": "stdout",
     "output_type": "stream",
     "text": [
      "153 None\n"
     ]
    },
    {
     "data": {
      "text/markdown": [
       "$\\lambda_2\\left(C^{vv}_0\\right) \\, \\lambda_2\\left(C^{xx}_0\\right)$"
      ],
      "text/plain": [
       "<IPython.core.display.Markdown object>"
      ]
     },
     "metadata": {},
     "output_type": "display_data"
    },
    {
     "name": "stdout",
     "output_type": "stream",
     "text": [
      "154 None\n"
     ]
    },
    {
     "data": {
      "text/markdown": [
       "$\\lambda_2\\left(\\frac{1}{2} (C^{xv}_0 + C^{vx}_0)\\right) \\, \\lambda_1\\left(C^{xx}_1\\right)$"
      ],
      "text/plain": [
       "<IPython.core.display.Markdown object>"
      ]
     },
     "metadata": {},
     "output_type": "display_data"
    },
    {
     "name": "stdout",
     "output_type": "stream",
     "text": [
      "155 None\n"
     ]
    },
    {
     "data": {
      "text/markdown": [
       "$[v_0]_{j} \\, [x_0]_{j}$"
      ],
      "text/plain": [
       "<IPython.core.display.Markdown object>"
      ]
     },
     "metadata": {},
     "output_type": "display_data"
    },
    {
     "name": "stdout",
     "output_type": "stream",
     "text": [
      "156 None\n"
     ]
    },
    {
     "data": {
      "text/markdown": [
       "$m_0$"
      ],
      "text/plain": [
       "<IPython.core.display.Markdown object>"
      ]
     },
     "metadata": {},
     "output_type": "display_data"
    },
    {
     "name": "stdout",
     "output_type": "stream",
     "text": [
      "157 None\n"
     ]
    },
    {
     "data": {
      "text/markdown": [
       "$m_0 \\, m_0$"
      ],
      "text/plain": [
       "<IPython.core.display.Markdown object>"
      ]
     },
     "metadata": {},
     "output_type": "display_data"
    },
    {
     "name": "stdout",
     "output_type": "stream",
     "text": [
      "158 None\n"
     ]
    },
    {
     "data": {
      "text/markdown": [
       "$m_1 \\, \\lambda_2\\left(\\frac{1}{2} (C^{xv}_1 + C^{vx}_1)\\right)$"
      ],
      "text/plain": [
       "<IPython.core.display.Markdown object>"
      ]
     },
     "metadata": {},
     "output_type": "display_data"
    },
    {
     "name": "stdout",
     "output_type": "stream",
     "text": [
      "159 None\n"
     ]
    },
    {
     "data": {
      "text/markdown": [
       "$\\lambda_2\\left(\\frac{1}{2} (C^{xv}_0 + C^{vx}_0)\\right) \\, \\lambda_2\\left(C^{vv}_1\\right)$"
      ],
      "text/plain": [
       "<IPython.core.display.Markdown object>"
      ]
     },
     "metadata": {},
     "output_type": "display_data"
    },
    {
     "name": "stdout",
     "output_type": "stream",
     "text": [
      "160 None\n"
     ]
    },
    {
     "data": {
      "text/markdown": [
       "$\\lambda_1\\left(C^{vv}_0\\right) \\, \\lambda_2\\left(\\frac{1}{2} (C^{xv}_1 + C^{vx}_1)\\right)$"
      ],
      "text/plain": [
       "<IPython.core.display.Markdown object>"
      ]
     },
     "metadata": {},
     "output_type": "display_data"
    },
    {
     "name": "stdout",
     "output_type": "stream",
     "text": [
      "161 None\n"
     ]
    },
    {
     "data": {
      "text/markdown": [
       "$[\\frac{1}{2} (C^{xv}_0 + C^{vx}_0)]_{jk} \\, [C^{xx}_1]_{jk}$"
      ],
      "text/plain": [
       "<IPython.core.display.Markdown object>"
      ]
     },
     "metadata": {},
     "output_type": "display_data"
    },
    {
     "name": "stdout",
     "output_type": "stream",
     "text": [
      "162 None\n"
     ]
    },
    {
     "data": {
      "text/markdown": [
       "$\\lambda_2\\left(\\frac{1}{2} (C^{xv}_0 + C^{vx}_0)\\right) \\, \\lambda_1\\left(\\frac{1}{2} (C^{xv}_1 + C^{vx}_1)\\right)$"
      ],
      "text/plain": [
       "<IPython.core.display.Markdown object>"
      ]
     },
     "metadata": {},
     "output_type": "display_data"
    },
    {
     "name": "stdout",
     "output_type": "stream",
     "text": [
      "163 None\n"
     ]
    },
    {
     "data": {
      "text/markdown": [
       "$\\lambda_3\\left(C^{vv}_0\\right) \\, \\lambda_1\\left(C^{xx}_0\\right)$"
      ],
      "text/plain": [
       "<IPython.core.display.Markdown object>"
      ]
     },
     "metadata": {},
     "output_type": "display_data"
    },
    {
     "name": "stdout",
     "output_type": "stream",
     "text": [
      "164 None\n"
     ]
    },
    {
     "data": {
      "text/markdown": [
       "$\\lambda_2\\left(\\frac{1}{2} (C^{xv}_1 + C^{vx}_1)\\right) \\, \\lambda_1\\left(\\frac{1}{2} (C^{xv}_2 + C^{vx}_2)\\right)$"
      ],
      "text/plain": [
       "<IPython.core.display.Markdown object>"
      ]
     },
     "metadata": {},
     "output_type": "display_data"
    },
    {
     "name": "stdout",
     "output_type": "stream",
     "text": [
      "165 None\n"
     ]
    },
    {
     "data": {
      "text/markdown": [
       "$\\lambda_2\\left(\\frac{1}{2} (C^{xv}_0 + C^{vx}_0)\\right) \\, \\lambda_2\\left(\\frac{1}{2} (C^{xv}_0 + C^{vx}_0)\\right)$"
      ],
      "text/plain": [
       "<IPython.core.display.Markdown object>"
      ]
     },
     "metadata": {},
     "output_type": "display_data"
    },
    {
     "name": "stdout",
     "output_type": "stream",
     "text": [
      "166 None\n"
     ]
    },
    {
     "data": {
      "text/markdown": [
       "$\\lambda_2\\left(\\frac{1}{2} (C^{xv}_0 + C^{vx}_0)\\right) \\, \\lambda_2\\left(\\frac{1}{2} (C^{xv}_1 + C^{vx}_1)\\right)$"
      ],
      "text/plain": [
       "<IPython.core.display.Markdown object>"
      ]
     },
     "metadata": {},
     "output_type": "display_data"
    },
    {
     "name": "stdout",
     "output_type": "stream",
     "text": [
      "167 None\n"
     ]
    },
    {
     "data": {
      "text/markdown": [
       "$\\lambda_2\\left(\\frac{1}{2} (C^{xv}_0 + C^{vx}_0)\\right) \\, \\lambda_2\\left(C^{xx}_1\\right)$"
      ],
      "text/plain": [
       "<IPython.core.display.Markdown object>"
      ]
     },
     "metadata": {},
     "output_type": "display_data"
    },
    {
     "name": "stdout",
     "output_type": "stream",
     "text": [
      "168 None\n"
     ]
    },
    {
     "data": {
      "text/markdown": [
       "$\\lambda_1\\left(\\frac{1}{2} (C^{xv}_0 + C^{vx}_0)\\right) \\, \\lambda_2\\left(\\frac{1}{2} (C^{xv}_2 + C^{vx}_2)\\right)$"
      ],
      "text/plain": [
       "<IPython.core.display.Markdown object>"
      ]
     },
     "metadata": {},
     "output_type": "display_data"
    },
    {
     "name": "stdout",
     "output_type": "stream",
     "text": [
      "169 None\n"
     ]
    },
    {
     "data": {
      "text/markdown": [
       "$\\lambda_2\\left(C^{vv}_0\\right) \\, \\lambda_1\\left(C^{xx}_0\\right)$"
      ],
      "text/plain": [
       "<IPython.core.display.Markdown object>"
      ]
     },
     "metadata": {},
     "output_type": "display_data"
    },
    {
     "name": "stdout",
     "output_type": "stream",
     "text": [
      "170 None\n"
     ]
    },
    {
     "data": {
      "text/markdown": [
       "$\\lambda_2\\left(\\frac{1}{2} (C^{xv}_0 + C^{vx}_0)\\right) \\, \\lambda_3\\left(C^{xx}_1\\right)$"
      ],
      "text/plain": [
       "<IPython.core.display.Markdown object>"
      ]
     },
     "metadata": {},
     "output_type": "display_data"
    },
    {
     "name": "stdout",
     "output_type": "stream",
     "text": [
      "171 None\n"
     ]
    },
    {
     "data": {
      "text/markdown": [
       "$[v_1]_{j} \\, [x_2]_{j}$"
      ],
      "text/plain": [
       "<IPython.core.display.Markdown object>"
      ]
     },
     "metadata": {},
     "output_type": "display_data"
    },
    {
     "name": "stdout",
     "output_type": "stream",
     "text": [
      "172 None\n"
     ]
    },
    {
     "data": {
      "text/markdown": [
       "$\\lambda_2\\left(\\frac{1}{2} (C^{xv}_0 + C^{vx}_0)\\right) \\, \\lambda_3\\left(C^{vv}_1\\right)$"
      ],
      "text/plain": [
       "<IPython.core.display.Markdown object>"
      ]
     },
     "metadata": {},
     "output_type": "display_data"
    },
    {
     "name": "stdout",
     "output_type": "stream",
     "text": [
      "173 None\n"
     ]
    },
    {
     "data": {
      "text/markdown": [
       "$[x_1]_{j} \\, [v_2]_{j}$"
      ],
      "text/plain": [
       "<IPython.core.display.Markdown object>"
      ]
     },
     "metadata": {},
     "output_type": "display_data"
    },
    {
     "name": "stdout",
     "output_type": "stream",
     "text": [
      "174 None\n"
     ]
    },
    {
     "data": {
      "text/markdown": [
       "$[\\frac{1}{2} (C^{xv}_0 + C^{vx}_0)]_{jk} \\, [C^{vv}_1]_{jk}$"
      ],
      "text/plain": [
       "<IPython.core.display.Markdown object>"
      ]
     },
     "metadata": {},
     "output_type": "display_data"
    },
    {
     "name": "stdout",
     "output_type": "stream",
     "text": [
      "175 None\n"
     ]
    },
    {
     "data": {
      "text/markdown": [
       "$[v_1]_{j} \\, [x_1]_{j}$"
      ],
      "text/plain": [
       "<IPython.core.display.Markdown object>"
      ]
     },
     "metadata": {},
     "output_type": "display_data"
    },
    {
     "name": "stdout",
     "output_type": "stream",
     "text": [
      "176 None\n"
     ]
    },
    {
     "data": {
      "text/markdown": [
       "$\\lambda_1\\left(\\frac{1}{2} (C^{xv}_1 + C^{vx}_1)\\right) \\, \\lambda_2\\left(\\frac{1}{2} (C^{xv}_2 + C^{vx}_2)\\right)$"
      ],
      "text/plain": [
       "<IPython.core.display.Markdown object>"
      ]
     },
     "metadata": {},
     "output_type": "display_data"
    },
    {
     "name": "stdout",
     "output_type": "stream",
     "text": [
      "177 None\n"
     ]
    },
    {
     "data": {
      "text/markdown": [
       "$m_0 \\, \\lambda_3\\left(C^{vv}_0\\right)$"
      ],
      "text/plain": [
       "<IPython.core.display.Markdown object>"
      ]
     },
     "metadata": {},
     "output_type": "display_data"
    },
    {
     "name": "stdout",
     "output_type": "stream",
     "text": [
      "178 None\n"
     ]
    },
    {
     "data": {
      "text/markdown": [
       "$\\lambda_2\\left(C^{vv}_0\\right) \\, \\lambda_2\\left(\\frac{1}{2} (C^{xv}_1 + C^{vx}_1)\\right)$"
      ],
      "text/plain": [
       "<IPython.core.display.Markdown object>"
      ]
     },
     "metadata": {},
     "output_type": "display_data"
    },
    {
     "name": "stdout",
     "output_type": "stream",
     "text": [
      "179 None\n"
     ]
    },
    {
     "data": {
      "text/markdown": [
       "$\\lambda_3\\left(C^{vv}_0\\right) \\, \\lambda_2\\left(\\frac{1}{2} (C^{xv}_1 + C^{vx}_1)\\right)$"
      ],
      "text/plain": [
       "<IPython.core.display.Markdown object>"
      ]
     },
     "metadata": {},
     "output_type": "display_data"
    },
    {
     "name": "stdout",
     "output_type": "stream",
     "text": [
      "180 None\n"
     ]
    },
    {
     "data": {
      "text/markdown": [
       "$\\lambda_2\\left(\\frac{1}{2} (C^{xv}_1 + C^{vx}_1)\\right)$"
      ],
      "text/plain": [
       "<IPython.core.display.Markdown object>"
      ]
     },
     "metadata": {},
     "output_type": "display_data"
    },
    {
     "name": "stdout",
     "output_type": "stream",
     "text": [
      "181 None\n"
     ]
    },
    {
     "data": {
      "text/markdown": [
       "$[C^{xx}_0]_{jk} \\, [\\frac{1}{2} (C^{xv}_1 + C^{vx}_1)]_{jk}$"
      ],
      "text/plain": [
       "<IPython.core.display.Markdown object>"
      ]
     },
     "metadata": {},
     "output_type": "display_data"
    },
    {
     "name": "stdout",
     "output_type": "stream",
     "text": [
      "182 None\n"
     ]
    },
    {
     "data": {
      "text/markdown": [
       "$\\lambda_2\\left(\\frac{1}{2} (C^{xv}_0 + C^{vx}_0)\\right) \\, m_1$"
      ],
      "text/plain": [
       "<IPython.core.display.Markdown object>"
      ]
     },
     "metadata": {},
     "output_type": "display_data"
    },
    {
     "name": "stdout",
     "output_type": "stream",
     "text": [
      "183 None\n"
     ]
    },
    {
     "data": {
      "text/markdown": [
       "$m_0 \\, \\lambda_2\\left(\\frac{1}{2} (C^{xv}_1 + C^{vx}_1)\\right)$"
      ],
      "text/plain": [
       "<IPython.core.display.Markdown object>"
      ]
     },
     "metadata": {},
     "output_type": "display_data"
    },
    {
     "name": "stdout",
     "output_type": "stream",
     "text": [
      "184 None\n"
     ]
    },
    {
     "data": {
      "text/markdown": [
       "$m_0 \\, \\lambda_2\\left(C^{vv}_0\\right)$"
      ],
      "text/plain": [
       "<IPython.core.display.Markdown object>"
      ]
     },
     "metadata": {},
     "output_type": "display_data"
    },
    {
     "name": "stdout",
     "output_type": "stream",
     "text": [
      "185 None\n"
     ]
    },
    {
     "data": {
      "text/markdown": [
       "$\\lambda_3\\left(\\frac{1}{2} (C^{xv}_0 + C^{vx}_0)\\right) \\, \\lambda_2\\left(\\frac{1}{2} (C^{xv}_0 + C^{vx}_0)\\right)$"
      ],
      "text/plain": [
       "<IPython.core.display.Markdown object>"
      ]
     },
     "metadata": {},
     "output_type": "display_data"
    },
    {
     "name": "stdout",
     "output_type": "stream",
     "text": [
      "186 None\n"
     ]
    },
    {
     "data": {
      "text/markdown": [
       "$\\lambda_2\\left(\\frac{1}{2} (C^{xv}_1 + C^{vx}_1)\\right) \\, \\lambda_1\\left(\\frac{1}{2} (C^{xv}_1 + C^{vx}_1)\\right)$"
      ],
      "text/plain": [
       "<IPython.core.display.Markdown object>"
      ]
     },
     "metadata": {},
     "output_type": "display_data"
    },
    {
     "name": "stdout",
     "output_type": "stream",
     "text": [
      "187 None\n"
     ]
    },
    {
     "data": {
      "text/markdown": [
       "$\\lambda_3\\left(C^{vv}_0\\right)$"
      ],
      "text/plain": [
       "<IPython.core.display.Markdown object>"
      ]
     },
     "metadata": {},
     "output_type": "display_data"
    },
    {
     "name": "stdout",
     "output_type": "stream",
     "text": [
      "188 None\n"
     ]
    },
    {
     "data": {
      "text/markdown": [
       "$\\lambda_3\\left(C^{vv}_0\\right) \\, \\lambda_3\\left(C^{vv}_0\\right)$"
      ],
      "text/plain": [
       "<IPython.core.display.Markdown object>"
      ]
     },
     "metadata": {},
     "output_type": "display_data"
    },
    {
     "name": "stdout",
     "output_type": "stream",
     "text": [
      "189 None\n"
     ]
    },
    {
     "data": {
      "text/markdown": [
       "$\\lambda_1\\left(C^{xx}_0\\right) \\, \\lambda_2\\left(\\frac{1}{2} (C^{xv}_1 + C^{vx}_1)\\right)$"
      ],
      "text/plain": [
       "<IPython.core.display.Markdown object>"
      ]
     },
     "metadata": {},
     "output_type": "display_data"
    },
    {
     "name": "stdout",
     "output_type": "stream",
     "text": [
      "190 None\n"
     ]
    },
    {
     "data": {
      "text/markdown": [
       "$[v_1]_{j} \\, [v_2]_{j}$"
      ],
      "text/plain": [
       "<IPython.core.display.Markdown object>"
      ]
     },
     "metadata": {},
     "output_type": "display_data"
    },
    {
     "name": "stdout",
     "output_type": "stream",
     "text": [
      "191 None\n"
     ]
    },
    {
     "data": {
      "text/markdown": [
       "$\\lambda_2\\left(C^{xx}_0\\right) \\, \\lambda_2\\left(\\frac{1}{2} (C^{xv}_1 + C^{vx}_1)\\right)$"
      ],
      "text/plain": [
       "<IPython.core.display.Markdown object>"
      ]
     },
     "metadata": {},
     "output_type": "display_data"
    },
    {
     "name": "stdout",
     "output_type": "stream",
     "text": [
      "192 None\n"
     ]
    },
    {
     "data": {
      "text/markdown": [
       "$\\lambda_3\\left(C^{vv}_0\\right) \\, \\lambda_2\\left(C^{vv}_0\\right)$"
      ],
      "text/plain": [
       "<IPython.core.display.Markdown object>"
      ]
     },
     "metadata": {},
     "output_type": "display_data"
    },
    {
     "name": "stdout",
     "output_type": "stream",
     "text": [
      "193 None\n"
     ]
    },
    {
     "data": {
      "text/markdown": [
       "$[C^{vv}_0]_{jk} \\, [C^{xx}_0]_{jk}$"
      ],
      "text/plain": [
       "<IPython.core.display.Markdown object>"
      ]
     },
     "metadata": {},
     "output_type": "display_data"
    },
    {
     "name": "stdout",
     "output_type": "stream",
     "text": [
      "194 None\n"
     ]
    },
    {
     "data": {
      "text/markdown": [
       "$\\lambda_3\\left(C^{xx}_0\\right) \\, \\lambda_2\\left(\\frac{1}{2} (C^{xv}_1 + C^{vx}_1)\\right)$"
      ],
      "text/plain": [
       "<IPython.core.display.Markdown object>"
      ]
     },
     "metadata": {},
     "output_type": "display_data"
    },
    {
     "name": "stdout",
     "output_type": "stream",
     "text": [
      "195 None\n"
     ]
    },
    {
     "data": {
      "text/markdown": [
       "$\\lambda_2\\left(C^{vv}_0\\right) \\, \\lambda_2\\left(C^{vv}_0\\right)$"
      ],
      "text/plain": [
       "<IPython.core.display.Markdown object>"
      ]
     },
     "metadata": {},
     "output_type": "display_data"
    },
    {
     "name": "stdout",
     "output_type": "stream",
     "text": [
      "196 None\n"
     ]
    },
    {
     "data": {
      "text/markdown": [
       "$\\lambda_2\\left(C^{vv}_0\\right)$"
      ],
      "text/plain": [
       "<IPython.core.display.Markdown object>"
      ]
     },
     "metadata": {},
     "output_type": "display_data"
    },
    {
     "name": "stdout",
     "output_type": "stream",
     "text": [
      "197 None\n"
     ]
    },
    {
     "data": {
      "text/markdown": [
       "$[x_0]_{j} \\, [v_1]_{j}$"
      ],
      "text/plain": [
       "<IPython.core.display.Markdown object>"
      ]
     },
     "metadata": {},
     "output_type": "display_data"
    },
    {
     "name": "stdout",
     "output_type": "stream",
     "text": [
      "198 None\n"
     ]
    },
    {
     "data": {
      "text/markdown": [
       "$[x_0]_{j} \\, [x_2]_{j}$"
      ],
      "text/plain": [
       "<IPython.core.display.Markdown object>"
      ]
     },
     "metadata": {},
     "output_type": "display_data"
    },
    {
     "name": "stdout",
     "output_type": "stream",
     "text": [
      "199 None\n"
     ]
    },
    {
     "data": {
      "text/markdown": [
       "$\\lambda_1\\left(C^{vv}_0\\right) \\, \\lambda_3\\left(C^{xx}_0\\right)$"
      ],
      "text/plain": [
       "<IPython.core.display.Markdown object>"
      ]
     },
     "metadata": {},
     "output_type": "display_data"
    },
    {
     "name": "stdout",
     "output_type": "stream",
     "text": [
      "200 None\n"
     ]
    },
    {
     "data": {
      "text/markdown": [
       "$[x_0]_{j} \\, [v_2]_{j}$"
      ],
      "text/plain": [
       "<IPython.core.display.Markdown object>"
      ]
     },
     "metadata": {},
     "output_type": "display_data"
    },
    {
     "name": "stdout",
     "output_type": "stream",
     "text": [
      "201 None\n"
     ]
    },
    {
     "data": {
      "text/markdown": [
       "$\\lambda_1\\left(C^{vv}_0\\right) \\, \\lambda_2\\left(\\frac{1}{2} (C^{xv}_0 + C^{vx}_0)\\right)$"
      ],
      "text/plain": [
       "<IPython.core.display.Markdown object>"
      ]
     },
     "metadata": {},
     "output_type": "display_data"
    },
    {
     "name": "stdout",
     "output_type": "stream",
     "text": [
      "202 None\n"
     ]
    },
    {
     "data": {
      "text/markdown": [
       "$\\lambda_2\\left(\\frac{1}{2} (C^{xv}_0 + C^{vx}_0)\\right) \\, \\lambda_3\\left(\\frac{1}{2} (C^{xv}_1 + C^{vx}_1)\\right)$"
      ],
      "text/plain": [
       "<IPython.core.display.Markdown object>"
      ]
     },
     "metadata": {},
     "output_type": "display_data"
    },
    {
     "name": "stdout",
     "output_type": "stream",
     "text": [
      "203 None\n"
     ]
    },
    {
     "data": {
      "text/markdown": [
       "$[\\frac{1}{2} (C^{xv}_0 + C^{vx}_0)]_{jk} \\, [\\frac{1}{2} (C^{xv}_2 + C^{vx}_2)]_{jk}$"
      ],
      "text/plain": [
       "<IPython.core.display.Markdown object>"
      ]
     },
     "metadata": {},
     "output_type": "display_data"
    },
    {
     "name": "stdout",
     "output_type": "stream",
     "text": [
      "204 None\n"
     ]
    },
    {
     "data": {
      "text/markdown": [
       "$[v_0]_{j} \\, [x_1]_{j}$"
      ],
      "text/plain": [
       "<IPython.core.display.Markdown object>"
      ]
     },
     "metadata": {},
     "output_type": "display_data"
    },
    {
     "name": "stdout",
     "output_type": "stream",
     "text": [
      "205 None\n"
     ]
    },
    {
     "data": {
      "text/markdown": [
       "$\\lambda_1\\left(C^{vv}_0\\right) \\, \\lambda_2\\left(C^{xx}_0\\right)$"
      ],
      "text/plain": [
       "<IPython.core.display.Markdown object>"
      ]
     },
     "metadata": {},
     "output_type": "display_data"
    },
    {
     "name": "stdout",
     "output_type": "stream",
     "text": [
      "206 None\n"
     ]
    },
    {
     "data": {
      "text/markdown": [
       "$[\\frac{1}{2} (C^{xv}_0 + C^{vx}_0)]_{jk} \\, [\\frac{1}{2} (C^{xv}_1 + C^{vx}_1)]_{jk}$"
      ],
      "text/plain": [
       "<IPython.core.display.Markdown object>"
      ]
     },
     "metadata": {},
     "output_type": "display_data"
    },
    {
     "name": "stdout",
     "output_type": "stream",
     "text": [
      "207 None\n"
     ]
    },
    {
     "data": {
      "text/markdown": [
       "$\\lambda_3\\left(\\frac{1}{2} (C^{xv}_0 + C^{vx}_0)\\right) \\, \\lambda_2\\left(\\frac{1}{2} (C^{xv}_1 + C^{vx}_1)\\right)$"
      ],
      "text/plain": [
       "<IPython.core.display.Markdown object>"
      ]
     },
     "metadata": {},
     "output_type": "display_data"
    },
    {
     "name": "stdout",
     "output_type": "stream",
     "text": [
      "208 None\n"
     ]
    },
    {
     "data": {
      "text/markdown": [
       "$\\lambda_1\\left(C^{vv}_0\\right) \\, \\lambda_1\\left(C^{xx}_0\\right)$"
      ],
      "text/plain": [
       "<IPython.core.display.Markdown object>"
      ]
     },
     "metadata": {},
     "output_type": "display_data"
    },
    {
     "name": "stdout",
     "output_type": "stream",
     "text": [
      "209 None\n"
     ]
    },
    {
     "data": {
      "text/markdown": [
       "$[C^{vv}_0]_{jk} \\, [\\frac{1}{2} (C^{xv}_0 + C^{vx}_0)]_{jk}$"
      ],
      "text/plain": [
       "<IPython.core.display.Markdown object>"
      ]
     },
     "metadata": {},
     "output_type": "display_data"
    },
    {
     "name": "stdout",
     "output_type": "stream",
     "text": [
      "210 None\n"
     ]
    },
    {
     "data": {
      "text/markdown": [
       "$\\lambda_2\\left(\\frac{1}{2} (C^{xv}_0 + C^{vx}_0)\\right)$"
      ],
      "text/plain": [
       "<IPython.core.display.Markdown object>"
      ]
     },
     "metadata": {},
     "output_type": "display_data"
    },
    {
     "name": "stdout",
     "output_type": "stream",
     "text": [
      "211 None\n"
     ]
    },
    {
     "data": {
      "text/markdown": [
       "$\\lambda_3\\left(\\frac{1}{2} (C^{xv}_1 + C^{vx}_1)\\right) \\, \\lambda_2\\left(\\frac{1}{2} (C^{xv}_1 + C^{vx}_1)\\right)$"
      ],
      "text/plain": [
       "<IPython.core.display.Markdown object>"
      ]
     },
     "metadata": {},
     "output_type": "display_data"
    },
    {
     "name": "stdout",
     "output_type": "stream",
     "text": [
      "212 None\n"
     ]
    },
    {
     "data": {
      "text/markdown": [
       "$[v_0]_{j} \\, [x_2]_{j}$"
      ],
      "text/plain": [
       "<IPython.core.display.Markdown object>"
      ]
     },
     "metadata": {},
     "output_type": "display_data"
    },
    {
     "name": "stdout",
     "output_type": "stream",
     "text": [
      "213 None\n"
     ]
    },
    {
     "data": {
      "text/markdown": [
       "$\\lambda_2\\left(\\frac{1}{2} (C^{xv}_0 + C^{vx}_0)\\right) \\, \\lambda_2\\left(\\frac{1}{2} (C^{xv}_2 + C^{vx}_2)\\right)$"
      ],
      "text/plain": [
       "<IPython.core.display.Markdown object>"
      ]
     },
     "metadata": {},
     "output_type": "display_data"
    },
    {
     "name": "stdout",
     "output_type": "stream",
     "text": [
      "214 None\n"
     ]
    },
    {
     "data": {
      "text/markdown": [
       "$\\lambda_2\\left(\\frac{1}{2} (C^{xv}_1 + C^{vx}_1)\\right) \\, \\lambda_3\\left(\\frac{1}{2} (C^{xv}_2 + C^{vx}_2)\\right)$"
      ],
      "text/plain": [
       "<IPython.core.display.Markdown object>"
      ]
     },
     "metadata": {},
     "output_type": "display_data"
    },
    {
     "name": "stdout",
     "output_type": "stream",
     "text": [
      "215 None\n"
     ]
    },
    {
     "data": {
      "text/markdown": [
       "$\\lambda_2\\left(C^{vv}_0\\right) \\, \\lambda_2\\left(\\frac{1}{2} (C^{xv}_0 + C^{vx}_0)\\right)$"
      ],
      "text/plain": [
       "<IPython.core.display.Markdown object>"
      ]
     },
     "metadata": {},
     "output_type": "display_data"
    },
    {
     "name": "stdout",
     "output_type": "stream",
     "text": [
      "216 None\n"
     ]
    },
    {
     "data": {
      "text/markdown": [
       "$m_0 \\, \\lambda_1\\left(C^{vv}_0\\right)$"
      ],
      "text/plain": [
       "<IPython.core.display.Markdown object>"
      ]
     },
     "metadata": {},
     "output_type": "display_data"
    },
    {
     "name": "stdout",
     "output_type": "stream",
     "text": [
      "217 None\n"
     ]
    },
    {
     "data": {
      "text/markdown": [
       "$\\lambda_3\\left(\\frac{1}{2} (C^{xv}_2 + C^{vx}_2)\\right) \\, \\lambda_2\\left(\\frac{1}{2} (C^{xv}_2 + C^{vx}_2)\\right)$"
      ],
      "text/plain": [
       "<IPython.core.display.Markdown object>"
      ]
     },
     "metadata": {},
     "output_type": "display_data"
    },
    {
     "name": "stdout",
     "output_type": "stream",
     "text": [
      "218 None\n"
     ]
    },
    {
     "data": {
      "text/markdown": [
       "$\\lambda_3\\left(C^{vv}_0\\right) \\, \\lambda_1\\left(C^{vv}_0\\right)$"
      ],
      "text/plain": [
       "<IPython.core.display.Markdown object>"
      ]
     },
     "metadata": {},
     "output_type": "display_data"
    },
    {
     "name": "stdout",
     "output_type": "stream",
     "text": [
      "219 None\n"
     ]
    },
    {
     "data": {
      "text/markdown": [
       "$\\lambda_3\\left(C^{vv}_0\\right) \\, \\lambda_2\\left(\\frac{1}{2} (C^{xv}_0 + C^{vx}_0)\\right)$"
      ],
      "text/plain": [
       "<IPython.core.display.Markdown object>"
      ]
     },
     "metadata": {},
     "output_type": "display_data"
    },
    {
     "name": "stdout",
     "output_type": "stream",
     "text": [
      "220 None\n"
     ]
    },
    {
     "data": {
      "text/markdown": [
       "$\\lambda_2\\left(\\frac{1}{2} (C^{xv}_0 + C^{vx}_0)\\right) \\, \\lambda_3\\left(\\frac{1}{2} (C^{xv}_2 + C^{vx}_2)\\right)$"
      ],
      "text/plain": [
       "<IPython.core.display.Markdown object>"
      ]
     },
     "metadata": {},
     "output_type": "display_data"
    },
    {
     "name": "stdout",
     "output_type": "stream",
     "text": [
      "221 None\n"
     ]
    },
    {
     "data": {
      "text/markdown": [
       "$\\lambda_2\\left(C^{vv}_0\\right) \\, \\lambda_1\\left(C^{vv}_0\\right)$"
      ],
      "text/plain": [
       "<IPython.core.display.Markdown object>"
      ]
     },
     "metadata": {},
     "output_type": "display_data"
    },
    {
     "name": "stdout",
     "output_type": "stream",
     "text": [
      "222 None\n"
     ]
    },
    {
     "data": {
      "text/markdown": [
       "$m_0 \\, \\lambda_2\\left(\\frac{1}{2} (C^{xv}_0 + C^{vx}_0)\\right)$"
      ],
      "text/plain": [
       "<IPython.core.display.Markdown object>"
      ]
     },
     "metadata": {},
     "output_type": "display_data"
    },
    {
     "name": "stdout",
     "output_type": "stream",
     "text": [
      "223 None\n"
     ]
    },
    {
     "data": {
      "text/markdown": [
       "$[C^{vv}_0]_{jk} \\, [C^{vv}_0]_{jk}$"
      ],
      "text/plain": [
       "<IPython.core.display.Markdown object>"
      ]
     },
     "metadata": {},
     "output_type": "display_data"
    },
    {
     "name": "stdout",
     "output_type": "stream",
     "text": [
      "224 None\n"
     ]
    },
    {
     "data": {
      "text/markdown": [
       "$\\lambda_3\\left(\\frac{1}{2} (C^{xv}_0 + C^{vx}_0)\\right) \\, \\lambda_2\\left(\\frac{1}{2} (C^{xv}_2 + C^{vx}_2)\\right)$"
      ],
      "text/plain": [
       "<IPython.core.display.Markdown object>"
      ]
     },
     "metadata": {},
     "output_type": "display_data"
    },
    {
     "name": "stdout",
     "output_type": "stream",
     "text": [
      "225 None\n"
     ]
    },
    {
     "data": {
      "text/markdown": [
       "$\\lambda_2\\left(\\frac{1}{2} (C^{xv}_0 + C^{vx}_0)\\right) \\, \\lambda_1\\left(C^{xx}_0\\right)$"
      ],
      "text/plain": [
       "<IPython.core.display.Markdown object>"
      ]
     },
     "metadata": {},
     "output_type": "display_data"
    },
    {
     "name": "stdout",
     "output_type": "stream",
     "text": [
      "226 None\n"
     ]
    },
    {
     "data": {
      "text/markdown": [
       "$[\\frac{1}{2} (C^{xv}_0 + C^{vx}_0)]_{jk} \\, [C^{xx}_0]_{jk}$"
      ],
      "text/plain": [
       "<IPython.core.display.Markdown object>"
      ]
     },
     "metadata": {},
     "output_type": "display_data"
    },
    {
     "name": "stdout",
     "output_type": "stream",
     "text": [
      "227 None\n"
     ]
    },
    {
     "data": {
      "text/markdown": [
       "$\\lambda_1\\left(C^{vv}_0\\right) \\, \\lambda_1\\left(C^{vv}_0\\right)$"
      ],
      "text/plain": [
       "<IPython.core.display.Markdown object>"
      ]
     },
     "metadata": {},
     "output_type": "display_data"
    },
    {
     "name": "stdout",
     "output_type": "stream",
     "text": [
      "228 None\n"
     ]
    },
    {
     "data": {
      "text/markdown": [
       "$\\lambda_1\\left(C^{vv}_0\\right)$"
      ],
      "text/plain": [
       "<IPython.core.display.Markdown object>"
      ]
     },
     "metadata": {},
     "output_type": "display_data"
    },
    {
     "name": "stdout",
     "output_type": "stream",
     "text": [
      "229 None\n"
     ]
    },
    {
     "data": {
      "text/markdown": [
       "$\\lambda_3\\left(\\frac{1}{2} (C^{xv}_1 + C^{vx}_1)\\right) \\, \\lambda_2\\left(\\frac{1}{2} (C^{xv}_2 + C^{vx}_2)\\right)$"
      ],
      "text/plain": [
       "<IPython.core.display.Markdown object>"
      ]
     },
     "metadata": {},
     "output_type": "display_data"
    },
    {
     "name": "stdout",
     "output_type": "stream",
     "text": [
      "230 None\n"
     ]
    },
    {
     "data": {
      "text/markdown": [
       "$\\lambda_2\\left(\\frac{1}{2} (C^{xv}_0 + C^{vx}_0)\\right) \\, \\lambda_2\\left(C^{xx}_0\\right)$"
      ],
      "text/plain": [
       "<IPython.core.display.Markdown object>"
      ]
     },
     "metadata": {},
     "output_type": "display_data"
    },
    {
     "name": "stdout",
     "output_type": "stream",
     "text": [
      "231 None\n"
     ]
    },
    {
     "data": {
      "text/markdown": [
       "$\\lambda_2\\left(\\frac{1}{2} (C^{xv}_1 + C^{vx}_1)\\right) \\, \\lambda_2\\left(\\frac{1}{2} (C^{xv}_1 + C^{vx}_1)\\right)$"
      ],
      "text/plain": [
       "<IPython.core.display.Markdown object>"
      ]
     },
     "metadata": {},
     "output_type": "display_data"
    },
    {
     "name": "stdout",
     "output_type": "stream",
     "text": [
      "232 None\n"
     ]
    },
    {
     "data": {
      "text/markdown": [
       "$\\lambda_2\\left(\\frac{1}{2} (C^{xv}_0 + C^{vx}_0)\\right) \\, \\lambda_3\\left(C^{xx}_0\\right)$"
      ],
      "text/plain": [
       "<IPython.core.display.Markdown object>"
      ]
     },
     "metadata": {},
     "output_type": "display_data"
    },
    {
     "name": "stdout",
     "output_type": "stream",
     "text": [
      "233 None\n"
     ]
    },
    {
     "data": {
      "text/markdown": [
       "$[x_0]_{j} \\, [x_1]_{j}$"
      ],
      "text/plain": [
       "<IPython.core.display.Markdown object>"
      ]
     },
     "metadata": {},
     "output_type": "display_data"
    },
    {
     "name": "stdout",
     "output_type": "stream",
     "text": [
      "234 None\n"
     ]
    },
    {
     "data": {
      "text/markdown": [
       "$[\\frac{1}{2} (C^{xv}_1 + C^{vx}_1)]_{jk} \\, [\\frac{1}{2} (C^{xv}_2 + C^{vx}_2)]_{jk}$"
      ],
      "text/plain": [
       "<IPython.core.display.Markdown object>"
      ]
     },
     "metadata": {},
     "output_type": "display_data"
    },
    {
     "name": "stdout",
     "output_type": "stream",
     "text": [
      "235 None\n"
     ]
    },
    {
     "data": {
      "text/markdown": [
       "$\\lambda_3\\left(\\frac{1}{2} (C^{xv}_0 + C^{vx}_0)\\right) \\, \\lambda_3\\left(\\frac{1}{2} (C^{xv}_0 + C^{vx}_0)\\right)$"
      ],
      "text/plain": [
       "<IPython.core.display.Markdown object>"
      ]
     },
     "metadata": {},
     "output_type": "display_data"
    },
    {
     "name": "stdout",
     "output_type": "stream",
     "text": [
      "236 None\n"
     ]
    },
    {
     "data": {
      "text/markdown": [
       "$[\\frac{1}{2} (C^{xv}_0 - C^{vx}_0)]_{jk} \\, [\\frac{1}{2} (C^{xv}_2 - C^{vx}_2)]_{jk}$"
      ],
      "text/plain": [
       "<IPython.core.display.Markdown object>"
      ]
     },
     "metadata": {},
     "output_type": "display_data"
    },
    {
     "name": "stdout",
     "output_type": "stream",
     "text": [
      "237 None\n"
     ]
    },
    {
     "data": {
      "text/markdown": [
       "$\\lambda_2\\left(C^{xx}_0\\right) \\, \\lambda_1\\left(\\frac{1}{2} (C^{xv}_1 + C^{vx}_1)\\right)$"
      ],
      "text/plain": [
       "<IPython.core.display.Markdown object>"
      ]
     },
     "metadata": {},
     "output_type": "display_data"
    },
    {
     "name": "stdout",
     "output_type": "stream",
     "text": [
      "238 None\n"
     ]
    },
    {
     "data": {
      "text/markdown": [
       "$\\lambda_1\\left(C^{xx}_0\\right) \\, \\lambda_1\\left(\\frac{1}{2} (C^{xv}_1 + C^{vx}_1)\\right)$"
      ],
      "text/plain": [
       "<IPython.core.display.Markdown object>"
      ]
     },
     "metadata": {},
     "output_type": "display_data"
    },
    {
     "name": "stdout",
     "output_type": "stream",
     "text": [
      "239 None\n"
     ]
    },
    {
     "data": {
      "text/markdown": [
       "$\\lambda_3\\left(C^{xx}_0\\right) \\, \\lambda_1\\left(\\frac{1}{2} (C^{xv}_1 + C^{vx}_1)\\right)$"
      ],
      "text/plain": [
       "<IPython.core.display.Markdown object>"
      ]
     },
     "metadata": {},
     "output_type": "display_data"
    },
    {
     "name": "stdout",
     "output_type": "stream",
     "text": [
      "240 None\n"
     ]
    },
    {
     "data": {
      "text/markdown": [
       "$\\lambda_1\\left(\\frac{1}{2} (C^{xv}_1 + C^{vx}_1)\\right)$"
      ],
      "text/plain": [
       "<IPython.core.display.Markdown object>"
      ]
     },
     "metadata": {},
     "output_type": "display_data"
    },
    {
     "name": "stdout",
     "output_type": "stream",
     "text": [
      "241 None\n"
     ]
    },
    {
     "data": {
      "text/markdown": [
       "$m_0 \\, \\lambda_1\\left(\\frac{1}{2} (C^{xv}_1 + C^{vx}_1)\\right)$"
      ],
      "text/plain": [
       "<IPython.core.display.Markdown object>"
      ]
     },
     "metadata": {},
     "output_type": "display_data"
    },
    {
     "name": "stdout",
     "output_type": "stream",
     "text": [
      "242 None\n"
     ]
    },
    {
     "data": {
      "text/markdown": [
       "$\\lambda_1\\left(\\frac{1}{2} (C^{xv}_0 + C^{vx}_0)\\right) \\, \\lambda_1\\left(\\frac{1}{2} (C^{xv}_0 + C^{vx}_0)\\right)$"
      ],
      "text/plain": [
       "<IPython.core.display.Markdown object>"
      ]
     },
     "metadata": {},
     "output_type": "display_data"
    },
    {
     "name": "stdout",
     "output_type": "stream",
     "text": [
      "243 None\n"
     ]
    },
    {
     "data": {
      "text/markdown": [
       "$\\lambda_2\\left(C^{vv}_0\\right) \\, \\lambda_1\\left(\\frac{1}{2} (C^{xv}_1 + C^{vx}_1)\\right)$"
      ],
      "text/plain": [
       "<IPython.core.display.Markdown object>"
      ]
     },
     "metadata": {},
     "output_type": "display_data"
    },
    {
     "name": "stdout",
     "output_type": "stream",
     "text": [
      "244 None\n"
     ]
    },
    {
     "data": {
      "text/markdown": [
       "$\\lambda_2\\left(\\frac{1}{2} (C^{xv}_1 + C^{vx}_1)\\right) \\, \\lambda_2\\left(\\frac{1}{2} (C^{xv}_2 + C^{vx}_2)\\right)$"
      ],
      "text/plain": [
       "<IPython.core.display.Markdown object>"
      ]
     },
     "metadata": {},
     "output_type": "display_data"
    },
    {
     "name": "stdout",
     "output_type": "stream",
     "text": [
      "245 None\n"
     ]
    },
    {
     "data": {
      "text/markdown": [
       "$\\lambda_3\\left(C^{vv}_0\\right) \\, \\lambda_1\\left(\\frac{1}{2} (C^{xv}_1 + C^{vx}_1)\\right)$"
      ],
      "text/plain": [
       "<IPython.core.display.Markdown object>"
      ]
     },
     "metadata": {},
     "output_type": "display_data"
    },
    {
     "name": "stdout",
     "output_type": "stream",
     "text": [
      "246 None\n"
     ]
    },
    {
     "data": {
      "text/markdown": [
       "$\\lambda_1\\left(\\frac{1}{2} (C^{xv}_1 + C^{vx}_1)\\right) \\, \\lambda_1\\left(C^{xx}_1\\right)$"
      ],
      "text/plain": [
       "<IPython.core.display.Markdown object>"
      ]
     },
     "metadata": {},
     "output_type": "display_data"
    },
    {
     "name": "stdout",
     "output_type": "stream",
     "text": [
      "247 None\n"
     ]
    },
    {
     "data": {
      "text/markdown": [
       "$m_1 \\, \\lambda_1\\left(\\frac{1}{2} (C^{xv}_1 + C^{vx}_1)\\right)$"
      ],
      "text/plain": [
       "<IPython.core.display.Markdown object>"
      ]
     },
     "metadata": {},
     "output_type": "display_data"
    },
    {
     "name": "stdout",
     "output_type": "stream",
     "text": [
      "248 None\n"
     ]
    },
    {
     "data": {
      "text/markdown": [
       "$\\lambda_1\\left(C^{vv}_0\\right) \\, \\lambda_1\\left(\\frac{1}{2} (C^{xv}_1 + C^{vx}_1)\\right)$"
      ],
      "text/plain": [
       "<IPython.core.display.Markdown object>"
      ]
     },
     "metadata": {},
     "output_type": "display_data"
    },
    {
     "name": "stdout",
     "output_type": "stream",
     "text": [
      "249 None\n"
     ]
    },
    {
     "data": {
      "text/markdown": [
       "$\\lambda_3\\left(C^{xx}_0\\right) \\, \\lambda_1\\left(\\frac{1}{2} (C^{xv}_2 + C^{vx}_2)\\right)$"
      ],
      "text/plain": [
       "<IPython.core.display.Markdown object>"
      ]
     },
     "metadata": {},
     "output_type": "display_data"
    },
    {
     "name": "stdout",
     "output_type": "stream",
     "text": [
      "250 None\n"
     ]
    },
    {
     "data": {
      "text/markdown": [
       "$\\lambda_2\\left(C^{xx}_0\\right) \\, \\lambda_1\\left(\\frac{1}{2} (C^{xv}_2 + C^{vx}_2)\\right)$"
      ],
      "text/plain": [
       "<IPython.core.display.Markdown object>"
      ]
     },
     "metadata": {},
     "output_type": "display_data"
    },
    {
     "name": "stdout",
     "output_type": "stream",
     "text": [
      "251 None\n"
     ]
    },
    {
     "data": {
      "text/markdown": [
       "$\\lambda_3\\left(C^{vv}_1\\right) \\, \\lambda_1\\left(\\frac{1}{2} (C^{xv}_1 + C^{vx}_1)\\right)$"
      ],
      "text/plain": [
       "<IPython.core.display.Markdown object>"
      ]
     },
     "metadata": {},
     "output_type": "display_data"
    },
    {
     "name": "stdout",
     "output_type": "stream",
     "text": [
      "252 None\n"
     ]
    },
    {
     "data": {
      "text/markdown": [
       "$\\lambda_1\\left(\\frac{1}{2} (C^{xv}_1 + C^{vx}_1)\\right) \\, \\lambda_2\\left(C^{xx}_1\\right)$"
      ],
      "text/plain": [
       "<IPython.core.display.Markdown object>"
      ]
     },
     "metadata": {},
     "output_type": "display_data"
    },
    {
     "name": "stdout",
     "output_type": "stream",
     "text": [
      "253 None\n"
     ]
    },
    {
     "data": {
      "text/markdown": [
       "$\\lambda_1\\left(C^{xx}_0\\right) \\, \\lambda_1\\left(\\frac{1}{2} (C^{xv}_2 + C^{vx}_2)\\right)$"
      ],
      "text/plain": [
       "<IPython.core.display.Markdown object>"
      ]
     },
     "metadata": {},
     "output_type": "display_data"
    },
    {
     "name": "stdout",
     "output_type": "stream",
     "text": [
      "254 None\n"
     ]
    },
    {
     "data": {
      "text/markdown": [
       "$\\lambda_3\\left(\\frac{1}{2} (C^{xv}_1 + C^{vx}_1)\\right) \\, \\lambda_3\\left(\\frac{1}{2} (C^{xv}_1 + C^{vx}_1)\\right)$"
      ],
      "text/plain": [
       "<IPython.core.display.Markdown object>"
      ]
     },
     "metadata": {},
     "output_type": "display_data"
    },
    {
     "name": "stdout",
     "output_type": "stream",
     "text": [
      "255 None\n"
     ]
    },
    {
     "data": {
      "text/markdown": [
       "$\\lambda_1\\left(\\frac{1}{2} (C^{xv}_1 + C^{vx}_1)\\right) \\, \\lambda_3\\left(C^{xx}_1\\right)$"
      ],
      "text/plain": [
       "<IPython.core.display.Markdown object>"
      ]
     },
     "metadata": {},
     "output_type": "display_data"
    },
    {
     "name": "stdout",
     "output_type": "stream",
     "text": [
      "256 None\n"
     ]
    },
    {
     "data": {
      "text/markdown": [
       "$\\lambda_1\\left(C^{xx}_0\\right) \\, m_1$"
      ],
      "text/plain": [
       "<IPython.core.display.Markdown object>"
      ]
     },
     "metadata": {},
     "output_type": "display_data"
    },
    {
     "name": "stdout",
     "output_type": "stream",
     "text": [
      "257 None\n"
     ]
    },
    {
     "data": {
      "text/markdown": [
       "$\\lambda_2\\left(C^{vv}_1\\right) \\, \\lambda_1\\left(\\frac{1}{2} (C^{xv}_1 + C^{vx}_1)\\right)$"
      ],
      "text/plain": [
       "<IPython.core.display.Markdown object>"
      ]
     },
     "metadata": {},
     "output_type": "display_data"
    },
    {
     "name": "stdout",
     "output_type": "stream",
     "text": [
      "258 None\n"
     ]
    },
    {
     "data": {
      "text/markdown": [
       "$m_0 \\, \\lambda_1\\left(\\frac{1}{2} (C^{xv}_2 + C^{vx}_2)\\right)$"
      ],
      "text/plain": [
       "<IPython.core.display.Markdown object>"
      ]
     },
     "metadata": {},
     "output_type": "display_data"
    },
    {
     "name": "stdout",
     "output_type": "stream",
     "text": [
      "259 None\n"
     ]
    },
    {
     "data": {
      "text/markdown": [
       "$\\lambda_1\\left(\\frac{1}{2} (C^{xv}_2 + C^{vx}_2)\\right)$"
      ],
      "text/plain": [
       "<IPython.core.display.Markdown object>"
      ]
     },
     "metadata": {},
     "output_type": "display_data"
    },
    {
     "name": "stdout",
     "output_type": "stream",
     "text": [
      "260 None\n"
     ]
    },
    {
     "data": {
      "text/markdown": [
       "$\\lambda_1\\left(\\frac{1}{2} (C^{xv}_1 + C^{vx}_1)\\right) \\, \\lambda_1\\left(C^{xx}_2\\right)$"
      ],
      "text/plain": [
       "<IPython.core.display.Markdown object>"
      ]
     },
     "metadata": {},
     "output_type": "display_data"
    },
    {
     "name": "stdout",
     "output_type": "stream",
     "text": [
      "261 None\n"
     ]
    },
    {
     "data": {
      "text/markdown": [
       "$\\lambda_3\\left(C^{vv}_0\\right) \\, \\lambda_1\\left(\\frac{1}{2} (C^{xv}_2 + C^{vx}_2)\\right)$"
      ],
      "text/plain": [
       "<IPython.core.display.Markdown object>"
      ]
     },
     "metadata": {},
     "output_type": "display_data"
    },
    {
     "name": "stdout",
     "output_type": "stream",
     "text": [
      "262 None\n"
     ]
    },
    {
     "data": {
      "text/markdown": [
       "$\\lambda_1\\left(C^{vv}_1\\right) \\, \\lambda_1\\left(\\frac{1}{2} (C^{xv}_1 + C^{vx}_1)\\right)$"
      ],
      "text/plain": [
       "<IPython.core.display.Markdown object>"
      ]
     },
     "metadata": {},
     "output_type": "display_data"
    },
    {
     "name": "stdout",
     "output_type": "stream",
     "text": [
      "263 None\n"
     ]
    },
    {
     "data": {
      "text/markdown": [
       "$\\lambda_2\\left(C^{vv}_0\\right) \\, \\lambda_1\\left(\\frac{1}{2} (C^{xv}_2 + C^{vx}_2)\\right)$"
      ],
      "text/plain": [
       "<IPython.core.display.Markdown object>"
      ]
     },
     "metadata": {},
     "output_type": "display_data"
    },
    {
     "name": "stdout",
     "output_type": "stream",
     "text": [
      "264 None\n"
     ]
    },
    {
     "data": {
      "text/markdown": [
       "$\\lambda_1\\left(\\frac{1}{2} (C^{xv}_1 + C^{vx}_1)\\right) \\, \\lambda_1\\left(\\frac{1}{2} (C^{xv}_2 + C^{vx}_2)\\right)$"
      ],
      "text/plain": [
       "<IPython.core.display.Markdown object>"
      ]
     },
     "metadata": {},
     "output_type": "display_data"
    },
    {
     "name": "stdout",
     "output_type": "stream",
     "text": [
      "265 None\n"
     ]
    },
    {
     "data": {
      "text/markdown": [
       "$\\lambda_1\\left(\\frac{1}{2} (C^{xv}_1 + C^{vx}_1)\\right) \\, m_2$"
      ],
      "text/plain": [
       "<IPython.core.display.Markdown object>"
      ]
     },
     "metadata": {},
     "output_type": "display_data"
    },
    {
     "name": "stdout",
     "output_type": "stream",
     "text": [
      "266 None\n"
     ]
    },
    {
     "data": {
      "text/markdown": [
       "$\\lambda_1\\left(\\frac{1}{2} (C^{xv}_2 + C^{vx}_2)\\right) \\, \\lambda_1\\left(\\frac{1}{2} (C^{xv}_2 + C^{vx}_2)\\right)$"
      ],
      "text/plain": [
       "<IPython.core.display.Markdown object>"
      ]
     },
     "metadata": {},
     "output_type": "display_data"
    },
    {
     "name": "stdout",
     "output_type": "stream",
     "text": [
      "267 None\n"
     ]
    },
    {
     "data": {
      "text/markdown": [
       "$\\lambda_3\\left(C^{xx}_0\\right) \\, m_1$"
      ],
      "text/plain": [
       "<IPython.core.display.Markdown object>"
      ]
     },
     "metadata": {},
     "output_type": "display_data"
    },
    {
     "name": "stdout",
     "output_type": "stream",
     "text": [
      "268 None\n"
     ]
    },
    {
     "data": {
      "text/markdown": [
       "$\\lambda_1\\left(\\frac{1}{2} (C^{xv}_1 + C^{vx}_1)\\right) \\, \\lambda_1\\left(C^{vv}_2\\right)$"
      ],
      "text/plain": [
       "<IPython.core.display.Markdown object>"
      ]
     },
     "metadata": {},
     "output_type": "display_data"
    },
    {
     "name": "stdout",
     "output_type": "stream",
     "text": [
      "269 None\n"
     ]
    },
    {
     "data": {
      "text/markdown": [
       "$\\lambda_1\\left(\\frac{1}{2} (C^{xv}_1 + C^{vx}_1)\\right) \\, \\lambda_2\\left(C^{xx}_2\\right)$"
      ],
      "text/plain": [
       "<IPython.core.display.Markdown object>"
      ]
     },
     "metadata": {},
     "output_type": "display_data"
    },
    {
     "name": "stdout",
     "output_type": "stream",
     "text": [
      "270 None\n"
     ]
    },
    {
     "data": {
      "text/markdown": [
       "$\\lambda_1\\left(C^{vv}_0\\right) \\, \\lambda_1\\left(\\frac{1}{2} (C^{xv}_2 + C^{vx}_2)\\right)$"
      ],
      "text/plain": [
       "<IPython.core.display.Markdown object>"
      ]
     },
     "metadata": {},
     "output_type": "display_data"
    },
    {
     "name": "stdout",
     "output_type": "stream",
     "text": [
      "271 None\n"
     ]
    },
    {
     "data": {
      "text/markdown": [
       "$\\lambda_1\\left(\\frac{1}{2} (C^{xv}_2 + C^{vx}_2)\\right) \\, \\lambda_1\\left(C^{xx}_2\\right)$"
      ],
      "text/plain": [
       "<IPython.core.display.Markdown object>"
      ]
     },
     "metadata": {},
     "output_type": "display_data"
    },
    {
     "name": "stdout",
     "output_type": "stream",
     "text": [
      "272 None\n"
     ]
    },
    {
     "data": {
      "text/markdown": [
       "$[\\frac{1}{2} (C^{xv}_0 + C^{vx}_0)]_{jk} \\, [\\frac{1}{2} (C^{xv}_0 + C^{vx}_0)]_{jk}$"
      ],
      "text/plain": [
       "<IPython.core.display.Markdown object>"
      ]
     },
     "metadata": {},
     "output_type": "display_data"
    },
    {
     "name": "stdout",
     "output_type": "stream",
     "text": [
      "273 None\n"
     ]
    },
    {
     "data": {
      "text/markdown": [
       "$\\lambda_1\\left(\\frac{1}{2} (C^{xv}_1 + C^{vx}_1)\\right) \\, \\lambda_3\\left(C^{vv}_2\\right)$"
      ],
      "text/plain": [
       "<IPython.core.display.Markdown object>"
      ]
     },
     "metadata": {},
     "output_type": "display_data"
    },
    {
     "name": "stdout",
     "output_type": "stream",
     "text": [
      "274 None\n"
     ]
    },
    {
     "data": {
      "text/markdown": [
       "$m_1 \\, \\lambda_1\\left(\\frac{1}{2} (C^{xv}_2 + C^{vx}_2)\\right)$"
      ],
      "text/plain": [
       "<IPython.core.display.Markdown object>"
      ]
     },
     "metadata": {},
     "output_type": "display_data"
    },
    {
     "name": "stdout",
     "output_type": "stream",
     "text": [
      "275 None\n"
     ]
    },
    {
     "data": {
      "text/markdown": [
       "$\\lambda_3\\left(C^{xx}_0\\right) \\, \\lambda_1\\left(C^{xx}_2\\right)$"
      ],
      "text/plain": [
       "<IPython.core.display.Markdown object>"
      ]
     },
     "metadata": {},
     "output_type": "display_data"
    },
    {
     "name": "stdout",
     "output_type": "stream",
     "text": [
      "276 None\n"
     ]
    },
    {
     "data": {
      "text/markdown": [
       "$m_2 \\, \\lambda_1\\left(\\frac{1}{2} (C^{xv}_2 + C^{vx}_2)\\right)$"
      ],
      "text/plain": [
       "<IPython.core.display.Markdown object>"
      ]
     },
     "metadata": {},
     "output_type": "display_data"
    },
    {
     "name": "stdout",
     "output_type": "stream",
     "text": [
      "277 None\n"
     ]
    },
    {
     "data": {
      "text/markdown": [
       "$\\lambda_1\\left(\\frac{1}{2} (C^{xv}_1 + C^{vx}_1)\\right) \\, \\lambda_2\\left(C^{vv}_2\\right)$"
      ],
      "text/plain": [
       "<IPython.core.display.Markdown object>"
      ]
     },
     "metadata": {},
     "output_type": "display_data"
    },
    {
     "name": "stdout",
     "output_type": "stream",
     "text": [
      "278 None\n"
     ]
    },
    {
     "data": {
      "text/markdown": [
       "$\\lambda_2\\left(C^{xx}_0\\right) \\, \\lambda_1\\left(C^{xx}_2\\right)$"
      ],
      "text/plain": [
       "<IPython.core.display.Markdown object>"
      ]
     },
     "metadata": {},
     "output_type": "display_data"
    },
    {
     "name": "stdout",
     "output_type": "stream",
     "text": [
      "279 None\n"
     ]
    },
    {
     "data": {
      "text/markdown": [
       "$\\lambda_1\\left(C^{xx}_0\\right) \\, \\lambda_1\\left(C^{xx}_2\\right)$"
      ],
      "text/plain": [
       "<IPython.core.display.Markdown object>"
      ]
     },
     "metadata": {},
     "output_type": "display_data"
    },
    {
     "name": "stdout",
     "output_type": "stream",
     "text": [
      "280 None\n"
     ]
    },
    {
     "data": {
      "text/markdown": [
       "$\\lambda_3\\left(C^{vv}_1\\right) \\, \\lambda_1\\left(\\frac{1}{2} (C^{xv}_2 + C^{vx}_2)\\right)$"
      ],
      "text/plain": [
       "<IPython.core.display.Markdown object>"
      ]
     },
     "metadata": {},
     "output_type": "display_data"
    },
    {
     "name": "stdout",
     "output_type": "stream",
     "text": [
      "281 None\n"
     ]
    },
    {
     "data": {
      "text/markdown": [
       "$\\lambda_1\\left(\\frac{1}{2} (C^{xv}_1 + C^{vx}_1)\\right) \\, \\lambda_3\\left(C^{xx}_2\\right)$"
      ],
      "text/plain": [
       "<IPython.core.display.Markdown object>"
      ]
     },
     "metadata": {},
     "output_type": "display_data"
    },
    {
     "name": "stdout",
     "output_type": "stream",
     "text": [
      "282 None\n"
     ]
    },
    {
     "data": {
      "text/markdown": [
       "$\\lambda_2\\left(C^{xx}_1\\right) \\, \\lambda_1\\left(\\frac{1}{2} (C^{xv}_2 + C^{vx}_2)\\right)$"
      ],
      "text/plain": [
       "<IPython.core.display.Markdown object>"
      ]
     },
     "metadata": {},
     "output_type": "display_data"
    },
    {
     "name": "stdout",
     "output_type": "stream",
     "text": [
      "283 None\n"
     ]
    },
    {
     "data": {
      "text/markdown": [
       "$\\lambda_3\\left(C^{xx}_1\\right) \\, \\lambda_1\\left(\\frac{1}{2} (C^{xv}_2 + C^{vx}_2)\\right)$"
      ],
      "text/plain": [
       "<IPython.core.display.Markdown object>"
      ]
     },
     "metadata": {},
     "output_type": "display_data"
    },
    {
     "name": "stdout",
     "output_type": "stream",
     "text": [
      "284 None\n"
     ]
    },
    {
     "data": {
      "text/markdown": [
       "$[\\frac{1}{2} (C^{xv}_2 + C^{vx}_2)]_{jk} \\, [\\frac{1}{2} (C^{xv}_2 + C^{vx}_2)]_{jk}$"
      ],
      "text/plain": [
       "<IPython.core.display.Markdown object>"
      ]
     },
     "metadata": {},
     "output_type": "display_data"
    },
    {
     "name": "stdout",
     "output_type": "stream",
     "text": [
      "285 None\n"
     ]
    },
    {
     "data": {
      "text/markdown": [
       "$\\lambda_1\\left(C^{xx}_1\\right) \\, \\lambda_1\\left(\\frac{1}{2} (C^{xv}_2 + C^{vx}_2)\\right)$"
      ],
      "text/plain": [
       "<IPython.core.display.Markdown object>"
      ]
     },
     "metadata": {},
     "output_type": "display_data"
    },
    {
     "name": "stdout",
     "output_type": "stream",
     "text": [
      "286 None\n"
     ]
    },
    {
     "data": {
      "text/markdown": [
       "$\\lambda_2\\left(C^{vv}_1\\right) \\, \\lambda_1\\left(\\frac{1}{2} (C^{xv}_2 + C^{vx}_2)\\right)$"
      ],
      "text/plain": [
       "<IPython.core.display.Markdown object>"
      ]
     },
     "metadata": {},
     "output_type": "display_data"
    },
    {
     "name": "stdout",
     "output_type": "stream",
     "text": [
      "287 None\n"
     ]
    },
    {
     "data": {
      "text/markdown": [
       "$m_0 \\, \\lambda_1\\left(C^{xx}_2\\right)$"
      ],
      "text/plain": [
       "<IPython.core.display.Markdown object>"
      ]
     },
     "metadata": {},
     "output_type": "display_data"
    },
    {
     "name": "stdout",
     "output_type": "stream",
     "text": [
      "288 None\n"
     ]
    },
    {
     "data": {
      "text/markdown": [
       "$\\lambda_1\\left(C^{vv}_2\\right) \\, \\lambda_1\\left(\\frac{1}{2} (C^{xv}_2 + C^{vx}_2)\\right)$"
      ],
      "text/plain": [
       "<IPython.core.display.Markdown object>"
      ]
     },
     "metadata": {},
     "output_type": "display_data"
    },
    {
     "name": "stdout",
     "output_type": "stream",
     "text": [
      "289 None\n"
     ]
    },
    {
     "data": {
      "text/markdown": [
       "$\\lambda_1\\left(C^{xx}_2\\right) \\, \\lambda_1\\left(C^{xx}_2\\right)$"
      ],
      "text/plain": [
       "<IPython.core.display.Markdown object>"
      ]
     },
     "metadata": {},
     "output_type": "display_data"
    },
    {
     "name": "stdout",
     "output_type": "stream",
     "text": [
      "290 None\n"
     ]
    },
    {
     "data": {
      "text/markdown": [
       "$\\lambda_1\\left(C^{xx}_2\\right)$"
      ],
      "text/plain": [
       "<IPython.core.display.Markdown object>"
      ]
     },
     "metadata": {},
     "output_type": "display_data"
    },
    {
     "name": "stdout",
     "output_type": "stream",
     "text": [
      "291 None\n"
     ]
    },
    {
     "data": {
      "text/markdown": [
       "$\\lambda_3\\left(\\frac{1}{2} (C^{xv}_0 + C^{vx}_0)\\right) \\, \\lambda_3\\left(\\frac{1}{2} (C^{xv}_1 + C^{vx}_1)\\right)$"
      ],
      "text/plain": [
       "<IPython.core.display.Markdown object>"
      ]
     },
     "metadata": {},
     "output_type": "display_data"
    },
    {
     "name": "stdout",
     "output_type": "stream",
     "text": [
      "292 None\n"
     ]
    },
    {
     "data": {
      "text/markdown": [
       "$\\lambda_3\\left(C^{vv}_0\\right) \\, \\lambda_1\\left(C^{xx}_2\\right)$"
      ],
      "text/plain": [
       "<IPython.core.display.Markdown object>"
      ]
     },
     "metadata": {},
     "output_type": "display_data"
    },
    {
     "name": "stdout",
     "output_type": "stream",
     "text": [
      "293 None\n"
     ]
    },
    {
     "data": {
      "text/markdown": [
       "$[C^{xx}_2]_{jk} \\, [C^{xx}_2]_{jk}$"
      ],
      "text/plain": [
       "<IPython.core.display.Markdown object>"
      ]
     },
     "metadata": {},
     "output_type": "display_data"
    },
    {
     "name": "stdout",
     "output_type": "stream",
     "text": [
      "294 None\n"
     ]
    },
    {
     "data": {
      "text/markdown": [
       "$\\lambda_2\\left(C^{vv}_0\\right) \\, \\lambda_1\\left(C^{xx}_2\\right)$"
      ],
      "text/plain": [
       "<IPython.core.display.Markdown object>"
      ]
     },
     "metadata": {},
     "output_type": "display_data"
    },
    {
     "name": "stdout",
     "output_type": "stream",
     "text": [
      "295 None\n"
     ]
    },
    {
     "data": {
      "text/markdown": [
       "$[C^{xx}_0]_{jk} \\, [C^{xx}_2]_{jk}$"
      ],
      "text/plain": [
       "<IPython.core.display.Markdown object>"
      ]
     },
     "metadata": {},
     "output_type": "display_data"
    },
    {
     "name": "stdout",
     "output_type": "stream",
     "text": [
      "296 None\n"
     ]
    },
    {
     "data": {
      "text/markdown": [
       "$\\lambda_3\\left(C^{vv}_2\\right) \\, \\lambda_1\\left(\\frac{1}{2} (C^{xv}_2 + C^{vx}_2)\\right)$"
      ],
      "text/plain": [
       "<IPython.core.display.Markdown object>"
      ]
     },
     "metadata": {},
     "output_type": "display_data"
    },
    {
     "name": "stdout",
     "output_type": "stream",
     "text": [
      "297 None\n"
     ]
    },
    {
     "data": {
      "text/markdown": [
       "$[\\frac{1}{2} (C^{xv}_2 - C^{vx}_2)]_{jk} \\, [\\frac{1}{2} (C^{xv}_2 - C^{vx}_2)]_{jk}$"
      ],
      "text/plain": [
       "<IPython.core.display.Markdown object>"
      ]
     },
     "metadata": {},
     "output_type": "display_data"
    },
    {
     "name": "stdout",
     "output_type": "stream",
     "text": [
      "298 None\n"
     ]
    },
    {
     "data": {
      "text/markdown": [
       "$[v_2]_{j} \\, [v_2]_{j}$"
      ],
      "text/plain": [
       "<IPython.core.display.Markdown object>"
      ]
     },
     "metadata": {},
     "output_type": "display_data"
    },
    {
     "name": "stdout",
     "output_type": "stream",
     "text": [
      "299 None\n"
     ]
    },
    {
     "data": {
      "text/markdown": [
       "$\\lambda_3\\left(\\frac{1}{2} (C^{xv}_1 + C^{vx}_1)\\right) \\, \\lambda_3\\left(\\frac{1}{2} (C^{xv}_2 + C^{vx}_2)\\right)$"
      ],
      "text/plain": [
       "<IPython.core.display.Markdown object>"
      ]
     },
     "metadata": {},
     "output_type": "display_data"
    },
    {
     "name": "stdout",
     "output_type": "stream",
     "text": [
      "300 None\n"
     ]
    },
    {
     "data": {
      "text/markdown": [
       "$\\lambda_3\\left(\\frac{1}{2} (C^{xv}_2 + C^{vx}_2)\\right) \\, \\lambda_3\\left(\\frac{1}{2} (C^{xv}_2 + C^{vx}_2)\\right)$"
      ],
      "text/plain": [
       "<IPython.core.display.Markdown object>"
      ]
     },
     "metadata": {},
     "output_type": "display_data"
    },
    {
     "name": "stdout",
     "output_type": "stream",
     "text": [
      "301 None\n"
     ]
    },
    {
     "data": {
      "text/markdown": [
       "$\\lambda_2\\left(C^{xx}_0\\right) \\, m_1$"
      ],
      "text/plain": [
       "<IPython.core.display.Markdown object>"
      ]
     },
     "metadata": {},
     "output_type": "display_data"
    },
    {
     "name": "stdout",
     "output_type": "stream",
     "text": [
      "302 None\n"
     ]
    },
    {
     "data": {
      "text/markdown": [
       "$\\lambda_3\\left(C^{xx}_0\\right) \\, \\lambda_3\\left(C^{xx}_1\\right)$"
      ],
      "text/plain": [
       "<IPython.core.display.Markdown object>"
      ]
     },
     "metadata": {},
     "output_type": "display_data"
    },
    {
     "name": "stdout",
     "output_type": "stream",
     "text": [
      "303 None\n"
     ]
    },
    {
     "data": {
      "text/markdown": [
       "$[\\frac{1}{2} (C^{xv}_1 - C^{vx}_1)]_{jk} \\, [\\frac{1}{2} (C^{xv}_2 - C^{vx}_2)]_{jk}$"
      ],
      "text/plain": [
       "<IPython.core.display.Markdown object>"
      ]
     },
     "metadata": {},
     "output_type": "display_data"
    },
    {
     "name": "stdout",
     "output_type": "stream",
     "text": [
      "304 None\n"
     ]
    },
    {
     "data": {
      "text/markdown": [
       "$\\lambda_1\\left(\\frac{1}{2} (C^{xv}_0 + C^{vx}_0)\\right) \\, \\lambda_1\\left(\\frac{1}{2} (C^{xv}_1 + C^{vx}_1)\\right)$"
      ],
      "text/plain": [
       "<IPython.core.display.Markdown object>"
      ]
     },
     "metadata": {},
     "output_type": "display_data"
    },
    {
     "name": "stdout",
     "output_type": "stream",
     "text": [
      "305 None\n"
     ]
    },
    {
     "data": {
      "text/markdown": [
       "$\\lambda_3\\left(C^{xx}_0\\right) \\, m_2$"
      ],
      "text/plain": [
       "<IPython.core.display.Markdown object>"
      ]
     },
     "metadata": {},
     "output_type": "display_data"
    },
    {
     "name": "stdout",
     "output_type": "stream",
     "text": [
      "306 None\n"
     ]
    },
    {
     "data": {
      "text/markdown": [
       "$[x_2]_{j} \\, [x_2]_{j}$"
      ],
      "text/plain": [
       "<IPython.core.display.Markdown object>"
      ]
     },
     "metadata": {},
     "output_type": "display_data"
    },
    {
     "name": "stdout",
     "output_type": "stream",
     "text": [
      "307 None\n"
     ]
    },
    {
     "data": {
      "text/markdown": [
       "$m_2 \\, \\lambda_1\\left(C^{xx}_2\\right)$"
      ],
      "text/plain": [
       "<IPython.core.display.Markdown object>"
      ]
     },
     "metadata": {},
     "output_type": "display_data"
    },
    {
     "name": "stdout",
     "output_type": "stream",
     "text": [
      "308 None\n"
     ]
    },
    {
     "data": {
      "text/markdown": [
       "$\\lambda_1\\left(\\frac{1}{2} (C^{xv}_1 + C^{vx}_1)\\right) \\, \\lambda_1\\left(\\frac{1}{2} (C^{xv}_1 + C^{vx}_1)\\right)$"
      ],
      "text/plain": [
       "<IPython.core.display.Markdown object>"
      ]
     },
     "metadata": {},
     "output_type": "display_data"
    },
    {
     "name": "stdout",
     "output_type": "stream",
     "text": [
      "309 None\n"
     ]
    },
    {
     "data": {
      "text/markdown": [
       "$\\lambda_2\\left(C^{xx}_0\\right) \\, m_2$"
      ],
      "text/plain": [
       "<IPython.core.display.Markdown object>"
      ]
     },
     "metadata": {},
     "output_type": "display_data"
    },
    {
     "name": "stdout",
     "output_type": "stream",
     "text": [
      "310 None\n"
     ]
    },
    {
     "data": {
      "text/markdown": [
       "$\\lambda_1\\left(C^{xx}_0\\right) \\, m_2$"
      ],
      "text/plain": [
       "<IPython.core.display.Markdown object>"
      ]
     },
     "metadata": {},
     "output_type": "display_data"
    },
    {
     "name": "stdout",
     "output_type": "stream",
     "text": [
      "311 None\n"
     ]
    },
    {
     "data": {
      "text/markdown": [
       "$\\lambda_1\\left(C^{vv}_0\\right) \\, \\lambda_1\\left(C^{xx}_2\\right)$"
      ],
      "text/plain": [
       "<IPython.core.display.Markdown object>"
      ]
     },
     "metadata": {},
     "output_type": "display_data"
    },
    {
     "name": "stdout",
     "output_type": "stream",
     "text": [
      "312 None\n"
     ]
    },
    {
     "data": {
      "text/markdown": [
       "$\\lambda_1\\left(C^{vv}_1\\right) \\, \\lambda_1\\left(\\frac{1}{2} (C^{xv}_2 + C^{vx}_2)\\right)$"
      ],
      "text/plain": [
       "<IPython.core.display.Markdown object>"
      ]
     },
     "metadata": {},
     "output_type": "display_data"
    },
    {
     "name": "stdout",
     "output_type": "stream",
     "text": [
      "313 None\n"
     ]
    },
    {
     "data": {
      "text/markdown": [
       "$\\lambda_1\\left(\\frac{1}{2} (C^{xv}_2 + C^{vx}_2)\\right) \\, \\lambda_2\\left(C^{xx}_2\\right)$"
      ],
      "text/plain": [
       "<IPython.core.display.Markdown object>"
      ]
     },
     "metadata": {},
     "output_type": "display_data"
    },
    {
     "name": "stdout",
     "output_type": "stream",
     "text": [
      "314 None\n"
     ]
    },
    {
     "data": {
      "text/markdown": [
       "$\\lambda_2\\left(C^{vv}_2\\right) \\, \\lambda_1\\left(\\frac{1}{2} (C^{xv}_2 + C^{vx}_2)\\right)$"
      ],
      "text/plain": [
       "<IPython.core.display.Markdown object>"
      ]
     },
     "metadata": {},
     "output_type": "display_data"
    },
    {
     "name": "stdout",
     "output_type": "stream",
     "text": [
      "315 None\n"
     ]
    },
    {
     "data": {
      "text/markdown": [
       "$m_0 \\, m_2$"
      ],
      "text/plain": [
       "<IPython.core.display.Markdown object>"
      ]
     },
     "metadata": {},
     "output_type": "display_data"
    },
    {
     "name": "stdout",
     "output_type": "stream",
     "text": [
      "316 None\n"
     ]
    },
    {
     "data": {
      "text/markdown": [
       "$\\lambda_3\\left(\\frac{1}{2} (C^{xv}_0 + C^{vx}_0)\\right) \\, \\lambda_3\\left(\\frac{1}{2} (C^{xv}_2 + C^{vx}_2)\\right)$"
      ],
      "text/plain": [
       "<IPython.core.display.Markdown object>"
      ]
     },
     "metadata": {},
     "output_type": "display_data"
    },
    {
     "name": "stdout",
     "output_type": "stream",
     "text": [
      "317 None\n"
     ]
    },
    {
     "data": {
      "text/markdown": [
       "$m_1 \\, \\lambda_1\\left(C^{xx}_2\\right)$"
      ],
      "text/plain": [
       "<IPython.core.display.Markdown object>"
      ]
     },
     "metadata": {},
     "output_type": "display_data"
    },
    {
     "name": "stdout",
     "output_type": "stream",
     "text": [
      "318 None\n"
     ]
    },
    {
     "data": {
      "text/markdown": [
       "$m_2 \\, m_2$"
      ],
      "text/plain": [
       "<IPython.core.display.Markdown object>"
      ]
     },
     "metadata": {},
     "output_type": "display_data"
    },
    {
     "name": "stdout",
     "output_type": "stream",
     "text": [
      "319 None\n"
     ]
    },
    {
     "data": {
      "text/markdown": [
       "$m_2$"
      ],
      "text/plain": [
       "<IPython.core.display.Markdown object>"
      ]
     },
     "metadata": {},
     "output_type": "display_data"
    },
    {
     "name": "stdout",
     "output_type": "stream",
     "text": [
      "320 None\n"
     ]
    },
    {
     "data": {
      "text/markdown": [
       "$[C^{vv}_0]_{jk} \\, [C^{xx}_2]_{jk}$"
      ],
      "text/plain": [
       "<IPython.core.display.Markdown object>"
      ]
     },
     "metadata": {},
     "output_type": "display_data"
    },
    {
     "name": "stdout",
     "output_type": "stream",
     "text": [
      "321 None\n"
     ]
    },
    {
     "data": {
      "text/markdown": [
       "$\\lambda_3\\left(C^{vv}_0\\right) \\, m_2$"
      ],
      "text/plain": [
       "<IPython.core.display.Markdown object>"
      ]
     },
     "metadata": {},
     "output_type": "display_data"
    },
    {
     "name": "stdout",
     "output_type": "stream",
     "text": [
      "322 None\n"
     ]
    },
    {
     "data": {
      "text/markdown": [
       "$\\lambda_3\\left(C^{xx}_0\\right) \\, \\lambda_1\\left(C^{vv}_2\\right)$"
      ],
      "text/plain": [
       "<IPython.core.display.Markdown object>"
      ]
     },
     "metadata": {},
     "output_type": "display_data"
    },
    {
     "name": "stdout",
     "output_type": "stream",
     "text": [
      "323 None\n"
     ]
    },
    {
     "data": {
      "text/markdown": [
       "$\\lambda_1\\left(C^{vv}_2\\right) \\, \\lambda_1\\left(C^{xx}_2\\right)$"
      ],
      "text/plain": [
       "<IPython.core.display.Markdown object>"
      ]
     },
     "metadata": {},
     "output_type": "display_data"
    },
    {
     "name": "stdout",
     "output_type": "stream",
     "text": [
      "324 None\n"
     ]
    },
    {
     "data": {
      "text/markdown": [
       "$\\lambda_2\\left(C^{vv}_0\\right) \\, m_2$"
      ],
      "text/plain": [
       "<IPython.core.display.Markdown object>"
      ]
     },
     "metadata": {},
     "output_type": "display_data"
    },
    {
     "name": "stdout",
     "output_type": "stream",
     "text": [
      "325 None\n"
     ]
    },
    {
     "data": {
      "text/markdown": [
       "$\\lambda_2\\left(C^{xx}_0\\right) \\, \\lambda_1\\left(C^{vv}_2\\right)$"
      ],
      "text/plain": [
       "<IPython.core.display.Markdown object>"
      ]
     },
     "metadata": {},
     "output_type": "display_data"
    },
    {
     "name": "stdout",
     "output_type": "stream",
     "text": [
      "326 None\n"
     ]
    },
    {
     "data": {
      "text/markdown": [
       "$\\lambda_3\\left(C^{vv}_2\\right) \\, \\lambda_1\\left(C^{xx}_2\\right)$"
      ],
      "text/plain": [
       "<IPython.core.display.Markdown object>"
      ]
     },
     "metadata": {},
     "output_type": "display_data"
    },
    {
     "name": "stdout",
     "output_type": "stream",
     "text": [
      "327 None\n"
     ]
    },
    {
     "data": {
      "text/markdown": [
       "$\\lambda_2\\left(C^{xx}_1\\right) \\, \\lambda_1\\left(C^{xx}_2\\right)$"
      ],
      "text/plain": [
       "<IPython.core.display.Markdown object>"
      ]
     },
     "metadata": {},
     "output_type": "display_data"
    },
    {
     "name": "stdout",
     "output_type": "stream",
     "text": [
      "328 None\n"
     ]
    },
    {
     "data": {
      "text/markdown": [
       "$\\lambda_1\\left(C^{xx}_1\\right) \\, \\lambda_1\\left(C^{xx}_2\\right)$"
      ],
      "text/plain": [
       "<IPython.core.display.Markdown object>"
      ]
     },
     "metadata": {},
     "output_type": "display_data"
    },
    {
     "name": "stdout",
     "output_type": "stream",
     "text": [
      "329 None\n"
     ]
    },
    {
     "data": {
      "text/markdown": [
       "$\\lambda_1\\left(C^{xx}_0\\right) \\, \\lambda_1\\left(C^{vv}_2\\right)$"
      ],
      "text/plain": [
       "<IPython.core.display.Markdown object>"
      ]
     },
     "metadata": {},
     "output_type": "display_data"
    },
    {
     "name": "stdout",
     "output_type": "stream",
     "text": [
      "330 None\n"
     ]
    },
    {
     "data": {
      "text/markdown": [
       "$\\lambda_3\\left(C^{xx}_1\\right) \\, \\lambda_1\\left(C^{xx}_2\\right)$"
      ],
      "text/plain": [
       "<IPython.core.display.Markdown object>"
      ]
     },
     "metadata": {},
     "output_type": "display_data"
    },
    {
     "name": "stdout",
     "output_type": "stream",
     "text": [
      "331 None\n"
     ]
    },
    {
     "data": {
      "text/markdown": [
       "$\\lambda_3\\left(C^{vv}_1\\right) \\, \\lambda_1\\left(C^{xx}_2\\right)$"
      ],
      "text/plain": [
       "<IPython.core.display.Markdown object>"
      ]
     },
     "metadata": {},
     "output_type": "display_data"
    },
    {
     "name": "stdout",
     "output_type": "stream",
     "text": [
      "332 None\n"
     ]
    },
    {
     "data": {
      "text/markdown": [
       "$\\lambda_3\\left(C^{xx}_0\\right) \\, \\lambda_3\\left(C^{vv}_1\\right)$"
      ],
      "text/plain": [
       "<IPython.core.display.Markdown object>"
      ]
     },
     "metadata": {},
     "output_type": "display_data"
    },
    {
     "name": "stdout",
     "output_type": "stream",
     "text": [
      "333 None\n"
     ]
    },
    {
     "data": {
      "text/markdown": [
       "$\\lambda_3\\left(C^{xx}_0\\right) \\, \\lambda_2\\left(C^{vv}_1\\right)$"
      ],
      "text/plain": [
       "<IPython.core.display.Markdown object>"
      ]
     },
     "metadata": {},
     "output_type": "display_data"
    },
    {
     "name": "stdout",
     "output_type": "stream",
     "text": [
      "334 None\n"
     ]
    },
    {
     "data": {
      "text/markdown": [
       "$m_0 \\, \\lambda_1\\left(C^{vv}_2\\right)$"
      ],
      "text/plain": [
       "<IPython.core.display.Markdown object>"
      ]
     },
     "metadata": {},
     "output_type": "display_data"
    },
    {
     "name": "stdout",
     "output_type": "stream",
     "text": [
      "335 None\n"
     ]
    },
    {
     "data": {
      "text/markdown": [
       "$\\lambda_1\\left(C^{vv}_2\\right) \\, \\lambda_1\\left(C^{vv}_2\\right)$"
      ],
      "text/plain": [
       "<IPython.core.display.Markdown object>"
      ]
     },
     "metadata": {},
     "output_type": "display_data"
    },
    {
     "name": "stdout",
     "output_type": "stream",
     "text": [
      "336 None\n"
     ]
    },
    {
     "data": {
      "text/markdown": [
       "$\\lambda_1\\left(C^{vv}_2\\right)$"
      ],
      "text/plain": [
       "<IPython.core.display.Markdown object>"
      ]
     },
     "metadata": {},
     "output_type": "display_data"
    },
    {
     "name": "stdout",
     "output_type": "stream",
     "text": [
      "337 None\n"
     ]
    },
    {
     "data": {
      "text/markdown": [
       "$m_2 \\, \\lambda_1\\left(C^{vv}_2\\right)$"
      ],
      "text/plain": [
       "<IPython.core.display.Markdown object>"
      ]
     },
     "metadata": {},
     "output_type": "display_data"
    },
    {
     "name": "stdout",
     "output_type": "stream",
     "text": [
      "338 None\n"
     ]
    },
    {
     "data": {
      "text/markdown": [
       "$[x_1]_{j} \\, [x_2]_{j}$"
      ],
      "text/plain": [
       "<IPython.core.display.Markdown object>"
      ]
     },
     "metadata": {},
     "output_type": "display_data"
    },
    {
     "name": "stdout",
     "output_type": "stream",
     "text": [
      "339 None\n"
     ]
    },
    {
     "data": {
      "text/markdown": [
       "$\\lambda_1\\left(\\frac{1}{2} (C^{xv}_2 + C^{vx}_2)\\right) \\, \\lambda_3\\left(C^{xx}_2\\right)$"
      ],
      "text/plain": [
       "<IPython.core.display.Markdown object>"
      ]
     },
     "metadata": {},
     "output_type": "display_data"
    },
    {
     "name": "stdout",
     "output_type": "stream",
     "text": [
      "340 None\n"
     ]
    },
    {
     "data": {
      "text/markdown": [
       "$\\lambda_3\\left(C^{vv}_0\\right) \\, \\lambda_1\\left(C^{vv}_2\\right)$"
      ],
      "text/plain": [
       "<IPython.core.display.Markdown object>"
      ]
     },
     "metadata": {},
     "output_type": "display_data"
    },
    {
     "name": "stdout",
     "output_type": "stream",
     "text": [
      "341 None\n"
     ]
    },
    {
     "data": {
      "text/markdown": [
       "$\\lambda_2\\left(C^{vv}_0\\right) \\, \\lambda_1\\left(C^{vv}_2\\right)$"
      ],
      "text/plain": [
       "<IPython.core.display.Markdown object>"
      ]
     },
     "metadata": {},
     "output_type": "display_data"
    },
    {
     "name": "stdout",
     "output_type": "stream",
     "text": [
      "342 None\n"
     ]
    },
    {
     "data": {
      "text/markdown": [
       "$\\lambda_2\\left(C^{vv}_1\\right) \\, \\lambda_1\\left(C^{xx}_2\\right)$"
      ],
      "text/plain": [
       "<IPython.core.display.Markdown object>"
      ]
     },
     "metadata": {},
     "output_type": "display_data"
    },
    {
     "name": "stdout",
     "output_type": "stream",
     "text": [
      "343 None\n"
     ]
    },
    {
     "data": {
      "text/markdown": [
       "$\\lambda_1\\left(C^{vv}_0\\right) \\, m_2$"
      ],
      "text/plain": [
       "<IPython.core.display.Markdown object>"
      ]
     },
     "metadata": {},
     "output_type": "display_data"
    },
    {
     "name": "stdout",
     "output_type": "stream",
     "text": [
      "344 None\n"
     ]
    },
    {
     "data": {
      "text/markdown": [
       "$m_2 \\, \\lambda_3\\left(C^{vv}_2\\right)$"
      ],
      "text/plain": [
       "<IPython.core.display.Markdown object>"
      ]
     },
     "metadata": {},
     "output_type": "display_data"
    },
    {
     "name": "stdout",
     "output_type": "stream",
     "text": [
      "345 None\n"
     ]
    },
    {
     "data": {
      "text/markdown": [
       "$\\lambda_1\\left(C^{xx}_0\\right) \\, \\lambda_2\\left(C^{vv}_1\\right)$"
      ],
      "text/plain": [
       "<IPython.core.display.Markdown object>"
      ]
     },
     "metadata": {},
     "output_type": "display_data"
    },
    {
     "name": "stdout",
     "output_type": "stream",
     "text": [
      "346 None\n"
     ]
    },
    {
     "data": {
      "text/markdown": [
       "$[C^{vv}_2]_{jk} \\, [C^{xx}_2]_{jk}$"
      ],
      "text/plain": [
       "<IPython.core.display.Markdown object>"
      ]
     },
     "metadata": {},
     "output_type": "display_data"
    },
    {
     "name": "stdout",
     "output_type": "stream",
     "text": [
      "347 None\n"
     ]
    },
    {
     "data": {
      "text/markdown": [
       "$\\lambda_1\\left(C^{vv}_0\\right) \\, \\lambda_1\\left(C^{vv}_2\\right)$"
      ],
      "text/plain": [
       "<IPython.core.display.Markdown object>"
      ]
     },
     "metadata": {},
     "output_type": "display_data"
    },
    {
     "name": "stdout",
     "output_type": "stream",
     "text": [
      "348 None\n"
     ]
    },
    {
     "data": {
      "text/markdown": [
       "$[C^{vv}_2]_{jk} \\, [C^{vv}_2]_{jk}$"
      ],
      "text/plain": [
       "<IPython.core.display.Markdown object>"
      ]
     },
     "metadata": {},
     "output_type": "display_data"
    },
    {
     "name": "stdout",
     "output_type": "stream",
     "text": [
      "349 None\n"
     ]
    },
    {
     "data": {
      "text/markdown": [
       "$[C^{xx}_0]_{jk} \\, [C^{vv}_2]_{jk}$"
      ],
      "text/plain": [
       "<IPython.core.display.Markdown object>"
      ]
     },
     "metadata": {},
     "output_type": "display_data"
    },
    {
     "name": "stdout",
     "output_type": "stream",
     "text": [
      "350 None\n"
     ]
    },
    {
     "data": {
      "text/markdown": [
       "$m_1 \\, m_2$"
      ],
      "text/plain": [
       "<IPython.core.display.Markdown object>"
      ]
     },
     "metadata": {},
     "output_type": "display_data"
    },
    {
     "name": "stdout",
     "output_type": "stream",
     "text": [
      "351 None\n"
     ]
    },
    {
     "data": {
      "text/markdown": [
       "$\\lambda_2\\left(C^{xx}_2\\right) \\, \\lambda_1\\left(C^{xx}_2\\right)$"
      ],
      "text/plain": [
       "<IPython.core.display.Markdown object>"
      ]
     },
     "metadata": {},
     "output_type": "display_data"
    },
    {
     "name": "stdout",
     "output_type": "stream",
     "text": [
      "352 None\n"
     ]
    },
    {
     "data": {
      "text/markdown": [
       "$[C^{xx}_1]_{jk} \\, [C^{xx}_2]_{jk}$"
      ],
      "text/plain": [
       "<IPython.core.display.Markdown object>"
      ]
     },
     "metadata": {},
     "output_type": "display_data"
    },
    {
     "name": "stdout",
     "output_type": "stream",
     "text": [
      "353 None\n"
     ]
    },
    {
     "data": {
      "text/markdown": [
       "$\\lambda_2\\left(C^{vv}_2\\right) \\, \\lambda_1\\left(C^{xx}_2\\right)$"
      ],
      "text/plain": [
       "<IPython.core.display.Markdown object>"
      ]
     },
     "metadata": {},
     "output_type": "display_data"
    },
    {
     "name": "stdout",
     "output_type": "stream",
     "text": [
      "354 None\n"
     ]
    },
    {
     "data": {
      "text/markdown": [
       "$\\lambda_3\\left(C^{vv}_2\\right) \\, \\lambda_1\\left(C^{vv}_2\\right)$"
      ],
      "text/plain": [
       "<IPython.core.display.Markdown object>"
      ]
     },
     "metadata": {},
     "output_type": "display_data"
    },
    {
     "name": "stdout",
     "output_type": "stream",
     "text": [
      "355 None\n"
     ]
    },
    {
     "data": {
      "text/markdown": [
       "$[\\frac{1}{2} (C^{xv}_1 + C^{vx}_1)]_{jk} \\, [\\frac{1}{2} (C^{xv}_1 + C^{vx}_1)]_{jk}$"
      ],
      "text/plain": [
       "<IPython.core.display.Markdown object>"
      ]
     },
     "metadata": {},
     "output_type": "display_data"
    },
    {
     "name": "stdout",
     "output_type": "stream",
     "text": [
      "356 None\n"
     ]
    },
    {
     "data": {
      "text/markdown": [
       "$\\lambda_1\\left(C^{xx}_0\\right) \\, \\lambda_3\\left(C^{vv}_1\\right)$"
      ],
      "text/plain": [
       "<IPython.core.display.Markdown object>"
      ]
     },
     "metadata": {},
     "output_type": "display_data"
    },
    {
     "name": "stdout",
     "output_type": "stream",
     "text": [
      "357 None\n"
     ]
    },
    {
     "data": {
      "text/markdown": [
       "$\\lambda_3\\left(C^{xx}_0\\right) \\, \\lambda_3\\left(C^{vv}_2\\right)$"
      ],
      "text/plain": [
       "<IPython.core.display.Markdown object>"
      ]
     },
     "metadata": {},
     "output_type": "display_data"
    },
    {
     "name": "stdout",
     "output_type": "stream",
     "text": [
      "358 None\n"
     ]
    },
    {
     "data": {
      "text/markdown": [
       "$\\lambda_2\\left(C^{xx}_0\\right) \\, \\lambda_3\\left(C^{vv}_2\\right)$"
      ],
      "text/plain": [
       "<IPython.core.display.Markdown object>"
      ]
     },
     "metadata": {},
     "output_type": "display_data"
    },
    {
     "name": "stdout",
     "output_type": "stream",
     "text": [
      "359 None\n"
     ]
    },
    {
     "data": {
      "text/markdown": [
       "$\\lambda_1\\left(C^{xx}_1\\right) \\, m_2$"
      ],
      "text/plain": [
       "<IPython.core.display.Markdown object>"
      ]
     },
     "metadata": {},
     "output_type": "display_data"
    },
    {
     "name": "stdout",
     "output_type": "stream",
     "text": [
      "360 None\n"
     ]
    },
    {
     "data": {
      "text/markdown": [
       "$\\lambda_1\\left(C^{xx}_0\\right) \\, \\lambda_3\\left(C^{vv}_2\\right)$"
      ],
      "text/plain": [
       "<IPython.core.display.Markdown object>"
      ]
     },
     "metadata": {},
     "output_type": "display_data"
    },
    {
     "name": "stdout",
     "output_type": "stream",
     "text": [
      "361 None\n"
     ]
    },
    {
     "data": {
      "text/markdown": [
       "$\\lambda_2\\left(C^{xx}_1\\right) \\, m_2$"
      ],
      "text/plain": [
       "<IPython.core.display.Markdown object>"
      ]
     },
     "metadata": {},
     "output_type": "display_data"
    },
    {
     "name": "stdout",
     "output_type": "stream",
     "text": [
      "362 None\n"
     ]
    },
    {
     "data": {
      "text/markdown": [
       "$\\lambda_3\\left(C^{xx}_1\\right) \\, m_2$"
      ],
      "text/plain": [
       "<IPython.core.display.Markdown object>"
      ]
     },
     "metadata": {},
     "output_type": "display_data"
    },
    {
     "name": "stdout",
     "output_type": "stream",
     "text": [
      "363 None\n"
     ]
    },
    {
     "data": {
      "text/markdown": [
       "$m_1 \\, \\lambda_1\\left(C^{vv}_2\\right)$"
      ],
      "text/plain": [
       "<IPython.core.display.Markdown object>"
      ]
     },
     "metadata": {},
     "output_type": "display_data"
    },
    {
     "name": "stdout",
     "output_type": "stream",
     "text": [
      "364 None\n"
     ]
    },
    {
     "data": {
      "text/markdown": [
       "$\\lambda_3\\left(C^{vv}_1\\right) \\, m_2$"
      ],
      "text/plain": [
       "<IPython.core.display.Markdown object>"
      ]
     },
     "metadata": {},
     "output_type": "display_data"
    },
    {
     "name": "stdout",
     "output_type": "stream",
     "text": [
      "365 None\n"
     ]
    },
    {
     "data": {
      "text/markdown": [
       "$m_2 \\, \\lambda_2\\left(C^{xx}_2\\right)$"
      ],
      "text/plain": [
       "<IPython.core.display.Markdown object>"
      ]
     },
     "metadata": {},
     "output_type": "display_data"
    },
    {
     "name": "stdout",
     "output_type": "stream",
     "text": [
      "366 None\n"
     ]
    },
    {
     "data": {
      "text/markdown": [
       "$[C^{vv}_0]_{jk} \\, [C^{vv}_2]_{jk}$"
      ],
      "text/plain": [
       "<IPython.core.display.Markdown object>"
      ]
     },
     "metadata": {},
     "output_type": "display_data"
    },
    {
     "name": "stdout",
     "output_type": "stream",
     "text": [
      "367 None\n"
     ]
    },
    {
     "data": {
      "text/markdown": [
       "$\\lambda_2\\left(C^{vv}_1\\right) \\, \\lambda_1\\left(C^{vv}_2\\right)$"
      ],
      "text/plain": [
       "<IPython.core.display.Markdown object>"
      ]
     },
     "metadata": {},
     "output_type": "display_data"
    },
    {
     "name": "stdout",
     "output_type": "stream",
     "text": [
      "368 None\n"
     ]
    },
    {
     "data": {
      "text/markdown": [
       "$\\lambda_3\\left(C^{vv}_1\\right) \\, \\lambda_1\\left(C^{vv}_2\\right)$"
      ],
      "text/plain": [
       "<IPython.core.display.Markdown object>"
      ]
     },
     "metadata": {},
     "output_type": "display_data"
    },
    {
     "name": "stdout",
     "output_type": "stream",
     "text": [
      "369 None\n"
     ]
    },
    {
     "data": {
      "text/markdown": [
       "$m_2 \\, \\lambda_2\\left(C^{vv}_2\\right)$"
      ],
      "text/plain": [
       "<IPython.core.display.Markdown object>"
      ]
     },
     "metadata": {},
     "output_type": "display_data"
    },
    {
     "name": "stdout",
     "output_type": "stream",
     "text": [
      "370 None\n"
     ]
    },
    {
     "data": {
      "text/markdown": [
       "$\\lambda_3\\left(C^{vv}_2\\right)$"
      ],
      "text/plain": [
       "<IPython.core.display.Markdown object>"
      ]
     },
     "metadata": {},
     "output_type": "display_data"
    },
    {
     "name": "stdout",
     "output_type": "stream",
     "text": [
      "371 None\n"
     ]
    },
    {
     "data": {
      "text/markdown": [
       "$m_0 \\, \\lambda_3\\left(C^{vv}_2\\right)$"
      ],
      "text/plain": [
       "<IPython.core.display.Markdown object>"
      ]
     },
     "metadata": {},
     "output_type": "display_data"
    },
    {
     "name": "stdout",
     "output_type": "stream",
     "text": [
      "372 None\n"
     ]
    },
    {
     "data": {
      "text/markdown": [
       "$\\lambda_2\\left(C^{vv}_2\\right) \\, \\lambda_1\\left(C^{vv}_2\\right)$"
      ],
      "text/plain": [
       "<IPython.core.display.Markdown object>"
      ]
     },
     "metadata": {},
     "output_type": "display_data"
    },
    {
     "name": "stdout",
     "output_type": "stream",
     "text": [
      "373 None\n"
     ]
    },
    {
     "data": {
      "text/markdown": [
       "$\\lambda_3\\left(C^{vv}_2\\right) \\, \\lambda_3\\left(C^{vv}_2\\right)$"
      ],
      "text/plain": [
       "<IPython.core.display.Markdown object>"
      ]
     },
     "metadata": {},
     "output_type": "display_data"
    },
    {
     "name": "stdout",
     "output_type": "stream",
     "text": [
      "374 None\n"
     ]
    },
    {
     "data": {
      "text/markdown": [
       "$\\lambda_2\\left(C^{vv}_1\\right) \\, m_2$"
      ],
      "text/plain": [
       "<IPython.core.display.Markdown object>"
      ]
     },
     "metadata": {},
     "output_type": "display_data"
    },
    {
     "name": "stdout",
     "output_type": "stream",
     "text": [
      "375 None\n"
     ]
    },
    {
     "data": {
      "text/markdown": [
       "$\\lambda_1\\left(C^{vv}_1\\right) \\, \\lambda_1\\left(C^{xx}_2\\right)$"
      ],
      "text/plain": [
       "<IPython.core.display.Markdown object>"
      ]
     },
     "metadata": {},
     "output_type": "display_data"
    },
    {
     "name": "stdout",
     "output_type": "stream",
     "text": [
      "376 None\n"
     ]
    },
    {
     "data": {
      "text/markdown": [
       "$[C^{vv}_1]_{jk} \\, [C^{xx}_2]_{jk}$"
      ],
      "text/plain": [
       "<IPython.core.display.Markdown object>"
      ]
     },
     "metadata": {},
     "output_type": "display_data"
    },
    {
     "name": "stdout",
     "output_type": "stream",
     "text": [
      "377 None\n"
     ]
    },
    {
     "data": {
      "text/markdown": [
       "$\\lambda_3\\left(C^{vv}_0\\right) \\, \\lambda_3\\left(C^{vv}_2\\right)$"
      ],
      "text/plain": [
       "<IPython.core.display.Markdown object>"
      ]
     },
     "metadata": {},
     "output_type": "display_data"
    },
    {
     "name": "stdout",
     "output_type": "stream",
     "text": [
      "378 None\n"
     ]
    },
    {
     "data": {
      "text/markdown": [
       "$\\lambda_3\\left(C^{xx}_0\\right) \\, \\lambda_1\\left(C^{xx}_1\\right)$"
      ],
      "text/plain": [
       "<IPython.core.display.Markdown object>"
      ]
     },
     "metadata": {},
     "output_type": "display_data"
    },
    {
     "name": "stdout",
     "output_type": "stream",
     "text": [
      "379 None\n"
     ]
    },
    {
     "data": {
      "text/markdown": [
       "$\\lambda_1\\left(C^{xx}_1\\right) \\, \\lambda_1\\left(C^{vv}_2\\right)$"
      ],
      "text/plain": [
       "<IPython.core.display.Markdown object>"
      ]
     },
     "metadata": {},
     "output_type": "display_data"
    },
    {
     "name": "stdout",
     "output_type": "stream",
     "text": [
      "380 None\n"
     ]
    },
    {
     "data": {
      "text/markdown": [
       "$\\lambda_2\\left(C^{xx}_1\\right) \\, \\lambda_1\\left(C^{vv}_2\\right)$"
      ],
      "text/plain": [
       "<IPython.core.display.Markdown object>"
      ]
     },
     "metadata": {},
     "output_type": "display_data"
    },
    {
     "name": "stdout",
     "output_type": "stream",
     "text": [
      "381 None\n"
     ]
    },
    {
     "data": {
      "text/markdown": [
       "$\\lambda_3\\left(C^{xx}_2\\right) \\, \\lambda_1\\left(C^{xx}_2\\right)$"
      ],
      "text/plain": [
       "<IPython.core.display.Markdown object>"
      ]
     },
     "metadata": {},
     "output_type": "display_data"
    },
    {
     "name": "stdout",
     "output_type": "stream",
     "text": [
      "382 None\n"
     ]
    },
    {
     "data": {
      "text/markdown": [
       "$\\lambda_2\\left(C^{vv}_0\\right) \\, \\lambda_3\\left(C^{vv}_2\\right)$"
      ],
      "text/plain": [
       "<IPython.core.display.Markdown object>"
      ]
     },
     "metadata": {},
     "output_type": "display_data"
    },
    {
     "name": "stdout",
     "output_type": "stream",
     "text": [
      "383 None\n"
     ]
    },
    {
     "data": {
      "text/markdown": [
       "$\\lambda_2\\left(C^{xx}_0\\right) \\, \\lambda_3\\left(C^{xx}_1\\right)$"
      ],
      "text/plain": [
       "<IPython.core.display.Markdown object>"
      ]
     },
     "metadata": {},
     "output_type": "display_data"
    },
    {
     "name": "stdout",
     "output_type": "stream",
     "text": [
      "384 None\n"
     ]
    },
    {
     "data": {
      "text/markdown": [
       "$\\lambda_3\\left(C^{xx}_1\\right) \\, \\lambda_1\\left(C^{vv}_2\\right)$"
      ],
      "text/plain": [
       "<IPython.core.display.Markdown object>"
      ]
     },
     "metadata": {},
     "output_type": "display_data"
    },
    {
     "name": "stdout",
     "output_type": "stream",
     "text": [
      "385 None\n"
     ]
    },
    {
     "data": {
      "text/markdown": [
       "$\\lambda_3\\left(C^{xx}_0\\right) \\, \\lambda_2\\left(C^{xx}_1\\right)$"
      ],
      "text/plain": [
       "<IPython.core.display.Markdown object>"
      ]
     },
     "metadata": {},
     "output_type": "display_data"
    },
    {
     "name": "stdout",
     "output_type": "stream",
     "text": [
      "386 None\n"
     ]
    },
    {
     "data": {
      "text/markdown": [
       "$\\lambda_2\\left(C^{xx}_0\\right) \\, \\lambda_2\\left(C^{vv}_1\\right)$"
      ],
      "text/plain": [
       "<IPython.core.display.Markdown object>"
      ]
     },
     "metadata": {},
     "output_type": "display_data"
    },
    {
     "name": "stdout",
     "output_type": "stream",
     "text": [
      "387 None\n"
     ]
    },
    {
     "data": {
      "text/markdown": [
       "$\\lambda_1\\left(C^{vv}_1\\right) \\, \\lambda_1\\left(C^{vv}_2\\right)$"
      ],
      "text/plain": [
       "<IPython.core.display.Markdown object>"
      ]
     },
     "metadata": {},
     "output_type": "display_data"
    },
    {
     "name": "stdout",
     "output_type": "stream",
     "text": [
      "388 None\n"
     ]
    },
    {
     "data": {
      "text/markdown": [
       "$\\lambda_3\\left(C^{xx}_0\\right) \\, \\lambda_2\\left(C^{xx}_2\\right)$"
      ],
      "text/plain": [
       "<IPython.core.display.Markdown object>"
      ]
     },
     "metadata": {},
     "output_type": "display_data"
    },
    {
     "name": "stdout",
     "output_type": "stream",
     "text": [
      "389 None\n"
     ]
    },
    {
     "data": {
      "text/markdown": [
       "$\\lambda_1\\left(C^{vv}_2\\right) \\, \\lambda_2\\left(C^{xx}_2\\right)$"
      ],
      "text/plain": [
       "<IPython.core.display.Markdown object>"
      ]
     },
     "metadata": {},
     "output_type": "display_data"
    },
    {
     "name": "stdout",
     "output_type": "stream",
     "text": [
      "390 None\n"
     ]
    },
    {
     "data": {
      "text/markdown": [
       "$\\lambda_1\\left(C^{vv}_0\\right) \\, \\lambda_3\\left(C^{vv}_2\\right)$"
      ],
      "text/plain": [
       "<IPython.core.display.Markdown object>"
      ]
     },
     "metadata": {},
     "output_type": "display_data"
    },
    {
     "name": "stdout",
     "output_type": "stream",
     "text": [
      "391 None\n"
     ]
    },
    {
     "data": {
      "text/markdown": [
       "$\\lambda_3\\left(C^{vv}_2\\right) \\, \\lambda_2\\left(C^{vv}_2\\right)$"
      ],
      "text/plain": [
       "<IPython.core.display.Markdown object>"
      ]
     },
     "metadata": {},
     "output_type": "display_data"
    },
    {
     "name": "stdout",
     "output_type": "stream",
     "text": [
      "392 None\n"
     ]
    },
    {
     "data": {
      "text/markdown": [
       "$\\lambda_1\\left(C^{xx}_0\\right) \\, \\lambda_2\\left(C^{xx}_2\\right)$"
      ],
      "text/plain": [
       "<IPython.core.display.Markdown object>"
      ]
     },
     "metadata": {},
     "output_type": "display_data"
    },
    {
     "name": "stdout",
     "output_type": "stream",
     "text": [
      "393 None\n"
     ]
    },
    {
     "data": {
      "text/markdown": [
       "$\\lambda_1\\left(C^{xx}_0\\right) \\, \\lambda_1\\left(C^{xx}_1\\right)$"
      ],
      "text/plain": [
       "<IPython.core.display.Markdown object>"
      ]
     },
     "metadata": {},
     "output_type": "display_data"
    },
    {
     "name": "stdout",
     "output_type": "stream",
     "text": [
      "394 None\n"
     ]
    },
    {
     "data": {
      "text/markdown": [
       "$\\lambda_2\\left(C^{xx}_0\\right) \\, \\lambda_2\\left(C^{xx}_2\\right)$"
      ],
      "text/plain": [
       "<IPython.core.display.Markdown object>"
      ]
     },
     "metadata": {},
     "output_type": "display_data"
    },
    {
     "name": "stdout",
     "output_type": "stream",
     "text": [
      "395 None\n"
     ]
    },
    {
     "data": {
      "text/markdown": [
       "$\\lambda_1\\left(C^{xx}_0\\right) \\, \\lambda_2\\left(C^{xx}_1\\right)$"
      ],
      "text/plain": [
       "<IPython.core.display.Markdown object>"
      ]
     },
     "metadata": {},
     "output_type": "display_data"
    },
    {
     "name": "stdout",
     "output_type": "stream",
     "text": [
      "396 None\n"
     ]
    },
    {
     "data": {
      "text/markdown": [
       "$\\lambda_3\\left(C^{xx}_0\\right) \\, \\lambda_2\\left(C^{vv}_2\\right)$"
      ],
      "text/plain": [
       "<IPython.core.display.Markdown object>"
      ]
     },
     "metadata": {},
     "output_type": "display_data"
    },
    {
     "name": "stdout",
     "output_type": "stream",
     "text": [
      "397 None\n"
     ]
    },
    {
     "data": {
      "text/markdown": [
       "$\\lambda_3\\left(C^{vv}_2\\right) \\, \\lambda_2\\left(C^{xx}_2\\right)$"
      ],
      "text/plain": [
       "<IPython.core.display.Markdown object>"
      ]
     },
     "metadata": {},
     "output_type": "display_data"
    },
    {
     "name": "stdout",
     "output_type": "stream",
     "text": [
      "398 None\n"
     ]
    },
    {
     "data": {
      "text/markdown": [
       "$\\lambda_2\\left(C^{xx}_0\\right) \\, \\lambda_2\\left(C^{xx}_1\\right)$"
      ],
      "text/plain": [
       "<IPython.core.display.Markdown object>"
      ]
     },
     "metadata": {},
     "output_type": "display_data"
    },
    {
     "name": "stdout",
     "output_type": "stream",
     "text": [
      "399 None\n"
     ]
    },
    {
     "data": {
      "text/markdown": [
       "$m_1 \\, \\lambda_3\\left(C^{vv}_2\\right)$"
      ],
      "text/plain": [
       "<IPython.core.display.Markdown object>"
      ]
     },
     "metadata": {},
     "output_type": "display_data"
    },
    {
     "name": "stdout",
     "output_type": "stream",
     "text": [
      "400 None\n"
     ]
    },
    {
     "data": {
      "text/markdown": [
       "$m_2 \\, \\lambda_3\\left(C^{xx}_2\\right)$"
      ],
      "text/plain": [
       "<IPython.core.display.Markdown object>"
      ]
     },
     "metadata": {},
     "output_type": "display_data"
    },
    {
     "name": "stdout",
     "output_type": "stream",
     "text": [
      "401 None\n"
     ]
    },
    {
     "data": {
      "text/markdown": [
       "$\\lambda_2\\left(C^{xx}_0\\right) \\, \\lambda_2\\left(C^{vv}_2\\right)$"
      ],
      "text/plain": [
       "<IPython.core.display.Markdown object>"
      ]
     },
     "metadata": {},
     "output_type": "display_data"
    },
    {
     "name": "stdout",
     "output_type": "stream",
     "text": [
      "402 None\n"
     ]
    },
    {
     "data": {
      "text/markdown": [
       "$\\lambda_2\\left(C^{xx}_0\\right) \\, \\lambda_1\\left(C^{xx}_1\\right)$"
      ],
      "text/plain": [
       "<IPython.core.display.Markdown object>"
      ]
     },
     "metadata": {},
     "output_type": "display_data"
    },
    {
     "name": "stdout",
     "output_type": "stream",
     "text": [
      "403 None\n"
     ]
    },
    {
     "data": {
      "text/markdown": [
       "$[C^{vv}_1]_{jk} \\, [C^{vv}_2]_{jk}$"
      ],
      "text/plain": [
       "<IPython.core.display.Markdown object>"
      ]
     },
     "metadata": {},
     "output_type": "display_data"
    },
    {
     "name": "stdout",
     "output_type": "stream",
     "text": [
      "404 None\n"
     ]
    },
    {
     "data": {
      "text/markdown": [
       "$\\lambda_2\\left(C^{xx}_2\\right)$"
      ],
      "text/plain": [
       "<IPython.core.display.Markdown object>"
      ]
     },
     "metadata": {},
     "output_type": "display_data"
    },
    {
     "name": "stdout",
     "output_type": "stream",
     "text": [
      "405 None\n"
     ]
    },
    {
     "data": {
      "text/markdown": [
       "$\\lambda_2\\left(C^{xx}_2\\right) \\, \\lambda_2\\left(C^{xx}_2\\right)$"
      ],
      "text/plain": [
       "<IPython.core.display.Markdown object>"
      ]
     },
     "metadata": {},
     "output_type": "display_data"
    },
    {
     "name": "stdout",
     "output_type": "stream",
     "text": [
      "406 None\n"
     ]
    },
    {
     "data": {
      "text/markdown": [
       "$\\lambda_1\\left(C^{xx}_0\\right) \\, \\lambda_2\\left(C^{vv}_2\\right)$"
      ],
      "text/plain": [
       "<IPython.core.display.Markdown object>"
      ]
     },
     "metadata": {},
     "output_type": "display_data"
    },
    {
     "name": "stdout",
     "output_type": "stream",
     "text": [
      "407 None\n"
     ]
    },
    {
     "data": {
      "text/markdown": [
       "$\\lambda_3\\left(C^{xx}_0\\right) \\, \\lambda_1\\left(C^{vv}_1\\right)$"
      ],
      "text/plain": [
       "<IPython.core.display.Markdown object>"
      ]
     },
     "metadata": {},
     "output_type": "display_data"
    },
    {
     "name": "stdout",
     "output_type": "stream",
     "text": [
      "408 None\n"
     ]
    },
    {
     "data": {
      "text/markdown": [
       "$m_0 \\, \\lambda_2\\left(C^{xx}_2\\right)$"
      ],
      "text/plain": [
       "<IPython.core.display.Markdown object>"
      ]
     },
     "metadata": {},
     "output_type": "display_data"
    },
    {
     "name": "stdout",
     "output_type": "stream",
     "text": [
      "409 None\n"
     ]
    },
    {
     "data": {
      "text/markdown": [
       "$\\lambda_3\\left(C^{vv}_1\\right) \\, \\lambda_3\\left(C^{vv}_2\\right)$"
      ],
      "text/plain": [
       "<IPython.core.display.Markdown object>"
      ]
     },
     "metadata": {},
     "output_type": "display_data"
    },
    {
     "name": "stdout",
     "output_type": "stream",
     "text": [
      "410 None\n"
     ]
    },
    {
     "data": {
      "text/markdown": [
       "$[C^{xx}_1]_{jk} \\, [C^{vv}_2]_{jk}$"
      ],
      "text/plain": [
       "<IPython.core.display.Markdown object>"
      ]
     },
     "metadata": {},
     "output_type": "display_data"
    },
    {
     "name": "stdout",
     "output_type": "stream",
     "text": [
      "411 None\n"
     ]
    },
    {
     "data": {
      "text/markdown": [
       "$\\lambda_1\\left(C^{xx}_1\\right) \\, \\lambda_3\\left(C^{vv}_2\\right)$"
      ],
      "text/plain": [
       "<IPython.core.display.Markdown object>"
      ]
     },
     "metadata": {},
     "output_type": "display_data"
    },
    {
     "name": "stdout",
     "output_type": "stream",
     "text": [
      "412 None\n"
     ]
    },
    {
     "data": {
      "text/markdown": [
       "$\\lambda_2\\left(C^{xx}_0\\right) \\, \\lambda_3\\left(C^{vv}_1\\right)$"
      ],
      "text/plain": [
       "<IPython.core.display.Markdown object>"
      ]
     },
     "metadata": {},
     "output_type": "display_data"
    },
    {
     "name": "stdout",
     "output_type": "stream",
     "text": [
      "413 None\n"
     ]
    },
    {
     "data": {
      "text/markdown": [
       "$\\lambda_2\\left(C^{vv}_1\\right) \\, \\lambda_3\\left(C^{vv}_2\\right)$"
      ],
      "text/plain": [
       "<IPython.core.display.Markdown object>"
      ]
     },
     "metadata": {},
     "output_type": "display_data"
    },
    {
     "name": "stdout",
     "output_type": "stream",
     "text": [
      "414 None\n"
     ]
    },
    {
     "data": {
      "text/markdown": [
       "$\\lambda_2\\left(C^{vv}_2\\right)$"
      ],
      "text/plain": [
       "<IPython.core.display.Markdown object>"
      ]
     },
     "metadata": {},
     "output_type": "display_data"
    },
    {
     "name": "stdout",
     "output_type": "stream",
     "text": [
      "415 None\n"
     ]
    },
    {
     "data": {
      "text/markdown": [
       "$\\lambda_2\\left(C^{vv}_2\\right) \\, \\lambda_2\\left(C^{vv}_2\\right)$"
      ],
      "text/plain": [
       "<IPython.core.display.Markdown object>"
      ]
     },
     "metadata": {},
     "output_type": "display_data"
    },
    {
     "name": "stdout",
     "output_type": "stream",
     "text": [
      "416 None\n"
     ]
    },
    {
     "data": {
      "text/markdown": [
       "$m_0 \\, \\lambda_2\\left(C^{vv}_2\\right)$"
      ],
      "text/plain": [
       "<IPython.core.display.Markdown object>"
      ]
     },
     "metadata": {},
     "output_type": "display_data"
    },
    {
     "name": "stdout",
     "output_type": "stream",
     "text": [
      "417 None\n"
     ]
    },
    {
     "data": {
      "text/markdown": [
       "$\\lambda_1\\left(C^{xx}_0\\right) \\, \\lambda_3\\left(C^{xx}_1\\right)$"
      ],
      "text/plain": [
       "<IPython.core.display.Markdown object>"
      ]
     },
     "metadata": {},
     "output_type": "display_data"
    },
    {
     "name": "stdout",
     "output_type": "stream",
     "text": [
      "418 None\n"
     ]
    },
    {
     "data": {
      "text/markdown": [
       "$\\lambda_2\\left(C^{xx}_1\\right) \\, \\lambda_3\\left(C^{vv}_2\\right)$"
      ],
      "text/plain": [
       "<IPython.core.display.Markdown object>"
      ]
     },
     "metadata": {},
     "output_type": "display_data"
    },
    {
     "name": "stdout",
     "output_type": "stream",
     "text": [
      "419 None\n"
     ]
    },
    {
     "data": {
      "text/markdown": [
       "$\\lambda_1\\left(C^{vv}_1\\right) \\, m_2$"
      ],
      "text/plain": [
       "<IPython.core.display.Markdown object>"
      ]
     },
     "metadata": {},
     "output_type": "display_data"
    },
    {
     "name": "stdout",
     "output_type": "stream",
     "text": [
      "420 None\n"
     ]
    },
    {
     "data": {
      "text/markdown": [
       "$\\lambda_1\\left(C^{vv}_2\\right) \\, \\lambda_3\\left(C^{xx}_2\\right)$"
      ],
      "text/plain": [
       "<IPython.core.display.Markdown object>"
      ]
     },
     "metadata": {},
     "output_type": "display_data"
    },
    {
     "name": "stdout",
     "output_type": "stream",
     "text": [
      "421 None\n"
     ]
    },
    {
     "data": {
      "text/markdown": [
       "$\\lambda_3\\left(C^{xx}_1\\right) \\, \\lambda_3\\left(C^{vv}_2\\right)$"
      ],
      "text/plain": [
       "<IPython.core.display.Markdown object>"
      ]
     },
     "metadata": {},
     "output_type": "display_data"
    },
    {
     "name": "stdout",
     "output_type": "stream",
     "text": [
      "422 None\n"
     ]
    },
    {
     "data": {
      "text/markdown": [
       "$\\lambda_3\\left(C^{vv}_0\\right) \\, \\lambda_2\\left(C^{xx}_2\\right)$"
      ],
      "text/plain": [
       "<IPython.core.display.Markdown object>"
      ]
     },
     "metadata": {},
     "output_type": "display_data"
    },
    {
     "name": "stdout",
     "output_type": "stream",
     "text": [
      "423 None\n"
     ]
    },
    {
     "data": {
      "text/markdown": [
       "$\\lambda_2\\left(\\frac{1}{2} (C^{xv}_2 + C^{vx}_2)\\right) \\, \\lambda_2\\left(\\frac{1}{2} (C^{xv}_2 + C^{vx}_2)\\right)$"
      ],
      "text/plain": [
       "<IPython.core.display.Markdown object>"
      ]
     },
     "metadata": {},
     "output_type": "display_data"
    },
    {
     "name": "stdout",
     "output_type": "stream",
     "text": [
      "424 None\n"
     ]
    },
    {
     "data": {
      "text/markdown": [
       "$\\lambda_2\\left(C^{vv}_0\\right) \\, \\lambda_2\\left(C^{xx}_2\\right)$"
      ],
      "text/plain": [
       "<IPython.core.display.Markdown object>"
      ]
     },
     "metadata": {},
     "output_type": "display_data"
    },
    {
     "name": "stdout",
     "output_type": "stream",
     "text": [
      "425 None\n"
     ]
    },
    {
     "data": {
      "text/markdown": [
       "$\\lambda_3\\left(C^{vv}_0\\right) \\, \\lambda_2\\left(C^{vv}_2\\right)$"
      ],
      "text/plain": [
       "<IPython.core.display.Markdown object>"
      ]
     },
     "metadata": {},
     "output_type": "display_data"
    },
    {
     "name": "stdout",
     "output_type": "stream",
     "text": [
      "426 None\n"
     ]
    },
    {
     "data": {
      "text/markdown": [
       "$\\lambda_2\\left(C^{vv}_0\\right) \\, \\lambda_2\\left(C^{vv}_2\\right)$"
      ],
      "text/plain": [
       "<IPython.core.display.Markdown object>"
      ]
     },
     "metadata": {},
     "output_type": "display_data"
    },
    {
     "name": "stdout",
     "output_type": "stream",
     "text": [
      "427 None\n"
     ]
    },
    {
     "data": {
      "text/markdown": [
       "$\\lambda_1\\left(\\frac{1}{2} (C^{xv}_0 + C^{vx}_0)\\right) \\, \\lambda_1\\left(\\frac{1}{2} (C^{xv}_2 + C^{vx}_2)\\right)$"
      ],
      "text/plain": [
       "<IPython.core.display.Markdown object>"
      ]
     },
     "metadata": {},
     "output_type": "display_data"
    },
    {
     "name": "stdout",
     "output_type": "stream",
     "text": [
      "428 None\n"
     ]
    },
    {
     "data": {
      "text/markdown": [
       "$\\lambda_2\\left(C^{vv}_2\\right) \\, \\lambda_2\\left(C^{xx}_2\\right)$"
      ],
      "text/plain": [
       "<IPython.core.display.Markdown object>"
      ]
     },
     "metadata": {},
     "output_type": "display_data"
    },
    {
     "name": "stdout",
     "output_type": "stream",
     "text": [
      "429 None\n"
     ]
    },
    {
     "data": {
      "text/markdown": [
       "$\\lambda_1\\left(C^{vv}_0\\right) \\, \\lambda_2\\left(C^{vv}_2\\right)$"
      ],
      "text/plain": [
       "<IPython.core.display.Markdown object>"
      ]
     },
     "metadata": {},
     "output_type": "display_data"
    },
    {
     "name": "stdout",
     "output_type": "stream",
     "text": [
      "430 None\n"
     ]
    },
    {
     "data": {
      "text/markdown": [
       "$m_1 \\, \\lambda_2\\left(C^{xx}_2\\right)$"
      ],
      "text/plain": [
       "<IPython.core.display.Markdown object>"
      ]
     },
     "metadata": {},
     "output_type": "display_data"
    },
    {
     "name": "stdout",
     "output_type": "stream",
     "text": [
      "431 None\n"
     ]
    },
    {
     "data": {
      "text/markdown": [
       "$\\lambda_1\\left(C^{vv}_1\\right) \\, \\lambda_3\\left(C^{vv}_2\\right)$"
      ],
      "text/plain": [
       "<IPython.core.display.Markdown object>"
      ]
     },
     "metadata": {},
     "output_type": "display_data"
    },
    {
     "name": "stdout",
     "output_type": "stream",
     "text": [
      "432 None\n"
     ]
    },
    {
     "data": {
      "text/markdown": [
       "$\\lambda_3\\left(C^{vv}_2\\right) \\, \\lambda_3\\left(C^{xx}_2\\right)$"
      ],
      "text/plain": [
       "<IPython.core.display.Markdown object>"
      ]
     },
     "metadata": {},
     "output_type": "display_data"
    },
    {
     "name": "stdout",
     "output_type": "stream",
     "text": [
      "433 None\n"
     ]
    },
    {
     "data": {
      "text/markdown": [
       "$\\lambda_1\\left(C^{xx}_0\\right) \\, \\lambda_1\\left(C^{vv}_1\\right)$"
      ],
      "text/plain": [
       "<IPython.core.display.Markdown object>"
      ]
     },
     "metadata": {},
     "output_type": "display_data"
    },
    {
     "name": "stdout",
     "output_type": "stream",
     "text": [
      "434 None\n"
     ]
    },
    {
     "data": {
      "text/markdown": [
       "$\\lambda_1\\left(C^{vv}_0\\right) \\, \\lambda_2\\left(C^{xx}_2\\right)$"
      ],
      "text/plain": [
       "<IPython.core.display.Markdown object>"
      ]
     },
     "metadata": {},
     "output_type": "display_data"
    },
    {
     "name": "stdout",
     "output_type": "stream",
     "text": [
      "435 None\n"
     ]
    },
    {
     "data": {
      "text/markdown": [
       "$\\lambda_1\\left(C^{xx}_1\\right)$"
      ],
      "text/plain": [
       "<IPython.core.display.Markdown object>"
      ]
     },
     "metadata": {},
     "output_type": "display_data"
    },
    {
     "name": "stdout",
     "output_type": "stream",
     "text": [
      "436 None\n"
     ]
    },
    {
     "data": {
      "text/markdown": [
       "$\\lambda_1\\left(C^{xx}_1\\right) \\, \\lambda_1\\left(C^{xx}_1\\right)$"
      ],
      "text/plain": [
       "<IPython.core.display.Markdown object>"
      ]
     },
     "metadata": {},
     "output_type": "display_data"
    },
    {
     "name": "stdout",
     "output_type": "stream",
     "text": [
      "437 None\n"
     ]
    },
    {
     "data": {
      "text/markdown": [
       "$\\lambda_1\\left(\\frac{1}{2} (C^{xv}_0 + C^{vx}_0)\\right) \\, \\lambda_1\\left(C^{xx}_2\\right)$"
      ],
      "text/plain": [
       "<IPython.core.display.Markdown object>"
      ]
     },
     "metadata": {},
     "output_type": "display_data"
    },
    {
     "name": "stdout",
     "output_type": "stream",
     "text": [
      "438 None\n"
     ]
    },
    {
     "data": {
      "text/markdown": [
       "$\\lambda_1\\left(C^{xx}_1\\right) \\, \\lambda_2\\left(C^{xx}_2\\right)$"
      ],
      "text/plain": [
       "<IPython.core.display.Markdown object>"
      ]
     },
     "metadata": {},
     "output_type": "display_data"
    },
    {
     "name": "stdout",
     "output_type": "stream",
     "text": [
      "439 None\n"
     ]
    },
    {
     "data": {
      "text/markdown": [
       "$\\lambda_1\\left(\\frac{1}{2} (C^{xv}_0 + C^{vx}_0)\\right) \\, \\lambda_2\\left(C^{xx}_2\\right)$"
      ],
      "text/plain": [
       "<IPython.core.display.Markdown object>"
      ]
     },
     "metadata": {},
     "output_type": "display_data"
    },
    {
     "name": "stdout",
     "output_type": "stream",
     "text": [
      "440 None\n"
     ]
    },
    {
     "data": {
      "text/markdown": [
       "$m_1 \\, \\lambda_2\\left(C^{vv}_2\\right)$"
      ],
      "text/plain": [
       "<IPython.core.display.Markdown object>"
      ]
     },
     "metadata": {},
     "output_type": "display_data"
    },
    {
     "name": "stdout",
     "output_type": "stream",
     "text": [
      "441 None\n"
     ]
    },
    {
     "data": {
      "text/markdown": [
       "$\\lambda_2\\left(C^{xx}_1\\right) \\, \\lambda_2\\left(C^{xx}_2\\right)$"
      ],
      "text/plain": [
       "<IPython.core.display.Markdown object>"
      ]
     },
     "metadata": {},
     "output_type": "display_data"
    },
    {
     "name": "stdout",
     "output_type": "stream",
     "text": [
      "442 None\n"
     ]
    },
    {
     "data": {
      "text/markdown": [
       "$\\lambda_1\\left(\\frac{1}{2} (C^{xv}_0 + C^{vx}_0)\\right) \\, \\lambda_1\\left(C^{xx}_0\\right)$"
      ],
      "text/plain": [
       "<IPython.core.display.Markdown object>"
      ]
     },
     "metadata": {},
     "output_type": "display_data"
    },
    {
     "name": "stdout",
     "output_type": "stream",
     "text": [
      "443 None\n"
     ]
    },
    {
     "data": {
      "text/markdown": [
       "$\\lambda_3\\left(C^{xx}_2\\right) \\, \\lambda_2\\left(C^{xx}_2\\right)$"
      ],
      "text/plain": [
       "<IPython.core.display.Markdown object>"
      ]
     },
     "metadata": {},
     "output_type": "display_data"
    },
    {
     "name": "stdout",
     "output_type": "stream",
     "text": [
      "444 None\n"
     ]
    },
    {
     "data": {
      "text/markdown": [
       "$\\lambda_1\\left(\\frac{1}{2} (C^{xv}_0 + C^{vx}_0)\\right) \\, m_2$"
      ],
      "text/plain": [
       "<IPython.core.display.Markdown object>"
      ]
     },
     "metadata": {},
     "output_type": "display_data"
    },
    {
     "name": "stdout",
     "output_type": "stream",
     "text": [
      "445 None\n"
     ]
    },
    {
     "data": {
      "text/markdown": [
       "$\\lambda_1\\left(\\frac{1}{2} (C^{xv}_0 + C^{vx}_0)\\right) \\, \\lambda_3\\left(C^{xx}_0\\right)$"
      ],
      "text/plain": [
       "<IPython.core.display.Markdown object>"
      ]
     },
     "metadata": {},
     "output_type": "display_data"
    },
    {
     "name": "stdout",
     "output_type": "stream",
     "text": [
      "446 None\n"
     ]
    },
    {
     "data": {
      "text/markdown": [
       "$[x_1]_{j} \\, [x_1]_{j}$"
      ],
      "text/plain": [
       "<IPython.core.display.Markdown object>"
      ]
     },
     "metadata": {},
     "output_type": "display_data"
    },
    {
     "name": "stdout",
     "output_type": "stream",
     "text": [
      "447 None\n"
     ]
    },
    {
     "data": {
      "text/markdown": [
       "$\\lambda_1\\left(\\frac{1}{2} (C^{xv}_0 + C^{vx}_0)\\right) \\, \\lambda_2\\left(C^{xx}_0\\right)$"
      ],
      "text/plain": [
       "<IPython.core.display.Markdown object>"
      ]
     },
     "metadata": {},
     "output_type": "display_data"
    },
    {
     "name": "stdout",
     "output_type": "stream",
     "text": [
      "448 None\n"
     ]
    },
    {
     "data": {
      "text/markdown": [
       "$\\lambda_2\\left(C^{vv}_1\\right) \\, \\lambda_2\\left(C^{vv}_2\\right)$"
      ],
      "text/plain": [
       "<IPython.core.display.Markdown object>"
      ]
     },
     "metadata": {},
     "output_type": "display_data"
    },
    {
     "name": "stdout",
     "output_type": "stream",
     "text": [
      "449 None\n"
     ]
    },
    {
     "data": {
      "text/markdown": [
       "$\\lambda_3\\left(C^{xx}_1\\right) \\, \\lambda_2\\left(C^{xx}_2\\right)$"
      ],
      "text/plain": [
       "<IPython.core.display.Markdown object>"
      ]
     },
     "metadata": {},
     "output_type": "display_data"
    },
    {
     "name": "stdout",
     "output_type": "stream",
     "text": [
      "450 None\n"
     ]
    },
    {
     "data": {
      "text/markdown": [
       "$\\lambda_3\\left(C^{vv}_1\\right) \\, \\lambda_2\\left(C^{vv}_2\\right)$"
      ],
      "text/plain": [
       "<IPython.core.display.Markdown object>"
      ]
     },
     "metadata": {},
     "output_type": "display_data"
    },
    {
     "name": "stdout",
     "output_type": "stream",
     "text": [
      "451 None\n"
     ]
    },
    {
     "data": {
      "text/markdown": [
       "$[v_0]_{j} \\, [v_0]_{j}$"
      ],
      "text/plain": [
       "<IPython.core.display.Markdown object>"
      ]
     },
     "metadata": {},
     "output_type": "display_data"
    },
    {
     "name": "stdout",
     "output_type": "stream",
     "text": [
      "452 None\n"
     ]
    },
    {
     "data": {
      "text/markdown": [
       "$\\lambda_1\\left(\\frac{1}{2} (C^{xv}_0 + C^{vx}_0)\\right) \\, \\lambda_1\\left(C^{xx}_1\\right)$"
      ],
      "text/plain": [
       "<IPython.core.display.Markdown object>"
      ]
     },
     "metadata": {},
     "output_type": "display_data"
    },
    {
     "name": "stdout",
     "output_type": "stream",
     "text": [
      "453 None\n"
     ]
    },
    {
     "data": {
      "text/markdown": [
       "$\\lambda_2\\left(C^{xx}_0\\right) \\, \\lambda_1\\left(C^{vv}_1\\right)$"
      ],
      "text/plain": [
       "<IPython.core.display.Markdown object>"
      ]
     },
     "metadata": {},
     "output_type": "display_data"
    },
    {
     "name": "stdout",
     "output_type": "stream",
     "text": [
      "454 None\n"
     ]
    },
    {
     "data": {
      "text/markdown": [
       "$\\lambda_1\\left(\\frac{1}{2} (C^{xv}_0 + C^{vx}_0)\\right) \\, m_1$"
      ],
      "text/plain": [
       "<IPython.core.display.Markdown object>"
      ]
     },
     "metadata": {},
     "output_type": "display_data"
    },
    {
     "name": "stdout",
     "output_type": "stream",
     "text": [
      "455 None\n"
     ]
    },
    {
     "data": {
      "text/markdown": [
       "$\\lambda_1\\left(C^{xx}_1\\right) \\, \\lambda_2\\left(C^{vv}_2\\right)$"
      ],
      "text/plain": [
       "<IPython.core.display.Markdown object>"
      ]
     },
     "metadata": {},
     "output_type": "display_data"
    },
    {
     "name": "stdout",
     "output_type": "stream",
     "text": [
      "456 None\n"
     ]
    },
    {
     "data": {
      "text/markdown": [
       "$\\lambda_1\\left(\\frac{1}{2} (C^{xv}_0 + C^{vx}_0)\\right)$"
      ],
      "text/plain": [
       "<IPython.core.display.Markdown object>"
      ]
     },
     "metadata": {},
     "output_type": "display_data"
    },
    {
     "name": "stdout",
     "output_type": "stream",
     "text": [
      "457 None\n"
     ]
    },
    {
     "data": {
      "text/markdown": [
       "$m_0 \\, \\lambda_1\\left(\\frac{1}{2} (C^{xv}_0 + C^{vx}_0)\\right)$"
      ],
      "text/plain": [
       "<IPython.core.display.Markdown object>"
      ]
     },
     "metadata": {},
     "output_type": "display_data"
    },
    {
     "name": "stdout",
     "output_type": "stream",
     "text": [
      "458 None\n"
     ]
    },
    {
     "data": {
      "text/markdown": [
       "$[v_1]_{j} \\, [v_1]_{j}$"
      ],
      "text/plain": [
       "<IPython.core.display.Markdown object>"
      ]
     },
     "metadata": {},
     "output_type": "display_data"
    },
    {
     "name": "stdout",
     "output_type": "stream",
     "text": [
      "459 None\n"
     ]
    },
    {
     "data": {
      "text/markdown": [
       "$\\lambda_3\\left(C^{vv}_1\\right) \\, \\lambda_2\\left(C^{xx}_2\\right)$"
      ],
      "text/plain": [
       "<IPython.core.display.Markdown object>"
      ]
     },
     "metadata": {},
     "output_type": "display_data"
    },
    {
     "name": "stdout",
     "output_type": "stream",
     "text": [
      "460 None\n"
     ]
    },
    {
     "data": {
      "text/markdown": [
       "$\\lambda_1\\left(\\frac{1}{2} (C^{xv}_0 + C^{vx}_0)\\right) \\, \\lambda_1\\left(C^{vv}_2\\right)$"
      ],
      "text/plain": [
       "<IPython.core.display.Markdown object>"
      ]
     },
     "metadata": {},
     "output_type": "display_data"
    },
    {
     "name": "stdout",
     "output_type": "stream",
     "text": [
      "461 None\n"
     ]
    },
    {
     "data": {
      "text/markdown": [
       "$\\lambda_1\\left(\\frac{1}{2} (C^{xv}_0 + C^{vx}_0)\\right) \\, \\lambda_2\\left(C^{xx}_1\\right)$"
      ],
      "text/plain": [
       "<IPython.core.display.Markdown object>"
      ]
     },
     "metadata": {},
     "output_type": "display_data"
    },
    {
     "name": "stdout",
     "output_type": "stream",
     "text": [
      "462 None\n"
     ]
    },
    {
     "data": {
      "text/markdown": [
       "$\\lambda_3\\left(C^{vv}_0\\right) \\, \\lambda_1\\left(\\frac{1}{2} (C^{xv}_0 + C^{vx}_0)\\right)$"
      ],
      "text/plain": [
       "<IPython.core.display.Markdown object>"
      ]
     },
     "metadata": {},
     "output_type": "display_data"
    },
    {
     "name": "stdout",
     "output_type": "stream",
     "text": [
      "463 None\n"
     ]
    },
    {
     "data": {
      "text/markdown": [
       "$\\lambda_2\\left(C^{vv}_2\\right) \\, \\lambda_3\\left(C^{xx}_2\\right)$"
      ],
      "text/plain": [
       "<IPython.core.display.Markdown object>"
      ]
     },
     "metadata": {},
     "output_type": "display_data"
    },
    {
     "name": "stdout",
     "output_type": "stream",
     "text": [
      "464 None\n"
     ]
    },
    {
     "data": {
      "text/markdown": [
       "$\\lambda_1\\left(\\frac{1}{2} (C^{xv}_0 + C^{vx}_0)\\right) \\, \\lambda_3\\left(C^{xx}_1\\right)$"
      ],
      "text/plain": [
       "<IPython.core.display.Markdown object>"
      ]
     },
     "metadata": {},
     "output_type": "display_data"
    },
    {
     "name": "stdout",
     "output_type": "stream",
     "text": [
      "465 None\n"
     ]
    },
    {
     "data": {
      "text/markdown": [
       "$\\lambda_1\\left(\\frac{1}{2} (C^{xv}_0 + C^{vx}_0)\\right) \\, \\lambda_3\\left(C^{vv}_2\\right)$"
      ],
      "text/plain": [
       "<IPython.core.display.Markdown object>"
      ]
     },
     "metadata": {},
     "output_type": "display_data"
    },
    {
     "name": "stdout",
     "output_type": "stream",
     "text": [
      "466 None\n"
     ]
    },
    {
     "data": {
      "text/markdown": [
       "$\\lambda_2\\left(C^{vv}_0\\right) \\, \\lambda_1\\left(\\frac{1}{2} (C^{xv}_0 + C^{vx}_0)\\right)$"
      ],
      "text/plain": [
       "<IPython.core.display.Markdown object>"
      ]
     },
     "metadata": {},
     "output_type": "display_data"
    },
    {
     "name": "stdout",
     "output_type": "stream",
     "text": [
      "467 None\n"
     ]
    },
    {
     "data": {
      "text/markdown": [
       "$\\lambda_2\\left(C^{xx}_1\\right) \\, \\lambda_2\\left(C^{vv}_2\\right)$"
      ],
      "text/plain": [
       "<IPython.core.display.Markdown object>"
      ]
     },
     "metadata": {},
     "output_type": "display_data"
    },
    {
     "name": "stdout",
     "output_type": "stream",
     "text": [
      "468 None\n"
     ]
    },
    {
     "data": {
      "text/markdown": [
       "$\\lambda_3\\left(C^{xx}_1\\right) \\, \\lambda_2\\left(C^{vv}_2\\right)$"
      ],
      "text/plain": [
       "<IPython.core.display.Markdown object>"
      ]
     },
     "metadata": {},
     "output_type": "display_data"
    },
    {
     "name": "stdout",
     "output_type": "stream",
     "text": [
      "469 None\n"
     ]
    },
    {
     "data": {
      "text/markdown": [
       "$\\lambda_1\\left(\\frac{1}{2} (C^{xv}_0 + C^{vx}_0)\\right) \\, \\lambda_3\\left(C^{xx}_2\\right)$"
      ],
      "text/plain": [
       "<IPython.core.display.Markdown object>"
      ]
     },
     "metadata": {},
     "output_type": "display_data"
    },
    {
     "name": "stdout",
     "output_type": "stream",
     "text": [
      "470 None\n"
     ]
    },
    {
     "data": {
      "text/markdown": [
       "$\\lambda_2\\left(C^{vv}_1\\right) \\, \\lambda_2\\left(C^{xx}_2\\right)$"
      ],
      "text/plain": [
       "<IPython.core.display.Markdown object>"
      ]
     },
     "metadata": {},
     "output_type": "display_data"
    },
    {
     "name": "stdout",
     "output_type": "stream",
     "text": [
      "471 None\n"
     ]
    },
    {
     "data": {
      "text/markdown": [
       "$\\lambda_1\\left(\\frac{1}{2} (C^{xv}_0 + C^{vx}_0)\\right) \\, \\lambda_2\\left(C^{vv}_2\\right)$"
      ],
      "text/plain": [
       "<IPython.core.display.Markdown object>"
      ]
     },
     "metadata": {},
     "output_type": "display_data"
    },
    {
     "name": "stdout",
     "output_type": "stream",
     "text": [
      "472 None\n"
     ]
    },
    {
     "data": {
      "text/markdown": [
       "$m_1 \\, \\lambda_1\\left(C^{xx}_1\\right)$"
      ],
      "text/plain": [
       "<IPython.core.display.Markdown object>"
      ]
     },
     "metadata": {},
     "output_type": "display_data"
    },
    {
     "name": "stdout",
     "output_type": "stream",
     "text": [
      "473 None\n"
     ]
    },
    {
     "data": {
      "text/markdown": [
       "$\\lambda_3\\left(C^{xx}_0\\right) \\, \\lambda_3\\left(C^{xx}_2\\right)$"
      ],
      "text/plain": [
       "<IPython.core.display.Markdown object>"
      ]
     },
     "metadata": {},
     "output_type": "display_data"
    },
    {
     "name": "stdout",
     "output_type": "stream",
     "text": [
      "474 None\n"
     ]
    },
    {
     "data": {
      "text/markdown": [
       "$\\lambda_1\\left(C^{vv}_0\\right) \\, \\lambda_1\\left(\\frac{1}{2} (C^{xv}_0 + C^{vx}_0)\\right)$"
      ],
      "text/plain": [
       "<IPython.core.display.Markdown object>"
      ]
     },
     "metadata": {},
     "output_type": "display_data"
    },
    {
     "name": "stdout",
     "output_type": "stream",
     "text": [
      "475 None\n"
     ]
    },
    {
     "data": {
      "text/markdown": [
       "$\\lambda_1\\left(C^{vv}_1\\right) \\, \\lambda_2\\left(C^{vv}_2\\right)$"
      ],
      "text/plain": [
       "<IPython.core.display.Markdown object>"
      ]
     },
     "metadata": {},
     "output_type": "display_data"
    },
    {
     "name": "stdout",
     "output_type": "stream",
     "text": [
      "476 None\n"
     ]
    },
    {
     "data": {
      "text/markdown": [
       "$\\lambda_1\\left(C^{xx}_0\\right) \\, \\lambda_3\\left(C^{xx}_2\\right)$"
      ],
      "text/plain": [
       "<IPython.core.display.Markdown object>"
      ]
     },
     "metadata": {},
     "output_type": "display_data"
    },
    {
     "name": "stdout",
     "output_type": "stream",
     "text": [
      "477 None\n"
     ]
    },
    {
     "data": {
      "text/markdown": [
       "$\\lambda_1\\left(\\frac{1}{2} (C^{xv}_0 + C^{vx}_0)\\right) \\, \\lambda_2\\left(C^{vv}_1\\right)$"
      ],
      "text/plain": [
       "<IPython.core.display.Markdown object>"
      ]
     },
     "metadata": {},
     "output_type": "display_data"
    },
    {
     "name": "stdout",
     "output_type": "stream",
     "text": [
      "478 None\n"
     ]
    },
    {
     "data": {
      "text/markdown": [
       "$\\lambda_1\\left(\\frac{1}{2} (C^{xv}_0 + C^{vx}_0)\\right) \\, \\lambda_3\\left(C^{vv}_1\\right)$"
      ],
      "text/plain": [
       "<IPython.core.display.Markdown object>"
      ]
     },
     "metadata": {},
     "output_type": "display_data"
    },
    {
     "name": "stdout",
     "output_type": "stream",
     "text": [
      "479 None\n"
     ]
    },
    {
     "data": {
      "text/markdown": [
       "$\\lambda_2\\left(C^{xx}_0\\right) \\, \\lambda_3\\left(C^{xx}_2\\right)$"
      ],
      "text/plain": [
       "<IPython.core.display.Markdown object>"
      ]
     },
     "metadata": {},
     "output_type": "display_data"
    },
    {
     "name": "stdout",
     "output_type": "stream",
     "text": [
      "480 None\n"
     ]
    },
    {
     "data": {
      "text/markdown": [
       "$\\lambda_1\\left(\\frac{1}{2} (C^{xv}_0 + C^{vx}_0)\\right) \\, \\lambda_1\\left(C^{vv}_1\\right)$"
      ],
      "text/plain": [
       "<IPython.core.display.Markdown object>"
      ]
     },
     "metadata": {},
     "output_type": "display_data"
    },
    {
     "name": "stdout",
     "output_type": "stream",
     "text": [
      "481 None\n"
     ]
    },
    {
     "data": {
      "text/markdown": [
       "$m_1 \\, m_1$"
      ],
      "text/plain": [
       "<IPython.core.display.Markdown object>"
      ]
     },
     "metadata": {},
     "output_type": "display_data"
    },
    {
     "name": "stdout",
     "output_type": "stream",
     "text": [
      "482 None\n"
     ]
    },
    {
     "data": {
      "text/markdown": [
       "$m_1$"
      ],
      "text/plain": [
       "<IPython.core.display.Markdown object>"
      ]
     },
     "metadata": {},
     "output_type": "display_data"
    },
    {
     "name": "stdout",
     "output_type": "stream",
     "text": [
      "483 None\n"
     ]
    },
    {
     "data": {
      "text/markdown": [
       "$\\lambda_3\\left(C^{xx}_2\\right)$"
      ],
      "text/plain": [
       "<IPython.core.display.Markdown object>"
      ]
     },
     "metadata": {},
     "output_type": "display_data"
    },
    {
     "name": "stdout",
     "output_type": "stream",
     "text": [
      "484 None\n"
     ]
    },
    {
     "data": {
      "text/markdown": [
       "$\\lambda_3\\left(C^{xx}_2\\right) \\, \\lambda_3\\left(C^{xx}_2\\right)$"
      ],
      "text/plain": [
       "<IPython.core.display.Markdown object>"
      ]
     },
     "metadata": {},
     "output_type": "display_data"
    },
    {
     "name": "stdout",
     "output_type": "stream",
     "text": [
      "485 None\n"
     ]
    },
    {
     "data": {
      "text/markdown": [
       "$[C^{xx}_0]_{jk} \\, [C^{vv}_1]_{jk}$"
      ],
      "text/plain": [
       "<IPython.core.display.Markdown object>"
      ]
     },
     "metadata": {},
     "output_type": "display_data"
    },
    {
     "name": "stdout",
     "output_type": "stream",
     "text": [
      "486 None\n"
     ]
    },
    {
     "data": {
      "text/markdown": [
       "$m_0 \\, \\lambda_3\\left(C^{xx}_2\\right)$"
      ],
      "text/plain": [
       "<IPython.core.display.Markdown object>"
      ]
     },
     "metadata": {},
     "output_type": "display_data"
    },
    {
     "name": "stdout",
     "output_type": "stream",
     "text": [
      "487 None\n"
     ]
    },
    {
     "data": {
      "text/markdown": [
       "$\\lambda_1\\left(C^{vv}_1\\right) \\, \\lambda_2\\left(C^{xx}_2\\right)$"
      ],
      "text/plain": [
       "<IPython.core.display.Markdown object>"
      ]
     },
     "metadata": {},
     "output_type": "display_data"
    },
    {
     "name": "stdout",
     "output_type": "stream",
     "text": [
      "488 None\n"
     ]
    },
    {
     "data": {
      "text/markdown": [
       "$m_1 \\, \\lambda_3\\left(C^{xx}_2\\right)$"
      ],
      "text/plain": [
       "<IPython.core.display.Markdown object>"
      ]
     },
     "metadata": {},
     "output_type": "display_data"
    },
    {
     "name": "stdout",
     "output_type": "stream",
     "text": [
      "489 None\n"
     ]
    },
    {
     "data": {
      "text/markdown": [
       "$\\lambda_3\\left(C^{vv}_0\\right) \\, \\lambda_3\\left(C^{xx}_2\\right)$"
      ],
      "text/plain": [
       "<IPython.core.display.Markdown object>"
      ]
     },
     "metadata": {},
     "output_type": "display_data"
    },
    {
     "name": "stdout",
     "output_type": "stream",
     "text": [
      "490 None\n"
     ]
    },
    {
     "data": {
      "text/markdown": [
       "$\\lambda_1\\left(C^{xx}_1\\right) \\, \\lambda_3\\left(C^{xx}_2\\right)$"
      ],
      "text/plain": [
       "<IPython.core.display.Markdown object>"
      ]
     },
     "metadata": {},
     "output_type": "display_data"
    },
    {
     "name": "stdout",
     "output_type": "stream",
     "text": [
      "491 None\n"
     ]
    },
    {
     "data": {
      "text/markdown": [
       "$\\lambda_3\\left(C^{xx}_1\\right) \\, \\lambda_3\\left(C^{xx}_1\\right)$"
      ],
      "text/plain": [
       "<IPython.core.display.Markdown object>"
      ]
     },
     "metadata": {},
     "output_type": "display_data"
    },
    {
     "name": "stdout",
     "output_type": "stream",
     "text": [
      "492 None\n"
     ]
    },
    {
     "data": {
      "text/markdown": [
       "$\\lambda_3\\left(C^{xx}_1\\right)$"
      ],
      "text/plain": [
       "<IPython.core.display.Markdown object>"
      ]
     },
     "metadata": {},
     "output_type": "display_data"
    },
    {
     "name": "stdout",
     "output_type": "stream",
     "text": [
      "493 None\n"
     ]
    },
    {
     "data": {
      "text/markdown": [
       "$\\lambda_2\\left(C^{vv}_0\\right) \\, \\lambda_3\\left(C^{xx}_2\\right)$"
      ],
      "text/plain": [
       "<IPython.core.display.Markdown object>"
      ]
     },
     "metadata": {},
     "output_type": "display_data"
    },
    {
     "name": "stdout",
     "output_type": "stream",
     "text": [
      "494 None\n"
     ]
    },
    {
     "data": {
      "text/markdown": [
       "$\\lambda_1\\left(C^{vv}_1\\right) \\, \\lambda_1\\left(C^{vv}_1\\right)$"
      ],
      "text/plain": [
       "<IPython.core.display.Markdown object>"
      ]
     },
     "metadata": {},
     "output_type": "display_data"
    },
    {
     "name": "stdout",
     "output_type": "stream",
     "text": [
      "495 None\n"
     ]
    },
    {
     "data": {
      "text/markdown": [
       "$\\lambda_1\\left(C^{vv}_1\\right)$"
      ],
      "text/plain": [
       "<IPython.core.display.Markdown object>"
      ]
     },
     "metadata": {},
     "output_type": "display_data"
    },
    {
     "name": "stdout",
     "output_type": "stream",
     "text": [
      "496 None\n"
     ]
    },
    {
     "data": {
      "text/markdown": [
       "$\\lambda_2\\left(C^{xx}_1\\right) \\, \\lambda_3\\left(C^{xx}_2\\right)$"
      ],
      "text/plain": [
       "<IPython.core.display.Markdown object>"
      ]
     },
     "metadata": {},
     "output_type": "display_data"
    },
    {
     "name": "stdout",
     "output_type": "stream",
     "text": [
      "497 None\n"
     ]
    },
    {
     "data": {
      "text/markdown": [
       "$\\lambda_2\\left(C^{vv}_1\\right) \\, \\lambda_2\\left(C^{vv}_1\\right)$"
      ],
      "text/plain": [
       "<IPython.core.display.Markdown object>"
      ]
     },
     "metadata": {},
     "output_type": "display_data"
    },
    {
     "name": "stdout",
     "output_type": "stream",
     "text": [
      "498 None\n"
     ]
    },
    {
     "data": {
      "text/markdown": [
       "$\\lambda_2\\left(C^{vv}_1\\right)$"
      ],
      "text/plain": [
       "<IPython.core.display.Markdown object>"
      ]
     },
     "metadata": {},
     "output_type": "display_data"
    },
    {
     "name": "stdout",
     "output_type": "stream",
     "text": [
      "499 None\n"
     ]
    },
    {
     "data": {
      "text/markdown": [
       "$\\lambda_3\\left(C^{xx}_1\\right) \\, \\lambda_3\\left(C^{xx}_2\\right)$"
      ],
      "text/plain": [
       "<IPython.core.display.Markdown object>"
      ]
     },
     "metadata": {},
     "output_type": "display_data"
    },
    {
     "name": "stdout",
     "output_type": "stream",
     "text": [
      "500 None\n"
     ]
    },
    {
     "data": {
      "text/markdown": [
       "$\\lambda_1\\left(C^{vv}_0\\right) \\, \\lambda_3\\left(C^{xx}_2\\right)$"
      ],
      "text/plain": [
       "<IPython.core.display.Markdown object>"
      ]
     },
     "metadata": {},
     "output_type": "display_data"
    },
    {
     "name": "stdout",
     "output_type": "stream",
     "text": [
      "501 None\n"
     ]
    },
    {
     "data": {
      "text/markdown": [
       "$\\lambda_3\\left(C^{vv}_1\\right) \\, \\lambda_3\\left(C^{xx}_2\\right)$"
      ],
      "text/plain": [
       "<IPython.core.display.Markdown object>"
      ]
     },
     "metadata": {},
     "output_type": "display_data"
    },
    {
     "name": "stdout",
     "output_type": "stream",
     "text": [
      "502 None\n"
     ]
    },
    {
     "data": {
      "text/markdown": [
       "$\\lambda_2\\left(C^{vv}_1\\right) \\, \\lambda_3\\left(C^{xx}_2\\right)$"
      ],
      "text/plain": [
       "<IPython.core.display.Markdown object>"
      ]
     },
     "metadata": {},
     "output_type": "display_data"
    },
    {
     "name": "stdout",
     "output_type": "stream",
     "text": [
      "503 None\n"
     ]
    },
    {
     "data": {
      "text/markdown": [
       "$[\\frac{1}{2} (C^{xv}_0 - C^{vx}_0)]_{jk} \\, [\\frac{1}{2} (C^{xv}_0 - C^{vx}_0)]_{jk}$"
      ],
      "text/plain": [
       "<IPython.core.display.Markdown object>"
      ]
     },
     "metadata": {},
     "output_type": "display_data"
    },
    {
     "name": "stdout",
     "output_type": "stream",
     "text": [
      "504 None\n"
     ]
    },
    {
     "data": {
      "text/markdown": [
       "$\\lambda_2\\left(C^{vv}_1\\right) \\, \\lambda_1\\left(C^{vv}_1\\right)$"
      ],
      "text/plain": [
       "<IPython.core.display.Markdown object>"
      ]
     },
     "metadata": {},
     "output_type": "display_data"
    },
    {
     "name": "stdout",
     "output_type": "stream",
     "text": [
      "505 None\n"
     ]
    },
    {
     "data": {
      "text/markdown": [
       "$[C^{vv}_1]_{jk} \\, [C^{vv}_1]_{jk}$"
      ],
      "text/plain": [
       "<IPython.core.display.Markdown object>"
      ]
     },
     "metadata": {},
     "output_type": "display_data"
    },
    {
     "name": "stdout",
     "output_type": "stream",
     "text": [
      "506 None\n"
     ]
    },
    {
     "data": {
      "text/markdown": [
       "$[C^{xx}_1]_{jk} \\, [C^{xx}_1]_{jk}$"
      ],
      "text/plain": [
       "<IPython.core.display.Markdown object>"
      ]
     },
     "metadata": {},
     "output_type": "display_data"
    },
    {
     "name": "stdout",
     "output_type": "stream",
     "text": [
      "507 None\n"
     ]
    },
    {
     "data": {
      "text/markdown": [
       "$\\lambda_1\\left(C^{vv}_1\\right) \\, \\lambda_3\\left(C^{xx}_2\\right)$"
      ],
      "text/plain": [
       "<IPython.core.display.Markdown object>"
      ]
     },
     "metadata": {},
     "output_type": "display_data"
    },
    {
     "name": "stdout",
     "output_type": "stream",
     "text": [
      "508 None\n"
     ]
    },
    {
     "data": {
      "text/markdown": [
       "$\\lambda_3\\left(C^{vv}_1\\right) \\, \\lambda_3\\left(C^{vv}_1\\right)$"
      ],
      "text/plain": [
       "<IPython.core.display.Markdown object>"
      ]
     },
     "metadata": {},
     "output_type": "display_data"
    },
    {
     "name": "stdout",
     "output_type": "stream",
     "text": [
      "509 None\n"
     ]
    },
    {
     "data": {
      "text/markdown": [
       "$\\lambda_3\\left(C^{vv}_1\\right)$"
      ],
      "text/plain": [
       "<IPython.core.display.Markdown object>"
      ]
     },
     "metadata": {},
     "output_type": "display_data"
    },
    {
     "name": "stdout",
     "output_type": "stream",
     "text": [
      "510 None\n"
     ]
    },
    {
     "data": {
      "text/markdown": [
       "$\\lambda_2\\left(C^{xx}_1\\right)$"
      ],
      "text/plain": [
       "<IPython.core.display.Markdown object>"
      ]
     },
     "metadata": {},
     "output_type": "display_data"
    },
    {
     "name": "stdout",
     "output_type": "stream",
     "text": [
      "511 None\n"
     ]
    },
    {
     "data": {
      "text/markdown": [
       "$\\lambda_2\\left(C^{xx}_1\\right) \\, \\lambda_2\\left(C^{xx}_1\\right)$"
      ],
      "text/plain": [
       "<IPython.core.display.Markdown object>"
      ]
     },
     "metadata": {},
     "output_type": "display_data"
    },
    {
     "name": "stdout",
     "output_type": "stream",
     "text": [
      "512 None\n"
     ]
    },
    {
     "data": {
      "text/markdown": [
       "$[C^{xx}_0]_{jk} \\, [C^{xx}_1]_{jk}$"
      ],
      "text/plain": [
       "<IPython.core.display.Markdown object>"
      ]
     },
     "metadata": {},
     "output_type": "display_data"
    },
    {
     "name": "stdout",
     "output_type": "stream",
     "text": [
      "513 None\n"
     ]
    },
    {
     "data": {
      "text/markdown": [
       "$\\lambda_3\\left(C^{vv}_1\\right) \\, \\lambda_2\\left(C^{vv}_1\\right)$"
      ],
      "text/plain": [
       "<IPython.core.display.Markdown object>"
      ]
     },
     "metadata": {},
     "output_type": "display_data"
    },
    {
     "name": "stdout",
     "output_type": "stream",
     "text": [
      "514 None\n"
     ]
    },
    {
     "data": {
      "text/markdown": [
       "$\\lambda_2\\left(C^{xx}_1\\right) \\, \\lambda_1\\left(C^{xx}_1\\right)$"
      ],
      "text/plain": [
       "<IPython.core.display.Markdown object>"
      ]
     },
     "metadata": {},
     "output_type": "display_data"
    },
    {
     "name": "stdout",
     "output_type": "stream",
     "text": [
      "515 None\n"
     ]
    },
    {
     "data": {
      "text/markdown": [
       "$[\\frac{1}{2} (C^{xv}_0 - C^{vx}_0)]_{jk} \\, [\\frac{1}{2} (C^{xv}_1 - C^{vx}_1)]_{jk}$"
      ],
      "text/plain": [
       "<IPython.core.display.Markdown object>"
      ]
     },
     "metadata": {},
     "output_type": "display_data"
    },
    {
     "name": "stdout",
     "output_type": "stream",
     "text": [
      "516 None\n"
     ]
    },
    {
     "data": {
      "text/markdown": [
       "$\\lambda_3\\left(C^{vv}_1\\right) \\, \\lambda_1\\left(C^{vv}_1\\right)$"
      ],
      "text/plain": [
       "<IPython.core.display.Markdown object>"
      ]
     },
     "metadata": {},
     "output_type": "display_data"
    },
    {
     "name": "stdout",
     "output_type": "stream",
     "text": [
      "517 None\n"
     ]
    },
    {
     "data": {
      "text/markdown": [
       "$\\lambda_3\\left(C^{vv}_1\\right) \\, \\lambda_1\\left(C^{xx}_1\\right)$"
      ],
      "text/plain": [
       "<IPython.core.display.Markdown object>"
      ]
     },
     "metadata": {},
     "output_type": "display_data"
    },
    {
     "name": "stdout",
     "output_type": "stream",
     "text": [
      "518 None\n"
     ]
    },
    {
     "data": {
      "text/markdown": [
       "$\\lambda_2\\left(C^{vv}_1\\right) \\, \\lambda_1\\left(C^{xx}_1\\right)$"
      ],
      "text/plain": [
       "<IPython.core.display.Markdown object>"
      ]
     },
     "metadata": {},
     "output_type": "display_data"
    },
    {
     "name": "stdout",
     "output_type": "stream",
     "text": [
      "519 None\n"
     ]
    },
    {
     "data": {
      "text/markdown": [
       "$m_1 \\, \\lambda_2\\left(C^{xx}_1\\right)$"
      ],
      "text/plain": [
       "<IPython.core.display.Markdown object>"
      ]
     },
     "metadata": {},
     "output_type": "display_data"
    },
    {
     "name": "stdout",
     "output_type": "stream",
     "text": [
      "520 None\n"
     ]
    },
    {
     "data": {
      "text/markdown": [
       "$m_1 \\, \\lambda_3\\left(C^{xx}_1\\right)$"
      ],
      "text/plain": [
       "<IPython.core.display.Markdown object>"
      ]
     },
     "metadata": {},
     "output_type": "display_data"
    },
    {
     "name": "stdout",
     "output_type": "stream",
     "text": [
      "521 None\n"
     ]
    },
    {
     "data": {
      "text/markdown": [
       "$\\lambda_1\\left(C^{vv}_1\\right) \\, \\lambda_1\\left(C^{xx}_1\\right)$"
      ],
      "text/plain": [
       "<IPython.core.display.Markdown object>"
      ]
     },
     "metadata": {},
     "output_type": "display_data"
    },
    {
     "name": "stdout",
     "output_type": "stream",
     "text": [
      "522 None\n"
     ]
    },
    {
     "data": {
      "text/markdown": [
       "$m_1 \\, \\lambda_2\\left(C^{vv}_1\\right)$"
      ],
      "text/plain": [
       "<IPython.core.display.Markdown object>"
      ]
     },
     "metadata": {},
     "output_type": "display_data"
    },
    {
     "name": "stdout",
     "output_type": "stream",
     "text": [
      "523 None\n"
     ]
    },
    {
     "data": {
      "text/markdown": [
       "$m_1 \\, \\lambda_1\\left(C^{vv}_1\\right)$"
      ],
      "text/plain": [
       "<IPython.core.display.Markdown object>"
      ]
     },
     "metadata": {},
     "output_type": "display_data"
    },
    {
     "name": "stdout",
     "output_type": "stream",
     "text": [
      "524 None\n"
     ]
    },
    {
     "data": {
      "text/markdown": [
       "$\\lambda_3\\left(C^{vv}_0\\right) \\, \\lambda_3\\left(C^{xx}_1\\right)$"
      ],
      "text/plain": [
       "<IPython.core.display.Markdown object>"
      ]
     },
     "metadata": {},
     "output_type": "display_data"
    },
    {
     "name": "stdout",
     "output_type": "stream",
     "text": [
      "525 None\n"
     ]
    },
    {
     "data": {
      "text/markdown": [
       "$m_1 \\, \\lambda_3\\left(C^{vv}_1\\right)$"
      ],
      "text/plain": [
       "<IPython.core.display.Markdown object>"
      ]
     },
     "metadata": {},
     "output_type": "display_data"
    },
    {
     "name": "stdout",
     "output_type": "stream",
     "text": [
      "526 None\n"
     ]
    },
    {
     "data": {
      "text/markdown": [
       "$m_0 \\, \\lambda_1\\left(C^{vv}_1\\right)$"
      ],
      "text/plain": [
       "<IPython.core.display.Markdown object>"
      ]
     },
     "metadata": {},
     "output_type": "display_data"
    },
    {
     "name": "stdout",
     "output_type": "stream",
     "text": [
      "527 None\n"
     ]
    },
    {
     "data": {
      "text/markdown": [
       "$\\lambda_3\\left(C^{xx}_1\\right) \\, \\lambda_2\\left(C^{xx}_1\\right)$"
      ],
      "text/plain": [
       "<IPython.core.display.Markdown object>"
      ]
     },
     "metadata": {},
     "output_type": "display_data"
    },
    {
     "name": "stdout",
     "output_type": "stream",
     "text": [
      "528 None\n"
     ]
    },
    {
     "data": {
      "text/markdown": [
       "$m_0 \\, \\lambda_1\\left(C^{xx}_1\\right)$"
      ],
      "text/plain": [
       "<IPython.core.display.Markdown object>"
      ]
     },
     "metadata": {},
     "output_type": "display_data"
    },
    {
     "name": "stdout",
     "output_type": "stream",
     "text": [
      "529 None\n"
     ]
    },
    {
     "data": {
      "text/markdown": [
       "$m_0 \\, \\lambda_3\\left(C^{xx}_1\\right)$"
      ],
      "text/plain": [
       "<IPython.core.display.Markdown object>"
      ]
     },
     "metadata": {},
     "output_type": "display_data"
    },
    {
     "name": "stdout",
     "output_type": "stream",
     "text": [
      "530 None\n"
     ]
    },
    {
     "data": {
      "text/markdown": [
       "$\\lambda_3\\left(C^{xx}_1\\right) \\, \\lambda_1\\left(C^{xx}_1\\right)$"
      ],
      "text/plain": [
       "<IPython.core.display.Markdown object>"
      ]
     },
     "metadata": {},
     "output_type": "display_data"
    },
    {
     "name": "stdout",
     "output_type": "stream",
     "text": [
      "531 None\n"
     ]
    },
    {
     "data": {
      "text/markdown": [
       "$\\lambda_1\\left(C^{vv}_0\\right) \\, \\lambda_1\\left(C^{vv}_1\\right)$"
      ],
      "text/plain": [
       "<IPython.core.display.Markdown object>"
      ]
     },
     "metadata": {},
     "output_type": "display_data"
    },
    {
     "name": "stdout",
     "output_type": "stream",
     "text": [
      "532 None\n"
     ]
    },
    {
     "data": {
      "text/markdown": [
       "$\\lambda_3\\left(C^{vv}_0\\right) \\, \\lambda_3\\left(C^{vv}_1\\right)$"
      ],
      "text/plain": [
       "<IPython.core.display.Markdown object>"
      ]
     },
     "metadata": {},
     "output_type": "display_data"
    },
    {
     "name": "stdout",
     "output_type": "stream",
     "text": [
      "533 None\n"
     ]
    },
    {
     "data": {
      "text/markdown": [
       "$[x_0]_{j} \\, [x_0]_{j}$"
      ],
      "text/plain": [
       "<IPython.core.display.Markdown object>"
      ]
     },
     "metadata": {},
     "output_type": "display_data"
    },
    {
     "name": "stdout",
     "output_type": "stream",
     "text": [
      "534 None\n"
     ]
    },
    {
     "data": {
      "text/markdown": [
       "$\\lambda_2\\left(C^{vv}_0\\right) \\, \\lambda_2\\left(C^{vv}_1\\right)$"
      ],
      "text/plain": [
       "<IPython.core.display.Markdown object>"
      ]
     },
     "metadata": {},
     "output_type": "display_data"
    },
    {
     "name": "stdout",
     "output_type": "stream",
     "text": [
      "535 None\n"
     ]
    },
    {
     "data": {
      "text/markdown": [
       "$[\\frac{1}{2} (C^{xv}_1 - C^{vx}_1)]_{jk} \\, [\\frac{1}{2} (C^{xv}_1 - C^{vx}_1)]_{jk}$"
      ],
      "text/plain": [
       "<IPython.core.display.Markdown object>"
      ]
     },
     "metadata": {},
     "output_type": "display_data"
    },
    {
     "name": "stdout",
     "output_type": "stream",
     "text": [
      "536 None\n"
     ]
    },
    {
     "data": {
      "text/markdown": [
       "$\\lambda_3\\left(C^{vv}_1\\right) \\, \\lambda_3\\left(C^{xx}_1\\right)$"
      ],
      "text/plain": [
       "<IPython.core.display.Markdown object>"
      ]
     },
     "metadata": {},
     "output_type": "display_data"
    },
    {
     "name": "stdout",
     "output_type": "stream",
     "text": [
      "537 None\n"
     ]
    },
    {
     "data": {
      "text/markdown": [
       "$\\lambda_2\\left(C^{vv}_0\\right) \\, \\lambda_1\\left(C^{vv}_1\\right)$"
      ],
      "text/plain": [
       "<IPython.core.display.Markdown object>"
      ]
     },
     "metadata": {},
     "output_type": "display_data"
    },
    {
     "name": "stdout",
     "output_type": "stream",
     "text": [
      "538 None\n"
     ]
    },
    {
     "data": {
      "text/markdown": [
       "$\\lambda_2\\left(C^{vv}_1\\right) \\, \\lambda_2\\left(C^{xx}_1\\right)$"
      ],
      "text/plain": [
       "<IPython.core.display.Markdown object>"
      ]
     },
     "metadata": {},
     "output_type": "display_data"
    },
    {
     "name": "stdout",
     "output_type": "stream",
     "text": [
      "539 None\n"
     ]
    },
    {
     "data": {
      "text/markdown": [
       "$[C^{vv}_1]_{jk} \\, [C^{xx}_1]_{jk}$"
      ],
      "text/plain": [
       "<IPython.core.display.Markdown object>"
      ]
     },
     "metadata": {},
     "output_type": "display_data"
    },
    {
     "name": "stdout",
     "output_type": "stream",
     "text": [
      "540 None\n"
     ]
    },
    {
     "data": {
      "text/markdown": [
       "$\\lambda_3\\left(C^{vv}_0\\right) \\, \\lambda_1\\left(C^{vv}_1\\right)$"
      ],
      "text/plain": [
       "<IPython.core.display.Markdown object>"
      ]
     },
     "metadata": {},
     "output_type": "display_data"
    },
    {
     "name": "stdout",
     "output_type": "stream",
     "text": [
      "541 None\n"
     ]
    },
    {
     "data": {
      "text/markdown": [
       "$\\lambda_2\\left(C^{vv}_1\\right) \\, \\lambda_3\\left(C^{xx}_1\\right)$"
      ],
      "text/plain": [
       "<IPython.core.display.Markdown object>"
      ]
     },
     "metadata": {},
     "output_type": "display_data"
    },
    {
     "name": "stdout",
     "output_type": "stream",
     "text": [
      "542 None\n"
     ]
    },
    {
     "data": {
      "text/markdown": [
       "$\\lambda_3\\left(C^{vv}_0\\right) \\, \\lambda_2\\left(C^{vv}_1\\right)$"
      ],
      "text/plain": [
       "<IPython.core.display.Markdown object>"
      ]
     },
     "metadata": {},
     "output_type": "display_data"
    },
    {
     "name": "stdout",
     "output_type": "stream",
     "text": [
      "543 None\n"
     ]
    },
    {
     "data": {
      "text/markdown": [
       "$\\lambda_3\\left(C^{vv}_1\\right) \\, \\lambda_2\\left(C^{xx}_1\\right)$"
      ],
      "text/plain": [
       "<IPython.core.display.Markdown object>"
      ]
     },
     "metadata": {},
     "output_type": "display_data"
    },
    {
     "name": "stdout",
     "output_type": "stream",
     "text": [
      "544 None\n"
     ]
    },
    {
     "data": {
      "text/markdown": [
       "$\\lambda_1\\left(C^{vv}_0\\right) \\, \\lambda_2\\left(C^{vv}_1\\right)$"
      ],
      "text/plain": [
       "<IPython.core.display.Markdown object>"
      ]
     },
     "metadata": {},
     "output_type": "display_data"
    },
    {
     "name": "stdout",
     "output_type": "stream",
     "text": [
      "545 None\n"
     ]
    },
    {
     "data": {
      "text/markdown": [
       "$\\lambda_1\\left(C^{vv}_1\\right) \\, \\lambda_2\\left(C^{xx}_1\\right)$"
      ],
      "text/plain": [
       "<IPython.core.display.Markdown object>"
      ]
     },
     "metadata": {},
     "output_type": "display_data"
    },
    {
     "name": "stdout",
     "output_type": "stream",
     "text": [
      "546 None\n"
     ]
    },
    {
     "data": {
      "text/markdown": [
       "$\\lambda_1\\left(C^{vv}_1\\right) \\, \\lambda_3\\left(C^{xx}_1\\right)$"
      ],
      "text/plain": [
       "<IPython.core.display.Markdown object>"
      ]
     },
     "metadata": {},
     "output_type": "display_data"
    },
    {
     "name": "stdout",
     "output_type": "stream",
     "text": [
      "547 None\n"
     ]
    },
    {
     "data": {
      "text/markdown": [
       "$\\lambda_2\\left(C^{vv}_0\\right) \\, \\lambda_3\\left(C^{xx}_1\\right)$"
      ],
      "text/plain": [
       "<IPython.core.display.Markdown object>"
      ]
     },
     "metadata": {},
     "output_type": "display_data"
    },
    {
     "name": "stdout",
     "output_type": "stream",
     "text": [
      "548 None\n"
     ]
    },
    {
     "data": {
      "text/markdown": [
       "$\\lambda_2\\left(C^{vv}_0\\right) \\, \\lambda_3\\left(C^{vv}_1\\right)$"
      ],
      "text/plain": [
       "<IPython.core.display.Markdown object>"
      ]
     },
     "metadata": {},
     "output_type": "display_data"
    },
    {
     "name": "stdout",
     "output_type": "stream",
     "text": [
      "549 None\n"
     ]
    },
    {
     "data": {
      "text/markdown": [
       "$m_0 \\, \\lambda_2\\left(C^{vv}_1\\right)$"
      ],
      "text/plain": [
       "<IPython.core.display.Markdown object>"
      ]
     },
     "metadata": {},
     "output_type": "display_data"
    },
    {
     "name": "stdout",
     "output_type": "stream",
     "text": [
      "550 None\n"
     ]
    },
    {
     "data": {
      "text/markdown": [
       "$m_0 \\, \\lambda_2\\left(C^{xx}_1\\right)$"
      ],
      "text/plain": [
       "<IPython.core.display.Markdown object>"
      ]
     },
     "metadata": {},
     "output_type": "display_data"
    },
    {
     "name": "stdout",
     "output_type": "stream",
     "text": [
      "551 None\n"
     ]
    },
    {
     "data": {
      "text/markdown": [
       "$\\lambda_1\\left(C^{vv}_0\\right) \\, \\lambda_3\\left(C^{vv}_1\\right)$"
      ],
      "text/plain": [
       "<IPython.core.display.Markdown object>"
      ]
     },
     "metadata": {},
     "output_type": "display_data"
    },
    {
     "name": "stdout",
     "output_type": "stream",
     "text": [
      "552 None\n"
     ]
    },
    {
     "data": {
      "text/markdown": [
       "$\\lambda_1\\left(C^{vv}_0\\right) \\, \\lambda_1\\left(C^{xx}_1\\right)$"
      ],
      "text/plain": [
       "<IPython.core.display.Markdown object>"
      ]
     },
     "metadata": {},
     "output_type": "display_data"
    },
    {
     "name": "stdout",
     "output_type": "stream",
     "text": [
      "553 None\n"
     ]
    },
    {
     "data": {
      "text/markdown": [
       "$\\lambda_1\\left(C^{vv}_0\\right) \\, \\lambda_3\\left(C^{xx}_1\\right)$"
      ],
      "text/plain": [
       "<IPython.core.display.Markdown object>"
      ]
     },
     "metadata": {},
     "output_type": "display_data"
    },
    {
     "name": "stdout",
     "output_type": "stream",
     "text": [
      "554 None\n"
     ]
    },
    {
     "data": {
      "text/markdown": [
       "$m_0 \\, \\lambda_3\\left(C^{vv}_1\\right)$"
      ],
      "text/plain": [
       "<IPython.core.display.Markdown object>"
      ]
     },
     "metadata": {},
     "output_type": "display_data"
    },
    {
     "name": "stdout",
     "output_type": "stream",
     "text": [
      "555 None\n"
     ]
    },
    {
     "data": {
      "text/markdown": [
       "$[C^{vv}_0]_{jk} \\, [C^{vv}_1]_{jk}$"
      ],
      "text/plain": [
       "<IPython.core.display.Markdown object>"
      ]
     },
     "metadata": {},
     "output_type": "display_data"
    },
    {
     "name": "stdout",
     "output_type": "stream",
     "text": [
      "556 None\n"
     ]
    },
    {
     "data": {
      "text/markdown": [
       "$\\lambda_2\\left(C^{vv}_0\\right) \\, \\lambda_1\\left(C^{xx}_1\\right)$"
      ],
      "text/plain": [
       "<IPython.core.display.Markdown object>"
      ]
     },
     "metadata": {},
     "output_type": "display_data"
    },
    {
     "name": "stdout",
     "output_type": "stream",
     "text": [
      "557 None\n"
     ]
    },
    {
     "data": {
      "text/markdown": [
       "$\\lambda_2\\left(C^{vv}_0\\right) \\, \\lambda_2\\left(C^{xx}_1\\right)$"
      ],
      "text/plain": [
       "<IPython.core.display.Markdown object>"
      ]
     },
     "metadata": {},
     "output_type": "display_data"
    },
    {
     "name": "stdout",
     "output_type": "stream",
     "text": [
      "558 None\n"
     ]
    },
    {
     "data": {
      "text/markdown": [
       "$\\lambda_3\\left(C^{vv}_0\\right) \\, \\lambda_1\\left(C^{xx}_1\\right)$"
      ],
      "text/plain": [
       "<IPython.core.display.Markdown object>"
      ]
     },
     "metadata": {},
     "output_type": "display_data"
    },
    {
     "name": "stdout",
     "output_type": "stream",
     "text": [
      "559 None\n"
     ]
    },
    {
     "data": {
      "text/markdown": [
       "$\\lambda_3\\left(C^{vv}_0\\right) \\, \\lambda_2\\left(C^{xx}_1\\right)$"
      ],
      "text/plain": [
       "<IPython.core.display.Markdown object>"
      ]
     },
     "metadata": {},
     "output_type": "display_data"
    },
    {
     "name": "stdout",
     "output_type": "stream",
     "text": [
      "560 None\n"
     ]
    },
    {
     "data": {
      "text/markdown": [
       "$\\lambda_1\\left(C^{vv}_0\\right) \\, \\lambda_2\\left(C^{xx}_1\\right)$"
      ],
      "text/plain": [
       "<IPython.core.display.Markdown object>"
      ]
     },
     "metadata": {},
     "output_type": "display_data"
    },
    {
     "name": "stdout",
     "output_type": "stream",
     "text": [
      "561 None\n"
     ]
    },
    {
     "data": {
      "text/markdown": [
       "$\\lambda_3\\left(C^{vv}_0\\right) \\, m_1$"
      ],
      "text/plain": [
       "<IPython.core.display.Markdown object>"
      ]
     },
     "metadata": {},
     "output_type": "display_data"
    },
    {
     "name": "stdout",
     "output_type": "stream",
     "text": [
      "562 None\n"
     ]
    },
    {
     "data": {
      "text/markdown": [
       "$\\lambda_1\\left(C^{vv}_0\\right) \\, m_1$"
      ],
      "text/plain": [
       "<IPython.core.display.Markdown object>"
      ]
     },
     "metadata": {},
     "output_type": "display_data"
    },
    {
     "name": "stdout",
     "output_type": "stream",
     "text": [
      "563 None\n"
     ]
    },
    {
     "data": {
      "text/markdown": [
       "$\\lambda_2\\left(C^{vv}_0\\right) \\, m_1$"
      ],
      "text/plain": [
       "<IPython.core.display.Markdown object>"
      ]
     },
     "metadata": {},
     "output_type": "display_data"
    },
    {
     "name": "stdout",
     "output_type": "stream",
     "text": [
      "564 None\n"
     ]
    },
    {
     "data": {
      "text/markdown": [
       "$[C^{vv}_0]_{jk} \\, [C^{xx}_1]_{jk}$"
      ],
      "text/plain": [
       "<IPython.core.display.Markdown object>"
      ]
     },
     "metadata": {},
     "output_type": "display_data"
    },
    {
     "name": "stdout",
     "output_type": "stream",
     "text": [
      "565 None\n"
     ]
    },
    {
     "data": {
      "text/markdown": [
       "$m_0 \\, m_1$"
      ],
      "text/plain": [
       "<IPython.core.display.Markdown object>"
      ]
     },
     "metadata": {},
     "output_type": "display_data"
    },
    {
     "name": "stdout",
     "output_type": "stream",
     "text": [
      "566 None\n"
     ]
    }
   ],
   "source": [
    "for ii in range(567):\n",
    "    print(ii, display(Markdown(scalar_name(s_arr_0[i_info_ordered[ii]], scalar_featurizer.geo_feature_arr))))"
   ]
  },
  {
   "cell_type": "code",
   "execution_count": 126,
   "id": "66b1429a",
   "metadata": {},
   "outputs": [
    {
     "data": {
      "image/png": "[encoded data removed]",
      "text/plain": [
       "<Figure size 480x320 with 1 Axes>"
      ]
     },
     "metadata": {
      "image/png": {
       "height": 306,
       "width": 482
      }
     },
     "output_type": "display_data"
    }
   ],
   "source": [
    "plt.plot(ns_top_features, errors)\n",
    "\n",
    "plt.xlabel(f'number of features (with highest {info_metric})')\n",
    "plt.ylabel(r'$\\sigma_{68}$')\n",
    "plt.xscale('log')\n",
    "#plt.yscale('log')"
   ]
  },
  {
   "cell_type": "code",
   "execution_count": null,
   "id": "ab101dd8",
   "metadata": {},
   "outputs": [],
   "source": []
  }
 ],
 "metadata": {
  "kernelspec": {
   "display_name": "Python [conda env:eqenv]",
   "language": "python",
   "name": "conda-env-eqenv-py"
  },
  "language_info": {
   "codemirror_mode": {
    "name": "ipython",
    "version": 3
   },
   "file_extension": ".py",
   "mimetype": "text/x-python",
   "name": "python",
   "nbconvert_exporter": "python",
   "pygments_lexer": "ipython3",
   "version": "3.9.12"
  }
 },
 "nbformat": 4,
 "nbformat_minor": 5
}
