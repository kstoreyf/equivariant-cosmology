{
 "cells": [
  {
   "cell_type": "code",
   "execution_count": 1,
   "id": "89f32669",
   "metadata": {
    "scrolled": false
   },
   "outputs": [],
   "source": [
    "import pstats\n",
    "from pstats import SortKey"
   ]
  },
  {
   "cell_type": "code",
   "execution_count": 2,
   "id": "cd8423f4",
   "metadata": {},
   "outputs": [],
   "source": [
    "p = pstats.Stats('../code/profiling/profile.out')"
   ]
  },
  {
   "cell_type": "code",
   "execution_count": 10,
   "id": "88468fe4",
   "metadata": {},
   "outputs": [],
   "source": [
    "#p.strip_dirs().sort_stats(-1).print_stats()"
   ]
  },
  {
   "cell_type": "code",
   "execution_count": 4,
   "id": "ef04423a",
   "metadata": {},
   "outputs": [],
   "source": [
    "# p.sort_stats(SortKey.NAME)\n",
    "# p.print_stats()"
   ]
  },
  {
   "cell_type": "code",
   "execution_count": 11,
   "id": "6b182a05",
   "metadata": {},
   "outputs": [
    {
     "name": "stdout",
     "output_type": "stream",
     "text": [
      "Wed Mar  9 20:19:12 2022    ../code/profiling/profile.out\n",
      "\n",
      "         7696055 function calls (7644219 primitive calls) in 35.324 seconds\n",
      "\n",
      "   Ordered by: cumulative time\n",
      "   List reduced from 434 to 10 due to restriction <10>\n",
      "\n",
      "   ncalls  tottime  percall  cumtime  percall filename:lineno(function)\n",
      "      5/1    0.000    0.000   35.340   35.340 {built-in method builtins.exec}\n",
      "        1    0.000    0.000   35.324   35.324 run_featurizer.py:13(run)\n",
      "        1    0.073    0.073   33.692   33.692 featurize_and_fit.py:205(compute_geometric_features)\n",
      "     1878    0.024    0.000   31.507    0.017 snapshot.py:198(loadHalo)\n",
      "     1878    1.904    0.001   26.105    0.014 snapshot.py:31(loadSubset)\n",
      "    22544   12.657    0.001   15.240    0.001 dataset.py:476(__getitem__)\n",
      "   120210    3.617    0.000    5.814    0.000 group.py:255(__getitem__)\n",
      "     1878    0.391    0.000    5.378    0.003 snapshot.py:154(getSnapOffsets)\n",
      "     9392    0.114    0.000    2.969    0.000 files.py:316(__init__)\n",
      "294868/244151    0.292    0.000    2.840    0.000 {built-in method numpy.core._multiarray_umath.implement_array_function}\n",
      "\n",
      "\n"
     ]
    },
    {
     "data": {
      "text/plain": [
       "<pstats.Stats at 0x1525bdb7eac0>"
      ]
     },
     "execution_count": 11,
     "metadata": {},
     "output_type": "execute_result"
    }
   ],
   "source": [
    "p.sort_stats(SortKey.CUMULATIVE).print_stats(10)"
   ]
  },
  {
   "cell_type": "code",
   "execution_count": 6,
   "id": "c1495b36",
   "metadata": {},
   "outputs": [
    {
     "name": "stdout",
     "output_type": "stream",
     "text": [
      "Wed Mar  9 20:19:12 2022    ../code/profiling/profile.out\n",
      "\n",
      "         7696055 function calls (7644219 primitive calls) in 35.324 seconds\n",
      "\n",
      "   Ordered by: internal time\n",
      "   List reduced from 434 to 10 due to restriction <10>\n",
      "\n",
      "   ncalls  tottime  percall  cumtime  percall filename:lineno(function)\n",
      "    22544   12.657    0.001   15.240    0.001 dataset.py:476(__getitem__)\n",
      "   120210    3.617    0.000    5.814    0.000 group.py:255(__getitem__)\n",
      "     9392    2.386    0.000    2.407    0.000 files.py:153(make_fid)\n",
      "     1878    1.904    0.001   26.105    0.014 snapshot.py:31(loadSubset)\n",
      "    52592    1.469    0.000    1.688    0.000 dataset.py:395(__init__)\n",
      "    46975    1.400    0.000    1.836    0.000 attrs.py:56(__getitem__)\n",
      "   195323    1.217    0.000    1.217    0.000 {method 'reduce' of 'numpy.ufunc' objects}\n",
      "     9392    1.136    0.000    1.249    0.000 files.py:422(close)\n",
      "   108956    0.769    0.000    0.784    0.000 dataset.py:282(shape)\n",
      "     3756    0.586    0.000    0.586    0.000 featurize_and_fit.py:201(shift_points_torus)\n",
      "\n",
      "\n"
     ]
    },
    {
     "data": {
      "text/plain": [
       "<pstats.Stats at 0x1525bdb7eac0>"
      ]
     },
     "execution_count": 6,
     "metadata": {},
     "output_type": "execute_result"
    }
   ],
   "source": [
    "p.sort_stats(SortKey.TIME).print_stats(10)"
   ]
  },
  {
   "cell_type": "markdown",
   "id": "6aa67308",
   "metadata": {},
   "source": [
    "I think \"dataset.py\" is h5py's reader: https://github.com/h5py/h5py/blob/master/h5py/_hl/dataset.py"
   ]
  },
  {
   "cell_type": "markdown",
   "id": "bef0986d",
   "metadata": {},
   "source": [
    "### Try without \"get_geometric_features\", just loading in the halos"
   ]
  },
  {
   "cell_type": "code",
   "execution_count": 7,
   "id": "421335aa",
   "metadata": {},
   "outputs": [],
   "source": [
    "pn = pstats.Stats('../code/profiling/profile_nogeo.out')"
   ]
  },
  {
   "cell_type": "code",
   "execution_count": 8,
   "id": "6a59cd49",
   "metadata": {},
   "outputs": [
    {
     "name": "stdout",
     "output_type": "stream",
     "text": [
      "Wed Mar  9 20:41:37 2022    ../code/profiling/profile_nogeo.out\n",
      "\n",
      "         5496917 function calls (5469495 primitive calls) in 24.589 seconds\n",
      "\n",
      "   Ordered by: cumulative time\n",
      "   List reduced from 400 to 10 due to restriction <10>\n",
      "\n",
      "   ncalls  tottime  percall  cumtime  percall filename:lineno(function)\n",
      "      5/1    0.000    0.000   24.589   24.589 {built-in method builtins.exec}\n",
      "        1    0.003    0.003   24.589   24.589 <string>:1(<module>)\n",
      "        1    0.000    0.000   24.586   24.586 run_featurizer.py:13(run)\n",
      "        1    0.042    0.042   24.342   24.342 /home/ksf293/equivariant-cosmology/code/featurize_and_fit.py:205(compute_geometric_features)\n",
      "     1878    0.023    0.000   24.297    0.013 /home/ksf293/external/illustris_python/snapshot.py:198(loadHalo)\n",
      "     1878    1.846    0.001   19.243    0.010 /home/ksf293/external/illustris_python/snapshot.py:31(loadSubset)\n",
      "    22544    6.432    0.000    8.868    0.000 /ext3/miniconda3/lib/python3.8/site-packages/h5py/_hl/dataset.py:476(__getitem__)\n",
      "   120210    3.450    0.000    5.573    0.000 /ext3/miniconda3/lib/python3.8/site-packages/h5py/_hl/group.py:255(__getitem__)\n",
      "     1878    0.375    0.000    5.031    0.003 /home/ksf293/external/illustris_python/snapshot.py:154(getSnapOffsets)\n",
      "     9392    0.117    0.000    2.705    0.000 /ext3/miniconda3/lib/python3.8/site-packages/h5py/_hl/files.py:316(__init__)\n",
      "\n",
      "\n"
     ]
    },
    {
     "data": {
      "text/plain": [
       "<pstats.Stats at 0x1525be8034f0>"
      ]
     },
     "execution_count": 8,
     "metadata": {},
     "output_type": "execute_result"
    }
   ],
   "source": [
    "pn.sort_stats(SortKey.CUMULATIVE).print_stats(10)"
   ]
  },
  {
   "cell_type": "code",
   "execution_count": null,
   "id": "b34a67e7",
   "metadata": {},
   "outputs": [],
   "source": []
  },
  {
   "cell_type": "code",
   "execution_count": null,
   "id": "b53898a5",
   "metadata": {},
   "outputs": [],
   "source": []
  }
 ],
 "metadata": {
  "kernelspec": {
   "display_name": "Python 3",
   "language": "python",
   "name": "python3"
  },
  "language_info": {
   "codemirror_mode": {
    "name": "ipython",
    "version": 3
   },
   "file_extension": ".py",
   "mimetype": "text/x-python",
   "name": "python",
   "nbconvert_exporter": "python",
   "pygments_lexer": "ipython3",
   "version": "3.8.5"
  }
 },
 "nbformat": 4,
 "nbformat_minor": 5
}
